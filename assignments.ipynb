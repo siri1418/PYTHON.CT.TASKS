{
 "cells": [
  {
   "cell_type": "markdown",
   "id": "416e9f71-9a17-4f34-985b-05ca7ea5745f",
   "metadata": {},
   "source": [
    "## Assignments on variables expressions and statements"
   ]
  },
  {
   "cell_type": "markdown",
   "id": "83d3511a-5de8-411f-ad46-4361f2dc65be",
   "metadata": {},
   "source": [
    "### 1. Take the input from the user for(Total number of people,Number of seats for bus. Based on two inputs Decide how many number of buses required"
   ]
  },
  {
   "cell_type": "code",
   "execution_count": 1,
   "id": "8aadba9a-73c1-4e91-9a66-1062d3240986",
   "metadata": {},
   "outputs": [
    {
     "name": "stdin",
     "output_type": "stream",
     "text": [
      "number of people: 50\n",
      "number of seats: 4\n"
     ]
    },
    {
     "name": "stdout",
     "output_type": "stream",
     "text": [
      "Number of buses: 13\n"
     ]
    }
   ],
   "source": [
    "people = int(input(\"number of people:\"))\n",
    "\n",
    "seats = int(input(\"number of seats:\"))\n",
    "\n",
    "buses = (people+seats-1)//seats\n",
    "\n",
    "print(f\"Number of buses: {buses}\")\n",
    " "
   ]
  },
  {
   "cell_type": "markdown",
   "id": "b02047db-6ed7-45a6-af43-939791797cbf",
   "metadata": {},
   "source": [
    "### 2.take temperature from the user and convert foreign heat -> Celsius."
   ]
  },
  {
   "cell_type": "code",
   "execution_count": 2,
   "id": "4fadb452-b6a0-4d8a-b86c-4b591f58161d",
   "metadata": {},
   "outputs": [
    {
     "name": "stdin",
     "output_type": "stream",
     "text": [
      "Enter Fahrenheit Temp:  89\n"
     ]
    },
    {
     "name": "stdout",
     "output_type": "stream",
     "text": [
      "Enter the Celsius temp is 31\n"
     ]
    }
   ],
   "source": [
    "Fahrenheit = float(input(\"Enter Fahrenheit Temp: \"))\n",
    "\n",
    "Celsius = (Fahrenheit - 32) * 5/9\n",
    "\n",
    "print(f\"Enter the Celsius temp is {int(Celsius)}\")\n",
    "\n",
    " "
   ]
  },
  {
   "cell_type": "markdown",
   "id": "22850b37-1d8f-44f9-80e4-64629a4380f0",
   "metadata": {},
   "source": [
    "### 3.take temperature from the user and convert Celsius → foreign heat."
   ]
  },
  {
   "cell_type": "code",
   "execution_count": 3,
   "id": "9cbaf93e-d7ea-482d-b964-1be13b50d6a8",
   "metadata": {},
   "outputs": [
    {
     "name": "stdin",
     "output_type": "stream",
     "text": [
      "Enter Celsius Temp:  90\n"
     ]
    },
    {
     "name": "stdout",
     "output_type": "stream",
     "text": [
      "Enter the Fahrenheit temp is 194\n"
     ]
    }
   ],
   "source": [
    "Celsius = float(input(\"Enter Celsius Temp: \"))\n",
    "\n",
    "Fahrenheit = (Celsius * 9/5) + 32\n",
    "\n",
    "print(f\"Enter the Fahrenheit temp is {int(Fahrenheit)}\")\n",
    " "
   ]
  },
  {
   "cell_type": "markdown",
   "id": "70f6861e-1f37-4334-b788-53bfda936b84",
   "metadata": {},
   "source": [
    "### 5.Take the distance in km\n",
    "\n",
    "### Show that in cm, meters, in milli meters, cents, feets, yards"
   ]
  },
  {
   "cell_type": "code",
   "execution_count": 4,
   "id": "704e8d32-be79-4380-836d-aa5c2e018bcc",
   "metadata": {},
   "outputs": [
    {
     "name": "stdin",
     "output_type": "stream",
     "text": [
      "Enter no. of Kilometers:  4\n"
     ]
    },
    {
     "name": "stdout",
     "output_type": "stream",
     "text": [
      " Kilometers:  400000.00\n",
      " Kilometers:  4000.00\n",
      " Kilometers:  4000000.00\n",
      " Kilometers:  157480.40\n",
      " Kilometers:  13123.36\n",
      " Kilometers:  4374.44\n"
     ]
    }
   ],
   "source": [
    "Kilometers = float(input(\"Enter no. of Kilometers: \"))\n",
    "\n",
    "centimeters = Kilometers * 100000 \n",
    "\n",
    "meters = Kilometers * 1000 \n",
    "\n",
    "millimeters = Kilometers * 1000000\n",
    "\n",
    "cents = Kilometers * 39370.1\n",
    "\n",
    "feets = Kilometers * 3280.84\n",
    "\n",
    "yards = Kilometers * 1093.61\n",
    "\n",
    "print(f\" Kilometers: {centimeters: .2f}\")  \n",
    "\n",
    "print(f\" Kilometers: {meters: .2f}\")  \n",
    "\n",
    "print(f\" Kilometers: {millimeters: .2f}\")  \n",
    "\n",
    "print(f\" Kilometers: {cents: .2f}\")  \n",
    "\n",
    "print(f\" Kilometers: {feets: .2f}\")  \n",
    "\n",
    "print(f\" Kilometers: {yards: .2f}\")\n",
    " "
   ]
  },
  {
   "cell_type": "markdown",
   "id": "4291218a-d7ee-4255-acf9-1b8a5c736a99",
   "metadata": {},
   "source": [
    "### 6.Take the size of your hard disk in GB  Show that in MB, KB, TB, PB\n",
    "\n"
   ]
  },
  {
   "cell_type": "code",
   "execution_count": 5,
   "id": "814250c2-a8d4-4041-afe4-4c5698daad0a",
   "metadata": {},
   "outputs": [
    {
     "name": "stdin",
     "output_type": "stream",
     "text": [
      "Enter size in GB:-  1\n"
     ]
    },
    {
     "name": "stdout",
     "output_type": "stream",
     "text": [
      "The size in 1.0GB to MB is 1000.0MB\n",
      "The size in 1.0GB to KB is 1000000.0KB\n",
      "The size in 1.0GB to TB is 0.001TB\n",
      "The size in 1.0GB to PB is 1e-06PB\n"
     ]
    }
   ],
   "source": [
    "disk_size = float(input(\"Enter size in GB:- \"))\n",
    "print(f'The size in {disk_size}GB to MB is {disk_size*1000}MB')\n",
    "print(f'The size in {disk_size}GB to KB is {disk_size*1000000}KB')\n",
    "print(f'The size in {disk_size}GB to TB is {disk_size*0.001}TB')\n",
    "print(f'The size in {disk_size}GB to PB is {disk_size/1000000}PB')"
   ]
  },
  {
   "cell_type": "markdown",
   "id": "42364ebb-1f8a-4af2-a9b9-878a9027e77e",
   "metadata": {},
   "source": [
    "### 4.take four number from the user (variables name it as x1,x2,x3,x4)\n",
    "\n",
    "### Do the below operations\n",
    "\n",
    "### (x1+x2)**2, (x3+x4)**3\n",
    "\n",
    "### variance\n",
    "\n",
    "### standard deviation: sqrt(variance): User math module. Math.sqrt(variance)\n",
    "\n",
    "### Regression\n",
    "\n",
    "### y=mx+b\n",
    "\n",
    "### m=1.23\n",
    "\n",
    "### b=0.045\n",
    "\n",
    "### find out y\n",
    "\n",
    "### y=m*(x1+x2+x3+x4)+b\n",
    "\n",
    "### Find the average of four numbers\n",
    "\n",
    "### Find the sum of four numbers"
   ]
  },
  {
   "cell_type": "code",
   "execution_count": 6,
   "id": "69b8eae2-74a9-45f5-9bdb-c66354dbe82f",
   "metadata": {},
   "outputs": [
    {
     "name": "stdin",
     "output_type": "stream",
     "text": [
      " 1\n",
      " 2\n",
      " 3\n",
      " 4\n"
     ]
    },
    {
     "name": "stdout",
     "output_type": "stream",
     "text": [
      "9\n",
      "343\n",
      "1.25\n",
      "1.118033988749895\n",
      "12.345\n",
      "2.5\n",
      "10\n"
     ]
    }
   ],
   "source": [
    "import math\n",
    "x1 = int(input())\n",
    "x2 = int(input())\n",
    "x3 = int(input())\n",
    "x4 = int(input())\n",
    "res1 = (x1+x2)**2\n",
    "res2 = (x3+x4)**3\n",
    "mean = (x1+x2+x3+x4)/4\n",
    "varience = ((x1-mean)**2 + (x2-mean)**2 + (x3-mean)**2 + (x4-mean)**2)/4\n",
    "std_dev = math.sqrt(varience)\n",
    "y = 1.23*(x1+x2+x3+x4)+0.045\n",
    "avg = mean\n",
    "sum_of_four = x1+x2+x3+x4\n",
    "print(res1)\n",
    "print(res2)\n",
    "print(varience)\n",
    "print(std_dev)\n",
    "print(y)\n",
    "print(avg)\n",
    "print(sum_of_four)\n"
   ]
  },
  {
   "cell_type": "markdown",
   "id": "56928677-7fe9-4ab5-8ff5-ad1e80d6fb15",
   "metadata": {},
   "source": [
    "### 7. Take name, age, height from the user and print like below\n",
    "\n",
    "### The details of the person: Name:name of the person, Age:age of the person, Height:height of the person\n",
    "\n",
    "### Note: make sure that no space between : and a value and should be space after “COMA”"
   ]
  },
  {
   "cell_type": "code",
   "execution_count": 7,
   "id": "e1076e00-d18d-4c9c-b111-8243ddd2c678",
   "metadata": {},
   "outputs": [
    {
     "name": "stdin",
     "output_type": "stream",
     "text": [
      " siri\n",
      " 26\n",
      " 4.3\n"
     ]
    },
    {
     "name": "stdout",
     "output_type": "stream",
     "text": [
      "The details of the person: Name:siri, age:26, height:4.3\n"
     ]
    }
   ],
   "source": [
    "name = input()\n",
    "age= input()\n",
    "height=input()\n",
    "print(f'The details of the person: Name:{name}, age:{age}, height:{height}')"
   ]
  },
  {
   "cell_type": "markdown",
   "id": "cdc1684f-2952-43ab-8c5f-729723fb5827",
   "metadata": {},
   "source": [
    "### 8. BMI calculation: take required parameters for BMI calculation from the user and calculate BMI of the person."
   ]
  },
  {
   "cell_type": "code",
   "execution_count": 8,
   "id": "f20eced4-d188-48f8-910c-c4020e58f6ab",
   "metadata": {},
   "outputs": [
    {
     "name": "stdin",
     "output_type": "stream",
     "text": [
      " 23\n",
      " 4\n"
     ]
    },
    {
     "name": "stdout",
     "output_type": "stream",
     "text": [
      "calculation of bmi:1.4375\n"
     ]
    }
   ],
   "source": [
    "weight = float(input())\n",
    "height = float(input())\n",
    "bmi = weight/(height*height)\n",
    "print(f'calculation of bmi:{bmi}')\n"
   ]
  },
  {
   "cell_type": "markdown",
   "id": "8ad497b3-a4cb-474e-b2e5-b949f8e3aed9",
   "metadata": {},
   "source": [
    "### 9. name=\"Jayaram\"\n",
    "\n",
    "### age=1.6\n",
    "\n",
    "### height=3.5356234\n",
    "\n",
    "### weight=10.343856783\n",
    "\n",
    "### By using above inputs print the output\n",
    "\n",
    "### Name:Jayaram, Age:1.6, Height:3.54, Weight:10.344\n",
    "\n",
    "### Note: Use format specifiers(%s, %d, %f)"
   ]
  },
  {
   "cell_type": "code",
   "execution_count": 9,
   "id": "8a124996-b5fe-4753-bc27-13c96ec3ca69",
   "metadata": {},
   "outputs": [
    {
     "name": "stdout",
     "output_type": "stream",
     "text": [
      "Name:Jayaram, Age:1.6 , Height:3.54, Weight:10.344\n"
     ]
    }
   ],
   "source": [
    "name = \"Jayaram\"\n",
    "age =  1.6\n",
    "height = 3.5356234\n",
    "weight = 10.343856783\n",
    "print(f'Name:%s, Age:%.1f , Height:%.2f, Weight:%.3f'%(name,age,height,weight))\n"
   ]
  },
  {
   "cell_type": "markdown",
   "id": "3817c904-6785-41e9-9a55-5654c691b3fa",
   "metadata": {},
   "source": [
    "### 10. Take three upper case letters from the user convert in to small case."
   ]
  },
  {
   "cell_type": "code",
   "execution_count": 10,
   "id": "7923d98d-5ab6-457a-a449-a4fec8b342de",
   "metadata": {},
   "outputs": [
    {
     "name": "stdout",
     "output_type": "stream",
     "text": [
      "['__add__', '__class__', '__contains__', '__delattr__', '__dir__', '__doc__', '__eq__', '__format__', '__ge__', '__getattribute__', '__getitem__', '__getnewargs__', '__getstate__', '__gt__', '__hash__', '__init__', '__init_subclass__', '__iter__', '__le__', '__len__', '__lt__', '__mod__', '__mul__', '__ne__', '__new__', '__reduce__', '__reduce_ex__', '__repr__', '__rmod__', '__rmul__', '__setattr__', '__sizeof__', '__str__', '__subclasshook__', 'capitalize', 'casefold', 'center', 'count', 'encode', 'endswith', 'expandtabs', 'find', 'format', 'format_map', 'index', 'isalnum', 'isalpha', 'isascii', 'isdecimal', 'isdigit', 'isidentifier', 'islower', 'isnumeric', 'isprintable', 'isspace', 'istitle', 'isupper', 'join', 'ljust', 'lower', 'lstrip', 'maketrans', 'partition', 'removeprefix', 'removesuffix', 'replace', 'rfind', 'rindex', 'rjust', 'rpartition', 'rsplit', 'rstrip', 'split', 'splitlines', 'startswith', 'strip', 'swapcase', 'title', 'translate', 'upper', 'zfill']\n",
      "abc\n"
     ]
    }
   ],
   "source": [
    "x=\"ABC\"\n",
    "#print(f'print small case'{})\n",
    "print(dir(x))\n",
    "p = x.lower()\n",
    "print(p)"
   ]
  },
  {
   "cell_type": "markdown",
   "id": "1491ed3c-9663-457a-a559-8a85459c31da",
   "metadata": {},
   "source": [
    "### 11. take base and exponent value from the user and print like in mathematics:\n",
    "\n",
    "### example: base=2, exponent=3: 23\n",
    "\n",
    "### Use: 2\\u00b3"
   ]
  },
  {
   "cell_type": "code",
   "execution_count": 11,
   "id": "663e9c01-d0bc-422c-a3bf-4723408150fc",
   "metadata": {},
   "outputs": [
    {
     "name": "stdin",
     "output_type": "stream",
     "text": [
      "enter base value 2\n",
      "enter exponent value 5\n"
     ]
    },
    {
     "name": "stdout",
     "output_type": "stream",
     "text": [
      "8³\n"
     ]
    }
   ],
   "source": [
    "base = input('enter base value')\n",
    "exponent = input('enter exponent value')\n",
    "print(f'8\\u00b3')"
   ]
  },
  {
   "cell_type": "code",
   "execution_count": null,
   "id": "fd395128-ab47-4f5f-bc01-d140c3598135",
   "metadata": {},
   "outputs": [],
   "source": [
    "base = input('Enter base value: ')\n",
    "exponent = input('Enter exponent value: ')\n",
    "\n",
    "\n",
    "# Converting exponent to superscript if possible\n",
    "# Using a dictionary for common exponents\n",
    "superscripts = {\n",
    "    '0': '\\u2070', '1': '\\u00B9', '2': '\\u00B2', '3': '\\u00B3',\n",
    "    '4': '\\u2074', '5': '\\u2075', '6': '\\u2076', '7': '\\u2077',\n",
    "    '8': '\\u2078', '9': '\\u2079'\n",
    "}\n",
    "\n",
    "def to_superscript(number):\n",
    "    return ''.join(superscripts.get(digit, '') for digit in str(number))\n",
    "\n",
    "# Print base and exponent with superscript\n",
    "print(f'{base}{to_superscript(exponent)}')\n"
   ]
  },
  {
   "cell_type": "markdown",
   "id": "c72f3d44-d2bb-4af9-bd18-3e93a0dd2cd4",
   "metadata": {},
   "source": [
    "### 12. Take some groceries cost prices and print total cost and average cost, what is the max cost, what is the minimum cost."
   ]
  },
  {
   "cell_type": "code",
   "execution_count": null,
   "id": "87687d00-457f-467e-ab6c-a55378e224d1",
   "metadata": {},
   "outputs": [],
   "source": [
    "sugar=input('enter the sugar value')\n",
    "fruits=input('enter the fruits value')\n",
    "oils=input('enter oil value')\n",
    "chocolates=input('enter chocolate value')\n",
    "total=sugar+fruits+oils+chocolates\n",
    "print(total)\n",
    "print(int(total)/4)\n",
    "print(max(sugar,fruits,oils,chocolate))\n",
    "print(min(sugar,fruits,oils,chocolate))"
   ]
  },
  {
   "cell_type": "code",
   "execution_count": null,
   "id": "d5f5db6a-232a-4f0b-8584-796e1e844862",
   "metadata": {},
   "outputs": [],
   "source": []
  }
 ],
 "metadata": {
  "kernelspec": {
   "display_name": "Python 3 (ipykernel)",
   "language": "python",
   "name": "python3"
  },
  "language_info": {
   "codemirror_mode": {
    "name": "ipython",
    "version": 3
   },
   "file_extension": ".py",
   "mimetype": "text/x-python",
   "name": "python",
   "nbconvert_exporter": "python",
   "pygments_lexer": "ipython3",
   "version": "3.12.4"
  }
 },
 "nbformat": 4,
 "nbformat_minor": 5
}
