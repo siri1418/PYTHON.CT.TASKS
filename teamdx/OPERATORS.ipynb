{
 "cells": [
  {
   "cell_type": "code",
   "execution_count": 1,
   "id": "16322a4b-b16b-4282-be62-400914395a18",
   "metadata": {},
   "outputs": [
    {
     "ename": "SyntaxError",
     "evalue": "invalid syntax (1231942894.py, line 1)",
     "output_type": "error",
     "traceback": [
      "\u001b[1;36m  Cell \u001b[1;32mIn[1], line 1\u001b[1;36m\u001b[0m\n\u001b[1;33m    fruit name =\"APPLE\"\u001b[0m\n\u001b[1;37m          ^\u001b[0m\n\u001b[1;31mSyntaxError\u001b[0m\u001b[1;31m:\u001b[0m invalid syntax\n"
     ]
    }
   ],
   "source": [
    "fruit name =\"APPLE\""
   ]
  },
  {
   "cell_type": "code",
   "execution_count": 2,
   "id": "9b628049-1a87-4621-9fdd-3197f560f67d",
   "metadata": {},
   "outputs": [
    {
     "ename": "SyntaxError",
     "evalue": "invalid syntax (2946174669.py, line 1)",
     "output_type": "error",
     "traceback": [
      "\u001b[1;36m  Cell \u001b[1;32mIn[2], line 1\u001b[1;36m\u001b[0m\n\u001b[1;33m    @fruit name=\"APPLE\"\u001b[0m\n\u001b[1;37m           ^\u001b[0m\n\u001b[1;31mSyntaxError\u001b[0m\u001b[1;31m:\u001b[0m invalid syntax\n"
     ]
    }
   ],
   "source": [
    "@fruit name=\"APPLE\""
   ]
  },
  {
   "cell_type": "code",
   "execution_count": 3,
   "id": "d346107c-0b6f-42e3-93b1-b2c829933f6f",
   "metadata": {},
   "outputs": [],
   "source": [
    "#fruit name=\"APPLE\""
   ]
  },
  {
   "cell_type": "code",
   "execution_count": 4,
   "id": "5a427ea8-2285-477f-a162-2816d10d6238",
   "metadata": {},
   "outputs": [
    {
     "ename": "SyntaxError",
     "evalue": "invalid syntax (3042776815.py, line 1)",
     "output_type": "error",
     "traceback": [
      "\u001b[1;36m  Cell \u001b[1;32mIn[4], line 1\u001b[1;36m\u001b[0m\n\u001b[1;33m    $fruit name=\"APPLE\"\u001b[0m\n\u001b[1;37m    ^\u001b[0m\n\u001b[1;31mSyntaxError\u001b[0m\u001b[1;31m:\u001b[0m invalid syntax\n"
     ]
    }
   ],
   "source": [
    "$fruit name=\"APPLE\""
   ]
  },
  {
   "cell_type": "code",
   "execution_count": 5,
   "id": "7a96a69f-95fe-4d89-95ee-e8474b295156",
   "metadata": {},
   "outputs": [],
   "source": [
    "fruit_name=\"APPLE\""
   ]
  },
  {
   "cell_type": "code",
   "execution_count": 6,
   "id": "7e5a697a-d9db-48f1-ae0e-67efa962f515",
   "metadata": {},
   "outputs": [],
   "source": [
    "fruit_name=\"APPLE\"\n",
    "FRUIT_name=\"APPLE\""
   ]
  },
  {
   "cell_type": "code",
   "execution_count": 7,
   "id": "27f61d6b-b37d-43b5-92ea-3013781a5209",
   "metadata": {},
   "outputs": [
    {
     "name": "stdout",
     "output_type": "stream",
     "text": [
      "APPLE\n",
      "APPLE\n"
     ]
    }
   ],
   "source": [
    "fruit_name=\"APPLE\"\n",
    "FRUIT_name=\"APPLE\"\n",
    "print(fruit_name)\n",
    "print(FRUIT_name)"
   ]
  },
  {
   "cell_type": "code",
   "execution_count": 8,
   "id": "9f443222-0af0-4823-b645-18cf91249dac",
   "metadata": {},
   "outputs": [
    {
     "name": "stdout",
     "output_type": "stream",
     "text": [
      "APPLE\n",
      "ORANGE\n"
     ]
    }
   ],
   "source": [
    "fruit_name=\"APPLE\"\n",
    "FRUIT_name=\"ORANGE\"\n",
    "print(fruit_name)\n",
    "print(FRUIT_name)"
   ]
  },
  {
   "cell_type": "code",
   "execution_count": 9,
   "id": "6795876d-d650-481b-97ac-30f38bab679a",
   "metadata": {},
   "outputs": [
    {
     "name": "stdout",
     "output_type": "stream",
     "text": [
      "True\n"
     ]
    }
   ],
   "source": [
    "print(True)"
   ]
  },
  {
   "cell_type": "code",
   "execution_count": 10,
   "id": "f9925b85-04ca-4cab-a8e4-f5b5c4b78b39",
   "metadata": {},
   "outputs": [
    {
     "ename": "NameError",
     "evalue": "name 'Apple' is not defined",
     "output_type": "error",
     "traceback": [
      "\u001b[1;31m---------------------------------------------------------------------------\u001b[0m",
      "\u001b[1;31mNameError\u001b[0m                                 Traceback (most recent call last)",
      "Cell \u001b[1;32mIn[10], line 1\u001b[0m\n\u001b[1;32m----> 1\u001b[0m \u001b[38;5;28mprint\u001b[39m(Apple)\n",
      "\u001b[1;31mNameError\u001b[0m: name 'Apple' is not defined"
     ]
    }
   ],
   "source": [
    "print(Apple)"
   ]
  },
  {
   "cell_type": "code",
   "execution_count": 11,
   "id": "41e91681-857f-4bd6-8db8-80411e00f493",
   "metadata": {},
   "outputs": [
    {
     "ename": "SyntaxError",
     "evalue": "invalid syntax (670857461.py, line 1)",
     "output_type": "error",
     "traceback": [
      "\u001b[1;36m  Cell \u001b[1;32mIn[11], line 1\u001b[1;36m\u001b[0m\n\u001b[1;33m    print(if)\u001b[0m\n\u001b[1;37m          ^\u001b[0m\n\u001b[1;31mSyntaxError\u001b[0m\u001b[1;31m:\u001b[0m invalid syntax\n"
     ]
    }
   ],
   "source": [
    "print(if)"
   ]
  },
  {
   "cell_type": "code",
   "execution_count": 12,
   "id": "e2b4b7ac-64c1-4b9b-b7e9-a17ddcd6b5e9",
   "metadata": {},
   "outputs": [
    {
     "ename": "NameError",
     "evalue": "name 'none' is not defined",
     "output_type": "error",
     "traceback": [
      "\u001b[1;31m---------------------------------------------------------------------------\u001b[0m",
      "\u001b[1;31mNameError\u001b[0m                                 Traceback (most recent call last)",
      "Cell \u001b[1;32mIn[12], line 1\u001b[0m\n\u001b[1;32m----> 1\u001b[0m \u001b[38;5;28mprint\u001b[39m(none)\n",
      "\u001b[1;31mNameError\u001b[0m: name 'none' is not defined"
     ]
    }
   ],
   "source": [
    "print(none)"
   ]
  },
  {
   "cell_type": "code",
   "execution_count": 13,
   "id": "416bf60b-8cf8-496d-bf8a-fb5e83501b83",
   "metadata": {},
   "outputs": [
    {
     "name": "stdout",
     "output_type": "stream",
     "text": [
      "None\n"
     ]
    }
   ],
   "source": [
    "print(None)"
   ]
  },
  {
   "cell_type": "code",
   "execution_count": 14,
   "id": "36fd5fee-043a-4560-8b6d-cd3dc1bf4130",
   "metadata": {},
   "outputs": [
    {
     "ename": "SyntaxError",
     "evalue": "unterminated string literal (detected at line 1) (1690885614.py, line 1)",
     "output_type": "error",
     "traceback": [
      "\u001b[1;36m  Cell \u001b[1;32mIn[14], line 1\u001b[1;36m\u001b[0m\n\u001b[1;33m    True=\"\"something\"\u001b[0m\n\u001b[1;37m                    ^\u001b[0m\n\u001b[1;31mSyntaxError\u001b[0m\u001b[1;31m:\u001b[0m unterminated string literal (detected at line 1)\n"
     ]
    }
   ],
   "source": [
    "True=\"\"something\"\n",
    "print(True)"
   ]
  },
  {
   "cell_type": "code",
   "execution_count": 15,
   "id": "542bbc7a-bbf3-47ef-9d86-10701d3641b0",
   "metadata": {},
   "outputs": [
    {
     "ename": "SyntaxError",
     "evalue": "cannot assign to True (461668069.py, line 1)",
     "output_type": "error",
     "traceback": [
      "\u001b[1;36m  Cell \u001b[1;32mIn[15], line 1\u001b[1;36m\u001b[0m\n\u001b[1;33m    True=\"something\"\u001b[0m\n\u001b[1;37m    ^\u001b[0m\n\u001b[1;31mSyntaxError\u001b[0m\u001b[1;31m:\u001b[0m cannot assign to True\n"
     ]
    }
   ],
   "source": [
    "True=\"something\"\n",
    "print(True)"
   ]
  },
  {
   "cell_type": "code",
   "execution_count": 16,
   "id": "ede36d8c-ed19-40f9-8a84-b3dc05605861",
   "metadata": {},
   "outputs": [],
   "source": [
    "import keyword"
   ]
  },
  {
   "cell_type": "code",
   "execution_count": 17,
   "id": "a66aab59-49ab-46ed-8b7c-a28822f1443d",
   "metadata": {},
   "outputs": [
    {
     "name": "stdout",
     "output_type": "stream",
     "text": [
      "['False', 'None', 'True', 'and', 'as', 'assert', 'async', 'await', 'break', 'class', 'continue', 'def', 'del', 'elif', 'else', 'except', 'finally', 'for', 'from', 'global', 'if', 'import', 'in', 'is', 'lambda', 'nonlocal', 'not', 'or', 'pass', 'raise', 'return', 'try', 'while', 'with', 'yield']\n"
     ]
    }
   ],
   "source": [
    "print(keyword.kwlist)"
   ]
  },
  {
   "cell_type": "code",
   "execution_count": 18,
   "id": "e194f974-d8bf-45a2-b041-adaab5b9838d",
   "metadata": {},
   "outputs": [
    {
     "name": "stdout",
     "output_type": "stream",
     "text": [
      "False\n"
     ]
    }
   ],
   "source": [
    "print(False)"
   ]
  },
  {
   "cell_type": "code",
   "execution_count": 19,
   "id": "162a7005-7b0e-4d73-afd4-98f4220d4471",
   "metadata": {},
   "outputs": [
    {
     "name": "stdout",
     "output_type": "stream",
     "text": [
      "None\n"
     ]
    }
   ],
   "source": [
    "print(None)"
   ]
  },
  {
   "cell_type": "code",
   "execution_count": 20,
   "id": "4ab1f0a6-624e-486e-9e0a-f9c33289a653",
   "metadata": {},
   "outputs": [
    {
     "name": "stdout",
     "output_type": "stream",
     "text": [
      "10\n"
     ]
    }
   ],
   "source": [
    "a=\"srividya\"\n",
    "b=\"sri\"\n",
    "a=10\n",
    "print(a)"
   ]
  },
  {
   "cell_type": "raw",
   "id": "c8d9d5a0-c31b-4ec8-a194-a070baf7e2a1",
   "metadata": {},
   "source": [
    "print(b)"
   ]
  },
  {
   "cell_type": "code",
   "execution_count": 21,
   "id": "ce47dfa7-14cb-4e23-9ceb-b8d18702ddf0",
   "metadata": {},
   "outputs": [
    {
     "ename": "SyntaxError",
     "evalue": "invalid syntax (2733791460.py, line 17)",
     "output_type": "error",
     "traceback": [
      "\u001b[1;36m  Cell \u001b[1;32mIn[21], line 17\u001b[1;36m\u001b[0m\n\u001b[1;33m    a{\"name\":\"aja\",\"address\":\"hyd\"}\u001b[0m\n\u001b[1;37m     ^\u001b[0m\n\u001b[1;31mSyntaxError\u001b[0m\u001b[1;31m:\u001b[0m invalid syntax\n"
     ]
    }
   ],
   "source": [
    "a=1000\n",
    "print(a, type(a))\n",
    "a=12.34\n",
    "print(a, type(a))\n",
    "a=True\n",
    "print(a, type(a))\n",
    "a=None\n",
    "print(a, type(a))\n",
    "a=\"python\"\n",
    "print(a, type(a))\n",
    "a=[1000,200,300]\n",
    "print(a, type(a))\n",
    "a=(1000,2000,3000)\n",
    "print(a, type(a))\n",
    "a={1234,5678,9012}\n",
    "print(a, type(a))\n",
    "a{\"name\":\"aja\",\"address\":\"hyd\"}\n",
    "print(a, type(a))"
   ]
  },
  {
   "cell_type": "code",
   "execution_count": 22,
   "id": "e308ae4c-2d5f-4b06-a062-483d1efc231d",
   "metadata": {},
   "outputs": [
    {
     "name": "stdout",
     "output_type": "stream",
     "text": [
      "1000 <class 'int'>\n",
      "12.34 <class 'float'>\n",
      "True <class 'bool'>\n",
      "None <class 'NoneType'>\n",
      "python <class 'str'>\n",
      "[1000, 200, 300] <class 'list'>\n",
      "(1000, 2000, 3000) <class 'tuple'>\n",
      "{1234, 9012, 5678} <class 'set'>\n",
      "{'name': 'aja', 'address': 'hyd'} <class 'dict'>\n"
     ]
    }
   ],
   "source": [
    "a=1000\n",
    "print(a, type(a))\n",
    "a=12.34\n",
    "print(a, type(a))\n",
    "a=True\n",
    "print(a, type(a))\n",
    "a=None\n",
    "print(a, type(a))\n",
    "a=\"python\"\n",
    "print(a, type(a))\n",
    "a=[1000,200,300]\n",
    "print(a, type(a))\n",
    "a=(1000,2000,3000)\n",
    "print(a, type(a))\n",
    "a={1234,5678,9012}\n",
    "print(a, type(a))\n",
    "a={\"name\":\"aja\",\"address\":\"hyd\"}\n",
    "print(a, type(a))"
   ]
  },
  {
   "cell_type": "code",
   "execution_count": 1,
   "id": "11ed1156-873a-4222-af1c-bafff28dfe6c",
   "metadata": {},
   "outputs": [
    {
     "ename": "TypeError",
     "evalue": "unsupported operand type(s) for +: 'int' and 'list'",
     "output_type": "error",
     "traceback": [
      "\u001b[1;31m---------------------------------------------------------------------------\u001b[0m",
      "\u001b[1;31mTypeError\u001b[0m                                 Traceback (most recent call last)",
      "Cell \u001b[1;32mIn[1], line 1\u001b[0m\n\u001b[1;32m----> 1\u001b[0m \u001b[38;5;28mprint\u001b[39m(\u001b[38;5;241m2\u001b[39m\u001b[38;5;241m+\u001b[39m[\u001b[38;5;241m1\u001b[39m,\u001b[38;5;241m2\u001b[39m,\u001b[38;5;241m3\u001b[39m,\u001b[38;5;241m4\u001b[39m,\u001b[38;5;241m5\u001b[39m])\n",
      "\u001b[1;31mTypeError\u001b[0m: unsupported operand type(s) for +: 'int' and 'list'"
     ]
    }
   ],
   "source": [
    "print(2+[1,2,3,4,5])"
   ]
  },
  {
   "cell_type": "code",
   "execution_count": 2,
   "id": "fc4fb640-aff4-4716-8471-67a78ae755ec",
   "metadata": {},
   "outputs": [
    {
     "ename": "TypeError",
     "evalue": "unsupported operand type(s) for +: 'int' and 'list'",
     "output_type": "error",
     "traceback": [
      "\u001b[1;31m---------------------------------------------------------------------------\u001b[0m",
      "\u001b[1;31mTypeError\u001b[0m                                 Traceback (most recent call last)",
      "Cell \u001b[1;32mIn[2], line 1\u001b[0m\n\u001b[1;32m----> 1\u001b[0m \u001b[38;5;28mprint\u001b[39m(\u001b[38;5;241m1\u001b[39m\u001b[38;5;241m+\u001b[39m[\u001b[38;5;241m1.2\u001b[39m])\n",
      "\u001b[1;31mTypeError\u001b[0m: unsupported operand type(s) for +: 'int' and 'list'"
     ]
    }
   ],
   "source": [
    "print(1+[1.2])"
   ]
  },
  {
   "cell_type": "code",
   "execution_count": 3,
   "id": "0f7506f2-1ae8-43bd-9d89-b5bea596338a",
   "metadata": {},
   "outputs": [
    {
     "name": "stdout",
     "output_type": "stream",
     "text": [
      "2.2\n"
     ]
    }
   ],
   "source": [
    "print(1+1.2)"
   ]
  },
  {
   "cell_type": "code",
   "execution_count": 4,
   "id": "12d431e4-8daa-4981-9d5e-2c350cffc53a",
   "metadata": {},
   "outputs": [
    {
     "ename": "TypeError",
     "evalue": "unsupported operand type(s) for +: 'int' and 'tuple'",
     "output_type": "error",
     "traceback": [
      "\u001b[1;31m---------------------------------------------------------------------------\u001b[0m",
      "\u001b[1;31mTypeError\u001b[0m                                 Traceback (most recent call last)",
      "Cell \u001b[1;32mIn[4], line 1\u001b[0m\n\u001b[1;32m----> 1\u001b[0m \u001b[38;5;28mprint\u001b[39m(\u001b[38;5;241m1\u001b[39m\u001b[38;5;241m+\u001b[39m(\u001b[38;5;241m10\u001b[39m,\u001b[38;5;241m20\u001b[39m,\u001b[38;5;241m30\u001b[39m))\n",
      "\u001b[1;31mTypeError\u001b[0m: unsupported operand type(s) for +: 'int' and 'tuple'"
     ]
    }
   ],
   "source": [
    "print(1+(10,20,30))"
   ]
  },
  {
   "cell_type": "code",
   "execution_count": 5,
   "id": "2f23badd-032b-4eeb-b905-660b670bf0a8",
   "metadata": {},
   "outputs": [],
   "source": [
    "a=1+2j"
   ]
  },
  {
   "cell_type": "code",
   "execution_count": 6,
   "id": "522254ae-3394-4b57-915a-fee125a0da66",
   "metadata": {},
   "outputs": [
    {
     "name": "stdout",
     "output_type": "stream",
     "text": [
      "(1+2j)\n"
     ]
    }
   ],
   "source": [
    "print(1+2j)\n"
   ]
  },
  {
   "cell_type": "code",
   "execution_count": 7,
   "id": "fa63133a-867b-4e14-842e-54f0bdb8f039",
   "metadata": {},
   "outputs": [
    {
     "ename": "SyntaxError",
     "evalue": "invalid syntax (3326923007.py, line 1)",
     "output_type": "error",
     "traceback": [
      "\u001b[1;36m  Cell \u001b[1;32mIn[7], line 1\u001b[1;36m\u001b[0m\n\u001b[1;33m    print(1+1+2j)_\u001b[0m\n\u001b[1;37m                 ^\u001b[0m\n\u001b[1;31mSyntaxError\u001b[0m\u001b[1;31m:\u001b[0m invalid syntax\n"
     ]
    }
   ],
   "source": [
    "print(1+1+2j)_"
   ]
  },
  {
   "cell_type": "code",
   "execution_count": 8,
   "id": "903f25ad-dc4e-4b63-8b69-a1d21305ee74",
   "metadata": {},
   "outputs": [
    {
     "name": "stdout",
     "output_type": "stream",
     "text": [
      "(2+2j)\n"
     ]
    }
   ],
   "source": [
    "print(1+1+2j)"
   ]
  },
  {
   "cell_type": "code",
   "execution_count": 9,
   "id": "910227a9-9d46-4dfa-9e29-8d8ea7f8f0bf",
   "metadata": {},
   "outputs": [
    {
     "ename": "TypeError",
     "evalue": "unsupported operand type(s) for +: 'int' and 'tuple'",
     "output_type": "error",
     "traceback": [
      "\u001b[1;31m---------------------------------------------------------------------------\u001b[0m",
      "\u001b[1;31mTypeError\u001b[0m                                 Traceback (most recent call last)",
      "Cell \u001b[1;32mIn[9], line 1\u001b[0m\n\u001b[1;32m----> 1\u001b[0m \u001b[38;5;28mprint\u001b[39m(\u001b[38;5;241m1\u001b[39m\u001b[38;5;241m+\u001b[39m(\u001b[38;5;241m10\u001b[39m,\u001b[38;5;241m20\u001b[39m,\u001b[38;5;241m30\u001b[39m))\n",
      "\u001b[1;31mTypeError\u001b[0m: unsupported operand type(s) for +: 'int' and 'tuple'"
     ]
    }
   ],
   "source": [
    "print(1+(10,20,30))"
   ]
  },
  {
   "cell_type": "code",
   "execution_count": 10,
   "id": "ec7d04c2-5ccc-4bca-8338-b454f1fd27c6",
   "metadata": {},
   "outputs": [
    {
     "name": "stdout",
     "output_type": "stream",
     "text": [
      "2\n"
     ]
    }
   ],
   "source": [
    "print(1+True)"
   ]
  },
  {
   "cell_type": "code",
   "execution_count": 11,
   "id": "a7d07a9e-2e43-4492-872f-83621e87171d",
   "metadata": {},
   "outputs": [],
   "source": [
    "#internal type casting.in the above cell we were not converted boolean value(true) to integer.this is happend internally\n"
   ]
  },
  {
   "cell_type": "code",
   "execution_count": 12,
   "id": "919d42df-f5fb-4a67-b19d-b8f57500662a",
   "metadata": {},
   "outputs": [
    {
     "name": "stdout",
     "output_type": "stream",
     "text": [
      "21.34\n"
     ]
    }
   ],
   "source": [
    "print(1+20.34)"
   ]
  },
  {
   "cell_type": "code",
   "execution_count": 13,
   "id": "d035505a-3393-4522-bc62-c20cfcd05a74",
   "metadata": {},
   "outputs": [
    {
     "data": {
      "text/plain": [
       "1"
      ]
     },
     "execution_count": 13,
     "metadata": {},
     "output_type": "execute_result"
    }
   ],
   "source": [
    "int(True)"
   ]
  },
  {
   "cell_type": "code",
   "execution_count": 14,
   "id": "dcf4bb9e-455e-4867-8444-66675f054d3b",
   "metadata": {},
   "outputs": [
    {
     "data": {
      "text/plain": [
       "20"
      ]
     },
     "execution_count": 14,
     "metadata": {},
     "output_type": "execute_result"
    }
   ],
   "source": [
    "int(20.34)"
   ]
  },
  {
   "cell_type": "code",
   "execution_count": 15,
   "id": "b94c8971-553f-4e8c-91fd-e2606bbfe182",
   "metadata": {},
   "outputs": [
    {
     "data": {
      "text/plain": [
       "1.0"
      ]
     },
     "execution_count": 15,
     "metadata": {},
     "output_type": "execute_result"
    }
   ],
   "source": [
    "float(1)"
   ]
  },
  {
   "cell_type": "code",
   "execution_count": 16,
   "id": "dc6b341d-7c13-4557-9195-71ac0cf7b04a",
   "metadata": {},
   "outputs": [
    {
     "name": "stdout",
     "output_type": "stream",
     "text": [
      "30\n"
     ]
    }
   ],
   "source": [
    "print(10+20)"
   ]
  },
  {
   "cell_type": "code",
   "execution_count": 17,
   "id": "cea90b70-717b-4551-8d50-d70ed1aeaffe",
   "metadata": {},
   "outputs": [
    {
     "ename": "TypeError",
     "evalue": "unsupported operand type(s) for +: 'int' and 'str'",
     "output_type": "error",
     "traceback": [
      "\u001b[1;31m---------------------------------------------------------------------------\u001b[0m",
      "\u001b[1;31mTypeError\u001b[0m                                 Traceback (most recent call last)",
      "Cell \u001b[1;32mIn[17], line 1\u001b[0m\n\u001b[1;32m----> 1\u001b[0m \u001b[38;5;28mprint\u001b[39m(\u001b[38;5;241m10\u001b[39m\u001b[38;5;241m+\u001b[39m\u001b[38;5;124m\"\u001b[39m\u001b[38;5;124m20\u001b[39m\u001b[38;5;124m\"\u001b[39m)\n",
      "\u001b[1;31mTypeError\u001b[0m: unsupported operand type(s) for +: 'int' and 'str'"
     ]
    }
   ],
   "source": [
    "print(10+\"20\")"
   ]
  },
  {
   "cell_type": "code",
   "execution_count": 18,
   "id": "da3b0e14-4871-47dd-8982-018cb07b8b01",
   "metadata": {},
   "outputs": [
    {
     "name": "stdout",
     "output_type": "stream",
     "text": [
      "1020\n"
     ]
    }
   ],
   "source": [
    "print(\"10\"+\"20\")#concatination"
   ]
  },
  {
   "cell_type": "code",
   "execution_count": 19,
   "id": "f0b4e457-ccd2-49dd-8916-fa7855177762",
   "metadata": {},
   "outputs": [
    {
     "name": "stdout",
     "output_type": "stream",
     "text": [
      "<class 'int'>\n"
     ]
    }
   ],
   "source": [
    "a=10\n",
    "print(type(a))"
   ]
  },
  {
   "cell_type": "code",
   "execution_count": 20,
   "id": "4e3f3e6a-8d2d-4d86-a3ae-71e6e014cfdf",
   "metadata": {},
   "outputs": [
    {
     "name": "stdout",
     "output_type": "stream",
     "text": [
      "30\n"
     ]
    }
   ],
   "source": [
    "print(10+20)"
   ]
  },
  {
   "cell_type": "code",
   "execution_count": 21,
   "id": "5eb0870f-54fb-46a1-a829-8a6621ef7497",
   "metadata": {},
   "outputs": [
    {
     "ename": "TypeError",
     "evalue": "unsupported operand type(s) for +: 'int' and 'str'",
     "output_type": "error",
     "traceback": [
      "\u001b[1;31m---------------------------------------------------------------------------\u001b[0m",
      "\u001b[1;31mTypeError\u001b[0m                                 Traceback (most recent call last)",
      "Cell \u001b[1;32mIn[21], line 1\u001b[0m\n\u001b[1;32m----> 1\u001b[0m \u001b[38;5;28mprint\u001b[39m(\u001b[38;5;241m10\u001b[39m\u001b[38;5;241m+\u001b[39m\u001b[38;5;124m\"\u001b[39m\u001b[38;5;124m20\u001b[39m\u001b[38;5;124m\"\u001b[39m)\n",
      "\u001b[1;31mTypeError\u001b[0m: unsupported operand type(s) for +: 'int' and 'str'"
     ]
    }
   ],
   "source": []
  },
  {
   "cell_type": "code",
   "execution_count": 22,
   "id": "5428679e-307b-4722-9b5b-86794a584141",
   "metadata": {},
   "outputs": [
    {
     "ename": "NameError",
     "evalue": "name 'true' is not defined",
     "output_type": "error",
     "traceback": [
      "\u001b[1;31m---------------------------------------------------------------------------\u001b[0m",
      "\u001b[1;31mNameError\u001b[0m                                 Traceback (most recent call last)",
      "Cell \u001b[1;32mIn[22], line 1\u001b[0m\n\u001b[1;32m----> 1\u001b[0m a\u001b[38;5;241m=\u001b[39mtrue\n\u001b[0;32m      2\u001b[0m \u001b[38;5;28mprint\u001b[39m(\u001b[38;5;28mtype\u001b[39m(a))\n",
      "\u001b[1;31mNameError\u001b[0m: name 'true' is not defined"
     ]
    }
   ],
   "source": [
    "a=true\n",
    "print(type(a))"
   ]
  },
  {
   "cell_type": "code",
   "execution_count": 23,
   "id": "becbc14f-61dd-43db-9e5c-f49a0469f1fb",
   "metadata": {},
   "outputs": [
    {
     "name": "stdout",
     "output_type": "stream",
     "text": [
      "<class 'bool'>\n"
     ]
    }
   ],
   "source": [
    "a=True\n",
    "print(type(a))"
   ]
  },
  {
   "cell_type": "code",
   "execution_count": 24,
   "id": "c1a0f148-3c99-4cc8-8d57-7734a96d4687",
   "metadata": {},
   "outputs": [
    {
     "name": "stdout",
     "output_type": "stream",
     "text": [
      "2020\n"
     ]
    }
   ],
   "source": [
    "print(2*\"20\")"
   ]
  },
  {
   "cell_type": "code",
   "execution_count": 25,
   "id": "973bf463-b8ca-4684-897e-debfa99e1df3",
   "metadata": {},
   "outputs": [
    {
     "name": "stdout",
     "output_type": "stream",
     "text": [
      "1020\n"
     ]
    }
   ],
   "source": [
    "print(str(10)+\"20\")"
   ]
  },
  {
   "cell_type": "code",
   "execution_count": 26,
   "id": "50b7cf62-4b73-44ee-9ef6-a0d6856bd796",
   "metadata": {},
   "outputs": [
    {
     "name": "stdout",
     "output_type": "stream",
     "text": [
      "True\n"
     ]
    }
   ],
   "source": [
    "print(10<20)"
   ]
  },
  {
   "cell_type": "code",
   "execution_count": 27,
   "id": "4d60f9fd-689c-4aa0-939c-8746a43bb652",
   "metadata": {},
   "outputs": [
    {
     "name": "stdout",
     "output_type": "stream",
     "text": [
      "False\n"
     ]
    }
   ],
   "source": [
    "print(\"apple\"<\"ant\")#a,a:p<n:false"
   ]
  },
  {
   "cell_type": "code",
   "execution_count": 28,
   "id": "eaff7e45-037a-4807-a561-496e69d72e20",
   "metadata": {},
   "outputs": [
    {
     "name": "stdout",
     "output_type": "stream",
     "text": [
      "False\n"
     ]
    }
   ],
   "source": [
    "print([10,20,30,40]>[100,-20,-30,-40])"
   ]
  },
  {
   "cell_type": "code",
   "execution_count": 29,
   "id": "15b25cd2-d8a2-4c88-a885-879ec5bdf0da",
   "metadata": {},
   "outputs": [
    {
     "name": "stdout",
     "output_type": "stream",
     "text": [
      "False\n"
     ]
    }
   ],
   "source": [
    "print([10,20,30]>[10,20,30])"
   ]
  },
  {
   "cell_type": "code",
   "execution_count": 31,
   "id": "78e25dc9-98cb-4c42-9a6b-8c89e7afb701",
   "metadata": {},
   "outputs": [
    {
     "name": "stdout",
     "output_type": "stream",
     "text": [
      "True\n"
     ]
    }
   ],
   "source": [
    "print((1,2,3,3)<(10,-20,-30,-40))#this camparision is called as lexical comparision"
   ]
  },
  {
   "cell_type": "code",
   "execution_count": 32,
   "id": "794f5a2f-f641-483a-99ec-b80fda863e3b",
   "metadata": {},
   "outputs": [
    {
     "name": "stdout",
     "output_type": "stream",
     "text": [
      "False\n"
     ]
    }
   ],
   "source": [
    "print({1,2,3,4}>{10,2,3,4})"
   ]
  },
  {
   "cell_type": "code",
   "execution_count": 33,
   "id": "fd76f47d-72be-4844-9f4b-33173ee9b182",
   "metadata": {},
   "outputs": [
    {
     "name": "stdout",
     "output_type": "stream",
     "text": [
      "{40, 10, 20, 30}\n"
     ]
    }
   ],
   "source": [
    "print({10,20,30,40,})#set will not fallow index,set memory organisation is diff,set will not have index object,it will not fallow order."
   ]
  },
  {
   "cell_type": "code",
   "execution_count": 34,
   "id": "7757c9f7-2b6d-4632-8c7c-5e2366e1940c",
   "metadata": {},
   "outputs": [
    {
     "name": "stdout",
     "output_type": "stream",
     "text": [
      "True\n"
     ]
    }
   ],
   "source": [
    "print({1,2,3,4}>{2,3,4})#subsets and supersets"
   ]
  },
  {
   "cell_type": "code",
   "execution_count": 35,
   "id": "08956f05-0acc-4aaf-8080-48ec46353814",
   "metadata": {},
   "outputs": [],
   "source": [
    "a={1,2,3,4}#a is subset of b\n",
    "b={2,3}# b is superset of a"
   ]
  },
  {
   "cell_type": "code",
   "execution_count": 36,
   "id": "bbe6a24d-ed3c-4b2e-9dc2-a8cd523ad576",
   "metadata": {},
   "outputs": [
    {
     "name": "stdout",
     "output_type": "stream",
     "text": [
      "True\n"
     ]
    }
   ],
   "source": [
    "print(20==20)"
   ]
  },
  {
   "cell_type": "code",
   "execution_count": 37,
   "id": "15376efb-530f-4628-ae4b-5d0736f1026e",
   "metadata": {},
   "outputs": [
    {
     "ename": "SyntaxError",
     "evalue": "expression cannot contain assignment, perhaps you meant \"==\"? (4293884793.py, line 1)",
     "output_type": "error",
     "traceback": [
      "\u001b[1;36m  Cell \u001b[1;32mIn[37], line 1\u001b[1;36m\u001b[0m\n\u001b[1;33m    print(\"apple\"=\"Apple\")\u001b[0m\n\u001b[1;37m          ^\u001b[0m\n\u001b[1;31mSyntaxError\u001b[0m\u001b[1;31m:\u001b[0m expression cannot contain assignment, perhaps you meant \"==\"?\n"
     ]
    }
   ],
   "source": [
    "print(\"apple\"=\"Apple\")"
   ]
  },
  {
   "cell_type": "code",
   "execution_count": 38,
   "id": "51bf22c2-97f3-4de5-abcc-51ae6f7f79af",
   "metadata": {},
   "outputs": [
    {
     "name": "stdout",
     "output_type": "stream",
     "text": [
      "False\n"
     ]
    }
   ],
   "source": [
    "print(\"apple\"==\"Apple\")"
   ]
  },
  {
   "cell_type": "code",
   "execution_count": 39,
   "id": "f15b5fcd-037a-4735-aa22-42ca7744aab0",
   "metadata": {},
   "outputs": [
    {
     "name": "stdout",
     "output_type": "stream",
     "text": [
      "False\n"
     ]
    }
   ],
   "source": [
    "print(\"apple\"<\"Ant\")"
   ]
  },
  {
   "cell_type": "code",
   "execution_count": 40,
   "id": "c85c3bd5-ed8b-4a8b-b097-375b7b24c113",
   "metadata": {},
   "outputs": [
    {
     "name": "stdout",
     "output_type": "stream",
     "text": [
      "112\n",
      "65\n"
     ]
    }
   ],
   "source": [
    "print(ord(\"p\"))\n",
    "print(ord(\"A\"))"
   ]
  },
  {
   "cell_type": "code",
   "execution_count": 41,
   "id": "1737c281-03fb-4b34-870a-2e6fe227a71a",
   "metadata": {},
   "outputs": [
    {
     "name": "stdout",
     "output_type": "stream",
     "text": [
      "False\n"
     ]
    }
   ],
   "source": [
    "required_params=\"id,name,age\"\n",
    "given_params=\"id,name,age\"\n",
    "print(required_params>given_params)"
   ]
  },
  {
   "cell_type": "code",
   "execution_count": 42,
   "id": "a6833911-fe1e-4181-83a7-366e25533153",
   "metadata": {},
   "outputs": [
    {
     "name": "stdout",
     "output_type": "stream",
     "text": [
      "True\n",
      "False\n"
     ]
    }
   ],
   "source": [
    "a=1000\n",
    "b=1000\n",
    "print(a==b)\n",
    "print(a is b)"
   ]
  },
  {
   "cell_type": "code",
   "execution_count": 43,
   "id": "535f5933-d8b2-4d28-8fd6-da7838d38227",
   "metadata": {},
   "outputs": [
    {
     "name": "stdout",
     "output_type": "stream",
     "text": [
      "True\n",
      "True\n"
     ]
    }
   ],
   "source": [
    "a=1000\n",
    "b=a\n",
    "print(a==b)\n",
    "print(a is b)"
   ]
  },
  {
   "cell_type": "code",
   "execution_count": 1,
   "id": "3422bb4b-bd91-49ec-a1a4-487a6f8dfb4d",
   "metadata": {},
   "outputs": [
    {
     "data": {
      "text/plain": [
       "True"
      ]
     },
     "execution_count": 1,
     "metadata": {},
     "output_type": "execute_result"
    }
   ],
   "source": [
    "\"name\" in {\"name\":\"aja\"}"
   ]
  },
  {
   "cell_type": "code",
   "execution_count": 2,
   "id": "7d80916c-6df7-49a7-aa18-fbcdc10591dd",
   "metadata": {},
   "outputs": [
    {
     "data": {
      "text/plain": [
       "True"
      ]
     },
     "execution_count": 2,
     "metadata": {},
     "output_type": "execute_result"
    }
   ],
   "source": [
    "\"1\"in\"100\""
   ]
  },
  {
   "cell_type": "code",
   "execution_count": 3,
   "id": "1726e9ac-17b4-4060-a7c4-bd4d27a297af",
   "metadata": {},
   "outputs": [
    {
     "ename": "TypeError",
     "evalue": "'in <string>' requires string as left operand, not int",
     "output_type": "error",
     "traceback": [
      "\u001b[1;31m---------------------------------------------------------------------------\u001b[0m",
      "\u001b[1;31mTypeError\u001b[0m                                 Traceback (most recent call last)",
      "Cell \u001b[1;32mIn[3], line 1\u001b[0m\n\u001b[1;32m----> 1\u001b[0m \u001b[38;5;241m1\u001b[39m \u001b[38;5;129;01min\u001b[39;00m \u001b[38;5;124m\"\u001b[39m\u001b[38;5;124m100\u001b[39m\u001b[38;5;124m\"\u001b[39m\n",
      "\u001b[1;31mTypeError\u001b[0m: 'in <string>' requires string as left operand, not int"
     ]
    }
   ],
   "source": [
    "1 in \"100\""
   ]
  },
  {
   "cell_type": "code",
   "execution_count": 4,
   "id": "42671f0e-fb60-48b3-b33b-76cad70b69d9",
   "metadata": {},
   "outputs": [
    {
     "ename": "TypeError",
     "evalue": "argument of type 'int' is not iterable",
     "output_type": "error",
     "traceback": [
      "\u001b[1;31m---------------------------------------------------------------------------\u001b[0m",
      "\u001b[1;31mTypeError\u001b[0m                                 Traceback (most recent call last)",
      "Cell \u001b[1;32mIn[4], line 1\u001b[0m\n\u001b[1;32m----> 1\u001b[0m \u001b[38;5;241m1\u001b[39m \u001b[38;5;129;01min\u001b[39;00m \u001b[38;5;241m1000\u001b[39m\n",
      "\u001b[1;31mTypeError\u001b[0m: argument of type 'int' is not iterable"
     ]
    }
   ],
   "source": [
    "1 in 1000"
   ]
  },
  {
   "cell_type": "code",
   "execution_count": 5,
   "id": "3e9e5617-067b-45e4-8140-8fe58db43b84",
   "metadata": {},
   "outputs": [
    {
     "ename": "SyntaxError",
     "evalue": "invalid syntax (3782482129.py, line 1)",
     "output_type": "error",
     "traceback": [
      "\u001b[1;36m  Cell \u001b[1;32mIn[5], line 1\u001b[1;36m\u001b[0m\n\u001b[1;33m    \"1\" not \"1000\"\u001b[0m\n\u001b[1;37m            ^\u001b[0m\n\u001b[1;31mSyntaxError\u001b[0m\u001b[1;31m:\u001b[0m invalid syntax\n"
     ]
    }
   ],
   "source": [
    "\"1\" not \"1000\""
   ]
  },
  {
   "cell_type": "code",
   "execution_count": 6,
   "id": "77695118-136d-4388-becf-67664645dbec",
   "metadata": {},
   "outputs": [
    {
     "ename": "SyntaxError",
     "evalue": "invalid syntax (980798900.py, line 1)",
     "output_type": "error",
     "traceback": [
      "\u001b[1;36m  Cell \u001b[1;32mIn[6], line 1\u001b[1;36m\u001b[0m\n\u001b[1;33m    \"1\" notin \"1000\"\u001b[0m\n\u001b[1;37m        ^\u001b[0m\n\u001b[1;31mSyntaxError\u001b[0m\u001b[1;31m:\u001b[0m invalid syntax\n"
     ]
    }
   ],
   "source": [
    "\"1\" notin \"1000\""
   ]
  },
  {
   "cell_type": "code",
   "execution_count": 7,
   "id": "8fef0ef1-0f50-4f45-a08d-e1e17805b4e6",
   "metadata": {},
   "outputs": [
    {
     "data": {
      "text/plain": [
       "True"
      ]
     },
     "execution_count": 7,
     "metadata": {},
     "output_type": "execute_result"
    }
   ],
   "source": [
    "\"1\"in\"1000\""
   ]
  },
  {
   "cell_type": "code",
   "execution_count": 8,
   "id": "047f8e97-5ca5-42e8-80f9-5d13e646c679",
   "metadata": {},
   "outputs": [
    {
     "name": "stdout",
     "output_type": "stream",
     "text": [
      "2\n"
     ]
    }
   ],
   "source": [
    "print(2*10**0)"
   ]
  },
  {
   "cell_type": "code",
   "execution_count": 9,
   "id": "9d37cfca-0514-49e7-aa6e-2d45fc846d55",
   "metadata": {},
   "outputs": [
    {
     "name": "stdout",
     "output_type": "stream",
     "text": [
      "1\n"
     ]
    }
   ],
   "source": [
    "print(10**0)"
   ]
  },
  {
   "cell_type": "code",
   "execution_count": 10,
   "id": "e686457a-ff62-46d0-8064-7670af74c945",
   "metadata": {},
   "outputs": [
    {
     "name": "stdout",
     "output_type": "stream",
     "text": [
      "10\n"
     ]
    }
   ],
   "source": [
    "print(10**1)"
   ]
  },
  {
   "cell_type": "code",
   "execution_count": 25,
   "id": "f128c118-9f3a-4c01-8b45-d5876f6977db",
   "metadata": {},
   "outputs": [
    {
     "name": "stdout",
     "output_type": "stream",
     "text": [
      "1511\n"
     ]
    }
   ],
   "source": [
    "a=\"15z\"\n",
    "b=int(a,36)\n",
    "print(b)"
   ]
  },
  {
   "cell_type": "code",
   "execution_count": 27,
   "id": "9addb6c5-c570-43ac-bfce-836510b81bc4",
   "metadata": {},
   "outputs": [
    {
     "name": "stdout",
     "output_type": "stream",
     "text": [
      "1511\n"
     ]
    }
   ],
   "source": [
    "print((35*36**0)+(5*36**1)+(1*36**2))"
   ]
  },
  {
   "cell_type": "code",
   "execution_count": 21,
   "id": "9ba1b58e-2127-403d-ba17-ceb120590b15",
   "metadata": {},
   "outputs": [
    {
     "name": "stdout",
     "output_type": "stream",
     "text": [
      "431\n"
     ]
    }
   ],
   "source": [
    "a=\"15h\"\n",
    "b=int(a,18)\n",
    "print(b)"
   ]
  },
  {
   "cell_type": "code",
   "execution_count": null,
   "id": "1ba35c07-2b0f-4b33-9a21-b82bd3b4396e",
   "metadata": {},
   "outputs": [],
   "source": []
  },
  {
   "cell_type": "code",
   "execution_count": 18,
   "id": "5fc07364-e14f-4dcd-bf78-0f89d71b25e2",
   "metadata": {},
   "outputs": [
    {
     "name": "stdout",
     "output_type": "stream",
     "text": [
      "88764\n"
     ]
    }
   ],
   "source": [
    "print((12*16**0)+(11*16**1)+(10*16**2)+(5*16**3)+(1*16**4))"
   ]
  },
  {
   "cell_type": "code",
   "execution_count": 17,
   "id": "9a79810f-aa38-4759-bce8-23acbef1a1c6",
   "metadata": {},
   "outputs": [
    {
     "ename": "ValueError",
     "evalue": "invalid literal for int() with base 10: 'a'",
     "output_type": "error",
     "traceback": [
      "\u001b[1;31m---------------------------------------------------------------------------\u001b[0m",
      "\u001b[1;31mValueError\u001b[0m                                Traceback (most recent call last)",
      "Cell \u001b[1;32mIn[17], line 2\u001b[0m\n\u001b[0;32m      1\u001b[0m a\u001b[38;5;241m=\u001b[39m\u001b[38;5;124m\"\u001b[39m\u001b[38;5;124ma\u001b[39m\u001b[38;5;124m\"\u001b[39m\n\u001b[1;32m----> 2\u001b[0m b\u001b[38;5;241m=\u001b[39m\u001b[38;5;28mint\u001b[39m(a)\n\u001b[0;32m      3\u001b[0m \u001b[38;5;28mprint\u001b[39m(b)\n",
      "\u001b[1;31mValueError\u001b[0m: invalid literal for int() with base 10: 'a'"
     ]
    }
   ],
   "source": [
    "a=\"a\"\n",
    "b=int(a)\n",
    "print(b)"
   ]
  },
  {
   "cell_type": "code",
   "execution_count": null,
   "id": "433355fd-665a-43f6-a40e-4ea9454be358",
   "metadata": {},
   "outputs": [],
   "source": [
    "a=\"12\"\n",
    "b=int(a)\n",
    "print(b)"
   ]
  },
  {
   "cell_type": "code",
   "execution_count": 32,
   "id": "abb292ce-971f-474a-9c45-6fa45048a162",
   "metadata": {},
   "outputs": [
    {
     "name": "stdout",
     "output_type": "stream",
     "text": [
      "84668\n"
     ]
    }
   ],
   "source": [
    "a=\"14abc\"\n",
    "b=int(a, 16)\n",
    "print(b)"
   ]
  },
  {
   "cell_type": "code",
   "execution_count": 31,
   "id": "ff3a4306-d071-4632-a3ed-c539a167b8cf",
   "metadata": {},
   "outputs": [
    {
     "name": "stdout",
     "output_type": "stream",
     "text": [
      "84668\n"
     ]
    }
   ],
   "source": [
    "print((12*16**0)+(11*16**1)+(10*16**2)+(4*16**3)+(1*16**4))"
   ]
  },
  {
   "cell_type": "code",
   "execution_count": 33,
   "id": "989dd86a-575a-406a-b0fb-6c9868e0de0d",
   "metadata": {},
   "outputs": [
    {
     "ename": "TypeError",
     "evalue": "float expected at most 1 argument, got 2",
     "output_type": "error",
     "traceback": [
      "\u001b[1;31m---------------------------------------------------------------------------\u001b[0m",
      "\u001b[1;31mTypeError\u001b[0m                                 Traceback (most recent call last)",
      "Cell \u001b[1;32mIn[33], line 2\u001b[0m\n\u001b[0;32m      1\u001b[0m a\u001b[38;5;241m=\u001b[39m\u001b[38;5;124m\"\u001b[39m\u001b[38;5;124m14ab\u001b[39m\u001b[38;5;124m\"\u001b[39m\n\u001b[1;32m----> 2\u001b[0m b\u001b[38;5;241m=\u001b[39m\u001b[38;5;28mfloat\u001b[39m(a,\u001b[38;5;241m16\u001b[39m)\n\u001b[0;32m      3\u001b[0m \u001b[38;5;28mprint\u001b[39m(b)\n",
      "\u001b[1;31mTypeError\u001b[0m: float expected at most 1 argument, got 2"
     ]
    }
   ],
   "source": [
    "a=\"14ab\"\n",
    "b=float(a,16)\n",
    "print(b)"
   ]
  },
  {
   "cell_type": "code",
   "execution_count": 34,
   "id": "52579550-794a-48af-9de6-7d5bae5ce26d",
   "metadata": {},
   "outputs": [
    {
     "ename": "ValueError",
     "evalue": "invalid literal for int() with base 16: '12str'",
     "output_type": "error",
     "traceback": [
      "\u001b[1;31m---------------------------------------------------------------------------\u001b[0m",
      "\u001b[1;31mValueError\u001b[0m                                Traceback (most recent call last)",
      "Cell \u001b[1;32mIn[34], line 2\u001b[0m\n\u001b[0;32m      1\u001b[0m a\u001b[38;5;241m=\u001b[39m\u001b[38;5;124m\"\u001b[39m\u001b[38;5;124m12str\u001b[39m\u001b[38;5;124m\"\u001b[39m\n\u001b[1;32m----> 2\u001b[0m b\u001b[38;5;241m=\u001b[39m\u001b[38;5;28mint\u001b[39m(a,\u001b[38;5;241m16\u001b[39m)\n\u001b[0;32m      3\u001b[0m \u001b[38;5;28mprint\u001b[39m(b)\n",
      "\u001b[1;31mValueError\u001b[0m: invalid literal for int() with base 16: '12str'"
     ]
    }
   ],
   "source": [
    "a=\"12str\"\n",
    "b=int(a,16)\n",
    "print(b)"
   ]
  },
  {
   "cell_type": "code",
   "execution_count": 35,
   "id": "b0bc31bd-1b4f-4903-97a1-6c7404170d8d",
   "metadata": {},
   "outputs": [
    {
     "ename": "ValueError",
     "evalue": "invalid literal for int() with base 16: '12xyz'",
     "output_type": "error",
     "traceback": [
      "\u001b[1;31m---------------------------------------------------------------------------\u001b[0m",
      "\u001b[1;31mValueError\u001b[0m                                Traceback (most recent call last)",
      "Cell \u001b[1;32mIn[35], line 2\u001b[0m\n\u001b[0;32m      1\u001b[0m a\u001b[38;5;241m=\u001b[39m\u001b[38;5;124m\"\u001b[39m\u001b[38;5;124m12xyz\u001b[39m\u001b[38;5;124m\"\u001b[39m\n\u001b[1;32m----> 2\u001b[0m b\u001b[38;5;241m=\u001b[39m\u001b[38;5;28mint\u001b[39m(a,\u001b[38;5;241m16\u001b[39m)\n\u001b[0;32m      3\u001b[0m \u001b[38;5;28mprint\u001b[39m(b)\n",
      "\u001b[1;31mValueError\u001b[0m: invalid literal for int() with base 16: '12xyz'"
     ]
    }
   ],
   "source": [
    "a=\"12xyz\"\n",
    "b=int(a,16)\n",
    "print(b)"
   ]
  },
  {
   "cell_type": "code",
   "execution_count": 36,
   "id": "2a6e5570-d024-4487-8024-775f009eaa71",
   "metadata": {},
   "outputs": [
    {
     "name": "stdout",
     "output_type": "stream",
     "text": [
      "1816955\n"
     ]
    }
   ],
   "source": [
    "a=\"12xyz\"\n",
    "b=int(a,36)\n",
    "print(b)"
   ]
  },
  {
   "cell_type": "code",
   "execution_count": 39,
   "id": "f7eb122f-8706-4767-bc73-1db3030f580b",
   "metadata": {},
   "outputs": [
    {
     "name": "stdout",
     "output_type": "stream",
     "text": [
      "21692411\n"
     ]
    }
   ],
   "source": [
    "print((35*36**0)+(34*36**1)+(33*36**2)+(32*36**3)+(12*36**4))"
   ]
  },
  {
   "cell_type": "code",
   "execution_count": 1,
   "id": "daa6bdd2-efe3-4e86-9f65-2d3326c5588d",
   "metadata": {},
   "outputs": [
    {
     "data": {
      "text/plain": [
       "97"
      ]
     },
     "execution_count": 1,
     "metadata": {},
     "output_type": "execute_result"
    }
   ],
   "source": [
    "ord(\"a\")"
   ]
  },
  {
   "cell_type": "code",
   "execution_count": 2,
   "id": "267fbf79-6cbd-45fc-95fe-e749a59d08ba",
   "metadata": {},
   "outputs": [
    {
     "data": {
      "text/plain": [
       "'A'"
      ]
     },
     "execution_count": 2,
     "metadata": {},
     "output_type": "execute_result"
    }
   ],
   "source": [
    "chr(ord(\"a\")-32)"
   ]
  },
  {
   "cell_type": "code",
   "execution_count": 3,
   "id": "700b236c-b596-4ed4-81dc-8535bc583c73",
   "metadata": {},
   "outputs": [
    {
     "data": {
      "text/plain": [
       "'B'"
      ]
     },
     "execution_count": 3,
     "metadata": {},
     "output_type": "execute_result"
    }
   ],
   "source": [
    "chr(ord(\"b\")-32)"
   ]
  },
  {
   "cell_type": "code",
   "execution_count": 4,
   "id": "39d430b0-2a61-46fa-82eb-d91776f4f20b",
   "metadata": {},
   "outputs": [
    {
     "data": {
      "text/plain": [
       "'\"'"
      ]
     },
     "execution_count": 4,
     "metadata": {},
     "output_type": "execute_result"
    }
   ],
   "source": [
    "chr(ord(\"B\")-32)"
   ]
  },
  {
   "cell_type": "code",
   "execution_count": null,
   "id": "3b608b3f-26f9-4a03-9e3c-71df26050ed2",
   "metadata": {},
   "outputs": [],
   "source": []
  }
 ],
 "metadata": {
  "kernelspec": {
   "display_name": "Python 3 (ipykernel)",
   "language": "python",
   "name": "python3"
  },
  "language_info": {
   "codemirror_mode": {
    "name": "ipython",
    "version": 3
   },
   "file_extension": ".py",
   "mimetype": "text/x-python",
   "name": "python",
   "nbconvert_exporter": "python",
   "pygments_lexer": "ipython3",
   "version": "3.12.4"
  }
 },
 "nbformat": 4,
 "nbformat_minor": 5
}
