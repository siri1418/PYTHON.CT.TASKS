{
 "cells": [
  {
   "cell_type": "code",
   "execution_count": 1,
   "id": "0f4ad32d-e916-4739-a7b5-578b367d2d32",
   "metadata": {},
   "outputs": [
    {
     "name": "stdout",
     "output_type": "stream",
     "text": [
      "3000\n"
     ]
    }
   ],
   "source": [
    "a=1000\n",
    "b=2000\n",
    "print(a+b)"
   ]
  },
  {
   "cell_type": "code",
   "execution_count": 2,
   "id": "fd7f70df-f48a-4e01-9e49-55e7f504e8b0",
   "metadata": {},
   "outputs": [
    {
     "name": "stdin",
     "output_type": "stream",
     "text": [
      "enter a value 1000\n",
      "enter b value 2000\n"
     ]
    },
    {
     "name": "stdout",
     "output_type": "stream",
     "text": [
      "10002000\n"
     ]
    }
   ],
   "source": [
    "a=input(\"enter a value\")\n",
    "b=input(\"enter b value\")\n",
    "print(a+b)"
   ]
  },
  {
   "cell_type": "code",
   "execution_count": 3,
   "id": "f7ca299a-e3f9-4394-939b-da6746d46541",
   "metadata": {},
   "outputs": [
    {
     "name": "stdout",
     "output_type": "stream",
     "text": [
      "[1,2,3,4] <class 'str'>\n",
      "(1,2,3,4) <class 'str'>\n",
      "{1,2,3,4}\n",
      "{1,2,3,4} None\n"
     ]
    }
   ],
   "source": [
    "a=\"[1,2,3,4]\"\n",
    "print(a, type(a))\n",
    "b=\"(1,2,3,4)\"\n",
    "print(b,type(b))\n",
    "c=\"{1,2,3,4}\"\n",
    "print(c, print(c))"
   ]
  },
  {
   "cell_type": "code",
   "execution_count": 4,
   "id": "d557ddc5-4112-42a4-be47-b80dd3b774e5",
   "metadata": {},
   "outputs": [
    {
     "name": "stdin",
     "output_type": "stream",
     "text": [
      "enter a value 10\n",
      "enter b value 20\n"
     ]
    },
    {
     "name": "stdout",
     "output_type": "stream",
     "text": [
      "1020 <class 'str'>\n"
     ]
    }
   ],
   "source": [
    "a=input(\"enter a value\")\n",
    "b=input(\"enter b value\")\n",
    "print(a+b, type(a))"
   ]
  },
  {
   "cell_type": "code",
   "execution_count": null,
   "id": "db35dc82-5590-4fb9-a13b-f0559b659da6",
   "metadata": {},
   "outputs": [],
   "source": []
  }
 ],
 "metadata": {
  "kernelspec": {
   "display_name": "Python 3 (ipykernel)",
   "language": "python",
   "name": "python3"
  },
  "language_info": {
   "codemirror_mode": {
    "name": "ipython",
    "version": 3
   },
   "file_extension": ".py",
   "mimetype": "text/x-python",
   "name": "python",
   "nbconvert_exporter": "python",
   "pygments_lexer": "ipython3",
   "version": "3.12.4"
  }
 },
 "nbformat": 4,
 "nbformat_minor": 5
}
