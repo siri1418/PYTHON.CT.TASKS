def add(x,y):
    print(f"x={x},y={y}")
    z=x+y
    print("z",z)
def sub(a,b):
    res=a-b
    print(res)
print("HELLO")
add(1,2)
print("HI")
add(10,20)



def add(x,y):
    print(x+y)
def sub(a,b):
    print(a-b)
def mul(p,q):
    print(p*q)
def div(x,y):
    print(x/y) 

add(10,20)
sub(10,20)
mul(10,20)
div(10,20)
    
    
    


def add(a,b,c,d):
    print(f"a-{a},b-{b},c-{c},d-{d}")
    print(a+b+c+d)
add(1,2,0,0)    


def add(a,b,c,d):
    print(f"a-{a},b-{b},c-{c},d-{d}")
    print(a+b+c+d)
add(1,2,*)    


def add(x,y):
    z=x+y
    print("result",z)
res = add(1,2)
print("res=",res)


def add(x,y):
    z=x+y
    print("result",z)
    return z
res = add(1,2)
print("res=",res)


def operation(x,y):
    z=x+y
    a=x-y
    c=x*y
    return a
res = operation(1,2)
print("Result=",res)


def operation(x,y):
    z=x+y
    a=x-y
    c=x*y
    return a,c,z
res = operation(1,2)
print("Result=",res)


def operation(x,y):
    print("Hello")
    z=x+y
    return z
    a=x-y
    return a
    print("Hyd")
    c=x*y
    return c    
res = operation(1,2)
print("Result=",res)


def fun(x):
    print("")
    
