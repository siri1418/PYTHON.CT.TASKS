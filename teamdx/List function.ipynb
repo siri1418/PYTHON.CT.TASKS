{
 "cells": [
  {
   "cell_type": "code",
   "execution_count": 6,
   "id": "ce2ed7b6-dbea-4ecf-a117-49dd49a1d993",
   "metadata": {},
   "outputs": [
    {
     "name": "stdout",
     "output_type": "stream",
     "text": [
      "[3000, 5000, 1000, 2000, 'python']\n",
      "[3000, 5000, 1000, 2000, 'python']\n"
     ]
    }
   ],
   "source": [
    "a=1000\n",
    "b=2000\n",
    "s=\"python\"\n",
    "l=[3000,4000,a,b,s]\n",
    "k=l\n",
    "k[1]=5000\n",
    "print(l)\n",
    "print(k)"
   ]
  },
  {
   "cell_type": "code",
   "execution_count": 1,
   "id": "6db9975e-1064-483e-9842-40cd0a59989b",
   "metadata": {},
   "outputs": [
    {
     "name": "stdout",
     "output_type": "stream",
     "text": [
      "k= None\n",
      "l= [1, 2, 3, 4, 5]\n"
     ]
    }
   ],
   "source": [
    "l=[1,2,3,4]\n",
    "k=l.append(5)\n",
    "print('k=',k)\n",
    "print('l=',l)"
   ]
  },
  {
   "cell_type": "code",
   "execution_count": 2,
   "id": "fdd4f199-2c85-4715-9236-867b7429bf40",
   "metadata": {},
   "outputs": [
    {
     "name": "stdout",
     "output_type": "stream",
     "text": [
      "s= abcd\n",
      "s1= Abcd\n"
     ]
    }
   ],
   "source": [
    "s='abcd'\n",
    "s1=s.replace('a','A')\n",
    "print('s=',s)\n",
    "print('s1=',s1)"
   ]
  },
  {
   "cell_type": "code",
   "execution_count": 3,
   "id": "85d465b2-d719-40eb-8103-febcee6420b3",
   "metadata": {},
   "outputs": [
    {
     "name": "stdout",
     "output_type": "stream",
     "text": [
      "['__add__', '__class__', '__class_getitem__', '__contains__', '__delattr__', '__delitem__', '__dir__', '__doc__', '__eq__', '__format__', '__ge__', '__getattribute__', '__getitem__', '__getstate__', '__gt__', '__hash__', '__iadd__', '__imul__', '__init__', '__init_subclass__', '__iter__', '__le__', '__len__', '__lt__', '__mul__', '__ne__', '__new__', '__reduce__', '__reduce_ex__', '__repr__', '__reversed__', '__rmul__', '__setattr__', '__setitem__', '__sizeof__', '__str__', '__subclasshook__', 'append', 'clear', 'copy', 'count', 'extend', 'index', 'insert', 'pop', 'remove', 'reverse', 'sort']\n"
     ]
    }
   ],
   "source": [
    "print(dir(l))"
   ]
  },
  {
   "cell_type": "code",
   "execution_count": 4,
   "id": "2c5b05b3-d10a-42ff-9d36-6998c3e14c70",
   "metadata": {},
   "outputs": [
    {
     "name": "stdout",
     "output_type": "stream",
     "text": [
      "k= None\n",
      "l= ['a', 'c', 'd']\n"
     ]
    }
   ],
   "source": [
    "l=[\"a\",\"b\",\"c\",\"d\"]\n",
    "k=l.remove(\"b\")\n",
    "print('k=',k)\n",
    "print('l=',l)"
   ]
  },
  {
   "cell_type": "code",
   "execution_count": 6,
   "id": "fe6a05ef-5c4d-4ddd-979d-f5e3f17190e8",
   "metadata": {},
   "outputs": [
    {
     "name": "stdout",
     "output_type": "stream",
     "text": [
      "k= c\n",
      "l= ['a', 'b', 'd']\n"
     ]
    }
   ],
   "source": [
    "l=[\"a\",\"b\",\"c\",\"d\"]\n",
    "k=l.pop(2)\n",
    "print('k=',k)\n",
    "print('l=',l)"
   ]
  },
  {
   "cell_type": "code",
   "execution_count": 7,
   "id": "f1200973-52fd-4e8b-bc55-c35db9f21469",
   "metadata": {},
   "outputs": [
    {
     "name": "stdout",
     "output_type": "stream",
     "text": [
      "['a', 'b', 'c', 'd', 'pyt']\n"
     ]
    }
   ],
   "source": [
    "l=[\"a\",\"b\",\"c\",\"d\"]\n",
    "k=l.append(\"pyt\")\n",
    "print(l)"
   ]
  },
  {
   "cell_type": "code",
   "execution_count": 9,
   "id": "0bdf98e1-a049-4602-9e0e-0e53ed4a09d5",
   "metadata": {},
   "outputs": [
    {
     "name": "stdout",
     "output_type": "stream",
     "text": [
      "['a', 'b', 'c', 'd', [100, 200, 300]]\n"
     ]
    }
   ],
   "source": [
    "l=[\"a\",\"b\",\"c\",\"d\"]\n",
    "k=l.append([100,200,300])\n",
    "print(l)"
   ]
  },
  {
   "cell_type": "code",
   "execution_count": 10,
   "id": "6a1d9e97-57c5-4b95-800d-8c9d0c6dce66",
   "metadata": {},
   "outputs": [
    {
     "name": "stdout",
     "output_type": "stream",
     "text": [
      "['a', 'b', 'c', 'd', 100, 200, 300]\n"
     ]
    }
   ],
   "source": [
    "l=[\"a\",\"b\",\"c\",\"d\"]\n",
    "k=l.extend([100,200,300])\n",
    "print(l)"
   ]
  },
  {
   "cell_type": "code",
   "execution_count": 11,
   "id": "b885c581-f2fd-45fb-b8ea-32564e96bd7b",
   "metadata": {},
   "outputs": [
    {
     "name": "stdout",
     "output_type": "stream",
     "text": [
      "['a', 'b', 'c', 'd', 'name', 'age']\n"
     ]
    }
   ],
   "source": [
    "l=[\"a\",\"b\",\"c\",\"d\"]\n",
    "l.extend({\"name\":\"jav\",\"age\":8})\n",
    "print(l)"
   ]
  },
  {
   "cell_type": "code",
   "execution_count": 12,
   "id": "e96be8f5-27c2-4477-83a7-f385d2e149cf",
   "metadata": {},
   "outputs": [
    {
     "ename": "SyntaxError",
     "evalue": "invalid decimal literal (1277351282.py, line 4)",
     "output_type": "error",
     "traceback": [
      "\u001b[1;36m  Cell \u001b[1;32mIn[12], line 4\u001b[1;36m\u001b[0m\n\u001b[1;33m    1.extend(1000)\u001b[0m\n\u001b[1;37m     ^\u001b[0m\n\u001b[1;31mSyntaxError\u001b[0m\u001b[1;31m:\u001b[0m invalid decimal literal\n"
     ]
    }
   ],
   "source": [
    "l=[\"a\",\"b\",\"c\",\"d\"]\n",
    "l.append(10)\n",
    "print(l)\n",
    "1.extend(1000)\n",
    "print(l)"
   ]
  },
  {
   "cell_type": "code",
   "execution_count": 1,
   "id": "fb11b1ef-253b-424e-8c42-b195fa5a1d67",
   "metadata": {},
   "outputs": [
    {
     "ename": "SyntaxError",
     "evalue": "closing parenthesis ')' does not match opening parenthesis '[' (2262410142.py, line 1)",
     "output_type": "error",
     "traceback": [
      "\u001b[1;36m  Cell \u001b[1;32mIn[1], line 1\u001b[1;36m\u001b[0m\n\u001b[1;33m    l=[\"1\",\"rajess\"),(2,\"Ameeel\"),(4,\"sai\"),(3,\"Ameel\")]\u001b[0m\n\u001b[1;37m                   ^\u001b[0m\n\u001b[1;31mSyntaxError\u001b[0m\u001b[1;31m:\u001b[0m closing parenthesis ')' does not match opening parenthesis '['\n"
     ]
    }
   ],
   "source": [
    "l=[\"1\",\"rajess\"),(2,\"Ameeel\"),(4,\"sai\"),(3,\"Ameel\")]\n",
    "def conv(x):\n",
    "    returnX[x]\n",
    "1.(sort(key=conv,reverse=True)\n",
    "   print(1)\n",
    "   \n",
    "   \n"
   ]
  },
  {
   "cell_type": "code",
   "execution_count": 2,
   "id": "54e51dae-dea8-4a0e-ae69-247d22afa0b0",
   "metadata": {},
   "outputs": [
    {
     "name": "stdout",
     "output_type": "stream",
     "text": [
      "[1, 2, 4, 3, 3, 4, 5, 6, 7, 8]\n"
     ]
    }
   ],
   "source": [
    "l=[1,2,3,4,3,3,4,5,6,7,8]\n",
    "l.remove(3)\n",
    "print(l)"
   ]
  },
  {
   "cell_type": "code",
   "execution_count": 4,
   "id": "84e91cfd-6f00-410a-a3de-bf4b2ea40081",
   "metadata": {},
   "outputs": [
    {
     "name": "stdout",
     "output_type": "stream",
     "text": [
      "[1, 2, 4, 3, 3, 4, 5, 6, 7, 8]\n"
     ]
    }
   ],
   "source": [
    "l=[1,2,3,4,3,3,4,5,6,7,8]\n",
    "def conv(x):\n",
    "    return x[3]\n",
    "l.remove(3)\n",
    "print(l)"
   ]
  },
  {
   "cell_type": "code",
   "execution_count": 5,
   "id": "a0cfd16a-5e70-4ceb-977b-1564c3bb3bcb",
   "metadata": {},
   "outputs": [
    {
     "name": "stdout",
     "output_type": "stream",
     "text": [
      "[1, 2, 4, 4, 5, 6, 7, 8]\n"
     ]
    }
   ],
   "source": [
    "l = [1, 2, 3, 4, 3, 3, 4, 5, 6, 7, 8]\n",
    "l = [x for x in l if x != 3]\n",
    "print(l)\n"
   ]
  },
  {
   "cell_type": "code",
   "execution_count": 11,
   "id": "97d6e48a-6384-4e5a-a8d0-b1c3dfa0953f",
   "metadata": {},
   "outputs": [
    {
     "name": "stdout",
     "output_type": "stream",
     "text": [
      "[1, 2, 4, 4, 5, 6, 7, 8]\n"
     ]
    }
   ],
   "source": [
    "l = [1, 2, 3, 4, 3, 3, 4, 5, 6, 7, 8]\n",
    "for i in l[:] :\n",
    "    if i == 3:\n",
    "       l.remove(3)\n",
    "print(l)    "
   ]
  },
  {
   "cell_type": "code",
   "execution_count": 1,
   "id": "a342f12e-f83b-484a-a37a-93934e97def3",
   "metadata": {},
   "outputs": [
    {
     "name": "stdout",
     "output_type": "stream",
     "text": [
      "1652366329408 [1000, 2000, 3000, [4000, 5000, 6000], 7000, 8000, 'Python', (100, 200, 300)]\n",
      "1652366329408 [1000, 2000, 3000, [4000, 5000, 6000], 7000, 8000, 'Python', (100, 200, 300)]\n",
      "1652366760768 [1000, 2000, 3000, [4000, 5000, 6000], 7000, 8000, 'Python', (100, 200, 300)]\n",
      "1652366276864 [1000, 2000, 3000, [4000, 5000, 6000], 7000, 8000, 'Python', (100, 200, 300)]\n",
      "1652366762048 [1000, 2000, 3000, [4000, 5000, 6000], 7000, 8000, 'Python', (100, 200, 300)]\n",
      "1652366584576 (100, 200, 300)\n",
      "1652366584576 (100, 200, 300)\n"
     ]
    }
   ],
   "source": [
    "from copy import deepcopy\n",
    "k = [4000, 5000, 6000]\n",
    "l = [1000, 2000, 3000, k, 7000, 8000 , \"Python\", (100, 200, 300)]\n",
    "p = l\n",
    "m = l.copy()\n",
    "n = l[::]\n",
    "q = deepcopy(l)\n",
    "print(id(l), l)\n",
    "print(id(p), p)\n",
    "print(id(m), m)\n",
    "print(id(n), n)\n",
    "print(id(q), q)\n",
    "print(id(q[-1]), q[-1])\n",
    "print(id(m[-1]), m[-1])"
   ]
  },
  {
   "cell_type": "code",
   "execution_count": 2,
   "id": "5570bbd2-2a10-4574-856f-eb52d36597e2",
   "metadata": {},
   "outputs": [
    {
     "name": "stdout",
     "output_type": "stream",
     "text": [
      "1= 1\n",
      "m= [10, 2000, 3000, [101, 5000, 6000], 7000, 8000, 'Python', (100, 200, 300)]\n",
      "n= [1000, 2000, 3000, [101, 5000, 6000], 7000, 8000, 'Python', (100, 200, 300)]\n",
      "p= [1000, 2000, 3000, [101, 5000, 6000], 7000, 8000, 'Python', (100, 200, 300)]\n",
      "q= [1000, 2000, 3000, [4000, 5000, 6000], 7000, 8000, 'Python', (100, 200, 300)]\n"
     ]
    }
   ],
   "source": [
    "from copy import deepcopy\n",
    "k = [4000, 5000, 6000]\n",
    "l = [1000, 2000, 3000, k, 7000, 8000 , \"Python\", (100, 200, 300)]\n",
    "p = l\n",
    "m = l.copy()\n",
    "n = l[::]\n",
    "q = deepcopy(l)\n",
    "m[0]=10\n",
    "k[0]=101\n",
    "print(\"1=\",1)\n",
    "print(\"m=\",m)\n",
    "print(\"n=\",n)\n",
    "print(\"p=\",p)\n",
    "print(\"q=\",q)"
   ]
  },
  {
   "cell_type": "code",
   "execution_count": 5,
   "id": "8e03933d-917e-4e39-8a18-c3b1c7e0aacd",
   "metadata": {},
   "outputs": [
    {
     "name": "stdout",
     "output_type": "stream",
     "text": [
      "1652380477776\n",
      "1652380477776\n",
      "1= 1\n",
      "m= [10, [101, 5000], 7000, 'Python', (100, 200, 300)]\n",
      "n= [1000, [101, 5000], 7000, 'Python', (100, 200, 300)]\n",
      "p= [1000, [101, 5000], 7000, 'Python', (100, 200, 300)]\n",
      "q= [1000, [4000, 5000], 7000, 'Python', (100, 200, 300)]\n"
     ]
    }
   ],
   "source": [
    "from copy import deepcopy\n",
    "k = [4000, 5000,]\n",
    "l = [1000, k, 7000, \"Python\", (100, 200, 300)]\n",
    "p = l\n",
    "m = l.copy()\n",
    "n = l[::]\n",
    "q = deepcopy(l)\n",
    "print(id(k[0]))\n",
    "print(id(q[1][0]))\n",
    "m[0]=10\n",
    "k[0]=101\n",
    "print(\"1=\",1)\n",
    "print(\"m=\",m)\n",
    "print(\"n=\",n)\n",
    "print(\"p=\",p)\n",
    "print(\"q=\",q)\n"
   ]
  },
  {
   "cell_type": "code",
   "execution_count": null,
   "id": "94b2fd7f-dd8f-4f10-aec2-b9f1c2c70fcd",
   "metadata": {},
   "outputs": [],
   "source": []
  }
 ],
 "metadata": {
  "kernelspec": {
   "display_name": "Python 3 (ipykernel)",
   "language": "python",
   "name": "python3"
  },
  "language_info": {
   "codemirror_mode": {
    "name": "ipython",
    "version": 3
   },
   "file_extension": ".py",
   "mimetype": "text/x-python",
   "name": "python",
   "nbconvert_exporter": "python",
   "pygments_lexer": "ipython3",
   "version": "3.12.4"
  }
 },
 "nbformat": 4,
 "nbformat_minor": 5
}
