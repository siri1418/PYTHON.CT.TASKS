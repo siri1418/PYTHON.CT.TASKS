{
 "cells": [
  {
   "cell_type": "markdown",
   "id": "416e9f71-9a17-4f34-985b-05ca7ea5745f",
   "metadata": {},
   "source": [
    "## Assignments on variables expressions and statements"
   ]
  },
  {
   "cell_type": "markdown",
   "id": "83d3511a-5de8-411f-ad46-4361f2dc65be",
   "metadata": {},
   "source": [
    "### 1. Take the input from the user for(Total number of people,Number of seats for bus. Based on two inputs Decide how many number of buses required"
   ]
  },
  {
   "cell_type": "code",
   "execution_count": 1,
   "id": "8aadba9a-73c1-4e91-9a66-1062d3240986",
   "metadata": {},
   "outputs": [
    {
     "name": "stdin",
     "output_type": "stream",
     "text": [
      "number of people: 50\n",
      "number of seats: 4\n"
     ]
    },
    {
     "name": "stdout",
     "output_type": "stream",
     "text": [
      "Number of buses: 13\n"
     ]
    }
   ],
   "source": [
    "people = int(input(\"number of people:\"))\n",
    "\n",
    "seats = int(input(\"number of seats:\"))\n",
    "\n",
    "buses = (people+seats-1)//seats\n",
    "\n",
    "print(f\"Number of buses: {buses}\")\n",
    " "
   ]
  },
  {
   "cell_type": "markdown",
   "id": "b02047db-6ed7-45a6-af43-939791797cbf",
   "metadata": {},
   "source": [
    "### 2.take temperature from the user and convert foreign heat -> Celsius."
   ]
  },
  {
   "cell_type": "code",
   "execution_count": 2,
   "id": "4fadb452-b6a0-4d8a-b86c-4b591f58161d",
   "metadata": {},
   "outputs": [
    {
     "name": "stdin",
     "output_type": "stream",
     "text": [
      "Enter Fahrenheit Temp:  89\n"
     ]
    },
    {
     "name": "stdout",
     "output_type": "stream",
     "text": [
      "Enter the Celsius temp is 31\n"
     ]
    }
   ],
   "source": [
    "Fahrenheit = float(input(\"Enter Fahrenheit Temp: \"))\n",
    "\n",
    "Celsius = (Fahrenheit - 32) * 5/9\n",
    "\n",
    "print(f\"Enter the Celsius temp is {int(Celsius)}\")\n",
    "\n",
    " "
   ]
  },
  {
   "cell_type": "markdown",
   "id": "22850b37-1d8f-44f9-80e4-64629a4380f0",
   "metadata": {},
   "source": [
    "### 3.take temperature from the user and convert Celsius → foreign heat."
   ]
  },
  {
   "cell_type": "code",
   "execution_count": 3,
   "id": "9cbaf93e-d7ea-482d-b964-1be13b50d6a8",
   "metadata": {},
   "outputs": [
    {
     "name": "stdin",
     "output_type": "stream",
     "text": [
      "Enter Celsius Temp:  90\n"
     ]
    },
    {
     "name": "stdout",
     "output_type": "stream",
     "text": [
      "Enter the Fahrenheit temp is 194\n"
     ]
    }
   ],
   "source": [
    "Celsius = float(input(\"Enter Celsius Temp: \"))\n",
    "\n",
    "Fahrenheit = (Celsius * 9/5) + 32\n",
    "\n",
    "print(f\"Enter the Fahrenheit temp is {int(Fahrenheit)}\")\n",
    " "
   ]
  },
  {
   "cell_type": "markdown",
   "id": "70f6861e-1f37-4334-b788-53bfda936b84",
   "metadata": {},
   "source": [
    "### 5.Take the distance in km\n",
    "\n",
    "### Show that in cm, meters, in milli meters, cents, feets, yards"
   ]
  },
  {
   "cell_type": "code",
   "execution_count": 4,
   "id": "704e8d32-be79-4380-836d-aa5c2e018bcc",
   "metadata": {},
   "outputs": [
    {
     "name": "stdin",
     "output_type": "stream",
     "text": [
      "Enter no. of Kilometers:  4\n"
     ]
    },
    {
     "name": "stdout",
     "output_type": "stream",
     "text": [
      " Kilometers:  400000.00\n",
      " Kilometers:  4000.00\n",
      " Kilometers:  4000000.00\n",
      " Kilometers:  157480.40\n",
      " Kilometers:  13123.36\n",
      " Kilometers:  4374.44\n"
     ]
    }
   ],
   "source": [
    "Kilometers = float(input(\"Enter no. of Kilometers: \"))\n",
    "\n",
    "centimeters = Kilometers * 100000 \n",
    "\n",
    "meters = Kilometers * 1000 \n",
    "\n",
    "millimeters = Kilometers * 1000000\n",
    "\n",
    "cents = Kilometers * 39370.1\n",
    "\n",
    "feets = Kilometers * 3280.84\n",
    "\n",
    "yards = Kilometers * 1093.61\n",
    "\n",
    "print(f\" Kilometers: {centimeters: .2f}\")  \n",
    "\n",
    "print(f\" Kilometers: {meters: .2f}\")  \n",
    "\n",
    "print(f\" Kilometers: {millimeters: .2f}\")  \n",
    "\n",
    "print(f\" Kilometers: {cents: .2f}\")  \n",
    "\n",
    "print(f\" Kilometers: {feets: .2f}\")  \n",
    "\n",
    "print(f\" Kilometers: {yards: .2f}\")\n",
    " "
   ]
  },
  {
   "cell_type": "markdown",
   "id": "4291218a-d7ee-4255-acf9-1b8a5c736a99",
   "metadata": {},
   "source": [
    "### 6.Take the size of your hard disk in GB  Show that in MB, KB, TB, PB\n",
    "\n"
   ]
  },
  {
   "cell_type": "code",
   "execution_count": 5,
   "id": "814250c2-a8d4-4041-afe4-4c5698daad0a",
   "metadata": {},
   "outputs": [
    {
     "name": "stdin",
     "output_type": "stream",
     "text": [
      "Enter size in GB:-  1\n"
     ]
    },
    {
     "name": "stdout",
     "output_type": "stream",
     "text": [
      "The size in 1.0GB to MB is 1000.0MB\n",
      "The size in 1.0GB to KB is 1000000.0KB\n",
      "The size in 1.0GB to TB is 0.001TB\n",
      "The size in 1.0GB to PB is 1e-06PB\n"
     ]
    }
   ],
   "source": [
    "disk_size = float(input(\"Enter size in GB:- \"))\n",
    "print(f'The size in {disk_size}GB to MB is {disk_size*1000}MB')\n",
    "print(f'The size in {disk_size}GB to KB is {disk_size*1000000}KB')\n",
    "print(f'The size in {disk_size}GB to TB is {disk_size*0.001}TB')\n",
    "print(f'The size in {disk_size}GB to PB is {disk_size/1000000}PB')"
   ]
  },
  {
   "cell_type": "markdown",
   "id": "42364ebb-1f8a-4af2-a9b9-878a9027e77e",
   "metadata": {},
   "source": [
    "### 4.take four number from the user (variables name it as x1,x2,x3,x4)\n",
    "\n",
    "### Do the below operations\n",
    "\n",
    "### (x1+x2)**2, (x3+x4)**3\n",
    "\n",
    "### variance\n",
    "\n",
    "### standard deviation: sqrt(variance): User math module. Math.sqrt(variance)\n",
    "\n",
    "### Regression\n",
    "\n",
    "### y=mx+b\n",
    "\n",
    "### m=1.23\n",
    "\n",
    "### b=0.045\n",
    "\n",
    "### find out y\n",
    "\n",
    "### y=m*(x1+x2+x3+x4)+b\n",
    "\n",
    "### Find the average of four numbers\n",
    "\n",
    "### Find the sum of four numbers"
   ]
  },
  {
   "cell_type": "code",
   "execution_count": 6,
   "id": "69b8eae2-74a9-45f5-9bdb-c66354dbe82f",
   "metadata": {},
   "outputs": [
    {
     "name": "stdin",
     "output_type": "stream",
     "text": [
      " 1\n",
      " 2\n",
      " 3\n",
      " 4\n"
     ]
    },
    {
     "name": "stdout",
     "output_type": "stream",
     "text": [
      "9\n",
      "343\n",
      "1.25\n",
      "1.118033988749895\n",
      "12.345\n",
      "2.5\n",
      "10\n"
     ]
    }
   ],
   "source": [
    "import math\n",
    "x1 = int(input())\n",
    "x2 = int(input())\n",
    "x3 = int(input())\n",
    "x4 = int(input())\n",
    "res1 = (x1+x2)**2\n",
    "res2 = (x3+x4)**3\n",
    "mean = (x1+x2+x3+x4)/4\n",
    "varience = ((x1-mean)**2 + (x2-mean)**2 + (x3-mean)**2 + (x4-mean)**2)/4\n",
    "std_dev = math.sqrt(varience)\n",
    "y = 1.23*(x1+x2+x3+x4)+0.045\n",
    "avg = mean\n",
    "sum_of_four = x1+x2+x3+x4\n",
    "print(res1)\n",
    "print(res2)\n",
    "print(varience)\n",
    "print(std_dev)\n",
    "print(y)\n",
    "print(avg)\n",
    "print(sum_of_four)\n"
   ]
  },
  {
   "cell_type": "markdown",
   "id": "56928677-7fe9-4ab5-8ff5-ad1e80d6fb15",
   "metadata": {},
   "source": [
    "### 7. Take name, age, height from the user and print like below\n",
    "\n",
    "### The details of the person: Name:name of the person, Age:age of the person, Height:height of the person\n",
    "\n",
    "### Note: make sure that no space between : and a value and should be space after “COMA”"
   ]
  },
  {
   "cell_type": "code",
   "execution_count": 7,
   "id": "e1076e00-d18d-4c9c-b111-8243ddd2c678",
   "metadata": {},
   "outputs": [
    {
     "name": "stdin",
     "output_type": "stream",
     "text": [
      " siri\n",
      " 26\n",
      " 4.3\n"
     ]
    },
    {
     "name": "stdout",
     "output_type": "stream",
     "text": [
      "The details of the person: Name:siri, age:26, height:4.3\n"
     ]
    }
   ],
   "source": [
    "name = input()\n",
    "age= input()\n",
    "height=input()\n",
    "print(f'The details of the person: Name:{name}, age:{age}, height:{height}')"
   ]
  },
  {
   "cell_type": "markdown",
   "id": "cdc1684f-2952-43ab-8c5f-729723fb5827",
   "metadata": {},
   "source": [
    "### 8. BMI calculation: take required parameters for BMI calculation from the user and calculate BMI of the person."
   ]
  },
  {
   "cell_type": "code",
   "execution_count": 8,
   "id": "f20eced4-d188-48f8-910c-c4020e58f6ab",
   "metadata": {},
   "outputs": [
    {
     "name": "stdin",
     "output_type": "stream",
     "text": [
      " 23\n",
      " 4\n"
     ]
    },
    {
     "name": "stdout",
     "output_type": "stream",
     "text": [
      "calculation of bmi:1.4375\n"
     ]
    }
   ],
   "source": [
    "weight = float(input())\n",
    "height = float(input())\n",
    "bmi = weight/(height*height)\n",
    "print(f'calculation of bmi:{bmi}')\n"
   ]
  },
  {
   "cell_type": "markdown",
   "id": "8ad497b3-a4cb-474e-b2e5-b949f8e3aed9",
   "metadata": {},
   "source": [
    "### 9. name=\"Jayaram\"\n",
    "\n",
    "### age=1.6\n",
    "\n",
    "### height=3.5356234\n",
    "\n",
    "### weight=10.343856783\n",
    "\n",
    "### By using above inputs print the output\n",
    "\n",
    "### Name:Jayaram, Age:1.6, Height:3.54, Weight:10.344\n",
    "\n",
    "### Note: Use format specifiers(%s, %d, %f)"
   ]
  },
  {
   "cell_type": "code",
   "execution_count": 9,
   "id": "8a124996-b5fe-4753-bc27-13c96ec3ca69",
   "metadata": {},
   "outputs": [
    {
     "name": "stdout",
     "output_type": "stream",
     "text": [
      "Name:Jayaram, Age:1.6 , Height:3.54, Weight:10.344\n"
     ]
    }
   ],
   "source": [
    "name = \"Jayaram\"\n",
    "age =  1.6\n",
    "height = 3.5356234\n",
    "weight = 10.343856783\n",
    "print(f'Name:%s, Age:%.1f , Height:%.2f, Weight:%.3f'%(name,age,height,weight))\n"
   ]
  },
  {
   "cell_type": "markdown",
   "id": "3817c904-6785-41e9-9a55-5654c691b3fa",
   "metadata": {},
   "source": [
    "### 10. Take three upper case letters from the user convert in to small case."
   ]
  },
  {
   "cell_type": "code",
   "execution_count": 10,
   "id": "7923d98d-5ab6-457a-a449-a4fec8b342de",
   "metadata": {},
   "outputs": [
    {
     "name": "stdout",
     "output_type": "stream",
     "text": [
      "['__add__', '__class__', '__contains__', '__delattr__', '__dir__', '__doc__', '__eq__', '__format__', '__ge__', '__getattribute__', '__getitem__', '__getnewargs__', '__getstate__', '__gt__', '__hash__', '__init__', '__init_subclass__', '__iter__', '__le__', '__len__', '__lt__', '__mod__', '__mul__', '__ne__', '__new__', '__reduce__', '__reduce_ex__', '__repr__', '__rmod__', '__rmul__', '__setattr__', '__sizeof__', '__str__', '__subclasshook__', 'capitalize', 'casefold', 'center', 'count', 'encode', 'endswith', 'expandtabs', 'find', 'format', 'format_map', 'index', 'isalnum', 'isalpha', 'isascii', 'isdecimal', 'isdigit', 'isidentifier', 'islower', 'isnumeric', 'isprintable', 'isspace', 'istitle', 'isupper', 'join', 'ljust', 'lower', 'lstrip', 'maketrans', 'partition', 'removeprefix', 'removesuffix', 'replace', 'rfind', 'rindex', 'rjust', 'rpartition', 'rsplit', 'rstrip', 'split', 'splitlines', 'startswith', 'strip', 'swapcase', 'title', 'translate', 'upper', 'zfill']\n",
      "abc\n"
     ]
    }
   ],
   "source": [
    "x=\"ABC\"\n",
    "#print(f'print small case'{})\n",
    "print(dir(x))\n",
    "p = x.lower()\n",
    "print(p)"
   ]
  },
  {
   "cell_type": "markdown",
   "id": "1491ed3c-9663-457a-a559-8a85459c31da",
   "metadata": {},
   "source": [
    "### 11. take base and exponent value from the user and print like in mathematics:\n",
    "\n",
    "### example: base=2, exponent=3: 23\n",
    "\n",
    "### Use: 2\\u00b3"
   ]
  },
  {
   "cell_type": "code",
   "execution_count": 11,
   "id": "663e9c01-d0bc-422c-a3bf-4723408150fc",
   "metadata": {},
   "outputs": [
    {
     "name": "stdin",
     "output_type": "stream",
     "text": [
      "enter base value 2\n",
      "enter exponent value 5\n"
     ]
    },
    {
     "name": "stdout",
     "output_type": "stream",
     "text": [
      "8³\n"
     ]
    }
   ],
   "source": [
    "base = input('enter base value')\n",
    "exponent = input('enter exponent value')\n",
    "print(f'8\\u00b3')"
   ]
  },
  {
   "cell_type": "code",
   "execution_count": null,
   "id": "fd395128-ab47-4f5f-bc01-d140c3598135",
   "metadata": {},
   "outputs": [],
   "source": [
    "base = input('Enter base value: ')\n",
    "exponent = input('Enter exponent value: ')\n",
    "\n",
    "\n",
    "# Converting exponent to superscript if possible\n",
    "# Using a dictionary for common exponents\n",
    "superscripts = {\n",
    "    '0': '\\u2070', '1': '\\u00B9', '2': '\\u00B2', '3': '\\u00B3',\n",
    "    '4': '\\u2074', '5': '\\u2075', '6': '\\u2076', '7': '\\u2077',\n",
    "    '8': '\\u2078', '9': '\\u2079'\n",
    "}\n",
    "\n",
    "def to_superscript(number):\n",
    "    return ''.join(superscripts.get(digit, '') for digit in str(number))\n",
    "\n",
    "# Print base and exponent with superscript\n",
    "print(f'{base}{to_superscript(exponent)}')\n"
   ]
  },
  {
   "cell_type": "markdown",
   "id": "c72f3d44-d2bb-4af9-bd18-3e93a0dd2cd4",
   "metadata": {},
   "source": [
    "### 12. Take some groceries cost prices and print total cost and average cost, what is the max cost, what is the minimum cost."
   ]
  },
  {
   "cell_type": "code",
   "execution_count": null,
   "id": "87687d00-457f-467e-ab6c-a55378e224d1",
   "metadata": {},
   "outputs": [],
   "source": [
    "sugar=input('enter the sugar value')\n",
    "fruits=input('enter the fruits value')\n",
    "oils=input('enter oil value')\n",
    "chocolates=input('enter chocolate value')\n",
    "total=sugar+fruits+oils+chocolates\n",
    "print(total)\n",
    "print(int(total)/4)\n",
    "print(max(sugar,fruits,oils,chocolate))\n",
    "print(min(sugar,fruits,oils,chocolate))"
   ]
  },
  {
   "cell_type": "markdown",
   "id": "5e6182ea-a896-4ab4-8b46-b227fd00158b",
   "metadata": {},
   "source": [
    "# Conditional statements"
   ]
  },
  {
   "cell_type": "markdown",
   "id": "0d743fd8-fbdb-4429-b531-14cb63a63681",
   "metadata": {},
   "source": [
    "### 13. Take the input from the user for(Total number of people, total number of buses, Number of seats for bus, adjust factor). Based on four inputs\n",
    "### Decide whether there is sufficient buses or not and give solution for how many extra buses required."
   ]
  },
  {
   "cell_type": "code",
   "execution_count": 5,
   "id": "f314eb0f-9d0a-44e0-9ec7-2ff9956305ba",
   "metadata": {},
   "outputs": [
    {
     "name": "stdin",
     "output_type": "stream",
     "text": [
      "number of people: 200\n",
      "number of seats: 20\n",
      "number of buses 4\n",
      "Enter the adjust factor 20\n"
     ]
    },
    {
     "name": "stdout",
     "output_type": "stream",
     "text": [
      "5.0\n",
      "Sufficient buses\n"
     ]
    }
   ],
   "source": [
    "people = int(input(\"number of people:\"))\n",
    "seats = int(input(\"number of seats:\"))\n",
    "buses = int(input(\"number of buses\"))\n",
    "factor = float(input(\"Enter the adjust factor\"))\n",
    "#seats_per_bus = seats//buses\n",
    "no_of_buses = (people)//(seats+factor)\n",
    "print(no_of_buses)\n",
    "if (people)%(seats+factor) != 0:\n",
    "    no_of_buses += 1\n",
    "    \n",
    "    if buses > no_of_buses:\n",
    "        print(f\"{no_of_buses} buses required but\")\n",
    "        print(f\"{buses-no_of_buses} extra buses are their\")\n",
    "    else:\n",
    "        print(\"No Sufficient buses\")\n",
    "        print(f\"{no_of_buses-buses} buses are required\")\n",
    "        \n",
    "else:\n",
    "    print(\"Sufficient buses\")\n",
    "\n",
    "\n",
    "\n",
    "\n"
   ]
  },
  {
   "cell_type": "markdown",
   "id": "43674df2-8e49-4f4c-9bf4-b0edd881ba15",
   "metadata": {},
   "source": [
    "### 14.Take number from the user decide whether it is even or odd.\n"
   ]
  },
  {
   "cell_type": "code",
   "execution_count": 15,
   "id": "5f997087-caa4-4c39-8300-c27177330c3a",
   "metadata": {},
   "outputs": [
    {
     "name": "stdin",
     "output_type": "stream",
     "text": [
      "Enter a value 66\n"
     ]
    },
    {
     "name": "stdout",
     "output_type": "stream",
     "text": [
      "EVEN\n"
     ]
    }
   ],
   "source": [
    "value = int(input(\"Enter a value\"))\n",
    "if value%2 == 0:\n",
    "    print(\"EVEN\")\n",
    "else:\n",
    "    print(\"ODD\")"
   ]
  },
  {
   "cell_type": "markdown",
   "id": "a61e5f53-2f9b-4d6f-8899-614a48f9a480",
   "metadata": {},
   "source": [
    "### 15.take number from the user decide whether it is positive number or negative number"
   ]
  },
  {
   "cell_type": "code",
   "execution_count": 7,
   "id": "69b41f6c-87d6-405c-b495-aae9be3ea00e",
   "metadata": {},
   "outputs": [
    {
     "name": "stdin",
     "output_type": "stream",
     "text": [
      " -2\n"
     ]
    },
    {
     "name": "stdout",
     "output_type": "stream",
     "text": [
      "Negative number\n"
     ]
    }
   ],
   "source": [
    "num = input()\n",
    "if num[0] == \"-\":\n",
    "    print(\"Negative number\")\n",
    "else:\n",
    "    print(\"Positive number\")"
   ]
  },
  {
   "cell_type": "markdown",
   "id": "10c4611f-42da-41b9-8983-0fc651f50fb9",
   "metadata": {},
   "source": [
    "### 16.take a string from the user print the length. if the user not given anything then show an error message"
   ]
  },
  {
   "cell_type": "code",
   "execution_count": 14,
   "id": "bb28c8a2-6c0a-4aa0-96df-330a39b9bc59",
   "metadata": {},
   "outputs": [
    {
     "ename": "SyntaxError",
     "evalue": "expected ':' (2733888917.py, line 3)",
     "output_type": "error",
     "traceback": [
      "\u001b[1;36m  Cell \u001b[1;32mIn[14], line 3\u001b[1;36m\u001b[0m\n\u001b[1;33m    if len_string\u001b[0m\n\u001b[1;37m                 ^\u001b[0m\n\u001b[1;31mSyntaxError\u001b[0m\u001b[1;31m:\u001b[0m expected ':'\n"
     ]
    }
   ],
   "source": [
    "string = input(\"Enter a word\")\n",
    "len_string = len(string)\n",
    "if len_string\n",
    "   print(len_string) \n",
    "else:\"Error\"\n",
    "    "
   ]
  },
  {
   "cell_type": "code",
   "execution_count": 1,
   "id": "4c7440ce-d547-4851-9ba6-2f6025d29ab5",
   "metadata": {},
   "outputs": [
    {
     "name": "stdin",
     "output_type": "stream",
     "text": [
      "Enter a word:  \n"
     ]
    },
    {
     "name": "stdout",
     "output_type": "stream",
     "text": [
      "Error\n"
     ]
    }
   ],
   "source": [
    "string = input(\"Enter a word: \")\n",
    "len_string = len(string)\n",
    "\n",
    "if len_string > 0:  # Check if the length of the string is greater than 0\n",
    "    print(len_string)\n",
    "else:\n",
    "    print(\"Error\")  # Print \"Error\" if the string is empty"
   ]
  },
  {
   "cell_type": "markdown",
   "id": "b21e2363-0301-4b3b-9899-324fb1e523b4",
   "metadata": {},
   "source": [
    "### 17.code to perform mathematical operations. take two numbers from the user and show the below menu\n",
    "\n",
    "### 1. add,\n",
    "\n",
    "### 2. sub,\n",
    "\n",
    "### 3. mul,\n",
    "\n",
    "### 4.div,\n",
    "\n",
    "### 5.quit\n",
    "\n",
    "### Enter an option:\n",
    "\n",
    "### \n",
    "### based on the option need to perform an operations"
   ]
  },
  {
   "cell_type": "code",
   "execution_count": 1,
   "id": "a93e879e-9ca9-4087-8dc8-500123997743",
   "metadata": {},
   "outputs": [
    {
     "name": "stdin",
     "output_type": "stream",
     "text": [
      "Enter 'a' value:  1\n",
      "Enter 'b' value:  5\n"
     ]
    },
    {
     "name": "stdout",
     "output_type": "stream",
     "text": [
      "1.add\n",
      "2.sub\n",
      "3.mul\n",
      "4.division\n",
      "5.quit\n"
     ]
    },
    {
     "name": "stdin",
     "output_type": "stream",
     "text": [
      "Enter an option: 1\n"
     ]
    },
    {
     "name": "stdout",
     "output_type": "stream",
     "text": [
      "6\n",
      "Thank you\n"
     ]
    }
   ],
   "source": [
    "a = int(input(\"Enter 'a' value: \"))\n",
    "\n",
    "b = int(input(\"Enter 'b' value: \"))\n",
    "\n",
    "print( \"1.add\\n2.sub\\n3.mul\\n4.division\\n5.quit\")\n",
    "\n",
    "opt = input(\"Enter an option:\")\n",
    "\n",
    "if opt==\"1\": \n",
    "\n",
    "    print(a+b)\n",
    "\n",
    "elif opt==\"2\":  \n",
    "\n",
    "    print(a-b)\n",
    "\n",
    "elif opt==\"3\": \n",
    "\n",
    "    print(a*b)\n",
    "\n",
    "elif opt==\"4\":  \n",
    "\n",
    "    print(a/b)\n",
    "\n",
    "elif opt==\"5\":  \n",
    "\n",
    "    print(\"quit\")\n",
    "\n",
    "else:\n",
    "\n",
    "    print(\"enter valid option\")\n",
    "\n",
    "print(\"Thank you\")\n",
    " "
   ]
  },
  {
   "cell_type": "markdown",
   "id": "0dffbdd6-3aea-440e-b9a0-d7541532427b",
   "metadata": {},
   "source": [
    "### 18. show the menu:\n",
    "\n",
    "### 1. kids\n",
    "\n",
    "### 2. Men's\n",
    "\n",
    "### 3. Women's\n",
    "\n",
    "### Show the corresponding message based on the selection.\n",
    "\n",
    "### Option:1: you are a kid\n",
    "\n",
    "### 2: you are a gentlemen\n",
    "\n",
    "### 3: you are a good women\n",
    "\n",
    "### Mention error message if the option value >3."
   ]
  },
  {
   "cell_type": "code",
   "execution_count": 2,
   "id": "ffdb7bb2-6101-45a8-a1c6-396d78eb23f9",
   "metadata": {},
   "outputs": [
    {
     "name": "stdout",
     "output_type": "stream",
     "text": [
      "Menu:\n",
      "1. Kids\n",
      "2. Men's\n",
      "3. Women's\n"
     ]
    },
    {
     "name": "stdin",
     "output_type": "stream",
     "text": [
      "Select an option (1, 2, or 3):  1\n"
     ]
    },
    {
     "name": "stdout",
     "output_type": "stream",
     "text": [
      "You are a kid.\n",
      "Thank you for shopping\n"
     ]
    }
   ],
   "source": [
    "print(\"Menu:\\n1. Kids\\n2. Men's\\n3. Women's\")\n",
    "\n",
    "option = int(input(\"Select an option (1, 2, or 3): \"))\n",
    "\n",
    "if option == 1:\n",
    "\n",
    "    print(\"You are a kid.\")\n",
    "\n",
    "elif option == 2:\n",
    "\n",
    "    print(\"You are a gentleman.\")\n",
    "\n",
    "elif option == 3:\n",
    "\n",
    "    print(\"You are a good woman.\")\n",
    "\n",
    "else:\n",
    "\n",
    "    print(\"Invalid option. Please select 1, 2, or 3.\")\n",
    "\n",
    "print(\"Thank you for shopping\")\n",
    " "
   ]
  },
  {
   "cell_type": "markdown",
   "id": "a5931d67-7f8e-4212-961d-b936e740511a",
   "metadata": {},
   "source": [
    "### 19. write a program to chcek given substring is there in actual string or not?\n",
    "\n",
    "### example: act=\"python is a pure object oriented programing language\"\n",
    "\n",
    "### check whether “pure” is there in act or not.\n",
    "\n",
    "### Note: Use in operator"
   ]
  },
  {
   "cell_type": "code",
   "execution_count": null,
   "id": "b99db206-6304-40de-b6d6-9cbaa18caed2",
   "metadata": {},
   "outputs": [],
   "source": [
    "print(\"Operating Systems:\\n\\t1.Windows\\n\\t2.Android\\n\\t3.MAC\")\n",
    " \n",
    "option = input(\"Enter the option(1-3):\")\n",
    "# Checks if option is 1\n",
    "if option == '1':\n",
    "    print(\"Go to first floor and buy windows laptop or mobile\")\n",
    "# Checks if option is 2 \n",
    "elif option == '2':\n",
    "    print(\"Go to second floor and buy android mobiles\")\n",
    "# Checks if option is 3\n",
    "elif option == '3':\n",
    "    print(\"Go to third floor and buy mac laptop or iphones\")\n",
    "else:\n",
    "    print(\"There is only three floors, please select 1 or 2 or 3\")"
   ]
  },
  {
   "cell_type": "markdown",
   "id": "56377432-9a1c-4009-98ee-b18d1f6d1b54",
   "metadata": {},
   "source": [
    "### 20. Take three numbers from the user and decide which is big"
   ]
  },
  {
   "cell_type": "code",
   "execution_count": 3,
   "id": "8d69f0ee-9f26-4443-b4b7-23a4c6df2364",
   "metadata": {},
   "outputs": [
    {
     "name": "stdin",
     "output_type": "stream",
     "text": [
      "Enter the first number: 10\n",
      "Enter the second number: 20\n",
      "Enter the third number: 30\n"
     ]
    },
    {
     "name": "stdout",
     "output_type": "stream",
     "text": [
      "30 is bigger\n"
     ]
    }
   ],
   "source": [
    "num1 = input(\"Enter the first number:\")\n",
    "\n",
    "num2 = input(\"Enter the second number:\")\n",
    "\n",
    "num3 = input(\"Enter the third number:\")\n",
    "\n",
    "if float(num1)>float(num2) and float(num1)>float(num3):\n",
    "\n",
    "    print(f\"{num1} is bigger\")\n",
    "\n",
    "elif float(num2)>float(num1) and float(num2)>float(num3):\n",
    "\n",
    "    print(f\"{num2} is bigger\")\n",
    "\n",
    "else:\n",
    "\n",
    "    print(f\"{num3} is bigger\")\n",
    " "
   ]
  },
  {
   "cell_type": "markdown",
   "id": "6ae5e794-e68d-45b3-a0e3-ccd0c4a7ce8f",
   "metadata": {},
   "source": [
    "### 21. Take age and gender from the user and decide whether he is eligible for marriage in India or not.\n",
    "\n",
    "### Age criteria: men age>24, women>21"
   ]
  },
  {
   "cell_type": "code",
   "execution_count": 4,
   "id": "3fe3fcf1-cef9-4157-ad28-0ff3df353caa",
   "metadata": {},
   "outputs": [
    {
     "name": "stdin",
     "output_type": "stream",
     "text": [
      "Enter the age: 24\n",
      "Enter the gender(male/female): 21\n"
     ]
    },
    {
     "name": "stdout",
     "output_type": "stream",
     "text": [
      "Invalid gender. Please enter male or female\n"
     ]
    }
   ],
   "source": [
    "age = input(\"Enter the age:\")\n",
    "\n",
    "gender = input(\"Enter the gender(male/female):\")\n",
    "\n",
    "# Check eligibility for marriage based on gender and age\n",
    "\n",
    "if gender == 'male':\n",
    "\n",
    "    if int(age)>24:\n",
    "\n",
    "      print(\"you are eligible for marriage in India\")\n",
    "\n",
    "    else:\n",
    "\n",
    "      print(\"You are not eligible for marriage in India\")\n",
    "\n",
    "elif gender == 'female':\n",
    "\n",
    "    if int(age)>21:\n",
    "\n",
    "        print(\"you are eligible for marriage in India\")\n",
    "\n",
    "    else:\n",
    "\n",
    "        print(\"You are not eligible for marriage in India\")\n",
    "\n",
    "else:\n",
    "\n",
    "    print(\"Invalid gender. Please enter male or female\")\n",
    " "
   ]
  },
  {
   "cell_type": "markdown",
   "id": "a0504480-4ed2-4f58-9a91-c8fd43e980eb",
   "metadata": {},
   "source": [
    "### 22. Take an age and gender from the user: and mention that what he/she can do in india.\n",
    "\n",
    "### \"\"\"\n",
    "\n",
    "### conditions\n",
    "\n",
    "### 1. Theatre: 5 for men 7 for women\n",
    "\n",
    "### 2. Voting system: 18 for men and women\n",
    "\n",
    "### 3. Marriage in india: 23 for men and for women >21\n",
    "\n",
    "### 4. For govt jobs: (min:18, max:32) for men and (min:18, max:34) for women\n",
    "\n",
    "### 5. For driving licence: (min:18, max:60) for men and women\n",
    "\n",
    "### Eligibility:\n",
    "\n",
    "### 1. theatre\n",
    "\n",
    "### 2. Voting system\n",
    "\n",
    "### 3. Marriage in india\n",
    "\n",
    "### 4. For govt obs\n",
    "\n",
    "### 5. For driving licence:\n",
    "\n",
    "### Enter an option:\n",
    "\n",
    "### Gender:\n",
    "\n",
    "### 1. men\n",
    "\n",
    "### 2. women\n",
    "\n",
    "### Enter an option:\n",
    "\n",
    "### Enter an age of person:"
   ]
  },
  {
   "cell_type": "code",
   "execution_count": 25,
   "id": "3fb6d175-361f-4198-be0c-da4ca8b779e5",
   "metadata": {},
   "outputs": [
    {
     "name": "stdout",
     "output_type": "stream",
     "text": [
      "1.Men\n",
      "2.Women\n"
     ]
    },
    {
     "name": "stdin",
     "output_type": "stream",
     "text": [
      "enter your gender 2\n",
      "enter an age: 65\n"
     ]
    },
    {
     "name": "stdout",
     "output_type": "stream",
     "text": [
      "He can apply for voting\n",
      "He can apply for driving licence\n",
      "she can got to movie\n",
      "sHe can apply for voting\n",
      "sHe can get married\n"
     ]
    }
   ],
   "source": [
    "print(\"1.Men\\n2.Women\")\n",
    "\n",
    "gender = input(\"enter your gender\")\n",
    "age = input(\"enter an age:\")\n",
    "age = float(age)\n",
    "if age>=18:\n",
    "   print(\"He can apply for voting\")\n",
    "if 18<= age >= 60:\n",
    "   print(\"He can apply for driving licence\")\n",
    "if gender == \"1\":\n",
    "     if age>=5:\n",
    "        print(\"he can got to movie\")\n",
    "     if age>=23:\n",
    "        print(\"He can get married\")\n",
    "     if age>=18 and age<=34:\n",
    "       print(\"He can apply for govt gobs\")\n",
    "elif  gender == \"2\": \n",
    "    if age>=7:\n",
    "         print(\"she can got to movie\")\n",
    "    if age >= 18:\n",
    "        print(\"sHe can apply for voting\")\n",
    "    if age>=23:\n",
    "        print(\"sHe can get married\")\n",
    "    if age>=18 and age<=34:\n",
    "        print(\"sHe can apply for govt gobs\")"
   ]
  },
  {
   "cell_type": "markdown",
   "id": "330599ba-ee90-408c-88cb-c57448f3bd0a",
   "metadata": {},
   "source": [
    "### 23. operating systems:\n",
    "\n",
    "### 1.windows\n",
    "\n",
    "### 2.android\n",
    "\n",
    "### 3.mac\n",
    "\n",
    "### Enter an option:\n",
    "\n",
    "### If the user enters 1 then show \"Goto first floor and buy windows laptop or mobile\"\n",
    "\n",
    "### If the user enters 2 then show \"Goto second floor and buy adroid mobiles\"\n",
    "\n",
    "### If the user enters 3 then show \"Goto third floor and buy mac laptop or iphones\"\n",
    "\n",
    "### If the user enters other than 1 or 2 or 3 then show \"There is only three floors, please select 1 or 2 or 3\""
   ]
  },
  {
   "cell_type": "code",
   "execution_count": 5,
   "id": "9765a5e7-706e-49d0-bc0f-8e0c54310aad",
   "metadata": {},
   "outputs": [
    {
     "name": "stdout",
     "output_type": "stream",
     "text": [
      "Operating Systems:\n",
      "\t1.Windows\n",
      "\t2.Android\n",
      "\t3.MAC\n"
     ]
    },
    {
     "name": "stdin",
     "output_type": "stream",
     "text": [
      "Enter the option(1-3): 2\n"
     ]
    },
    {
     "name": "stdout",
     "output_type": "stream",
     "text": [
      "Go to second floor and buy android mobiles\n"
     ]
    }
   ],
   "source": [
    "print(\"Operating Systems:\\n\\t1.Windows\\n\\t2.Android\\n\\t3.MAC\")\n",
    " \n",
    "option = input(\"Enter the option(1-3):\")\n",
    "\n",
    "# Checks if option is 1\n",
    "\n",
    "if option == '1':\n",
    "\n",
    "    print(\"Go to first floor and buy windows laptop or mobile\")\n",
    "\n",
    "# Checks if option is 2 \n",
    "\n",
    "elif option == '2':\n",
    "\n",
    "    print(\"Go to second floor and buy android mobiles\")\n",
    "\n",
    "# Checks if option is 3\n",
    "\n",
    "elif option == '3':\n",
    "\n",
    "    print(\"Go to third floor and buy mac laptop or iphones\")\n",
    "\n",
    "else:\n",
    "\n",
    "    print(\"There is only three floors, please select 1 or 2 or 3\")\n"
   ]
  },
  {
   "cell_type": "markdown",
   "id": "e0f022ba-c68d-4eae-838d-06d3722929a7",
   "metadata": {},
   "source": [
    "### 24.Given an age, figure out whether someone's a baby, toddler, child, teenager, adult or old codger."
   ]
  },
  {
   "cell_type": "code",
   "execution_count": 2,
   "id": "6a82a8c9-477c-4764-adc9-054cc1e540d0",
   "metadata": {},
   "outputs": [
    {
     "name": "stdin",
     "output_type": "stream",
     "text": [
      "Enter the age:  6\n"
     ]
    },
    {
     "name": "stdout",
     "output_type": "stream",
     "text": [
      "Child\n"
     ]
    }
   ],
   "source": [
    "age = int(input(\"Enter the age: \"))\n",
    " \n",
    "# Determine the category based on age\n",
    "\n",
    "if age < 2:\n",
    "\n",
    "    print(\"Baby\")\n",
    "\n",
    "elif 2 <= age < 4:\n",
    "\n",
    "    print(\"Toddler\")\n",
    "\n",
    "elif 4 <= age < 13:\n",
    "\n",
    "    print(\"Child\")\n",
    "\n",
    "elif 13 <= age < 20:\n",
    "\n",
    "    print(\"Teenager\")\n",
    "\n",
    "elif 20 <= age < 65:\n",
    "\n",
    "    print(\"Adult\")\n",
    "\n",
    "else:\n",
    "\n",
    "    print(\"Old Codger\")\n",
    " "
   ]
  },
  {
   "cell_type": "markdown",
   "id": "85318268-094c-4efb-890f-c1d4772b8b1f",
   "metadata": {},
   "source": [
    "### 25.Take two number a,b from the user and check whether a is divisible by b or not"
   ]
  },
  {
   "cell_type": "code",
   "execution_count": 1,
   "id": "56aa7175-26e6-4c82-80a1-9c044b16c351",
   "metadata": {},
   "outputs": [
    {
     "name": "stdin",
     "output_type": "stream",
     "text": [
      "Enter number a: 45\n",
      "Enter number b: 87\n"
     ]
    },
    {
     "name": "stdout",
     "output_type": "stream",
     "text": [
      "45.0 is not divisible by 87.0\n"
     ]
    }
   ],
   "source": [
    "a = input(\"Enter number a:\")\n",
    "b= input(\"Enter number b:\")\n",
    "a = float(a)\n",
    "b = float(b)\n",
    "if a%b == 0:\n",
    "    print(f\"{a} is divisible by {b}\")\n",
    "else:\n",
    "    print(f\"{a} is not divisible by {b}\")"
   ]
  },
  {
   "cell_type": "markdown",
   "id": "42b4551d-d3ff-4fcc-9e9e-046c3a82bb79",
   "metadata": {},
   "source": [
    "### 26. Take a letter from the user and print that letter belongs to which category I.e is it a small letter or capital letter or number or special symbol"
   ]
  },
  {
   "cell_type": "code",
   "execution_count": 33,
   "id": "1d4005dc-b053-4765-9d88-e5a46c3ce809",
   "metadata": {},
   "outputs": [
    {
     "name": "stdin",
     "output_type": "stream",
     "text": [
      "enter any single letter h\n"
     ]
    },
    {
     "name": "stdout",
     "output_type": "stream",
     "text": [
      "The character is a lowercase letter.\n"
     ]
    }
   ],
   "source": [
    "char=input(\"enter any single letter\")\n",
    "if len(char) != 1:\n",
    "    print(\"Please enter only one character.\")\n",
    "else:\n",
    "    ascii_val = ord(char)\n",
    "    \n",
    "    if 65 <= ascii_val <= 90:\n",
    "        print(\"The character is an uppercase letter.\")\n",
    "    elif 97 <= ascii_val <= 122:\n",
    "        print(\"The character is a lowercase letter.\")\n",
    "    elif 48 <= ascii_val <= 57:\n",
    "        print(\"The character is a digit.\")\n",
    "    elif (32 <= ascii_val <= 47) or (58 <= ascii_val <= 64) or \\\n",
    "         (91 <= ascii_val <= 96) or (123 <= ascii_val <= 126):\n",
    "        print(\"The character is a special symbol.\")\n",
    "    else:\n",
    "        print(\"The character does not fall into any of the recognized categories.\")"
   ]
  },
  {
   "cell_type": "code",
   "execution_count": 37,
   "id": "1fd6330d-3909-4bb8-a430-bd9e420e8b41",
   "metadata": {},
   "outputs": [
    {
     "name": "stdin",
     "output_type": "stream",
     "text": [
      "enter any single letter A\n"
     ]
    },
    {
     "name": "stdout",
     "output_type": "stream",
     "text": [
      "65\n"
     ]
    }
   ],
   "source": [
    "char=input(\"enter any single letter\")\n",
    "if len(char) != 1: \n",
    "    print(\"Please enter only one character.\")\n",
    "else:\n",
    "    ascii_val = ord(char)\n",
    "    print(ascii_val)\n",
    "    "
   ]
  },
  {
   "cell_type": "code",
   "execution_count": 42,
   "id": "010f1cca-a97c-49fe-a629-73f346bfac42",
   "metadata": {},
   "outputs": [
    {
     "name": "stdin",
     "output_type": "stream",
     "text": [
      "enter any single letter a\n"
     ]
    },
    {
     "name": "stdout",
     "output_type": "stream",
     "text": [
      "97\n",
      "The character is a lowercase letter.\n"
     ]
    }
   ],
   "source": [
    "char=input(\"enter any single letter\")\n",
    "if len(char) != 1: \n",
    "    print(\"Please enter only one character.\")\n",
    "else:\n",
    "    ascii_val = ord(char)\n",
    "    print(ascii_val)\n",
    "    if 97 <= ascii_val <= 122 :\n",
    "        print(\"The character is a lowercase letter.\")\n",
    "    elif 65 <= ascii_val <= 90 :\n",
    "        print(\"The character is a Uppercase  letter.\")\n",
    "    \n",
    "    "
   ]
  },
  {
   "cell_type": "code",
   "execution_count": null,
   "id": "4eaa95af-b1c4-46ab-96b8-8577635fb358",
   "metadata": {},
   "outputs": [],
   "source": []
  }
 ],
 "metadata": {
  "kernelspec": {
   "display_name": "Python 3 (ipykernel)",
   "language": "python",
   "name": "python3"
  },
  "language_info": {
   "codemirror_mode": {
    "name": "ipython",
    "version": 3
   },
   "file_extension": ".py",
   "mimetype": "text/x-python",
   "name": "python",
   "nbconvert_exporter": "python",
   "pygments_lexer": "ipython3",
   "version": "3.12.4"
  }
 },
 "nbformat": 4,
 "nbformat_minor": 5
}
