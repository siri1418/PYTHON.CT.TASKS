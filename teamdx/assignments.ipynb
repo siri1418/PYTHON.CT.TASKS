{
 "cells": [
  {
   "cell_type": "markdown",
   "id": "416e9f71-9a17-4f34-985b-05ca7ea5745f",
   "metadata": {},
   "source": [
    "## Assignments on variables expressions and statements"
   ]
  },
  {
   "cell_type": "markdown",
   "id": "83d3511a-5de8-411f-ad46-4361f2dc65be",
   "metadata": {},
   "source": [
    "### 1. Take the input from the user for(Total number of people,Number of seats for bus. Based on two inputs Decide how many number of buses required"
   ]
  },
  {
   "cell_type": "code",
   "execution_count": 1,
   "id": "8aadba9a-73c1-4e91-9a66-1062d3240986",
   "metadata": {},
   "outputs": [
    {
     "name": "stdout",
     "output_type": "stream",
     "text": [
      "number of people: 50\n",
      "number of seats: 4\n"
     ]
    },
    {
     "name": "stdout",
     "output_type": "stream",
     "text": [
      "Number of buses: 13\n"
     ]
    }
   ],
   "source": [
    "people = int(input(\"number of people:\"))\n",
    "\n",
    "seats = int(input(\"number of seats:\"))\n",
    "\n",
    "buses = (people+seats-1)//seats\n",
    "\n",
    "print(f\"Number of buses: {buses}\")\n",
    " "
   ]
  },
  {
   "cell_type": "markdown",
   "id": "b02047db-6ed7-45a6-af43-939791797cbf",
   "metadata": {},
   "source": [
    "### 2.take temperature from the user and convert foreign heat -> Celsius."
   ]
  },
  {
   "cell_type": "code",
   "execution_count": 2,
   "id": "4fadb452-b6a0-4d8a-b86c-4b591f58161d",
   "metadata": {},
   "outputs": [
    {
     "name": "stdout",
     "output_type": "stream",
     "text": [
      "Enter Fahrenheit Temp:  89\n"
     ]
    },
    {
     "name": "stdout",
     "output_type": "stream",
     "text": [
      "Enter the Celsius temp is 31\n"
     ]
    }
   ],
   "source": [
    "Fahrenheit = float(input(\"Enter Fahrenheit Temp: \"))\n",
    "\n",
    "Celsius = (Fahrenheit - 32) * 5/9\n",
    "\n",
    "print(f\"Enter the Celsius temp is {int(Celsius)}\")\n",
    "\n",
    " "
   ]
  },
  {
   "cell_type": "markdown",
   "id": "22850b37-1d8f-44f9-80e4-64629a4380f0",
   "metadata": {},
   "source": [
    "### 3.take temperature from the user and convert Celsius → foreign heat."
   ]
  },
  {
   "cell_type": "code",
   "execution_count": 3,
   "id": "9cbaf93e-d7ea-482d-b964-1be13b50d6a8",
   "metadata": {},
   "outputs": [
    {
     "name": "stdout",
     "output_type": "stream",
     "text": [
      "Enter Celsius Temp:  90\n"
     ]
    },
    {
     "name": "stdout",
     "output_type": "stream",
     "text": [
      "Enter the Fahrenheit temp is 194\n"
     ]
    }
   ],
   "source": [
    "Celsius = float(input(\"Enter Celsius Temp: \"))\n",
    "\n",
    "Fahrenheit = (Celsius * 9/5) + 32\n",
    "\n",
    "print(f\"Enter the Fahrenheit temp is {int(Fahrenheit)}\")\n",
    " "
   ]
  },
  {
   "cell_type": "markdown",
   "id": "70f6861e-1f37-4334-b788-53bfda936b84",
   "metadata": {},
   "source": [
    "### 5.Take the distance in km\n",
    "\n",
    "### Show that in cm, meters, in milli meters, cents, feets, yards"
   ]
  },
  {
   "cell_type": "code",
   "execution_count": 4,
   "id": "704e8d32-be79-4380-836d-aa5c2e018bcc",
   "metadata": {},
   "outputs": [
    {
     "name": "stdout",
     "output_type": "stream",
     "text": [
      "Enter no. of Kilometers:  4\n"
     ]
    },
    {
     "name": "stdout",
     "output_type": "stream",
     "text": [
      " Kilometers:  400000.00\n",
      " Kilometers:  4000.00\n",
      " Kilometers:  4000000.00\n",
      " Kilometers:  157480.40\n",
      " Kilometers:  13123.36\n",
      " Kilometers:  4374.44\n"
     ]
    }
   ],
   "source": [
    "Kilometers = float(input(\"Enter no. of Kilometers: \"))\n",
    "\n",
    "centimeters = Kilometers * 100000 \n",
    "\n",
    "meters = Kilometers * 1000 \n",
    "\n",
    "millimeters = Kilometers * 1000000\n",
    "\n",
    "cents = Kilometers * 39370.1\n",
    "\n",
    "feets = Kilometers * 3280.84\n",
    "\n",
    "yards = Kilometers * 1093.61\n",
    "\n",
    "print(f\" Kilometers: {centimeters: .2f}\")  \n",
    "\n",
    "print(f\" Kilometers: {meters: .2f}\")  \n",
    "\n",
    "print(f\" Kilometers: {millimeters: .2f}\")  \n",
    "\n",
    "print(f\" Kilometers: {cents: .2f}\")  \n",
    "\n",
    "print(f\" Kilometers: {feets: .2f}\")  \n",
    "\n",
    "print(f\" Kilometers: {yards: .2f}\")\n",
    " "
   ]
  },
  {
   "cell_type": "markdown",
   "id": "4291218a-d7ee-4255-acf9-1b8a5c736a99",
   "metadata": {},
   "source": [
    "### 6.Take the size of your hard disk in GB  Show that in MB, KB, TB, PB\n",
    "\n"
   ]
  },
  {
   "cell_type": "code",
   "execution_count": 5,
   "id": "814250c2-a8d4-4041-afe4-4c5698daad0a",
   "metadata": {},
   "outputs": [
    {
     "name": "stdout",
     "output_type": "stream",
     "text": [
      "Enter size in GB:-  1\n"
     ]
    },
    {
     "name": "stdout",
     "output_type": "stream",
     "text": [
      "The size in 1.0GB to MB is 1000.0MB\n",
      "The size in 1.0GB to KB is 1000000.0KB\n",
      "The size in 1.0GB to TB is 0.001TB\n",
      "The size in 1.0GB to PB is 1e-06PB\n"
     ]
    }
   ],
   "source": [
    "disk_size = float(input(\"Enter size in GB:- \"))\n",
    "print(f'The size in {disk_size}GB to MB is {disk_size*1000}MB')\n",
    "print(f'The size in {disk_size}GB to KB is {disk_size*1000000}KB')\n",
    "print(f'The size in {disk_size}GB to TB is {disk_size*0.001}TB')\n",
    "print(f'The size in {disk_size}GB to PB is {disk_size/1000000}PB')"
   ]
  },
  {
   "cell_type": "markdown",
   "id": "42364ebb-1f8a-4af2-a9b9-878a9027e77e",
   "metadata": {},
   "source": [
    "### 4.take four number from the user (variables name it as x1,x2,x3,x4)\n",
    "\n",
    "### Do the below operations\n",
    "\n",
    "### (x1+x2)**2, (x3+x4)**3\n",
    "\n",
    "### variance\n",
    "\n",
    "### standard deviation: sqrt(variance): User math module. Math.sqrt(variance)\n",
    "\n",
    "### Regression\n",
    "\n",
    "### y=mx+b\n",
    "\n",
    "### m=1.23\n",
    "\n",
    "### b=0.045\n",
    "\n",
    "### find out y\n",
    "\n",
    "### y=m*(x1+x2+x3+x4)+b\n",
    "\n",
    "### Find the average of four numbers\n",
    "\n",
    "### Find the sum of four numbers"
   ]
  },
  {
   "cell_type": "code",
   "execution_count": 6,
   "id": "69b8eae2-74a9-45f5-9bdb-c66354dbe82f",
   "metadata": {},
   "outputs": [
    {
     "name": "stdout",
     "output_type": "stream",
     "text": [
      " 1\n",
      " 2\n",
      " 3\n",
      " 4\n"
     ]
    },
    {
     "name": "stdout",
     "output_type": "stream",
     "text": [
      "9\n",
      "343\n",
      "1.25\n",
      "1.118033988749895\n",
      "12.345\n",
      "2.5\n",
      "10\n"
     ]
    }
   ],
   "source": [
    "import math\n",
    "x1 = int(input())\n",
    "x2 = int(input())\n",
    "x3 = int(input())\n",
    "x4 = int(input())\n",
    "res1 = (x1+x2)**2\n",
    "res2 = (x3+x4)**3\n",
    "mean = (x1+x2+x3+x4)/4\n",
    "varience = ((x1-mean)**2 + (x2-mean)**2 + (x3-mean)**2 + (x4-mean)**2)/4\n",
    "std_dev = math.sqrt(varience)\n",
    "y = 1.23*(x1+x2+x3+x4)+0.045\n",
    "avg = mean\n",
    "sum_of_four = x1+x2+x3+x4\n",
    "print(res1)\n",
    "print(res2)\n",
    "print(varience)\n",
    "print(std_dev)\n",
    "print(y)\n",
    "print(avg)\n",
    "print(sum_of_four)\n"
   ]
  },
  {
   "cell_type": "markdown",
   "id": "56928677-7fe9-4ab5-8ff5-ad1e80d6fb15",
   "metadata": {},
   "source": [
    "### 7. Take name, age, height from the user and print like below\n",
    "\n",
    "### The details of the person: Name:name of the person, Age:age of the person, Height:height of the person\n",
    "\n",
    "### Note: make sure that no space between : and a value and should be space after “COMA”"
   ]
  },
  {
   "cell_type": "code",
   "execution_count": 7,
   "id": "e1076e00-d18d-4c9c-b111-8243ddd2c678",
   "metadata": {},
   "outputs": [
    {
     "name": "stdout",
     "output_type": "stream",
     "text": [
      " siri\n",
      " 26\n",
      " 4.3\n"
     ]
    },
    {
     "name": "stdout",
     "output_type": "stream",
     "text": [
      "The details of the person: Name:siri, age:26, height:4.3\n"
     ]
    }
   ],
   "source": [
    "name = input()\n",
    "age= input()\n",
    "height=input()\n",
    "print(f'The details of the person: Name:{name}, age:{age}, height:{height}')"
   ]
  },
  {
   "cell_type": "markdown",
   "id": "cdc1684f-2952-43ab-8c5f-729723fb5827",
   "metadata": {},
   "source": [
    "### 8. BMI calculation: take required parameters for BMI calculation from the user and calculate BMI of the person."
   ]
  },
  {
   "cell_type": "code",
   "execution_count": 8,
   "id": "f20eced4-d188-48f8-910c-c4020e58f6ab",
   "metadata": {},
   "outputs": [
    {
     "name": "stdout",
     "output_type": "stream",
     "text": [
      " 23\n",
      " 4\n"
     ]
    },
    {
     "name": "stdout",
     "output_type": "stream",
     "text": [
      "calculation of bmi:1.4375\n"
     ]
    }
   ],
   "source": [
    "weight = float(input())\n",
    "height = float(input())\n",
    "bmi = weight/(height*height)\n",
    "print(f'calculation of bmi:{bmi}')\n"
   ]
  },
  {
   "cell_type": "markdown",
   "id": "8ad497b3-a4cb-474e-b2e5-b949f8e3aed9",
   "metadata": {},
   "source": [
    "### 9. name=\"Jayaram\"\n",
    "\n",
    "### age=1.6\n",
    "\n",
    "### height=3.5356234\n",
    "\n",
    "### weight=10.343856783\n",
    "\n",
    "### By using above inputs print the output\n",
    "\n",
    "### Name:Jayaram, Age:1.6, Height:3.54, Weight:10.344\n",
    "\n",
    "### Note: Use format specifiers(%s, %d, %f)"
   ]
  },
  {
   "cell_type": "code",
   "execution_count": 9,
   "id": "8a124996-b5fe-4753-bc27-13c96ec3ca69",
   "metadata": {},
   "outputs": [
    {
     "name": "stdout",
     "output_type": "stream",
     "text": [
      "Name:Jayaram, Age:1.6 , Height:3.54, Weight:10.344\n"
     ]
    }
   ],
   "source": [
    "name = \"Jayaram\"\n",
    "age =  1.6\n",
    "height = 3.5356234\n",
    "weight = 10.343856783\n",
    "print(f'Name:%s, Age:%.1f , Height:%.2f, Weight:%.3f'%(name,age,height,weight))\n"
   ]
  },
  {
   "cell_type": "markdown",
   "id": "3817c904-6785-41e9-9a55-5654c691b3fa",
   "metadata": {},
   "source": [
    "### 10. Take three upper case letters from the user convert in to small case."
   ]
  },
  {
   "cell_type": "code",
   "execution_count": 10,
   "id": "7923d98d-5ab6-457a-a449-a4fec8b342de",
   "metadata": {},
   "outputs": [
    {
     "name": "stdout",
     "output_type": "stream",
     "text": [
      "['__add__', '__class__', '__contains__', '__delattr__', '__dir__', '__doc__', '__eq__', '__format__', '__ge__', '__getattribute__', '__getitem__', '__getnewargs__', '__getstate__', '__gt__', '__hash__', '__init__', '__init_subclass__', '__iter__', '__le__', '__len__', '__lt__', '__mod__', '__mul__', '__ne__', '__new__', '__reduce__', '__reduce_ex__', '__repr__', '__rmod__', '__rmul__', '__setattr__', '__sizeof__', '__str__', '__subclasshook__', 'capitalize', 'casefold', 'center', 'count', 'encode', 'endswith', 'expandtabs', 'find', 'format', 'format_map', 'index', 'isalnum', 'isalpha', 'isascii', 'isdecimal', 'isdigit', 'isidentifier', 'islower', 'isnumeric', 'isprintable', 'isspace', 'istitle', 'isupper', 'join', 'ljust', 'lower', 'lstrip', 'maketrans', 'partition', 'removeprefix', 'removesuffix', 'replace', 'rfind', 'rindex', 'rjust', 'rpartition', 'rsplit', 'rstrip', 'split', 'splitlines', 'startswith', 'strip', 'swapcase', 'title', 'translate', 'upper', 'zfill']\n",
      "abc\n"
     ]
    }
   ],
   "source": [
    "x=\"ABC\"\n",
    "#print(f'print small case'{})\n",
    "print(dir(x))\n",
    "p = x.lower()\n",
    "print(p)"
   ]
  },
  {
   "cell_type": "markdown",
   "id": "1491ed3c-9663-457a-a559-8a85459c31da",
   "metadata": {},
   "source": [
    "### 11. take base and exponent value from the user and print like in mathematics:\n",
    "\n",
    "### example: base=2, exponent=3: 23\n",
    "\n",
    "### Use: 2\\u00b3"
   ]
  },
  {
   "cell_type": "code",
   "execution_count": 11,
   "id": "663e9c01-d0bc-422c-a3bf-4723408150fc",
   "metadata": {},
   "outputs": [
    {
     "name": "stdout",
     "output_type": "stream",
     "text": [
      "enter base value 2\n",
      "enter exponent value 5\n"
     ]
    },
    {
     "name": "stdout",
     "output_type": "stream",
     "text": [
      "8³\n"
     ]
    }
   ],
   "source": [
    "base = input('enter base value')\n",
    "exponent = input('enter exponent value')\n",
    "print(f'8\\u00b3')"
   ]
  },
  {
   "cell_type": "code",
   "execution_count": null,
   "id": "fd395128-ab47-4f5f-bc01-d140c3598135",
   "metadata": {},
   "outputs": [],
   "source": [
    "base = input('Enter base value: ')\n",
    "exponent = input('Enter exponent value: ')\n",
    "\n",
    "\n",
    "# Converting exponent to superscript if possible\n",
    "# Using a dictionary for common exponents\n",
    "superscripts = {\n",
    "    '0': '\\u2070', '1': '\\u00B9', '2': '\\u00B2', '3': '\\u00B3',\n",
    "    '4': '\\u2074', '5': '\\u2075', '6': '\\u2076', '7': '\\u2077',\n",
    "    '8': '\\u2078', '9': '\\u2079'\n",
    "}\n",
    "\n",
    "def to_superscript(number):\n",
    "    return ''.join(superscripts.get(digit, '') for digit in str(number))\n",
    "\n",
    "# Print base and exponent with superscript\n",
    "print(f'{base}{to_superscript(exponent)}')\n"
   ]
  },
  {
   "cell_type": "markdown",
   "id": "c72f3d44-d2bb-4af9-bd18-3e93a0dd2cd4",
   "metadata": {},
   "source": [
    "### 12. Take some groceries cost prices and print total cost and average cost, what is the max cost, what is the minimum cost."
   ]
  },
  {
   "cell_type": "code",
   "execution_count": null,
   "id": "87687d00-457f-467e-ab6c-a55378e224d1",
   "metadata": {},
   "outputs": [],
   "source": [
    "sugar=input('enter the sugar value')\n",
    "fruits=input('enter the fruits value')\n",
    "oils=input('enter oil value')\n",
    "chocolates=input('enter chocolate value')\n",
    "total=sugar+fruits+oils+chocolates\n",
    "print(total)\n",
    "print(int(total)/4)\n",
    "print(max(sugar,fruits,oils,chocolate))\n",
    "print(min(sugar,fruits,oils,chocolate))"
   ]
  },
  {
   "cell_type": "markdown",
   "id": "5e6182ea-a896-4ab4-8b46-b227fd00158b",
   "metadata": {},
   "source": [
    "# Conditional statements"
   ]
  },
  {
   "cell_type": "markdown",
   "id": "0d743fd8-fbdb-4429-b531-14cb63a63681",
   "metadata": {},
   "source": [
    "### 13. Take the input from the user for(Total number of people, total number of buses, Number of seats for bus, adjust factor). Based on four inputs\n",
    "### Decide whether there is sufficient buses or not and give solution for how many extra buses required."
   ]
  },
  {
   "cell_type": "code",
   "execution_count": 5,
   "id": "f314eb0f-9d0a-44e0-9ec7-2ff9956305ba",
   "metadata": {},
   "outputs": [
    {
     "name": "stdout",
     "output_type": "stream",
     "text": [
      "number of people: 200\n",
      "number of seats: 20\n",
      "number of buses 4\n",
      "Enter the adjust factor 20\n"
     ]
    },
    {
     "name": "stdout",
     "output_type": "stream",
     "text": [
      "5.0\n",
      "Sufficient buses\n"
     ]
    }
   ],
   "source": [
    "people = int(input(\"number of people:\"))\n",
    "seats = int(input(\"number of seats:\"))\n",
    "buses = int(input(\"number of buses\"))\n",
    "factor = float(input(\"Enter the adjust factor\"))\n",
    "#seats_per_bus = seats//buses\n",
    "no_of_buses = (people)//(seats+factor)\n",
    "print(no_of_buses)\n",
    "if (people)%(seats+factor) != 0:\n",
    "    no_of_buses += 1\n",
    "    \n",
    "    if buses > no_of_buses:\n",
    "        print(f\"{no_of_buses} buses required but\")\n",
    "        print(f\"{buses-no_of_buses} extra buses are their\")\n",
    "    else:\n",
    "        print(\"No Sufficient buses\")\n",
    "        print(f\"{no_of_buses-buses} buses are required\")\n",
    "        \n",
    "else:\n",
    "    print(\"Sufficient buses\")\n",
    "\n",
    "\n",
    "\n",
    "\n"
   ]
  },
  {
   "cell_type": "markdown",
   "id": "43674df2-8e49-4f4c-9bf4-b0edd881ba15",
   "metadata": {},
   "source": [
    "### 14.Take number from the user decide whether it is even or odd.\n"
   ]
  },
  {
   "cell_type": "code",
   "execution_count": 15,
   "id": "5f997087-caa4-4c39-8300-c27177330c3a",
   "metadata": {},
   "outputs": [
    {
     "name": "stdout",
     "output_type": "stream",
     "text": [
      "Enter a value 66\n"
     ]
    },
    {
     "name": "stdout",
     "output_type": "stream",
     "text": [
      "EVEN\n"
     ]
    }
   ],
   "source": [
    "value = int(input(\"Enter a value\"))\n",
    "if value%2 == 0:\n",
    "    print(\"EVEN\")\n",
    "else:\n",
    "    print(\"ODD\")"
   ]
  },
  {
   "cell_type": "markdown",
   "id": "a61e5f53-2f9b-4d6f-8899-614a48f9a480",
   "metadata": {},
   "source": [
    "### 15.take number from the user decide whether it is positive number or negative number"
   ]
  },
  {
   "cell_type": "code",
   "execution_count": 7,
   "id": "69b41f6c-87d6-405c-b495-aae9be3ea00e",
   "metadata": {},
   "outputs": [
    {
     "name": "stdout",
     "output_type": "stream",
     "text": [
      " -2\n"
     ]
    },
    {
     "name": "stdout",
     "output_type": "stream",
     "text": [
      "Negative number\n"
     ]
    }
   ],
   "source": [
    "num = input()\n",
    "if num[0] == \"-\":\n",
    "    print(\"Negative number\")\n",
    "else:\n",
    "    print(\"Positive number\")"
   ]
  },
  {
   "cell_type": "markdown",
   "id": "10c4611f-42da-41b9-8983-0fc651f50fb9",
   "metadata": {},
   "source": [
    "### 16.take a string from the user print the length. if the user not given anything then show an error message"
   ]
  },
  {
   "cell_type": "code",
   "execution_count": 14,
   "id": "bb28c8a2-6c0a-4aa0-96df-330a39b9bc59",
   "metadata": {},
   "outputs": [
    {
     "ename": "SyntaxError",
     "evalue": "expected ':' (2733888917.py, line 3)",
     "output_type": "error",
     "traceback": [
      "\u001b[1;36m  Cell \u001b[1;32mIn[14], line 3\u001b[1;36m\u001b[0m\n\u001b[1;33m    if len_string\u001b[0m\n\u001b[1;37m                 ^\u001b[0m\n\u001b[1;31mSyntaxError\u001b[0m\u001b[1;31m:\u001b[0m expected ':'\n"
     ]
    }
   ],
   "source": [
    "string = input(\"Enter a word\")\n",
    "len_string = len(string)\n",
    "if len_string\n",
    "   print(len_string) \n",
    "else:\"Error\"\n",
    "    "
   ]
  },
  {
   "cell_type": "code",
   "execution_count": 1,
   "id": "4c7440ce-d547-4851-9ba6-2f6025d29ab5",
   "metadata": {},
   "outputs": [
    {
     "name": "stdout",
     "output_type": "stream",
     "text": [
      "Enter a word:  \n"
     ]
    },
    {
     "name": "stdout",
     "output_type": "stream",
     "text": [
      "Error\n"
     ]
    }
   ],
   "source": [
    "string = input(\"Enter a word: \")\n",
    "len_string = len(string)\n",
    "\n",
    "if len_string > 0:  # Check if the length of the string is greater than 0\n",
    "    print(len_string)\n",
    "else:\n",
    "    print(\"Error\")  # Print \"Error\" if the string is empty"
   ]
  },
  {
   "cell_type": "markdown",
   "id": "b21e2363-0301-4b3b-9899-324fb1e523b4",
   "metadata": {},
   "source": [
    "### 17.code to perform mathematical operations. take two numbers from the user and show the below menu\n",
    "\n",
    "### 1. add,\n",
    "\n",
    "### 2. sub,\n",
    "\n",
    "### 3. mul,\n",
    "\n",
    "### 4.div,\n",
    "\n",
    "### 5.quit\n",
    "\n",
    "### Enter an option:\n",
    "\n",
    "### \n",
    "### based on the option need to perform an operations"
   ]
  },
  {
   "cell_type": "code",
   "execution_count": 1,
   "id": "a93e879e-9ca9-4087-8dc8-500123997743",
   "metadata": {},
   "outputs": [
    {
     "name": "stdout",
     "output_type": "stream",
     "text": [
      "Enter 'a' value:  1\n",
      "Enter 'b' value:  5\n"
     ]
    },
    {
     "name": "stdout",
     "output_type": "stream",
     "text": [
      "1.add\n",
      "2.sub\n",
      "3.mul\n",
      "4.division\n",
      "5.quit\n"
     ]
    },
    {
     "name": "stdout",
     "output_type": "stream",
     "text": [
      "Enter an option: 1\n"
     ]
    },
    {
     "name": "stdout",
     "output_type": "stream",
     "text": [
      "6\n",
      "Thank you\n"
     ]
    }
   ],
   "source": [
    "a = int(input(\"Enter 'a' value: \"))\n",
    "\n",
    "b = int(input(\"Enter 'b' value: \"))\n",
    "\n",
    "print( \"1.add\\n2.sub\\n3.mul\\n4.division\\n5.quit\")\n",
    "\n",
    "opt = input(\"Enter an option:\")\n",
    "\n",
    "if opt==\"1\": \n",
    "\n",
    "    print(a+b)\n",
    "\n",
    "elif opt==\"2\":  \n",
    "\n",
    "    print(a-b)\n",
    "\n",
    "elif opt==\"3\": \n",
    "\n",
    "    print(a*b)\n",
    "\n",
    "elif opt==\"4\":  \n",
    "\n",
    "    print(a/b)\n",
    "\n",
    "elif opt==\"5\":  \n",
    "\n",
    "    print(\"quit\")\n",
    "\n",
    "else:\n",
    "\n",
    "    print(\"enter valid option\")\n",
    "\n",
    "print(\"Thank you\")\n",
    " "
   ]
  },
  {
   "cell_type": "markdown",
   "id": "0dffbdd6-3aea-440e-b9a0-d7541532427b",
   "metadata": {},
   "source": [
    "### 18. show the menu:\n",
    "\n",
    "### 1. kids\n",
    "\n",
    "### 2. Men's\n",
    "\n",
    "### 3. Women's\n",
    "\n",
    "### Show the corresponding message based on the selection.\n",
    "\n",
    "### Option:1: you are a kid\n",
    "\n",
    "### 2: you are a gentlemen\n",
    "\n",
    "### 3: you are a good women\n",
    "\n",
    "### Mention error message if the option value >3."
   ]
  },
  {
   "cell_type": "code",
   "execution_count": 2,
   "id": "ffdb7bb2-6101-45a8-a1c6-396d78eb23f9",
   "metadata": {},
   "outputs": [
    {
     "name": "stdout",
     "output_type": "stream",
     "text": [
      "Menu:\n",
      "1. Kids\n",
      "2. Men's\n",
      "3. Women's\n"
     ]
    },
    {
     "name": "stdout",
     "output_type": "stream",
     "text": [
      "Select an option (1, 2, or 3):  1\n"
     ]
    },
    {
     "name": "stdout",
     "output_type": "stream",
     "text": [
      "You are a kid.\n",
      "Thank you for shopping\n"
     ]
    }
   ],
   "source": [
    "print(\"Menu:\\n1. Kids\\n2. Men's\\n3. Women's\")\n",
    "\n",
    "option = int(input(\"Select an option (1, 2, or 3): \"))\n",
    "\n",
    "if option == 1:\n",
    "\n",
    "    print(\"You are a kid.\")\n",
    "\n",
    "elif option == 2:\n",
    "\n",
    "    print(\"You are a gentleman.\")\n",
    "\n",
    "elif option == 3:\n",
    "\n",
    "    print(\"You are a good woman.\")\n",
    "\n",
    "else:\n",
    "\n",
    "    print(\"Invalid option. Please select 1, 2, or 3.\")\n",
    "\n",
    "print(\"Thank you for shopping\")\n",
    " "
   ]
  },
  {
   "cell_type": "markdown",
   "id": "a5931d67-7f8e-4212-961d-b936e740511a",
   "metadata": {},
   "source": [
    "### 19. write a program to chcek given substring is there in actual string or not?\n",
    "\n",
    "### example: act=\"python is a pure object oriented programing language\"\n",
    "\n",
    "### check whether “pure” is there in act or not.\n",
    "\n",
    "### Note: Use in operator"
   ]
  },
  {
   "cell_type": "code",
   "execution_count": null,
   "id": "b99db206-6304-40de-b6d6-9cbaa18caed2",
   "metadata": {},
   "outputs": [],
   "source": [
    "print(\"Operating Systems:\\n\\t1.Windows\\n\\t2.Android\\n\\t3.MAC\")\n",
    " \n",
    "option = input(\"Enter the option(1-3):\")\n",
    "# Checks if option is 1\n",
    "if option == '1':\n",
    "    print(\"Go to first floor and buy windows laptop or mobile\")\n",
    "# Checks if option is 2 \n",
    "elif option == '2':\n",
    "    print(\"Go to second floor and buy android mobiles\")\n",
    "# Checks if option is 3\n",
    "elif option == '3':\n",
    "    print(\"Go to third floor and buy mac laptop or iphones\")\n",
    "else:\n",
    "    print(\"There is only three floors, please select 1 or 2 or 3\")"
   ]
  },
  {
   "cell_type": "markdown",
   "id": "56377432-9a1c-4009-98ee-b18d1f6d1b54",
   "metadata": {},
   "source": [
    "### 20. Take three numbers from the user and decide which is big"
   ]
  },
  {
   "cell_type": "code",
   "execution_count": 3,
   "id": "8d69f0ee-9f26-4443-b4b7-23a4c6df2364",
   "metadata": {},
   "outputs": [
    {
     "name": "stdout",
     "output_type": "stream",
     "text": [
      "Enter the first number: 10\n",
      "Enter the second number: 20\n",
      "Enter the third number: 30\n"
     ]
    },
    {
     "name": "stdout",
     "output_type": "stream",
     "text": [
      "30 is bigger\n"
     ]
    }
   ],
   "source": [
    "num1 = input(\"Enter the first number:\")\n",
    "\n",
    "num2 = input(\"Enter the second number:\")\n",
    "\n",
    "num3 = input(\"Enter the third number:\")\n",
    "\n",
    "if float(num1)>float(num2) and float(num1)>float(num3):\n",
    "\n",
    "    print(f\"{num1} is bigger\")\n",
    "\n",
    "elif float(num2)>float(num1) and float(num2)>float(num3):\n",
    "\n",
    "    print(f\"{num2} is bigger\")\n",
    "\n",
    "else:\n",
    "\n",
    "    print(f\"{num3} is bigger\")\n",
    " "
   ]
  },
  {
   "cell_type": "markdown",
   "id": "6ae5e794-e68d-45b3-a0e3-ccd0c4a7ce8f",
   "metadata": {},
   "source": [
    "### 21. Take age and gender from the user and decide whether he is eligible for marriage in India or not.\n",
    "\n",
    "### Age criteria: men age>24, women>21"
   ]
  },
  {
   "cell_type": "code",
   "execution_count": 4,
   "id": "3fe3fcf1-cef9-4157-ad28-0ff3df353caa",
   "metadata": {},
   "outputs": [
    {
     "name": "stdout",
     "output_type": "stream",
     "text": [
      "Enter the age: 24\n",
      "Enter the gender(male/female): 21\n"
     ]
    },
    {
     "name": "stdout",
     "output_type": "stream",
     "text": [
      "Invalid gender. Please enter male or female\n"
     ]
    }
   ],
   "source": [
    "age = input(\"Enter the age:\")\n",
    "\n",
    "gender = input(\"Enter the gender(male/female):\")\n",
    "\n",
    "# Check eligibility for marriage based on gender and age\n",
    "\n",
    "if gender == 'male':\n",
    "\n",
    "    if int(age)>24:\n",
    "\n",
    "      print(\"you are eligible for marriage in India\")\n",
    "\n",
    "    else:\n",
    "\n",
    "      print(\"You are not eligible for marriage in India\")\n",
    "\n",
    "elif gender == 'female':\n",
    "\n",
    "    if int(age)>21:\n",
    "\n",
    "        print(\"you are eligible for marriage in India\")\n",
    "\n",
    "    else:\n",
    "\n",
    "        print(\"You are not eligible for marriage in India\")\n",
    "\n",
    "else:\n",
    "\n",
    "    print(\"Invalid gender. Please enter male or female\")\n",
    " "
   ]
  },
  {
   "cell_type": "markdown",
   "id": "a0504480-4ed2-4f58-9a91-c8fd43e980eb",
   "metadata": {},
   "source": [
    "### 22. Take an age and gender from the user: and mention that what he/she can do in india.\n",
    "\n",
    "### \"\"\"\n",
    "\n",
    "### conditions\n",
    "\n",
    "### 1. Theatre: 5 for men 7 for women\n",
    "\n",
    "### 2. Voting system: 18 for men and women\n",
    "\n",
    "### 3. Marriage in india: 23 for men and for women >21\n",
    "\n",
    "### 4. For govt jobs: (min:18, max:32) for men and (min:18, max:34) for women\n",
    "\n",
    "### 5. For driving licence: (min:18, max:60) for men and women\n",
    "\n",
    "### Eligibility:\n",
    "\n",
    "### 1. theatre\n",
    "\n",
    "### 2. Voting system\n",
    "\n",
    "### 3. Marriage in india\n",
    "\n",
    "### 4. For govt obs\n",
    "\n",
    "### 5. For driving licence:\n",
    "\n",
    "### Enter an option:\n",
    "\n",
    "### Gender:\n",
    "\n",
    "### 1. men\n",
    "\n",
    "### 2. women\n",
    "\n",
    "### Enter an option:\n",
    "\n",
    "### Enter an age of person:"
   ]
  },
  {
   "cell_type": "code",
   "execution_count": 25,
   "id": "3fb6d175-361f-4198-be0c-da4ca8b779e5",
   "metadata": {},
   "outputs": [
    {
     "name": "stdout",
     "output_type": "stream",
     "text": [
      "1.Men\n",
      "2.Women\n"
     ]
    },
    {
     "name": "stdout",
     "output_type": "stream",
     "text": [
      "enter your gender 2\n",
      "enter an age: 65\n"
     ]
    },
    {
     "name": "stdout",
     "output_type": "stream",
     "text": [
      "He can apply for voting\n",
      "He can apply for driving licence\n",
      "she can got to movie\n",
      "sHe can apply for voting\n",
      "sHe can get married\n"
     ]
    }
   ],
   "source": [
    "print(\"1.Men\\n2.Women\")\n",
    "\n",
    "gender = input(\"enter your gender\")\n",
    "age = input(\"enter an age:\")\n",
    "age = float(age)\n",
    "if age>=18:\n",
    "   print(\"He can apply for voting\")\n",
    "if 18<= age >= 60:\n",
    "   print(\"He can apply for driving licence\")\n",
    "if gender == \"1\":\n",
    "     if age>=5:\n",
    "        print(\"he can got to movie\")\n",
    "     if age>=23:\n",
    "        print(\"He can get married\")\n",
    "     if age>=18 and age<=34:\n",
    "       print(\"He can apply for govt gobs\")\n",
    "elif  gender == \"2\": \n",
    "    if age>=7:\n",
    "         print(\"she can got to movie\")\n",
    "    if age >= 18:\n",
    "        print(\"sHe can apply for voting\")\n",
    "    if age>=23:\n",
    "        print(\"sHe can get married\")\n",
    "    if age>=18 and age<=34:\n",
    "        print(\"sHe can apply for govt gobs\")"
   ]
  },
  {
   "cell_type": "markdown",
   "id": "330599ba-ee90-408c-88cb-c57448f3bd0a",
   "metadata": {},
   "source": [
    "### 23. operating systems:\n",
    "\n",
    "### 1.windows\n",
    "\n",
    "### 2.android\n",
    "\n",
    "### 3.mac\n",
    "\n",
    "### Enter an option:\n",
    "\n",
    "### If the user enters 1 then show \"Goto first floor and buy windows laptop or mobile\"\n",
    "\n",
    "### If the user enters 2 then show \"Goto second floor and buy adroid mobiles\"\n",
    "\n",
    "### If the user enters 3 then show \"Goto third floor and buy mac laptop or iphones\"\n",
    "\n",
    "### If the user enters other than 1 or 2 or 3 then show \"There is only three floors, please select 1 or 2 or 3\""
   ]
  },
  {
   "cell_type": "code",
   "execution_count": 5,
   "id": "9765a5e7-706e-49d0-bc0f-8e0c54310aad",
   "metadata": {},
   "outputs": [
    {
     "name": "stdout",
     "output_type": "stream",
     "text": [
      "Operating Systems:\n",
      "\t1.Windows\n",
      "\t2.Android\n",
      "\t3.MAC\n"
     ]
    },
    {
     "name": "stdout",
     "output_type": "stream",
     "text": [
      "Enter the option(1-3): 2\n"
     ]
    },
    {
     "name": "stdout",
     "output_type": "stream",
     "text": [
      "Go to second floor and buy android mobiles\n"
     ]
    }
   ],
   "source": [
    "print(\"Operating Systems:\\n\\t1.Windows\\n\\t2.Android\\n\\t3.MAC\")\n",
    " \n",
    "option = input(\"Enter the option(1-3):\")\n",
    "\n",
    "# Checks if option is 1\n",
    "\n",
    "if option == '1':\n",
    "\n",
    "    print(\"Go to first floor and buy windows laptop or mobile\")\n",
    "\n",
    "# Checks if option is 2 \n",
    "\n",
    "elif option == '2':\n",
    "\n",
    "    print(\"Go to second floor and buy android mobiles\")\n",
    "\n",
    "# Checks if option is 3\n",
    "\n",
    "elif option == '3':\n",
    "\n",
    "    print(\"Go to third floor and buy mac laptop or iphones\")\n",
    "\n",
    "else:\n",
    "\n",
    "    print(\"There is only three floors, please select 1 or 2 or 3\")\n"
   ]
  },
  {
   "cell_type": "markdown",
   "id": "e0f022ba-c68d-4eae-838d-06d3722929a7",
   "metadata": {},
   "source": [
    "### 24.Given an age, figure out whether someone's a baby, toddler, child, teenager, adult or old codger."
   ]
  },
  {
   "cell_type": "code",
   "execution_count": 2,
   "id": "6a82a8c9-477c-4764-adc9-054cc1e540d0",
   "metadata": {},
   "outputs": [
    {
     "name": "stdout",
     "output_type": "stream",
     "text": [
      "Enter the age:  6\n"
     ]
    },
    {
     "name": "stdout",
     "output_type": "stream",
     "text": [
      "Child\n"
     ]
    }
   ],
   "source": [
    "age = int(input(\"Enter the age: \"))\n",
    " \n",
    "# Determine the category based on age\n",
    "\n",
    "if age < 2:\n",
    "\n",
    "    print(\"Baby\")\n",
    "\n",
    "elif 2 <= age < 4:\n",
    "\n",
    "    print(\"Toddler\")\n",
    "\n",
    "elif 4 <= age < 13:\n",
    "\n",
    "    print(\"Child\")\n",
    "\n",
    "elif 13 <= age < 20:\n",
    "\n",
    "    print(\"Teenager\")\n",
    "\n",
    "elif 20 <= age < 65:\n",
    "\n",
    "    print(\"Adult\")\n",
    "\n",
    "else:\n",
    "\n",
    "    print(\"Old Codger\")\n",
    " "
   ]
  },
  {
   "cell_type": "markdown",
   "id": "85318268-094c-4efb-890f-c1d4772b8b1f",
   "metadata": {},
   "source": [
    "### 25.Take two number a,b from the user and check whether a is divisible by b or not"
   ]
  },
  {
   "cell_type": "code",
   "execution_count": 1,
   "id": "56aa7175-26e6-4c82-80a1-9c044b16c351",
   "metadata": {},
   "outputs": [
    {
     "name": "stdout",
     "output_type": "stream",
     "text": [
      "Enter number a: 45\n",
      "Enter number b: 87\n"
     ]
    },
    {
     "name": "stdout",
     "output_type": "stream",
     "text": [
      "45.0 is not divisible by 87.0\n"
     ]
    }
   ],
   "source": [
    "a = input(\"Enter number a:\")\n",
    "b= input(\"Enter number b:\")\n",
    "a = float(a)\n",
    "b = float(b)\n",
    "if a%b == 0:\n",
    "    print(f\"{a} is divisible by {b}\")\n",
    "else:\n",
    "    print(f\"{a} is not divisible by {b}\")"
   ]
  },
  {
   "cell_type": "markdown",
   "id": "42b4551d-d3ff-4fcc-9e9e-046c3a82bb79",
   "metadata": {},
   "source": [
    "### 26. Take a letter from the user and print that letter belongs to which category I.e is it a small letter or capital letter or number or special symbol"
   ]
  },
  {
   "cell_type": "code",
   "execution_count": 33,
   "id": "1d4005dc-b053-4765-9d88-e5a46c3ce809",
   "metadata": {},
   "outputs": [
    {
     "name": "stdout",
     "output_type": "stream",
     "text": [
      "enter any single letter h\n"
     ]
    },
    {
     "name": "stdout",
     "output_type": "stream",
     "text": [
      "The character is a lowercase letter.\n"
     ]
    }
   ],
   "source": [
    "char=input(\"enter any single letter\")\n",
    "if len(char) != 1:\n",
    "    print(\"Please enter only one character.\")\n",
    "else:\n",
    "    ascii_val = ord(char)\n",
    "    \n",
    "    if 65 <= ascii_val <= 90:\n",
    "        print(\"The character is an uppercase letter.\")\n",
    "    elif 97 <= ascii_val <= 122:\n",
    "        print(\"The character is a lowercase letter.\")\n",
    "    elif 48 <= ascii_val <= 57:\n",
    "        print(\"The character is a digit.\")\n",
    "    elif (32 <= ascii_val <= 47) or (58 <= ascii_val <= 64) or \\\n",
    "         (91 <= ascii_val <= 96) or (123 <= ascii_val <= 126):\n",
    "        print(\"The character is a special symbol.\")\n",
    "    else:\n",
    "        print(\"The character does not fall into any of the recognized categories.\")"
   ]
  },
  {
   "cell_type": "markdown",
   "id": "ff7d8e3c-6514-4b4a-906b-8ce7a6d06d87",
   "metadata": {},
   "source": [
    "## looping statements"
   ]
  },
  {
   "cell_type": "markdown",
   "id": "1e31dacb-9fe3-4583-ba8b-9b8d4522bab0",
   "metadata": {},
   "source": [
    "### 25. take a number from the user and check whether it is prime?"
   ]
  },
  {
   "cell_type": "code",
   "execution_count": 1,
   "id": "dcb87733-8347-4828-b1e0-88ad13062f55",
   "metadata": {},
   "outputs": [
    {
     "name": "stdout",
     "output_type": "stream",
     "text": [
      "Enter a number:-  20\n"
     ]
    },
    {
     "name": "stdout",
     "output_type": "stream",
     "text": [
      "Not Prime\n"
     ]
    }
   ],
   "source": [
    "n = int(input(\"Enter a number:- \"))\n",
    "\n",
    "if n <= 1:\n",
    "    print(\"Not Prime\")\n",
    "else:\n",
    "    c = 0\n",
    "    for i in range(1,n+1):\n",
    "        if n%i == 0:\n",
    "            c += 1\n",
    "    if c == 2:\n",
    "        print(\"It's Prime\")\n",
    "    else:\n",
    "        print(\"Not Prime\")\n"
   ]
  },
  {
   "cell_type": "markdown",
   "id": "233756b6-f1a1-4284-8937-dd5806cf05e1",
   "metadata": {},
   "source": [
    "### 26. take a string from the user and check contains only digits or not?"
   ]
  },
  {
   "cell_type": "code",
   "execution_count": 3,
   "id": "3d1d8d59-12db-4d4d-bf7a-deaf8abb6e52",
   "metadata": {},
   "outputs": [
    {
     "name": "stdout",
     "output_type": "stream",
     "text": [
      "Enter input:-  qwewq234\n"
     ]
    },
    {
     "name": "stdout",
     "output_type": "stream",
     "text": [
      "Does not contain only digits\n"
     ]
    }
   ],
   "source": [
    "string = input(\"Enter input:- \")\n",
    "\n",
    "if string.isdigit():\n",
    "    print(\"Contain only digits\")\n",
    "else:\n",
    "    print(\"Does not contain only digits\")"
   ]
  },
  {
   "cell_type": "markdown",
   "id": "31a82733-dc57-41b8-ab1c-bc0639cde2f3",
   "metadata": {},
   "source": [
    "### 27. take a string from the user and check contains only alphabets or not?"
   ]
  },
  {
   "cell_type": "code",
   "execution_count": 6,
   "id": "d5547e4a-b101-43b1-a607-eb3409614079",
   "metadata": {},
   "outputs": [
    {
     "name": "stdout",
     "output_type": "stream",
     "text": [
      "enter input hjbih34\n"
     ]
    },
    {
     "name": "stdout",
     "output_type": "stream",
     "text": [
      "does not contain only alphabets\n"
     ]
    }
   ],
   "source": [
    "string = input(\"enter input\")\n",
    "if string.isalpha():\n",
    "    print(\"contains only alphabets\")\n",
    "else:\n",
    "    print(\"does not contain only alphabets\")"
   ]
  },
  {
   "cell_type": "markdown",
   "id": "20b355d6-c393-4e94-9c8f-dde9ff4cb83a",
   "metadata": {},
   "source": [
    "### 28. take a string from the user and check contains only special chars or not?"
   ]
  },
  {
   "cell_type": "code",
   "execution_count": 8,
   "id": "a2570a37-3653-48ab-a3a2-1a8118c1009f",
   "metadata": {},
   "outputs": [
    {
     "name": "stdout",
     "output_type": "stream",
     "text": [
      "enter input @#\n"
     ]
    },
    {
     "name": "stdout",
     "output_type": "stream",
     "text": [
      "Contains only speical characters\n"
     ]
    }
   ],
   "source": [
    "string = input(\"enter input\")\n",
    "# if all(not i.isalnum() for i in string):\n",
    "#     print(\"The string contain only special characters\")\n",
    "# else:\n",
    "#     print(\"The string does not contain special characters\")\n",
    "\n",
    "c = 0\n",
    "for i in string:\n",
    "    if not i.isalnum():\n",
    "        c += 1 \n",
    "if c==len(string):\n",
    "    print(\"Contains only speical characters\")\n",
    "else:\n",
    "    print(\"Does not contain only special characters\")\n",
    "    \n"
   ]
  },
  {
   "cell_type": "markdown",
   "id": "edd6b8d5-cab9-45ee-91c0-80046d4c0461",
   "metadata": {},
   "source": [
    "### 29.take a string from the user and check contains only capital letters or not?"
   ]
  },
  {
   "cell_type": "code",
   "execution_count": 9,
   "id": "4020b6bb-3f70-47df-ac49-fcc4e2617e3c",
   "metadata": {},
   "outputs": [
    {
     "name": "stdout",
     "output_type": "stream",
     "text": [
      "Enter input:-  ERDXFCGVHBJN\n"
     ]
    },
    {
     "name": "stdout",
     "output_type": "stream",
     "text": [
      "Contains only capital letters\n"
     ]
    }
   ],
   "source": [
    "string = input(\"Enter input:- \")\n",
    "\n",
    "if all(i.isupper() for i in string):\n",
    "    print(\"Contains only capital letters\")\n",
    "else:\n",
    "    print(\"Does not contan only capital letters\")"
   ]
  },
  {
   "cell_type": "markdown",
   "id": "2367b9fc-70d8-4ed1-8244-81ddca31bea9",
   "metadata": {},
   "source": [
    "### 30.take a string from the user and check contains only small letters or not?"
   ]
  },
  {
   "cell_type": "code",
   "execution_count": 10,
   "id": "9281f4c6-3a79-4d4d-9486-bc7ed3a0b9be",
   "metadata": {},
   "outputs": [
    {
     "name": "stdout",
     "output_type": "stream",
     "text": [
      "Enter input:-  vghvbjhkm\n"
     ]
    },
    {
     "name": "stdout",
     "output_type": "stream",
     "text": [
      "Contains only small letters\n"
     ]
    }
   ],
   "source": [
    "string = input(\"Enter input:- \")\n",
    "\n",
    "if all(i.islower() for i in string):\n",
    "    print(\"Contains only small letters\")\n",
    "else:\n",
    "    print(\"Does not contain only small letters\")\n"
   ]
  },
  {
   "cell_type": "markdown",
   "id": "956a2c5f-be07-434c-a1bd-65aa13d83541",
   "metadata": {},
   "source": [
    "### 31. WAP to replace last n occurrence of give string.\n",
    "### For example:”apple,orange,apple,grape,orange,apple,apple,orange”\n",
    "### source: “apple”\n",
    "### last occurrences: 2\n",
    "### replace with: APPLE\n",
    "### output:”apple,orange,apple,grape,orange,APPLE,APPLE,orange”s: 2"
   ]
  },
  {
   "cell_type": "code",
   "execution_count": 11,
   "id": "172a8cc4-8995-446c-8e26-eea849bdcc6a",
   "metadata": {},
   "outputs": [
    {
     "name": "stdout",
     "output_type": "stream",
     "text": [
      "apple,orange,apple,grape,orange,APPLE,APPLE,orange\n"
     ]
    }
   ],
   "source": [
    "s = \"apple,orange,apple,grape,orange,apple,apple,orange\"\n",
    "list_s = s.split(\",\")\n",
    "new = list_s[::-1]\n",
    "c = 0\n",
    "for i in range (len(list_s[::-1])):\n",
    "    if new[i] == 'apple':\n",
    "        new[i] = \"APPLE\"\n",
    "        c += 1\n",
    "        if c == 2:\n",
    "            break       \n",
    "        \n",
    "print(\",\".join(new[::-1]))   "
   ]
  },
  {
   "cell_type": "markdown",
   "id": "93aab16f-b29c-4f2a-a453-d23aa5c803d4",
   "metadata": {},
   "source": [
    "### 32. WAP to check given string contains numbers or not. it should consider float numbers also."
   ]
  },
  {
   "cell_type": "code",
   "execution_count": 13,
   "id": "d2e323a0-975e-4613-be63-9b132ba00afc",
   "metadata": {},
   "outputs": [
    {
     "name": "stdout",
     "output_type": "stream",
     "text": [
      "Enter input:-  hguhj78\n"
     ]
    },
    {
     "name": "stdout",
     "output_type": "stream",
     "text": [
      "String contains number\n"
     ]
    }
   ],
   "source": [
    "string = input(\"Enter input:- \")\n",
    "c = 0\n",
    "for i in string:\n",
    "    if i.isdigit() or (string.count('.') == 1):\n",
    "        c += 1\n",
    "        break\n",
    "if c == 1:\n",
    "    print(\"String contains number\")\n",
    "else:\n",
    "    print(\"String does not contains number\")"
   ]
  },
  {
   "cell_type": "markdown",
   "id": "7fd7273a-e83b-474f-8923-6b6071e67fe6",
   "metadata": {},
   "source": [
    "### 33. Convert the total string in to lower case. Without using lower() function."
   ]
  },
  {
   "cell_type": "code",
   "execution_count": 14,
   "id": "dac66030-fc8e-47f1-bdbc-98553e611310",
   "metadata": {},
   "outputs": [
    {
     "name": "stdout",
     "output_type": "stream",
     "text": [
      "Enter input:-  SIRI\n"
     ]
    },
    {
     "name": "stdout",
     "output_type": "stream",
     "text": [
      "siri\n"
     ]
    }
   ],
   "source": [
    "string = input(\"Enter input:- \")\n",
    "res = \"\"\n",
    "for i in string:\n",
    "    res += chr((ord(i))+32)\n",
    "print(res)"
   ]
  },
  {
   "cell_type": "markdown",
   "id": "1979a618-79ef-4df2-8f8b-110bdc4af8a4",
   "metadata": {},
   "source": [
    "#### 34. Convert the total string in to upper case. Without using upper() function."
   ]
  },
  {
   "cell_type": "code",
   "execution_count": 16,
   "id": "75fd24fd-9481-4531-aa1a-1820e2151f4b",
   "metadata": {},
   "outputs": [
    {
     "name": "stdout",
     "output_type": "stream",
     "text": [
      "Enter input:-  apple\n"
     ]
    },
    {
     "name": "stdout",
     "output_type": "stream",
     "text": [
      "APPLE\n"
     ]
    }
   ],
   "source": [
    "string = input(\"Enter input:- \")\n",
    "res = \"\"\n",
    "for i in string:\n",
    "    res += chr(ord(i)-32)\n",
    "print(res)"
   ]
  },
  {
   "cell_type": "markdown",
   "id": "b51a4564-aa0e-4e5b-9a68-36f9fec15ebf",
   "metadata": {},
   "source": [
    "### 35. Show the below menu to the user until and until user select quit and display corresponding os message\n",
    "### Menu:\n",
    "### 1. windows\n",
    "### 2. Linux\n",
    "### 3. Mac#\n",
    "### 4. quit"
   ]
  },
  {
   "cell_type": "code",
   "execution_count": null,
   "id": "0b5a163e-45cd-4371-b41e-e80ee6159aae",
   "metadata": {},
   "outputs": [],
   "source": []
  },
  {
   "cell_type": "markdown",
   "id": "34930fdc-3b3f-45df-bfba-831d727e4246",
   "metadata": {},
   "source": [
    "### 36. take a string from the user and check contains at least one digit or not?"
   ]
  },
  {
   "cell_type": "code",
   "execution_count": 17,
   "id": "fb10cdd0-fea8-4dda-9d3a-c8b99d20a1b6",
   "metadata": {},
   "outputs": [
    {
     "name": "stdout",
     "output_type": "stream",
     "text": [
      "Enter input:-  132fghjbn\n"
     ]
    },
    {
     "name": "stdout",
     "output_type": "stream",
     "text": [
      "String contains atleast one digit\n"
     ]
    }
   ],
   "source": [
    "string = input(\"Enter input:- \")\n",
    "\n",
    "for i in string:\n",
    "    if i.isdigit():\n",
    "        print(\"String contains atleast one digit\")\n",
    "        break\n",
    "else:\n",
    "    print(\"String does not contains digit\")\n"
   ]
  },
  {
   "cell_type": "markdown",
   "id": "f13b3e22-be05-4f0b-ae91-d857fbfddce0",
   "metadata": {},
   "source": [
    "### 37. take a string from the user and check contains at least one alphabets or not?"
   ]
  },
  {
   "cell_type": "code",
   "execution_count": 18,
   "id": "2a9f5e94-3974-4738-b588-bf490fe5572f",
   "metadata": {},
   "outputs": [
    {
     "name": "stdout",
     "output_type": "stream",
     "text": [
      "Enter input:-  dfxchgh34567#$%^&\n"
     ]
    },
    {
     "name": "stdout",
     "output_type": "stream",
     "text": [
      "String contains atleast one alphabets\n"
     ]
    }
   ],
   "source": [
    "string = input(\"Enter input:- \")\n",
    "\n",
    "for i in string:\n",
    "    if i.isalpha():\n",
    "        print(\"String contains atleast one alphabets\")\n",
    "        break\n",
    "else:\n",
    "    print(\"String does not contains atleat one alphabets\")\n"
   ]
  },
  {
   "cell_type": "markdown",
   "id": "868574bb-4d0b-4e11-8511-d00569934d47",
   "metadata": {},
   "source": [
    "### 38. take a string from the user and check contains at least one chars or not?"
   ]
  },
  {
   "cell_type": "code",
   "execution_count": 19,
   "id": "339c01fa-6307-479b-a244-35e78321c321",
   "metadata": {},
   "outputs": [
    {
     "name": "stdout",
     "output_type": "stream",
     "text": [
      "Enter input:-  gh\n"
     ]
    },
    {
     "name": "stdout",
     "output_type": "stream",
     "text": [
      "String contains at least one chars\n"
     ]
    }
   ],
   "source": [
    "string = input(\"Enter input:- \")\n",
    "\n",
    "if len(string)>=1:\n",
    "    print(\"String contains at least one chars\")\n",
    "    \n",
    "else: \n",
    "    print(\"String does not contains at least one chars\")\n"
   ]
  },
  {
   "cell_type": "markdown",
   "id": "ef5fcc46-6ab0-4dda-b16d-78f08527dc2e",
   "metadata": {},
   "source": [
    "### 39. take a string from the user and check contains at least one capital letter or not?"
   ]
  },
  {
   "cell_type": "code",
   "execution_count": 21,
   "id": "479d12f3-b25c-4334-bd5a-9e46bcf73f6b",
   "metadata": {},
   "outputs": [
    {
     "name": "stdout",
     "output_type": "stream",
     "text": [
      "Enter input:-  fchgvbj\n"
     ]
    },
    {
     "name": "stdout",
     "output_type": "stream",
     "text": [
      "String does not contains at least one capital letter\n"
     ]
    }
   ],
   "source": [
    "string = input(\"Enter input:- \")\n",
    "\n",
    "for i in string:\n",
    "    if i.isupper():\n",
    "        print(\"String contains at least one capital letter\")\n",
    "        break\n",
    "else:\n",
    "    print(\"String does not contains at least one capital letter\")\n",
    "\n"
   ]
  },
  {
   "cell_type": "markdown",
   "id": "1c5f8057-e4d4-4f1a-8da2-532e26e84e17",
   "metadata": {},
   "source": [
    "### 40. take a string from the user and check contains at least one small letter or not?"
   ]
  },
  {
   "cell_type": "code",
   "execution_count": 22,
   "id": "103a607e-7fe9-4cfd-81d6-be728d604f4c",
   "metadata": {},
   "outputs": [
    {
     "name": "stdout",
     "output_type": "stream",
     "text": [
      "Enter input:-  ghHJBKN\n"
     ]
    },
    {
     "name": "stdout",
     "output_type": "stream",
     "text": [
      "String contains at least one lower letter\n"
     ]
    }
   ],
   "source": [
    "string = input(\"Enter input:- \")\n",
    "\n",
    "for i in string:\n",
    "    if i.islower():\n",
    "        print(\"String contains at least one lower letter\")\n",
    "        break\n",
    "else:\n",
    "    print(\"String does not contains at least one lower letter\")\n"
   ]
  },
  {
   "cell_type": "markdown",
   "id": "03a8f980-1617-40ae-800b-5df84d9f2c1c",
   "metadata": {},
   "source": [
    "### 41. Print the first 100 odd numbers"
   ]
  },
  {
   "cell_type": "code",
   "execution_count": 23,
   "id": "11060b42-18aa-4c32-b937-70a7e52ea4d1",
   "metadata": {},
   "outputs": [
    {
     "name": "stdout",
     "output_type": "stream",
     "text": [
      "1 3 5 7 9 11 13 15 17 19 21 23 25 27 29 31 33 35 37 39 41 43 45 47 49 51 53 55 57 59 61 63 65 67 69 71 73 75 77 79 81 83 85 87 89 91 93 95 97 99 101 103 105 107 109 111 113 115 117 119 121 123 125 127 129 131 133 135 137 139 141 143 145 147 149 151 153 155 157 159 161 163 165 167 169 171 173 175 177 179 181 183 185 187 189 191 193 195 197 199 \n"
     ]
    }
   ],
   "source": [
    "c = 0\n",
    "res = \"\"\n",
    "odd = 1\n",
    "while 100 > c:\n",
    "    if odd%2 != 0:\n",
    "        res += str(odd)+\" \"\n",
    "        c += 1\n",
    "    odd += 1\n",
    "        \n",
    "print(res)      \n"
   ]
  },
  {
   "cell_type": "markdown",
   "id": "fdc29e44-b993-4bf2-b0a4-03df62c508fe",
   "metadata": {},
   "source": [
    "### 42. Determine the factors of a number entered by the user"
   ]
  },
  {
   "cell_type": "code",
   "execution_count": 24,
   "id": "399e2701-a645-4ce9-b2a7-34ca2f66a91d",
   "metadata": {},
   "outputs": [
    {
     "name": "stdout",
     "output_type": "stream",
     "text": [
      " 18\n"
     ]
    },
    {
     "name": "stdout",
     "output_type": "stream",
     "text": [
      "1\n",
      "2\n",
      "3\n",
      "6\n",
      "9\n",
      "18\n"
     ]
    }
   ],
   "source": [
    "user = int(input())\n",
    "for i in range(1, user+1):\n",
    "    if user%i == 0:\n",
    "        print(i)\n",
    "            "
   ]
  },
  {
   "cell_type": "markdown",
   "id": "f1b2fe26-a05f-406b-af7f-d3752cf3f986",
   "metadata": {},
   "source": [
    "### 43. Play a number guessing game (User enters a guess, you print YES or Higher or Lower). \n",
    "### This should continue until and until user gives a correct number or want to quit in the middle.\n",
    "### Get a hidden number by using random.randint(1,100)"
   ]
  },
  {
   "cell_type": "code",
   "execution_count": null,
   "id": "137f3b52-73b8-42f4-b01c-6027716aca7a",
   "metadata": {},
   "outputs": [],
   "source": []
  },
  {
   "cell_type": "markdown",
   "id": "1d631ae4-8cb1-4667-83bc-ddc918f0b509",
   "metadata": {},
   "source": [
    "### 44. Take two numbers from the user a,b check whether a is divisible by b or not?"
   ]
  },
  {
   "cell_type": "code",
   "execution_count": 25,
   "id": "7b6321b6-0b54-4705-af75-4c209a0c062c",
   "metadata": {},
   "outputs": [
    {
     "name": "stdout",
     "output_type": "stream",
     "text": [
      "Enter any number:  45\n",
      "Enter any number:  76\n"
     ]
    },
    {
     "name": "stdout",
     "output_type": "stream",
     "text": [
      "a is not divisible by b\n"
     ]
    }
   ],
   "source": [
    "a=int(input(\"Enter any number: \"))\n",
    "b=int(input(\"Enter any number: \"))\n",
    "\n",
    "if a%b == 0:\n",
    "    print(\"a is divisible by b\")\n",
    "else:\n",
    "    print(\"a is not divisible by b\")\n"
   ]
  },
  {
   "cell_type": "markdown",
   "id": "1dd56daa-67ea-42e2-8c5f-116e35720832",
   "metadata": {},
   "source": [
    "### 45. Find the sum of all the multiples of 3 or 5 below 1000"
   ]
  },
  {
   "cell_type": "code",
   "execution_count": 26,
   "id": "48bd4673-4b17-4513-b52b-423e0e3bb585",
   "metadata": {},
   "outputs": [
    {
     "name": "stdout",
     "output_type": "stream",
     "text": [
      "3 5 6 9 10 12 15 18 20 21 24 25 27 30 33 35 36 39 40 42 45 48 50 51 54 55 57 60 63 65 66 69 70 72 75 78 80 81 84 85 87 90 93 95 96 99 100 102 105 108 110 111 114 115 117 120 123 125 126 129 130 132 135 138 140 141 144 145 147 150 153 155 156 159 160 162 165 168 170 171 174 175 177 180 183 185 186 189 190 192 195 198 200 201 204 205 207 210 213 215 216 219 220 222 225 228 230 231 234 235 237 240 243 245 246 249 250 252 255 258 260 261 264 265 267 270 273 275 276 279 280 282 285 288 290 291 294 295 297 300 303 305 306 309 310 312 315 318 320 321 324 325 327 330 333 335 336 339 340 342 345 348 350 351 354 355 357 360 363 365 366 369 370 372 375 378 380 381 384 385 387 390 393 395 396 399 400 402 405 408 410 411 414 415 417 420 423 425 426 429 430 432 435 438 440 441 444 445 447 450 453 455 456 459 460 462 465 468 470 471 474 475 477 480 483 485 486 489 490 492 495 498 500 501 504 505 507 510 513 515 516 519 520 522 525 528 530 531 534 535 537 540 543 545 546 549 550 552 555 558 560 561 564 565 567 570 573 575 576 579 580 582 585 588 590 591 594 595 597 600 603 605 606 609 610 612 615 618 620 621 624 625 627 630 633 635 636 639 640 642 645 648 650 651 654 655 657 660 663 665 666 669 670 672 675 678 680 681 684 685 687 690 693 695 696 699 700 702 705 708 710 711 714 715 717 720 723 725 726 729 730 732 735 738 740 741 744 745 747 750 753 755 756 759 760 762 765 768 770 771 774 775 777 780 783 785 786 789 790 792 795 798 800 801 804 805 807 810 813 815 816 819 820 822 825 828 830 831 834 835 837 840 843 845 846 849 850 852 855 858 860 861 864 865 867 870 873 875 876 879 880 882 885 888 890 891 894 895 897 900 903 905 906 909 910 912 915 918 920 921 924 925 927 930 933 935 936 939 940 942 945 948 950 951 954 955 957 960 963 965 966 969 970 972 975 978 980 981 984 985 987 990 993 995 996 999 \n",
      "The sum of all the multiples of 3 or 5 below 1000 is= 233168\n"
     ]
    }
   ],
   "source": [
    "op = 0\n",
    "for i in range(1,1000):\n",
    "    if i%3==0 or i%5==0:\n",
    "        print(i,end=\" \")\n",
    "        op += i\n",
    "print()\n",
    "print(\"The sum of all the multiples of 3 or 5 below 1000 is=\",op)\n",
    "\n"
   ]
  },
  {
   "cell_type": "markdown",
   "id": "e936c2e6-98b8-41d5-bbdf-0364e0e581e7",
   "metadata": {},
   "source": [
    "### 46. Write a program to find out big of two numbers"
   ]
  },
  {
   "cell_type": "code",
   "execution_count": 27,
   "id": "1815d9ee-4fe8-4f8c-b28b-81ad7d14000e",
   "metadata": {},
   "outputs": [
    {
     "name": "stdout",
     "output_type": "stream",
     "text": [
      "Enter any number:  15\n",
      "Enter any number:  67\n"
     ]
    },
    {
     "name": "stdout",
     "output_type": "stream",
     "text": [
      "67 is big\n"
     ]
    }
   ],
   "source": [
    "a=int(input(\"Enter any number: \"))\n",
    "b=int(input(\"Enter any number: \"))\n",
    "if a>b:\n",
    "    print(\"{} is big\".format(a))\n",
    "else:\n",
    "    print(\"{} is big\".format(b))"
   ]
  },
  {
   "cell_type": "markdown",
   "id": "b288cde1-bd37-417d-8e66-1bc0d792ec2b",
   "metadata": {},
   "source": [
    "### 47. Write a program to find out biggest number in the given numbers."
   ]
  },
  {
   "cell_type": "code",
   "execution_count": 28,
   "id": "ad8419a5-2e17-4cdb-9a7e-0c2fcd2970b5",
   "metadata": {},
   "outputs": [
    {
     "name": "stdout",
     "output_type": "stream",
     "text": [
      "The biggest number in the given numbers is= 70\n",
      "The smallest number in the given numbers is= 0\n"
     ]
    }
   ],
   "source": [
    "a=[1, 2, 5, 33, 6, 70, 9, 0, 3, 4]\n",
    "ma=0\n",
    "mi = a[0]\n",
    "for i in a:\n",
    "    if int(i)>ma:\n",
    "        ma=i\n",
    "print(\"The biggest number in the given numbers is=\",ma)\n",
    "for i in a:\n",
    "    if int(i)<mi:\n",
    "        mi=i\n",
    "print(\"The smallest number in the given numbers is=\",mi)\n",
    "\n"
   ]
  },
  {
   "cell_type": "markdown",
   "id": "313bb12d-6d0c-4e57-8624-c348033c5302",
   "metadata": {},
   "source": [
    "### 48. find out the index of third occurrence of given substring"
   ]
  },
  {
   "cell_type": "code",
   "execution_count": 29,
   "id": "a0662afe-1d2e-4ea9-825d-e4db75167df0",
   "metadata": {},
   "outputs": [
    {
     "name": "stdout",
     "output_type": "stream",
     "text": [
      "Enter any string:  HGFCGVHB\n"
     ]
    },
    {
     "name": "stdout",
     "output_type": "stream",
     "text": [
      "3rd occurance of the string=F\n"
     ]
    }
   ],
   "source": [
    "s = input(\"Enter any string: \")\n",
    "n = 3\n",
    "print(\"{}rd occurance of the string={}\".format(n,s[n-1]))\n"
   ]
  },
  {
   "cell_type": "markdown",
   "id": "fbd37b6a-1362-48e3-b7bf-b8624aa40973",
   "metadata": {},
   "source": [
    "### 49. find out the index nth occurrence of given substring"
   ]
  },
  {
   "cell_type": "code",
   "execution_count": 32,
   "id": "4f46d3ac-0b67-43c7-940a-1e79847c2414",
   "metadata": {},
   "outputs": [
    {
     "name": "stdout",
     "output_type": "stream",
     "text": [
      "Enter any string:  hello\n",
      "Enter index number:  3\n"
     ]
    },
    {
     "name": "stdout",
     "output_type": "stream",
     "text": [
      "3 occurance of the string is=l\n"
     ]
    }
   ],
   "source": [
    "\n",
    "s = input(\"Enter any string: \")\n",
    "n=int(input(\"Enter index number: \"))\n",
    "print(\"{} occurance of the string is={}\".format(n,s[n-1]))\n",
    "\n"
   ]
  },
  {
   "cell_type": "markdown",
   "id": "1fe10aca-18f2-4efb-91aa-7797e75b5748",
   "metadata": {},
   "source": [
    "### 51. print the number in proper mathematical way.\n",
    "### Consider that we have 6 digit numbers.\n",
    "### Number format WAP> 10 -> 000010\n",
    "### 100 -> 000100\n",
    "### 1000 -> 001000\n",
    "### 2345678 -> 2345678\n",
    "### If the number has more than 6 digits then print as it is."
   ]
  },
  {
   "cell_type": "code",
   "execution_count": 1,
   "id": "3bbdb3b3-4e56-4f60-b765-f75723d76de9",
   "metadata": {},
   "outputs": [
    {
     "name": "stdout",
     "output_type": "stream",
     "text": [
      "Enter number:  65\n"
     ]
    },
    {
     "name": "stdout",
     "output_type": "stream",
     "text": [
      "000065\n"
     ]
    }
   ],
   "source": [
    "number = input(\"Enter number: \")\n",
    "if len(number) >6:\n",
    "    print(number)\n",
    "else:\n",
    "    print(\"%06d\" % int(number))"
   ]
  },
  {
   "cell_type": "markdown",
   "id": "956419f3-63ee-487b-8f40-72c62fd5bfe6",
   "metadata": {},
   "source": [
    "### 50. Take some single digit numbers from the user and findout min, maximum, sum, average"
   ]
  },
  {
   "cell_type": "code",
   "execution_count": 2,
   "id": "297b59ed-e34d-4e0b-aaea-9d1cb889bf2d",
   "metadata": {},
   "outputs": [
    {
     "name": "stdout",
     "output_type": "stream",
     "text": [
      "Enter numbers separated by spaces:  2\n"
     ]
    },
    {
     "name": "stdout",
     "output_type": "stream",
     "text": [
      "Minimum: 2\n",
      "Maximum: 2\n",
      "Sum: 2\n",
      "Average: 2.0\n"
     ]
    }
   ],
   "source": [
    "numbers = input(\"Enter numbers separated by spaces: \").split()\n",
    "numbers = [int(num) for num in numbers if len(num) == 1]\n",
    "\n",
    "if not numbers:\n",
    "    print(\"No valid single-digit numbers were entered.\")\n",
    "else:\n",
    "    minimum = numbers[0]\n",
    "    maximum = numbers[0]\n",
    "    sum = 0\n",
    "    for num in numbers:\n",
    "        if num < minimum:\n",
    "            minimum = num\n",
    "        if num > maximum:\n",
    "            maximum = num\n",
    "        sum += num\n",
    "\n",
    "    average = sum / len(numbers)\n",
    "\n",
    "    print(\"Minimum:\", minimum)\n",
    "    print(\"Maximum:\", maximum)\n",
    "    print(\"Sum:\", sum)\n",
    "    print(\"Average:\", average)"
   ]
  },
  {
   "cell_type": "markdown",
   "id": "91ba676e-b400-4366-8ced-fc8349e6fe2a",
   "metadata": {},
   "source": [
    "### 52. names =\"emp1,emp2,emp3,emp4\" iterate through the employee names."
   ]
  },
  {
   "cell_type": "code",
   "execution_count": 3,
   "id": "738ef06c-e3d9-40da-93ff-84d2e27fc9e5",
   "metadata": {},
   "outputs": [
    {
     "name": "stdout",
     "output_type": "stream",
     "text": [
      "emp1\n",
      "emp2\n",
      "emp3\n",
      "emp4\n"
     ]
    }
   ],
   "source": [
    "names = \"emp1,emp2,emp3,emp4\"\n",
    "\n",
    "# Split the string into a list of employee names\n",
    "employee_names = names.split(\",\")\n",
    "\n",
    "# Iterate through the employee names\n",
    "for name in employee_names:\n",
    "    print(name)\n",
    "    "
   ]
  },
  {
   "cell_type": "markdown",
   "id": "2b2e6d80-58ad-4486-a042-e7048f1bf9e7",
   "metadata": {},
   "source": [
    "### 53. Take actual string, source string, destination string. replce first nth occurrences of source string with destination string of actual string."
   ]
  },
  {
   "cell_type": "code",
   "execution_count": 6,
   "id": "5c489204-9530-4d75-aaa9-ca320e301dd8",
   "metadata": {},
   "outputs": [
    {
     "name": "stdout",
     "output_type": "stream",
     "text": [
      "Enter the actual string:  hello world siri\n",
      "Enter the source string to be replaced:  siri\n",
      "Enter the destination string:  hello\n",
      "Enter the number of occurrences to replace:  5\n"
     ]
    },
    {
     "name": "stdout",
     "output_type": "stream",
     "text": [
      "Modified string: hello world hello\n"
     ]
    }
   ],
   "source": [
    "# Taking inputs from the user\n",
    "actual_string = input(\"Enter the actual string: \")\n",
    "source_string = input(\"Enter the source string to be replaced: \")\n",
    "destination_string = input(\"Enter the destination string: \")\n",
    "n = int(input(\"Enter the number of occurrences to replace: \"))\n",
    "\n",
    "# Split the actual string by the source string\n",
    "split_string = actual_string.split(source_string)\n",
    "\n",
    "# Initialize an empty result string\n",
    "result = \"\"\n",
    "\n",
    "# Rebuild the string with replacements for the first n occurrences\n",
    "for i in range(len(split_string) - 1):\n",
    "    if i < n:\n",
    "        result += split_string[i] + destination_string\n",
    "    else:\n",
    "        result += split_string[i] + source_string\n",
    "\n",
    "# Add the last part of the string\n",
    "result += split_string[-1]\n",
    "\n",
    "# Output the final string\n",
    "print(\"Modified string:\", result)"
   ]
  },
  {
   "cell_type": "markdown",
   "id": "903aa64a-e87d-41db-adf0-08f91ce1ed89",
   "metadata": {},
   "source": [
    "### 54. Take a two numbers from the user and do below menu driven operations\n",
    "\n",
    "### 1. addition\n",
    "\n",
    "### 2. multiples\n",
    "\n",
    "### 3.division\n",
    "\n",
    "### 4.sqrt\n",
    "\n",
    "### 5. pow a**b\n",
    "\n",
    "### 6.subtraction\n",
    "\n",
    "### After selection do the corresponding operation.\n",
    "\n",
    "### \n",
    "### Note: user may give int, or float numbers. You should check whether it is proper digits or not. I.e the user given string should be in the position to convert to float. Other wise show the “inproper string given” Error."
   ]
  },
  {
   "cell_type": "code",
   "execution_count": null,
   "id": "14c3fe60-558d-49b6-ab44-14f5a4c6c265",
   "metadata": {},
   "outputs": [],
   "source": [
    "# Taking two inputs from the user\n",
    "num1 = input(\"Enter the first number: \")\n",
    "num2 = input(\"Enter the second number: \")\n",
    "\n",
    "# Checking if both inputs can be converted to float manually\n",
    "if ('.' in num1 or num1.isdigit()) and ('.' in num2 or num2.isdigit()):\n",
    "    num1 = float(num1)\n",
    "    num2 = float(num2)\n",
    "\n",
    "    # Displaying the menu\n",
    "    print(\"\\nMenu:\")\n",
    "    print(\"1. Addition\")\n",
    "    print(\"2. Multiplication\")\n",
    "    print(\"3. Division\")\n",
    "    print(\"4. Square Root\")\n",
    "    print(\"5. Power (a^b)\")\n",
    "    print(\"6. Subtraction\")\n",
    "    print(\"7. Quit\")\n",
    "\n",
    "    # Taking the user's choice\n",
    "    choice = input(\"Select an operation (1-7): \")\n",
    "\n",
    "    # If statement for each menu option\n",
    "    if choice == '1':\n",
    "        print(f\"Addition: {num1} + {num2} = {num1 + num2}\")\n",
    "\n",
    "    elif choice == '2':\n",
    "        print(f\"Multiplication: {num1} * {num2} = {num1 * num2}\")\n",
    "\n",
    "    elif choice == '3':\n",
    "        if num2 != 0:\n",
    "            print(f\"Division: {num1} / {num2} = {num1 / num2}\")\n",
    "        else:\n",
    "            print(\"Error: Division by zero is not allowed.\")\n",
    "\n",
    "    elif choice == '4':\n",
    "        from math import sqrt\n",
    "        if num1 >= 0:\n",
    "            print(f\"Square Root of {num1} is {sqrt(num1)}\")\n",
    "        else:\n",
    "            print(\"Error: Square root of negative numbers is not defined.\")\n",
    "\n",
    "        if num2 >= 0:\n",
    "            print(f\"Square Root of {num2} is {sqrt(num2)}\")\n",
    "        else:\n",
    "            print(\"Error: Square root of negative numbers is not defined.\")\n",
    "\n",
    "    elif choice == '5':\n",
    "        print(f\"Power: {num1}^{num2} = {num1 ** num2}\")\n",
    "\n",
    "    elif choice == '6':\n",
    "        print(f\"Subtraction: {num1} - {num2} = {num1 - num2}\")\n",
    "\n",
    "    elif choice == '7':\n",
    "        print(\"Exiting...\")\n",
    "\n",
    "    else:\n",
    "        print(\"Invalid choice. Please select a valid option.\")\n",
    "\n",
    "else:\n",
    "    print(\"Error: Improper string given. Please enter valid numbers.\")"
   ]
  },
  {
   "cell_type": "markdown",
   "id": "65973811-58d4-4354-acc8-2b3a2de03d69",
   "metadata": {},
   "source": [
    "### 55. Take numbers from the user and find out min, maximum, sum, average"
   ]
  },
  {
   "cell_type": "code",
   "execution_count": 14,
   "id": "d75484e7-8c7a-4e80-836c-535dd840f0ed",
   "metadata": {},
   "outputs": [
    {
     "name": "stdout",
     "output_type": "stream",
     "text": [
      "0\n",
      "1\n",
      "2\n",
      "3\n",
      "4\n",
      "5\n",
      "6\n",
      "7\n",
      "8\n",
      "9\n"
     ]
    }
   ],
   "source": [
    "n =range(10)\n",
    "for i in n:\n",
    "    print(i)"
   ]
  },
  {
   "cell_type": "code",
   "execution_count": 15,
   "id": "378cd24e-147a-4444-9954-879863654ac0",
   "metadata": {},
   "outputs": [
    {
     "name": "stdout",
     "output_type": "stream",
     "text": [
      "enter the number of numbers: 3\n",
      "Enter number1 12\n",
      "Enter number2 23\n",
      "Enter number3 34\n"
     ]
    },
    {
     "name": "stdout",
     "output_type": "stream",
     "text": [
      "maximum number =  34.0\n",
      "minimum number =  12.0\n",
      "sum of all numbers =  69.0\n",
      "average =  23.0\n"
     ]
    }
   ],
   "source": [
    "n = int(input('enter the number of numbers:'))#2\n",
    "max = None\n",
    "min = None\n",
    "add = 0\n",
    "avg = 0\n",
    "for i in range(n):# i in 0,1\n",
    "    number = float(input(f\"Enter number{i+1}\"))# number1 =23,# number2 = 34\n",
    "    add = add+number# 0+23 = 23, 23+34=57\n",
    "    avg = add/n# 23/2 = 11.5, 57/2 = 28.5\n",
    "    if max == None or max < number:#23<34, True\n",
    "        max = number# 23, #34\n",
    "    if min == None or min > number:# 23>34: false\n",
    "        min = number#23\n",
    "print(\"maximum number = \",max)\n",
    "print(\"minimum number = \",min)\n",
    "print(\"sum of all numbers = \",add)\n",
    "print(\"average = \",avg)"
   ]
  },
  {
   "cell_type": "markdown",
   "id": "0ed44848-d65e-45e9-9b20-0e3eb066451b",
   "metadata": {},
   "source": [
    "### 56. l=[1,2,3,5,7,8,9,10,11,12,13,20,22,23,24,25,26,27,20,21,22,4] find out how many even numbers are there and how many odd numbers are there and how many positive numbers are there and how many negative numbers are there and how many prime numbers are there and how many perfect numbers are there and how many Armstrong numbers are there and how many palindrome numbers are there."
   ]
  },
  {
   "cell_type": "code",
   "execution_count": 1,
   "id": "1faba739-e61e-49c3-98dc-2324d038b03f",
   "metadata": {},
   "outputs": [
    {
     "name": "stdout",
     "output_type": "stream",
     "text": [
      " 68\n"
     ]
    }
   ],
   "source": [
    "l = list(map(int,input().split()))\n",
    "even_numbers = [i for i in l if i%2==0 ]\n",
    "odd_numbers = [i for i in l if i%2==1]\n",
    "positive_numbers = [i for i in l if i>0]\n",
    "negative_numbers = [i for i in l if i<0]\n",
    "def check_prime_numbers(l):\n",
    "    prime_count = 0\n",
    "    for i in l:\n",
    "        count = 0 \n",
    "        for j in range(2,i):\n",
    "            if i%j == 0 :\n",
    "                count += 1\n",
    "        if count == 0 :\n",
    "            prime_count += 1\n",
    "    return prime_count\n",
    "def count_perfect_numbers(l):\n",
    "    perfect_number_count = 0\n",
    "    for i in l:\n",
    "        sum_prime = 0\n",
    "        count = 0\n",
    "        for j in range(2,i):\n",
    "            if i%j ==0:\n",
    "                count += 1\n",
    "        if count == 0:\n",
    "            sum_prime += 1\n",
    "        if sum_prime == i:\n",
    "            perfect_number_count +=1\n",
    "    return perfect_number_count\n",
    "print(len(even_numbers))\n",
    "print(len(odd_numbers))\n",
    "print(len(positive_numbers))\n",
    "print(len(negative_numbers))\n",
    "print(check_prime_numbers(l))\n",
    "print(count_perfect_numbers(l))    \n"
   ]
  },
  {
   "cell_type": "markdown",
   "id": "4730470e-9a53-4b86-9487-6f9abf8e2453",
   "metadata": {},
   "source": [
    "### 57. Take a string from the user and find out how many digits are there, how many special symbols are there, how many small letters are there, how many caps are there. "
   ]
  },
  {
   "cell_type": "code",
   "execution_count": 6,
   "id": "24f486a2-7b21-4dd2-8594-0856803b9d00",
   "metadata": {},
   "outputs": [
    {
     "name": "stdout",
     "output_type": "stream",
     "text": [
      "Enter a string :  !secfdbbfgb_98\n"
     ]
    },
    {
     "name": "stdout",
     "output_type": "stream",
     "text": [
      "Digits: 4\n",
      "Special symbols: 10\n",
      "Small letters: 7\n",
      "Capital letters: 1\n"
     ]
    }
   ],
   "source": [
    "userinput = input(\"Enter a string : \")\n",
    "digit_count = 0\n",
    "symbol_count = 0\n",
    "small_letter = 0\n",
    "captial_count = 0\n",
    "for i in user_input:\n",
    "    if (i >= \"a\" and i <= \"z\"):\n",
    "        small_letter += 1\n",
    "    if (i >= \"A\" and i <= \"Z\"):\n",
    "        captial_count += 1\n",
    "    if (i >= \"0\" and i <= \"9\"):\n",
    "        digit_count += 1\n",
    "    else:\n",
    "        symbol_count += 1\n",
    "print(\"Digits:\", digit_count)\n",
    "print(\"Special symbols:\", symbol_count)\n",
    "print(\"Small letters:\", small_letter)\n",
    "print(\"Capital letters:\", captial_count)\n",
    " "
   ]
  },
  {
   "cell_type": "markdown",
   "id": "866591c5-d06c-48cf-9356-42f6ff20c8ee",
   "metadata": {},
   "source": [
    "### 58. Take a char from the user and find out how many number of occurrences are there in given string "
   ]
  },
  {
   "cell_type": "code",
   "execution_count": 1,
   "id": "8bea3e23-1db1-42b3-a8ef-b1b07120407d",
   "metadata": {},
   "outputs": [
    {
     "name": "stdout",
     "output_type": "stream",
     "text": [
      "Enter a string : siri\n",
      "Enter a char : i\n"
     ]
    },
    {
     "name": "stdout",
     "output_type": "stream",
     "text": [
      "no of occurances are :  2\n"
     ]
    }
   ],
   "source": [
    "user_input = input(\"Enter a string :\")\n",
    "user_input_1 = input(\"Enter a char :\")\n",
    "count = 0\n",
    "for i in user_input:\n",
    "\n",
    "  if i == user_input_1:\n",
    "        count += 1\n",
    "print(\"no of occurances are : \", count)\n",
    " "
   ]
  },
  {
   "cell_type": "code",
   "execution_count": 2,
   "id": "aa4cc9b0-7efc-47b2-b032-c652edbf11dd",
   "metadata": {},
   "outputs": [
    {
     "name": "stdout",
     "output_type": "stream",
     "text": [
      "Enter a string : srividya\n",
      "Enter a char : i\n"
     ]
    },
    {
     "name": "stdout",
     "output_type": "stream",
     "text": [
      "no of occurances are :  2\n"
     ]
    }
   ],
   "source": [
    "user_input = input(\"Enter a string :\")\n",
    "user_input_1 = input(\"Enter a char :\")count = 0\n",
    "for i in user_input:\n",
    "    if i == user_input_1:\n",
    "        count += 1\n",
    "print(\"no of occurances are : \", count)"
   ]
  },
  {
   "cell_type": "markdown",
   "id": "da37b729-c0ed-404b-b31f-d3aee269561d",
   "metadata": {},
   "source": [
    "### 59. Take a element from the user and find out how many times the element occurred in given list"
   ]
  },
  {
   "cell_type": "code",
   "execution_count": 3,
   "id": "75d872f8-efef-47c2-ac7b-3fc5ed9094d8",
   "metadata": {},
   "outputs": [
    {
     "name": "stdout",
     "output_type": "stream",
     "text": [
      "Enter a number : 12121212121\n"
     ]
    },
    {
     "name": "stdout",
     "output_type": "stream",
     "text": [
      "no of  occurances are  0\n"
     ]
    }
   ],
   "source": [
    "def count_count():\n",
    "    list_a = [1,2,3,4,5,2,5,2,6,1,2,5,2,1,5,4,3,8,9,2]\n",
    "    user_input = input(\"Enter a number :\")\n",
    "    user_input = int(user_input)\n",
    "    count = 0\n",
    "    for i in list_a:\n",
    "        if i == user_input:\n",
    "            count += 1\n",
    "    print(\"no of  occurances are \", count)\n",
    "\n",
    "\n",
    "count_count()\n"
   ]
  },
  {
   "cell_type": "markdown",
   "id": "72593f3d-6d76-4579-8d7d-e3897c183a05",
   "metadata": {},
   "source": [
    "### 60. Take an element from the user and find out how many number of occurrences are there in given tuple"
   ]
  },
  {
   "cell_type": "code",
   "execution_count": 5,
   "id": "76292257-5841-4e32-b962-e8e72960a4e4",
   "metadata": {},
   "outputs": [
    {
     "name": "stdout",
     "output_type": "stream",
     "text": [
      "Enter a number : 20\n"
     ]
    },
    {
     "name": "stdout",
     "output_type": "stream",
     "text": [
      "no of  occurances are  0\n"
     ]
    }
   ],
   "source": [
    "def count_count():\n",
    "    list_a = (1,2,3,4,5,2,5,2,6,1,2,5,2,1,5,4,3,8,9,2)\n",
    "    user_input = input(\"Enter a number :\")\n",
    "    user_input = int(user_input)\n",
    "    count = 0\n",
    "    for i in list_a:\n",
    "        if i == user_input:\n",
    "            count += 1\n",
    "    print(\"no of  occurances are \", count)\n",
    "\n",
    "count_count()\n"
   ]
  },
  {
   "cell_type": "markdown",
   "id": "fd5eb936-4d80-476c-9f57-6237137b8f8d",
   "metadata": {},
   "source": [
    "### 61. Reverse the string without effecting the special symbols. It involves three variations. Write code for three variations."
   ]
  },
  {
   "cell_type": "code",
   "execution_count": 6,
   "id": "df984623-d277-419f-b679-85bc9d1652e7",
   "metadata": {},
   "outputs": [
    {
     "name": "stdout",
     "output_type": "stream",
     "text": [
      "abc123,#$45def6%$^789$%^\n",
      "$%^987%$^6fed54,#$321cba\n",
      "$%^987%$^6fed54,#$321cba required output\n"
     ]
    }
   ],
   "source": [
    "s = \"abc123,#$45def6%$^789$%^\"\n",
    "print(s)\n",
    "string_reverse = s[::-1]\n",
    "\n",
    "res = \"\"\n",
    "sub = \"\"\n",
    "for i in string_reverse:\n",
    "    if i.isalnum():\n",
    "        res += sub + i\n",
    "        sub = \"\"\n",
    "    else:\n",
    "        sub = i + sub\n",
    "    \n",
    "\n",
    "print(res)\n",
    "\n",
    "print(\"$%^987%$^6fed54,#$321cba\", \"required output\" ) "
   ]
  },
  {
   "cell_type": "markdown",
   "id": "f44706f9-200f-49f2-a5b4-2431945da900",
   "metadata": {},
   "source": [
    "### 62.Input: abc123,#$45def6%$^789$%^, output: $%^987%$^6fed54,#$321cba"
   ]
  },
  {
   "cell_type": "code",
   "execution_count": 7,
   "id": "b646a53a-b9ab-491c-af5d-5ca94ec845fd",
   "metadata": {},
   "outputs": [],
   "source": [
    "s      = \"abc123,#$45def6%$^789$%^\"\n",
    "output = \"9876fe,#$d54321%$^cba$%^\"\n",
    "\n"
   ]
  },
  {
   "cell_type": "markdown",
   "id": "f2ed4cc7-4608-408b-ba52-f5757a8fbde6",
   "metadata": {},
   "source": [
    "### 63.Input: abc123,#$45def6%$^789$%^, output: 9876fe,#$d54321%$^cba$%^"
   ]
  },
  {
   "cell_type": "code",
   "execution_count": null,
   "id": "b4ba896c-0e0d-489d-b165-3bffb1be8fec",
   "metadata": {},
   "outputs": [],
   "source": []
  },
  {
   "cell_type": "markdown",
   "id": "ae4a546b-a902-4e4e-b389-21c7da8cc7a4",
   "metadata": {},
   "source": [
    "### 64.Inout: \"123,#$456%$^789$%^\", Output: 321,#$654%$^987$%^\n",
    "\n",
    "### Only numbers has to reverse"
   ]
  },
  {
   "cell_type": "markdown",
   "id": "4df8bad7-0cc4-46e4-ab3a-25d8ec78a6d7",
   "metadata": {},
   "source": [
    "# FUNCTIONS: "
   ]
  },
  {
   "cell_type": "markdown",
   "id": "403a017a-395b-45ff-88b3-0374908828ca",
   "metadata": {},
   "source": [
    "### 65. define a function to take person details name and age are mandatory parameters and height weight are optional parameters. If the user willing to pass any other details(like adhar, cell, pan, passport etc..) regarding him then your function should access those details. "
   ]
  },
  {
   "cell_type": "code",
   "execution_count": 8,
   "id": "4314c0f8-28f4-4aeb-a6f7-4e5b20ce5c06",
   "metadata": {},
   "outputs": [
    {
     "name": "stdout",
     "output_type": "stream",
     "text": [
      "Enter The Name of the Person :  10\n",
      "Enter an Age  of the Person :  24\n",
      "Enter height  of the Person :  5.4\n",
      "Enter weight  of the Person :  65\n",
      "Enter aadhar no.of the Person :  1243253856347567\n",
      "Enter Mobile no.of the Person :  1234567898\n"
     ]
    },
    {
     "name": "stdout",
     "output_type": "stream",
     "text": [
      "Name of the Person 10\n",
      "Age of the Person 24\n",
      "Weight of the Person :  65\n"
     ]
    }
   ],
   "source": [
    "def person_details(name, age, height = None, weight = None, **kwargs):\n",
    "    print(f\"Name of the Person {name}\")\n",
    "    print(f\"Age of the Person {age}\")\n",
    "    if height:\n",
    "        print(f\"Height of the Person :  {height}\")\n",
    "    if weight:\n",
    "        print(f\"Weight of the Person :  {weight}\")\n",
    "    if kwargs:\n",
    "        for key, value in kwargs:\n",
    "            print(f\"{key} : {value}\")\n",
    "\n",
    "name = input(\"Enter The Name of the Person : \")\n",
    "age = input(\"Enter an Age  of the Person : \")\n",
    "height =  input(\"Enter height  of the Person : \")\n",
    "weight =  input(\"Enter weight  of the Person : \")\n",
    "aadhar =  input(\"Enter aadhar no.of the Person : \")\n",
    "mobile_no =  input(\"Enter Mobile no.of the Person : \")\n",
    "\n",
    "person_details(name, age, weight= weight)\n"
   ]
  },
  {
   "cell_type": "markdown",
   "id": "973d4d4c-c90d-46aa-88e9-f06102fb6142",
   "metadata": {},
   "source": [
    "### 65a. rewrite above assignments by functions. Can use string functions to solve the string related assignments "
   ]
  },
  {
   "cell_type": "code",
   "execution_count": null,
   "id": "3367dea2-ce79-4f37-a03b-10faca8e1a99",
   "metadata": {},
   "outputs": [],
   "source": []
  },
  {
   "cell_type": "markdown",
   "id": "a1eecf47-5f8f-4595-b3b9-7b8de3f4a1dd",
   "metadata": {},
   "source": [
    "### 65 b. write a function to check given value is even or not "
   ]
  },
  {
   "cell_type": "code",
   "execution_count": 9,
   "id": "98a46f14-4913-4bb3-953b-4bf93d1bf1cf",
   "metadata": {},
   "outputs": [
    {
     "name": "stdout",
     "output_type": "stream",
     "text": [
      "Enter a number to chexk even or not :  2\n"
     ]
    },
    {
     "name": "stdout",
     "output_type": "stream",
     "text": [
      "Given value 2.0 is Even\n"
     ]
    }
   ],
   "source": [
    "def even_odd(a):\n",
    "    if a %2 == 0:\n",
    "        print(f\"Given value {a} is Even\")\n",
    "    else:\n",
    "        print(f\"Given value {a} is Odd\")\n",
    "\n",
    "user_input = input(\"Enter a number to chexk even or not : \" )\n",
    "user_input = float(user_input)\n",
    "even_odd(user_input)\n"
   ]
  },
  {
   "cell_type": "markdown",
   "id": "58497911-92c8-4b67-ab01-a4cc17cdfb59",
   "metadata": {},
   "source": [
    "### 65 c. write a function to check given value is prime or not "
   ]
  },
  {
   "cell_type": "code",
   "execution_count": 10,
   "id": "66c59c51-5f9a-4fcf-a9ec-c762517b9729",
   "metadata": {},
   "outputs": [
    {
     "name": "stdout",
     "output_type": "stream",
     "text": [
      "Enter a Number :  7\n"
     ]
    },
    {
     "name": "stdout",
     "output_type": "stream",
     "text": [
      "7 is a Prime Number\n"
     ]
    }
   ],
   "source": [
    "def prime_no(check_number):\n",
    "    count = 0\n",
    "    for i in range(2, check_number+1):\n",
    "        if check_number % i == 0 :\n",
    "            count += 1\n",
    "    return count\n",
    "\n",
    "check_number = input(\"Enter a Number : \")\n",
    "check_number = int(check_number)\n",
    "\n",
    "count = prime_no(check_number)        \n",
    "if count == 1:\n",
    "    print(check_number, \"is a Prime Number\")\n",
    "else:\n",
    "    print(check_number, \"is not a Prime Number\")\n"
   ]
  },
  {
   "cell_type": "markdown",
   "id": "ba26799e-58a9-4c18-9cfa-e2f49ca2e731",
   "metadata": {},
   "source": [
    "### 65 d. write a function to check given 2 values are  divisible or not "
   ]
  },
  {
   "cell_type": "code",
   "execution_count": 11,
   "id": "fcbbb9b7-e331-424a-a967-1ae23d0772ba",
   "metadata": {},
   "outputs": [
    {
     "name": "stdout",
     "output_type": "stream",
     "text": [
      "enter a  number : 10\n",
      "enter a number :  8\n"
     ]
    },
    {
     "name": "stdout",
     "output_type": "stream",
     "text": [
      "0\n",
      " a is divisible by b \n"
     ]
    }
   ],
   "source": [
    "def div(a, b):\n",
    "    print(a % b)\n",
    "    if a % b == 0:\n",
    "        print(\" a is divisible by b \")\n",
    "    else:\n",
    "        print(\" a is not divisible by b\")\n",
    "a = input(\"enter a  number :\" )\n",
    "a = int(a)\n",
    "b = input(\"enter a number : \")\n",
    "b = int(a)\n",
    "\n",
    "div(a, b)\n"
   ]
  },
  {
   "cell_type": "markdown",
   "id": "7334a2bb-7f3a-4d63-9923-aa4d0a890989",
   "metadata": {},
   "source": [
    "# STRINGS "
   ]
  },
  {
   "cell_type": "markdown",
   "id": "86efaa80-0474-4efc-80c4-c2240d87c943",
   "metadata": {},
   "source": [
    "### 67. take a string from the user and check contains only digits or not? "
   ]
  },
  {
   "cell_type": "code",
   "execution_count": 12,
   "id": "ff2b6076-fe5b-4b35-a33c-5e03c786d9a8",
   "metadata": {},
   "outputs": [
    {
     "name": "stdout",
     "output_type": "stream",
     "text": [
      "Enter a word with digits :  124\n"
     ]
    },
    {
     "name": "stdout",
     "output_type": "stream",
     "text": [
      "contains only digits\n"
     ]
    }
   ],
   "source": [
    "def check_digits(user_input):\n",
    "    count = 0\n",
    "    for i in user_input:\n",
    "        if not(i.isdigit()):\n",
    "            print(\"contains other\")\n",
    "            break\n",
    "        else:\n",
    "            count += 1\n",
    "    return count \n",
    "user_input = input(\"Enter a word with digits : \")\n",
    "count = check_digits(user_input)\n",
    "if count == len(user_input):\n",
    "    print(\"contains only digits\")\n"
   ]
  },
  {
   "cell_type": "markdown",
   "id": "370bd319-95b9-496a-845b-11c6f75ea629",
   "metadata": {},
   "source": [
    "### 68. take a string from the user and check contains only alphabets or not? "
   ]
  },
  {
   "cell_type": "code",
   "execution_count": 13,
   "id": "3f2af144-23b7-43ee-8c9d-4cf7ff3e028e",
   "metadata": {},
   "outputs": [
    {
     "name": "stdout",
     "output_type": "stream",
     "text": [
      "Enter a word with alphabets :  word12\n"
     ]
    },
    {
     "name": "stdout",
     "output_type": "stream",
     "text": [
      "contains others\n"
     ]
    }
   ],
   "source": [
    "def check_alpha(user_input):\n",
    "    count = 0\n",
    "    for i in user_input:\n",
    "        if not(i.isalpha()) :\n",
    "            print(\"contains others\")\n",
    "            break\n",
    "        else:\n",
    "            count += 1\n",
    "    return count\n",
    "user_input = input(\"Enter a word with alphabets : \")\n",
    "count = check_alpha(user_input)\n",
    "if count == len(user_input):\n",
    "    print(\"contains only alphabets\")\n"
   ]
  },
  {
   "cell_type": "markdown",
   "id": "1518edb8-e75f-452c-93e4-21322336fe6e",
   "metadata": {},
   "source": [
    "### 69. take a string from the user and check contains only special chars or not? "
   ]
  },
  {
   "cell_type": "code",
   "execution_count": 14,
   "id": "d320e5a6-89be-4116-bf99-e3fd1d3d411e",
   "metadata": {},
   "outputs": [
    {
     "name": "stdout",
     "output_type": "stream",
     "text": [
      "Enter a word with Special chars :  sxdss@\n"
     ]
    },
    {
     "name": "stdout",
     "output_type": "stream",
     "text": [
      "contains others\n"
     ]
    }
   ],
   "source": [
    "def check_spl(user_input):\n",
    "    count = 0\n",
    "    for i in user_input:\n",
    "        if i.isalnum()  :\n",
    "            print(\"contains others\")\n",
    "            break\n",
    "        else:\n",
    "            count += 1\n",
    "    return count\n",
    "    \n",
    "user_input = input(\"Enter a word with Special chars : \")\n",
    "count = check_spl(user_input)\n",
    "\n",
    "if count == len(user_input):\n",
    "    print(\"contains only Special chars  \")\n"
   ]
  },
  {
   "cell_type": "markdown",
   "id": "01149fab-03ef-49d7-a510-720a7b41c82c",
   "metadata": {},
   "source": [
    "### 70. take a string from the user and check contains only capital letters or not? "
   ]
  },
  {
   "cell_type": "code",
   "execution_count": 15,
   "id": "76737377-4cd0-4be3-bb32-3bf71e7f3c01",
   "metadata": {},
   "outputs": [
    {
     "name": "stdout",
     "output_type": "stream",
     "text": [
      "Enter a word with alphabets :  sfsdgfdfg\n"
     ]
    },
    {
     "name": "stdout",
     "output_type": "stream",
     "text": [
      "contains others\n"
     ]
    }
   ],
   "source": [
    "def check_capital(user_input):\n",
    "    count = 0\n",
    "    for i in user_input:\n",
    "        if not(i.isupper()) :\n",
    "            print(\"contains others\")\n",
    "            \n",
    "            break\n",
    "        else:\n",
    "            count += 1\n",
    "    return count\n",
    "user_input = input(\"Enter a word with alphabets : \")\n",
    "count = check_capital(user_input)\n",
    "if count == len(user_input):\n",
    "    print(\"contains only Capital Letters\")\n"
   ]
  },
  {
   "cell_type": "markdown",
   "id": "2e8e840a-8776-4c8d-86b3-b41554866efa",
   "metadata": {},
   "source": [
    "### 71. take a string from the user and check if it contains only small letters or not? "
   ]
  },
  {
   "cell_type": "code",
   "execution_count": 16,
   "id": "86588270-66b3-4b56-92ee-dddde0a952f6",
   "metadata": {},
   "outputs": [
    {
     "name": "stdout",
     "output_type": "stream",
     "text": [
      "Enter a word with alphabets :  fdrgtrhytjyk\n"
     ]
    },
    {
     "name": "stdout",
     "output_type": "stream",
     "text": [
      "contains only small letters\n"
     ]
    }
   ],
   "source": [
    "def check_small(user_input):\n",
    "    count = 0\n",
    "    for i in user_input:\n",
    "        if not(i.islower()) :\n",
    "            print(\"contains others\")\n",
    "            break\n",
    "        else:\n",
    "            count += 1\n",
    "    return count\n",
    "user_input = input(\"Enter a word with alphabets : \")\n",
    "count = check_small(user_input)\n",
    "if count == len(user_input):\n",
    "    print(\"contains only small letters\")\n"
   ]
  },
  {
   "cell_type": "markdown",
   "id": "7a009d6d-899d-4b57-a570-072da2d36a0f",
   "metadata": {},
   "source": [
    "###  72. WAP to replace last n occurrence. "
   ]
  },
  {
   "cell_type": "code",
   "execution_count": 17,
   "id": "317ef8cd-db21-4964-8e76-ee61fded4382",
   "metadata": {},
   "outputs": [
    {
     "name": "stdout",
     "output_type": "stream",
     "text": [
      "apple,orange,apple,grape,orange,apple,apple,orange\n",
      "apple,orange,apple,grape,orange,APPLE,APPLE,orange\n"
     ]
    }
   ],
   "source": [
    "def replace_str(list_a, source):\n",
    "    n = 2\n",
    "    count = 0\n",
    "    for i in range(0, len(list_a)):\n",
    "        if list_a[i] == source :\n",
    "            list_a[i] = \"APPLE\"\n",
    "            count += 1\n",
    "            if count == n:\n",
    "                break\n",
    "    return list_a\n",
    "a = \"apple,orange,apple,grape,orange,apple,apple,orange\"\n",
    "print(a)\n",
    "list_a = a.split(',')\n",
    "list_a = list_a[::-1]\n",
    "source = \"apple\"\n",
    "list_a = replace_str(list_a, source)\n",
    "print(\",\".join(list_a[::-1]))\n"
   ]
  },
  {
   "cell_type": "markdown",
   "id": "73435ca7-bbc5-4393-81d8-22b31eca645c",
   "metadata": {},
   "source": [
    "### 73. WAP to check given string contains numbers or not. it should consider float numbers also. "
   ]
  },
  {
   "cell_type": "code",
   "execution_count": 18,
   "id": "3c5e8af2-5861-4d91-8e1c-4e6fe4961aa3",
   "metadata": {},
   "outputs": [
    {
     "name": "stdout",
     "output_type": "stream",
     "text": [
      "Enter a string it contains numbers and float values :  \"hai,1.2\"\n"
     ]
    },
    {
     "name": "stdout",
     "output_type": "stream",
     "text": [
      "contains numbers \n"
     ]
    }
   ],
   "source": [
    "def check_numbers(user_input):\n",
    "    for i in user_input:\n",
    "        if (i.isdecimal()):\n",
    "            print(\"contains numbers \")\n",
    "            break\n",
    "    else:\n",
    "        print(\"not contains numbers \")\n",
    "\n",
    "user_input = input(\"Enter a string it contains numbers and float values : \" )\n",
    "check_numbers(user_input)"
   ]
  },
  {
   "cell_type": "markdown",
   "id": "aef01303-9d8b-497d-a5f9-884608694db8",
   "metadata": {},
   "source": [
    "### 74. Convert the total string in to lower case. \n",
    "\n",
    "### Convert the total string in to upper case. "
   ]
  },
  {
   "cell_type": "code",
   "execution_count": 19,
   "id": "19f663e0-c801-4e77-8177-7c06028094ff",
   "metadata": {},
   "outputs": [
    {
     "name": "stdout",
     "output_type": "stream",
     "text": [
      "Enter a word with alphabets :  sadfghjnsqkjw\n"
     ]
    },
    {
     "name": "stdout",
     "output_type": "stream",
     "text": [
      "SADFGHJNSQKJW\n",
      "sadfghjnsqkjw\n"
     ]
    }
   ],
   "source": [
    "def str_upper(user_input):\n",
    "    user_input = user_input.upper()\n",
    "    return user_input\n",
    "\n",
    "def str_lower(user_input):\n",
    "    user_input = user_input.lower()\n",
    "    return user_input\n",
    "    \n",
    "user_input = input(\"Enter a word with alphabets : \")\n",
    "user_input1 = str_upper(user_input)\n",
    "print(\"\".join(user_input1))\n",
    "user_input1 = str_lower(user_input)\n",
    "print(\"\".join(user_input1))\n"
   ]
  },
  {
   "cell_type": "markdown",
   "id": "fa7b236d-3d7a-449c-9a2d-b0a341907314",
   "metadata": {},
   "source": [
    "### 75. Convert every word start letter into caps. \n",
    "### Some how title not working if it contains numbers and special symbols in the word "
   ]
  },
  {
   "cell_type": "code",
   "execution_count": 20,
   "id": "64a6bf9c-307f-415d-ab16-6f90ebc6f942",
   "metadata": {},
   "outputs": [
    {
     "name": "stdout",
     "output_type": "stream",
     "text": [
      "Enter a string :  \"hello\"\n"
     ]
    },
    {
     "name": "stdout",
     "output_type": "stream",
     "text": [
      "\"hello\"\n"
     ]
    }
   ],
   "source": [
    "def capitalize_words(text):\n",
    "  words = text.split()\n",
    "  capitalized_words = []\n",
    "  for word in words:\n",
    "    if word:\n",
    "      capitalized_words.append(word.capitalize())\n",
    "    else:\n",
    "      capitalized_words.append(word)\n",
    "  return \" \".join(capitalized_words)\n",
    "\n",
    "text = input(\"Enter a string : \")     # \"hello world 123! special_symbol\"\n",
    "capitalized_text = capitalize_words(text)\n",
    "print(capitalized_text)\n"
   ]
  },
  {
   "cell_type": "markdown",
   "id": "1400feb7-fb05-4d44-bb80-f68e916a9760",
   "metadata": {},
   "source": [
    "###  76.replace last two occurrences of given source string with destination string \n",
    "### preserve the delimiter after split. "
   ]
  },
  {
   "cell_type": "code",
   "execution_count": 21,
   "id": "4ab1539b-64ff-47af-bf31-fa6e800a7bca",
   "metadata": {},
   "outputs": [
    {
     "name": "stdout",
     "output_type": "stream",
     "text": [
      "Enter a string :  sirisrisiri\n",
      "Enter a word :  siri\n",
      "Enter a word :  sri\n"
     ]
    },
    {
     "name": "stdout",
     "output_type": "stream",
     "text": [
      "sirisrisiri\n"
     ]
    }
   ],
   "source": [
    "def replace_last_two_occurrences(text, source, destination, delimiter=' '):\n",
    "  words = text.split(delimiter)\n",
    "  count = 0\n",
    "  new_words = []\n",
    "  for i in range(len(words) - 1, -1, -1):\n",
    "    if words[i] == source and count < 2:\n",
    "      new_words.insert(0, destination)\n",
    "      count += 1\n",
    "    else:\n",
    "      new_words.insert(0, words[i])\n",
    "  return delimiter.join(new_words)\n",
    "\n",
    "\n",
    "text = input(\"Enter a string : \") \n",
    "source = input(\"Enter a word : \") \n",
    "destination = input(\"Enter a word : \") \n",
    "new_text = replace_last_two_occurrences(text, source, destination)\n",
    "print(new_text)\n"
   ]
  },
  {
   "cell_type": "markdown",
   "id": "4f2bd112-19e4-4625-a7d9-25f468bbd3a6",
   "metadata": {},
   "source": [
    "### 77. write a program to check given substring is there in actual string or not? (search should be case insensitive) \n",
    "### example: act=\"python is a pure object oriented programing language\" "
   ]
  },
  {
   "cell_type": "code",
   "execution_count": 23,
   "id": "7b9ad925-6946-4684-aba8-bccaa6d58375",
   "metadata": {},
   "outputs": [
    {
     "name": "stdout",
     "output_type": "stream",
     "text": [
      "Enter a string :  srividya\n"
     ]
    },
    {
     "name": "stdout",
     "output_type": "stream",
     "text": [
      "The substring 'srividya' is not present in the string.\n"
     ]
    }
   ],
   "source": [
    "def contains_substring_case_insensitive(actual_string, substring):\n",
    "    if substring.casefold() in actual_string.casefold():\n",
    "        print(f\"The substring '{substring_to_check}' is present in the string.\")\n",
    "    else:\n",
    "        print(f\"The substring '{substring_to_check}' is not present in the string.\")\n",
    "\n",
    "act = \"python is a pure object oriented programing language\"\n",
    "substring_to_check = input(\"Enter a string : \")\n",
    "contains_substring_case_insensitive(act, substring_to_check)\n"
   ]
  },
  {
   "cell_type": "markdown",
   "id": "a63c7fec-805c-473e-8dd8-92eb33535940",
   "metadata": {},
   "source": [
    "### 78.check whether “pure” is there in act or not. \n",
    "### Note: Use in operator "
   ]
  },
  {
   "cell_type": "code",
   "execution_count": 24,
   "id": "abb3e980-cfdc-4c27-9a75-297ac469d002",
   "metadata": {},
   "outputs": [
    {
     "name": "stdout",
     "output_type": "stream",
     "text": [
      "The substring 'pure' is present in the string.\n"
     ]
    }
   ],
   "source": [
    "def contains_substring_case_insensitive(actual_string, substring):\n",
    "    if substring.casefold() in actual_string.casefold():\n",
    "        print(f\"The substring '{substring_to_check}' is present in the string.\")\n",
    "    else:\n",
    "        print(f\"The substring '{substring_to_check}' is not present in the string.\")\n",
    "\n",
    "act = \"python is a pure object oriented programing language\"\n",
    "substring_to_check = \"pure\"\n",
    "contains_substring_case_insensitive(act, substring_to_check)\n"
   ]
  },
  {
   "cell_type": "markdown",
   "id": "ebb4c3f4-24da-4a9f-bf75-7767e2d2cdaf",
   "metadata": {},
   "source": [
    "# DATA STRUCTURES  \n"
   ]
  },
  {
   "cell_type": "markdown",
   "id": "98007cf6-37ef-4ff4-80b0-96f071e567c6",
   "metadata": {},
   "source": [
    "### 79. l=[10,20,30,[40,50,60],70,[80,90,20]]. Convert this list as single dimensional list "
   ]
  },
  {
   "cell_type": "code",
   "execution_count": 27,
   "id": "422a4270-bc3f-4e80-be3a-9ff712acd29a",
   "metadata": {},
   "outputs": [
    {
     "ename": "NameError",
     "evalue": "name 'flatten_list' is not defined",
     "output_type": "error",
     "traceback": [
      "\u001b[1;31m---------------------------------------------------------------------------\u001b[0m",
      "\u001b[1;31mNameError\u001b[0m                                 Traceback (most recent call last)",
      "Cell \u001b[1;32mIn[27], line 11\u001b[0m\n\u001b[0;32m      8\u001b[0m   \u001b[38;5;28;01mreturn\u001b[39;00m flat_lst\n\u001b[0;32m     10\u001b[0m l \u001b[38;5;241m=\u001b[39m [\u001b[38;5;241m10\u001b[39m, \u001b[38;5;241m20\u001b[39m, \u001b[38;5;241m30\u001b[39m, [\u001b[38;5;241m40\u001b[39m, \u001b[38;5;241m50\u001b[39m, \u001b[38;5;241m60\u001b[39m], \u001b[38;5;241m70\u001b[39m, [\u001b[38;5;241m80\u001b[39m, \u001b[38;5;241m90\u001b[39m, \u001b[38;5;241m20\u001b[39m]]\n\u001b[1;32m---> 11\u001b[0m flat_l \u001b[38;5;241m=\u001b[39m dimensional_list(l)\n\u001b[0;32m     12\u001b[0m \u001b[38;5;28mprint\u001b[39m(flat_l)\n",
      "Cell \u001b[1;32mIn[27], line 5\u001b[0m, in \u001b[0;36mdimensional_list\u001b[1;34m(lst)\u001b[0m\n\u001b[0;32m      3\u001b[0m \u001b[38;5;28;01mfor\u001b[39;00m item \u001b[38;5;129;01min\u001b[39;00m lst:\n\u001b[0;32m      4\u001b[0m   \u001b[38;5;28;01mif\u001b[39;00m \u001b[38;5;28mtype\u001b[39m(item) \u001b[38;5;241m==\u001b[39m \u001b[38;5;28mlist\u001b[39m :\n\u001b[1;32m----> 5\u001b[0m     flat_lst\u001b[38;5;241m.\u001b[39mextend(flatten_list(item))\n\u001b[0;32m      6\u001b[0m   \u001b[38;5;28;01melse\u001b[39;00m:\n\u001b[0;32m      7\u001b[0m     flat_lst\u001b[38;5;241m.\u001b[39mappend(item)\n",
      "\u001b[1;31mNameError\u001b[0m: name 'flatten_list' is not defined"
     ]
    }
   ],
   "source": [
    "def dimensional_list(lst):\n",
    "  flat_lst = []\n",
    "  for item in lst:\n",
    "    if type(item) == list :\n",
    "      flat_lst.extend(flatten_list(item))\n",
    "    else:\n",
    "      flat_lst.append(item)\n",
    "  return flat_lst\n",
    "\n",
    "l = [10, 20, 30, [40, 50, 60], 70, [80, 90, 20]]\n",
    "flat_l = dimensional_list(l)\n",
    "print(flat_l)\n"
   ]
  },
  {
   "cell_type": "markdown",
   "id": "fd1a7a99-bc76-4c74-be5a-a9b7e35a11fe",
   "metadata": {},
   "source": [
    "### 80. input: \"Google\" print count of each character "
   ]
  },
  {
   "cell_type": "code",
   "execution_count": 28,
   "id": "7ac06c4e-f8ee-45cc-aea8-880b89785dbe",
   "metadata": {},
   "outputs": [
    {
     "name": "stdout",
     "output_type": "stream",
     "text": [
      "{'G': 1, 'o': 2, 'g': 1, 'l': 1, 'e': 1}\n"
     ]
    }
   ],
   "source": [
    "def char_count(input_string):\n",
    "  char_counts = {}\n",
    "  for char in input_string:\n",
    "    if char in char_counts:\n",
    "      char_counts[char] += 1\n",
    "    else:\n",
    "      char_counts[char] = 1\n",
    "  return char_counts\n",
    "\n",
    "input_string = \"Google\"\n",
    "char_counts = char_count(input_string)\n",
    "print(char_counts)\n"
   ]
  },
  {
   "cell_type": "markdown",
   "id": "eee7d4d1-b728-4dcb-87f1-66b2db33d842",
   "metadata": {},
   "source": [
    "### 81. Convert n dimensional list to single dimensional list. "
   ]
  },
  {
   "cell_type": "code",
   "execution_count": 29,
   "id": "8f1dbc5c-efb8-4cae-a8fc-616c495caee3",
   "metadata": {},
   "outputs": [
    {
     "name": "stdout",
     "output_type": "stream",
     "text": [
      "[1, 2, 3, 1, 2, 3, 4, 5, 6, 7]\n"
     ]
    }
   ],
   "source": [
    "def dimensional_list(lst):\n",
    "  flat_lst = []\n",
    "  for item in lst:\n",
    "    if isinstance(item, list):\n",
    "      flat_lst.extend(dimensional_list(item))\n",
    "    else:\n",
    "      flat_lst.append(item)\n",
    "  return flat_lst\n",
    "\n",
    "\n",
    "my_list = [[1, 2, [3, [1,2,3],4]], [5, 6], 7]\n",
    "flat_list = dimensional_list(my_list)\n",
    "print(flat_list)\n"
   ]
  },
  {
   "cell_type": "markdown",
   "id": "0f382248-b8ab-4776-b87b-8a50bc3f820e",
   "metadata": {},
   "source": [
    "### 82. l=[1,2,3] just make it as a string. "
   ]
  },
  {
   "cell_type": "code",
   "execution_count": 30,
   "id": "62593190-b9ac-4d29-9c07-8e4d9cd19c1c",
   "metadata": {},
   "outputs": [
    {
     "name": "stdout",
     "output_type": "stream",
     "text": [
      "123\n",
      "['1', '2', '3']\n"
     ]
    }
   ],
   "source": [
    "l = [1, 2, 3]\n",
    "s = ''.join(map(str, l))\n",
    "print(s)\n",
    "print(list(s))\n"
   ]
  },
  {
   "cell_type": "markdown",
   "id": "adabba44-0733-42af-92dd-f6367e8653f2",
   "metadata": {},
   "source": [
    "### 83. l=[1,2,3,[4,5,6],7,[8,9,10]] for single dimensional list "
   ]
  },
  {
   "cell_type": "code",
   "execution_count": 31,
   "id": "77b379e0-2f09-4fff-a029-c54a929b7b74",
   "metadata": {},
   "outputs": [
    {
     "name": "stdout",
     "output_type": "stream",
     "text": [
      "[1, 2, 3, 4, 5, 6, 7, 8, 9, 10]\n"
     ]
    }
   ],
   "source": [
    "\n",
    "def dimensional_list(lst):\n",
    "  flat_lst = []\n",
    "  for item in lst:\n",
    "    if isinstance(item, list):\n",
    "      flat_lst.extend(dimensional_list(item))\n",
    "    else:\n",
    "      flat_lst.append(item)\n",
    "  return flat_lst\n",
    "\n",
    "\n",
    "my_list = [1,2,3,[4,5,6],7,[8,9,10]]\n",
    "flat_list = dimensional_list(my_list)\n",
    "print(flat_list)\n"
   ]
  },
  {
   "cell_type": "markdown",
   "id": "6111e622-f335-4fa2-b5f8-6c54fc80c946",
   "metadata": {},
   "source": [
    "### 84. l=['a','A','b','B','d','D','c','C'] WAP to find out case insensitive count. "
   ]
  },
  {
   "cell_type": "code",
   "execution_count": 32,
   "id": "64213b9c-0011-4c18-8069-abaa920f9ae9",
   "metadata": {},
   "outputs": [
    {
     "name": "stdout",
     "output_type": "stream",
     "text": [
      "{'a': 2, 'b': 2, 'd': 2, 'c': 2}\n"
     ]
    }
   ],
   "source": [
    "def ele_count():\n",
    "    a = {}\n",
    "    for i in l:\n",
    "        if i.casefold() in a:\n",
    "            a[i.casefold()] += 1\n",
    "        else:\n",
    "            a[i.casefold()] = 1\n",
    "    print(a)\n",
    "\n",
    "l=['a','A','b','B','d','D','c','C'] \n",
    "ele_count()\n"
   ]
  },
  {
   "cell_type": "markdown",
   "id": "7e228605-5fc4-483b-b710-85dac1a61065",
   "metadata": {},
   "source": [
    "### 85. case insensitive search for an element"
   ]
  },
  {
   "cell_type": "code",
   "execution_count": 33,
   "id": "dd3ffc2c-66ac-4d12-9771-f934fce73e00",
   "metadata": {},
   "outputs": [
    {
     "name": "stdout",
     "output_type": "stream",
     "text": [
      "Enter a letter : s\n"
     ]
    },
    {
     "name": "stdout",
     "output_type": "stream",
     "text": [
      "Given element not present in list\n"
     ]
    }
   ],
   "source": [
    "def ele_search():\n",
    "    user_input = input(\"Enter a letter :\")\n",
    "    for i in l:\n",
    "        if user_input.casefold() == i.casefold():\n",
    "            print(\"Given element present in list\")\n",
    "            break\n",
    "    else:\n",
    "        print(\"Given element not present in list\")\n",
    "l=['a','A','b','B','d','D','c','C']\n",
    "ele_search()\n"
   ]
  },
  {
   "cell_type": "markdown",
   "id": "6629f325-9c19-4a50-bfb4-439e783cf76b",
   "metadata": {},
   "source": [
    "### 86. l=['a','A','b','B','d','D','c','C']  sort the list properly "
   ]
  },
  {
   "cell_type": "code",
   "execution_count": 34,
   "id": "dc1af40d-00cd-46a5-a258-39f0d208957f",
   "metadata": {},
   "outputs": [
    {
     "name": "stdout",
     "output_type": "stream",
     "text": [
      "['A', 'B', 'C', 'D', 'a', 'b', 'c', 'd']\n"
     ]
    }
   ],
   "source": [
    "\n",
    "l=['a','A','b','B','d','D','c','C']\n",
    "l.sort()\n",
    "print(l)\n"
   ]
  },
  {
   "cell_type": "markdown",
   "id": "ce0a5df1-1e84-4973-9f3a-da5d0bdc018f",
   "metadata": {},
   "source": [
    "### 87. find the start position of the largest block of repeated characters in a given string "
   ]
  },
  {
   "cell_type": "code",
   "execution_count": 35,
   "id": "9306132c-93e8-4fcb-8278-21bc9b6c2ba3",
   "metadata": {},
   "outputs": [
    {
     "name": "stdout",
     "output_type": "stream",
     "text": [
      "The largest block of repeated characters starts at position 9\n"
     ]
    }
   ],
   "source": [
    "def find_largest_block_start(text):\n",
    "    if not text:\n",
    "        return -1\n",
    "    max_length = 0\n",
    "    start_position = -1\n",
    "    current_length = 1\n",
    "    current_start = 0\n",
    "    \n",
    "    for i in range(1, len(text)):\n",
    "        if text[i] == text[i - 1]:\n",
    "            current_length += 1\n",
    "        else:\n",
    "            if current_length > max_length:\n",
    "                max_length = current_length\n",
    "                start_position = current_start\n",
    "            current_length = 1\n",
    "            current_start = i\n",
    "    if current_length > max_length:\n",
    "        max_length = current_length\n",
    "        start_position = current_start\n",
    "    return start_position\n",
    "\n",
    "text = \"aaabbbcccdddd\"\n",
    "start = find_largest_block_start(text)\n",
    "if start != -1:\n",
    "  print(f\"The largest block of repeated characters starts at position {start}\")\n",
    "else:\n",
    "  print(\"No repeated characters found.\")\n"
   ]
  },
  {
   "cell_type": "markdown",
   "id": "8034cbf5-448f-4a15-86fc-fbf49b27559f",
   "metadata": {},
   "source": [
    "### 88. WAP to find union and intersection of lists. "
   ]
  },
  {
   "cell_type": "code",
   "execution_count": 36,
   "id": "85acf96c-c240-4358-af76-693b008c0a13",
   "metadata": {},
   "outputs": [
    {
     "name": "stdout",
     "output_type": "stream",
     "text": [
      "Union: [1, 2, 3, 4, 5, 6, 7]\n",
      "Intersection: [3, 4, 5]\n"
     ]
    }
   ],
   "source": [
    "def find_union_intersection(list1, list2):\n",
    "  union = list(set(list1) | set(list2))\n",
    "  intersection = list(set(list1) & set(list2))\n",
    "  return union, intersection\n",
    "\n",
    "list1 = [1, 2, 3, 4, 5]\n",
    "list2 = [3, 4, 5, 6, 7]\n",
    "union, intersection = find_union_intersection(list1, list2)\n",
    "\n",
    "print(f\"Union: {union}\")\n",
    "print(f\"Intersection: {intersection}\")\n"
   ]
  },
  {
   "cell_type": "markdown",
   "id": "87cd64cb-16f0-492c-a185-8d0cbb2da1a2",
   "metadata": {},
   "source": [
    "### 89. input: fun(5) output: [1,2,3,4,3,2,1] "
   ]
  },
  {
   "cell_type": "code",
   "execution_count": 37,
   "id": "c8512f9d-1017-4dd6-b42b-92474a542425",
   "metadata": {},
   "outputs": [
    {
     "name": "stdout",
     "output_type": "stream",
     "text": [
      "[1, 2, 3, 4, 3, 2, 1]\n"
     ]
    }
   ],
   "source": [
    "def fun(n):\n",
    "  result = []\n",
    "  for i in range(1, n):\n",
    "    result.append(i)\n",
    "  for i in range(n - 2, 0, -1):\n",
    "    result.append(i)\n",
    "  print(result)\n",
    "\n",
    "fun(5)\n"
   ]
  },
  {
   "cell_type": "markdown",
   "id": "cfe22c15-8968-4c94-b977-3cf710361c73",
   "metadata": {},
   "source": [
    "### 90. input fun('abc') output: [[],][a],[b],[c],[a,b],[b,c],[c,a],[a,b,c]] "
   ]
  },
  {
   "cell_type": "code",
   "execution_count": 38,
   "id": "55ee7022-1ab9-43c6-865a-53eb7f35d1ce",
   "metadata": {},
   "outputs": [
    {
     "name": "stdout",
     "output_type": "stream",
     "text": [
      "[[], ['a'], ['b'], ['c'], ['a', 'b'], ['b', 'c'], ['a', 'b', 'c']]\n"
     ]
    }
   ],
   "source": [
    "\n",
    "def fun(s):\n",
    "  result = [[]]\n",
    "  for i in range(len(s)):\n",
    "    result.append([s[i]])\n",
    "  for i in range(len(s) - 1):\n",
    "    result.append([s[i], s[i + 1]])\n",
    "  for i in range(len(s) - 2):\n",
    "    result.append([s[i], s[i + 1], s[i + 2]])\n",
    "  return result\n",
    "\n",
    "print(fun('abc'))\n"
   ]
  },
  {
   "cell_type": "markdown",
   "id": "dfc1f6dd-0ea1-4478-88f7-ef74bf774643",
   "metadata": {},
   "source": [
    "### 91. Remove duplicates from the list: a=[1,2,3,2,3,4,1,,3,4] "
   ]
  },
  {
   "cell_type": "code",
   "execution_count": 39,
   "id": "3f7ca7a3-524e-4def-bb4a-6a906784c8ea",
   "metadata": {},
   "outputs": [
    {
     "name": "stdout",
     "output_type": "stream",
     "text": [
      "[1, 2, 3, 4]\n"
     ]
    }
   ],
   "source": [
    "a = [1, 2, 3, 2, 3, 4, 1, 3, 4]\n",
    "new_list = []\n",
    "for i in a:\n",
    "  if i not in new_list:\n",
    "    new_list.append(i)\n",
    "print(new_list)\n"
   ]
  },
  {
   "cell_type": "markdown",
   "id": "acf427ec-0ca4-48d4-8ab4-937958dabc23",
   "metadata": {},
   "source": [
    "### 92. l=['1','2','3'] get the sum of the list "
   ]
  },
  {
   "cell_type": "code",
   "execution_count": 40,
   "id": "2af7070c-d95a-405d-9395-0259d6e1bb9b",
   "metadata": {},
   "outputs": [
    {
     "name": "stdout",
     "output_type": "stream",
     "text": [
      "<built-in function sum>\n"
     ]
    }
   ],
   "source": [
    "def sum_of(l):\n",
    "    sum_ = 0\n",
    "    for i in l:\n",
    "        sum_ += int(i)\n",
    "    print(sum)\n",
    "\n",
    "l = [\"1\", \"2\", \"3\"]\n",
    "sum_of(l)\n"
   ]
  },
  {
   "cell_type": "markdown",
   "id": "44be45b7-312d-4d22-b589-cbc7729edcc1",
   "metadata": {},
   "source": [
    "### 93. l1=[1,2,3,4] l2=[5,6,7,8] sum of two lists "
   ]
  },
  {
   "cell_type": "code",
   "execution_count": 41,
   "id": "fdcd82b6-9eb4-411c-9062-be69dcb1aeca",
   "metadata": {},
   "outputs": [
    {
     "name": "stdout",
     "output_type": "stream",
     "text": [
      "36\n"
     ]
    }
   ],
   "source": [
    "def sum_of(l1, l2):\n",
    "    sum_ = 0\n",
    "    l1.extend(l2)\n",
    "    for i in l1:\n",
    "        sum_ += i\n",
    "    print(sum_)\n",
    "\n",
    "l1=[1,2,3,4]\n",
    "l2=[5,6,7,8]\n",
    "sum_of(l1, l2)\n"
   ]
  },
  {
   "cell_type": "markdown",
   "id": "d9ff8139-074f-43a7-879f-247719a1b0ba",
   "metadata": {},
   "source": [
    "### 94. Find third max value of element in a list with soring and without sorting a list. "
   ]
  },
  {
   "cell_type": "code",
   "execution_count": null,
   "id": "ffe731c3-7dbf-4a67-af4f-b973c8c1aab0",
   "metadata": {},
   "outputs": [],
   "source": []
  },
  {
   "cell_type": "markdown",
   "id": "3aae2059-b682-4ca2-abae-477aff343df8",
   "metadata": {},
   "source": [
    "### 95. Input = [\"1/1\",\"1/2\",\"1/3\",\"1/4\",\"2/5\",\"2/6\",\"2/8\"] Output = [['1/1-4'], ['2/5-6'], ['2/8']] "
   ]
  },
  {
   "cell_type": "code",
   "execution_count": null,
   "id": "341889c5-5b28-4e81-91c2-2e4ce5df9c29",
   "metadata": {},
   "outputs": [],
   "source": []
  },
  {
   "cell_type": "markdown",
   "id": "36b576d1-f61f-4105-a2a8-e0ff91e4c0f1",
   "metadata": {},
   "source": [
    "### 96. l=[1,2,3,5,7,8,9,10,11,12,13,20,22,23,24,25,26,27,20,21,22,4] \n",
    "### output = [[1, 2, 3], [5], [7, 8, 9, 10, 11, 12, 13], [20], [22, 23, 24, 25, 26, 27], [20, 21, 22], [4]] "
   ]
  },
  {
   "cell_type": "code",
   "execution_count": null,
   "id": "02a5fee1-9df6-4394-9c76-a3d34cc817c8",
   "metadata": {},
   "outputs": [],
   "source": []
  },
  {
   "cell_type": "markdown",
   "id": "eaddf2f1-e7c7-41c2-809f-7fd140c43ec7",
   "metadata": {},
   "source": [
    "### 97. input = 1,2,3,4,5,6,8,10 output = odd,even,odd,even,odd,even,even,even "
   ]
  },
  {
   "cell_type": "code",
   "execution_count": 42,
   "id": "ce91dbcc-bf0f-4524-a056-a856f4115978",
   "metadata": {},
   "outputs": [
    {
     "name": "stdout",
     "output_type": "stream",
     "text": [
      "enter numbers : 2,6,7,9\n"
     ]
    },
    {
     "name": "stdout",
     "output_type": "stream",
     "text": [
      "even,even,odd,odd,"
     ]
    }
   ],
   "source": [
    "def fun(l):\n",
    "    for i in l:\n",
    "        if i % 2 == 0:\n",
    "            print(\"even\", end=\",\")\n",
    "        else:\n",
    "            print(\"odd\", end=\",\")\n",
    "\n",
    "l =list(map(int, input(\"enter numbers :\").split(\",\")))\n",
    "fun(l)\n"
   ]
  },
  {
   "cell_type": "markdown",
   "id": "f765acf5-54e5-433d-bbcd-3dba43d3b737",
   "metadata": {},
   "source": [
    "### 98. input n=3 \n",
    "\n",
    "    ###\t\toutput:     111 \n",
    "\n",
    "    ###    \t\t101 \n",
    "\n",
    "     ###   \t\t111 "
   ]
  },
  {
   "cell_type": "code",
   "execution_count": 44,
   "id": "07a6072a-f406-46d5-913f-a597f3f94f3a",
   "metadata": {},
   "outputs": [
    {
     "name": "stdout",
     "output_type": "stream",
     "text": [
      "enter number : 3\n"
     ]
    },
    {
     "name": "stdout",
     "output_type": "stream",
     "text": [
      "111\n",
      "101\n",
      "111\n"
     ]
    }
   ],
   "source": [
    "def fun(l):\n",
    "    for i in range(1, l+1):\n",
    "        if i % 2 == 0:\n",
    "            print(\"101\")\n",
    "        else:\n",
    "            print(\"111\")\n",
    "\n",
    "l =input(\"enter number :\")\n",
    "l = int(l)\n",
    "fun(l)\n"
   ]
  },
  {
   "cell_type": "markdown",
   "id": "8638cdfe-a449-4b15-8bbf-050c45f29555",
   "metadata": {},
   "source": [
    "### 99. input: Google \n",
    "###     output: {'g':2,'o':2,'l':1,'e':1} use dictionary comprehension "
   ]
  },
  {
   "cell_type": "code",
   "execution_count": 45,
   "id": "8d0639b2-a4b9-44a3-b44d-868be1173ca7",
   "metadata": {},
   "outputs": [
    {
     "name": "stdout",
     "output_type": "stream",
     "text": [
      "Enter a String : hai\n"
     ]
    },
    {
     "name": "stdout",
     "output_type": "stream",
     "text": [
      "{'h': 1, 'a': 1, 'i': 1}\n"
     ]
    }
   ],
   "source": [
    "def fun(user_input):\n",
    "    dict_a = {}\n",
    "    for i in user_input:\n",
    "        if i.casefold() in dict_a:\n",
    "            dict_a[i.casefold()] += 1\n",
    "        else:\n",
    "            dict_a[i.casefold()] = 1\n",
    "    print(dict_a)\n",
    "user_input = input(\"Enter a String :\")\n",
    "fun(user_input)\n"
   ]
  },
  {
   "cell_type": "markdown",
   "id": "57f10b17-b319-499f-81cd-b1da5cd30aab",
   "metadata": {},
   "source": [
    "### 100. keys=['k1','k2'], values = ['v1','v2'] form a dictionary. "
   ]
  },
  {
   "cell_type": "code",
   "execution_count": 46,
   "id": "e3192f55-02f8-4895-b24a-de634c30a82f",
   "metadata": {},
   "outputs": [
    {
     "name": "stdout",
     "output_type": "stream",
     "text": [
      "{'k1': 'v1', 'k2': 'v2'}\n"
     ]
    }
   ],
   "source": [
    "def fun():\n",
    "    keys = ['k1', 'k2']\n",
    "    values = ['v1', 'v2']\n",
    "    my_dict = dict(zip(keys, values))\n",
    "    print(my_dict)\n",
    "\n",
    "fun()\n"
   ]
  },
  {
   "cell_type": "markdown",
   "id": "86b5bd40-2e11-41cd-840a-5db4634e1ad1",
   "metadata": {},
   "source": [
    "### 101. Sort the list marks = [(\"mohan\", 80), (\"satish\", 90), (\"purnesh\", 40), (\"venkat\", 30)]\n",
    "### according to descending order of marks\n"
   ]
  },
  {
   "cell_type": "code",
   "execution_count": null,
   "id": "eab3fa3d-1b59-414d-bf34-b869a763d508",
   "metadata": {},
   "outputs": [],
   "source": []
  },
  {
   "cell_type": "markdown",
   "id": "145e46f5-d2de-410e-b2e5-bf01c2bd367d",
   "metadata": {},
   "source": [
    "### 102.write a function to get dynamic list for floating numbers also based on strat and end and step parameters\n"
   ]
  },
  {
   "cell_type": "code",
   "execution_count": null,
   "id": "c62ab2c7-34f0-4ec7-8c71-33e7108e76d7",
   "metadata": {},
   "outputs": [],
   "source": []
  },
  {
   "cell_type": "markdown",
   "id": "46e53fc3-82c9-4ee9-a76e-8ba672f4108c",
   "metadata": {},
   "source": [
    "### 103. find out all perfect numbers in given range\n"
   ]
  },
  {
   "cell_type": "code",
   "execution_count": 47,
   "id": "669554be-b2e8-430e-9287-8e27f9e263d9",
   "metadata": {},
   "outputs": [
    {
     "name": "stdout",
     "output_type": "stream",
     "text": [
      "Enter a number : 3\n"
     ]
    },
    {
     "name": "stdout",
     "output_type": "stream",
     "text": [
      "[]\n"
     ]
    }
   ],
   "source": [
    "def perfect_no(n):\n",
    "    res = []\n",
    "    for i in range(1, n+1):\n",
    "        sum_of = 0\n",
    "        for j in range(1, i):\n",
    "            if i % j == 0:\n",
    "                sum_of += j\n",
    "        if sum_of == i:\n",
    "            res.append(i)\n",
    "    print(res)\n",
    "\n",
    "n = input(\"Enter a number :\")\n",
    "if (int(n)>0):\n",
    "    n = int(n)\n",
    "    perfect_no(n)\n",
    "else:\n",
    "    print(\"Give Positive number\")"
   ]
  },
  {
   "cell_type": "markdown",
   "id": "e263e2dc-53e0-4a6c-9c2f-20652c978ef6",
   "metadata": {},
   "source": [
    "### 104. WAP to do all stack operations using lists\n"
   ]
  },
  {
   "cell_type": "code",
   "execution_count": null,
   "id": "4aa4ca3f-354e-48b1-a58b-39a2b1fc5061",
   "metadata": {},
   "outputs": [],
   "source": []
  },
  {
   "cell_type": "markdown",
   "id": "b40f9604-39ce-4bc7-816f-bb61104540ea",
   "metadata": {},
   "source": [
    "### 105.WAP to do all queue operations using lists\n"
   ]
  },
  {
   "cell_type": "code",
   "execution_count": null,
   "id": "51652ef4-45e9-4f6a-8632-0a5f784360fd",
   "metadata": {},
   "outputs": [],
   "source": []
  },
  {
   "cell_type": "markdown",
   "id": "f0931dbd-0385-4cf8-9557-ed0a7a2c443e",
   "metadata": {},
   "source": [
    "### 106. WAP to remove n occurrences of specified element from a list\n"
   ]
  },
  {
   "cell_type": "code",
   "execution_count": 48,
   "id": "c076605a-cb43-4300-a0bd-c12b50a8eda1",
   "metadata": {},
   "outputs": [
    {
     "name": "stdout",
     "output_type": "stream",
     "text": [
      "AJA@ consulting@ Services, LLP\n"
     ]
    }
   ],
   "source": [
    "def remove_n_occurances():\n",
    "    list_a = \"AJA, consulting, Services, LLP\"\n",
    "    n = 2\n",
    "    a = list_a.replace(\",\", \"@\", n)\n",
    "    print(a)\n",
    "\n",
    "remove_n_occurances()"
   ]
  },
  {
   "cell_type": "markdown",
   "id": "fedf2ea2-0170-4698-aba0-7be331b07e5c",
   "metadata": {},
   "source": [
    "### 107. compare two lists ignore order. i.e return True l1=[1,2,3,4],l2=[4,2,3,1], fun(l1,l2)-> True\n"
   ]
  },
  {
   "cell_type": "code",
   "execution_count": null,
   "id": "268cdd56-37e6-4270-b80d-107f49e2ed10",
   "metadata": {},
   "outputs": [],
   "source": []
  },
  {
   "cell_type": "markdown",
   "id": "0b8bf1d6-e8b7-4236-b8e3-7d3afd354ce4",
   "metadata": {},
   "source": [
    "### 108. XOR operation in python.\n"
   ]
  },
  {
   "cell_type": "code",
   "execution_count": null,
   "id": "bb8ad312-7364-4ff5-ba10-9a6bb89acad9",
   "metadata": {},
   "outputs": [],
   "source": []
  },
  {
   "cell_type": "markdown",
   "id": "de1c6041-7c06-4824-a59e-9fe342e95692",
   "metadata": {},
   "source": [
    "### 109. how to remove all occurrences of the given element in a list\n"
   ]
  },
  {
   "cell_type": "code",
   "execution_count": null,
   "id": "393ca039-8a44-4aa6-b54e-c0bef6f7bb99",
   "metadata": {},
   "outputs": [],
   "source": []
  },
  {
   "cell_type": "markdown",
   "id": "8a6d0bc6-20bf-47d2-975a-abceaa8d6ad9",
   "metadata": {},
   "source": [
    "### 110. how to remove first n occurrences of the given element in a list\n"
   ]
  },
  {
   "cell_type": "code",
   "execution_count": null,
   "id": "af3e1f62-5182-4aa4-b3e0-fc54a310c19d",
   "metadata": {},
   "outputs": [],
   "source": []
  },
  {
   "cell_type": "markdown",
   "id": "24ae9a2d-402e-4366-892d-1c5696139054",
   "metadata": {},
   "source": [
    "### 111. how to remove last n occurrences of the given element in a list\n"
   ]
  },
  {
   "cell_type": "code",
   "execution_count": null,
   "id": "ffb43727-5a27-442c-8e9d-d0cb1cc120f8",
   "metadata": {},
   "outputs": [],
   "source": []
  },
  {
   "cell_type": "markdown",
   "id": "9a55f4f9-9fda-46c8-8c07-7e097b2b2682",
   "metadata": {},
   "source": [
    "### 112. how to remove nth occurrences of the given element in a list\n"
   ]
  },
  {
   "cell_type": "code",
   "execution_count": null,
   "id": "0b34ed5c-380a-430a-8239-e5d03032f0f1",
   "metadata": {},
   "outputs": [],
   "source": []
  },
  {
   "cell_type": "markdown",
   "id": "d1098cca-4e79-4942-a1c5-f0958dd1c9f7",
   "metadata": {},
   "source": [
    "### 113. WAP to generate list of floats i.e: fun(0,1,0.1), [0,0.1,0.2,0.3,0.4,0.5,0.6,0.7,0.8,0.9]\n"
   ]
  },
  {
   "cell_type": "code",
   "execution_count": null,
   "id": "4f0d4f51-62b7-4500-9b33-293d2c2b7709",
   "metadata": {},
   "outputs": [],
   "source": []
  },
  {
   "cell_type": "markdown",
   "id": "b67687f8-4588-4c5b-ae53-3d7445972ef3",
   "metadata": {},
   "source": [
    "### 114. WAP to remove all occurrences of given substring from actual string\n"
   ]
  },
  {
   "cell_type": "code",
   "execution_count": null,
   "id": "8166051c-2d91-47a0-ad48-67664337a148",
   "metadata": {},
   "outputs": [],
   "source": []
  },
  {
   "cell_type": "markdown",
   "id": "bc8482ed-f8de-4340-8723-dd85789ce07f",
   "metadata": {},
   "source": [
    "### 115. WAP to remove first n occurrences of given substring from actual string\n"
   ]
  },
  {
   "cell_type": "code",
   "execution_count": null,
   "id": "ac004f75-cae9-4874-a7ee-2147f4c6ea87",
   "metadata": {},
   "outputs": [],
   "source": []
  },
  {
   "cell_type": "markdown",
   "id": "68f261ea-38d5-4128-9a0c-03ec6f131c12",
   "metadata": {},
   "source": [
    "### 116. WAP to remove last n occurrences of given substring from actual string\n"
   ]
  },
  {
   "cell_type": "code",
   "execution_count": null,
   "id": "ac7e27a3-4136-40c9-8bb4-fdc199026076",
   "metadata": {},
   "outputs": [],
   "source": []
  },
  {
   "cell_type": "markdown",
   "id": "5029a37b-2a56-45fd-8fb8-fd0203713328",
   "metadata": {},
   "source": [
    "### 117. WAP to replace last n occurrences of given substring with destination string in actual string\n"
   ]
  },
  {
   "cell_type": "code",
   "execution_count": null,
   "id": "03264a54-315b-4f38-97bf-0d7603da27a0",
   "metadata": {},
   "outputs": [],
   "source": []
  },
  {
   "cell_type": "markdown",
   "id": "5f3015b7-4ab6-4019-9d76-717ca15c3d7d",
   "metadata": {},
   "source": [
    "### 118. WAP to sort the string.\n"
   ]
  },
  {
   "cell_type": "code",
   "execution_count": null,
   "id": "6a765d1a-270d-49f0-a340-ae791efb7606",
   "metadata": {},
   "outputs": [],
   "source": []
  },
  {
   "cell_type": "markdown",
   "id": "ecb8e287-9a60-4f3d-8e55-f77089336a97",
   "metadata": {},
   "source": [
    "### 119. take a coma separated numbers and find out max number.\n"
   ]
  },
  {
   "cell_type": "code",
   "execution_count": null,
   "id": "22c53431-fc1b-490e-9865-d08a183ae630",
   "metadata": {},
   "outputs": [],
   "source": []
  }
 ],
 "metadata": {
  "kernelspec": {
   "display_name": "Python 3.12.4 ('base')",
   "language": "python",
   "name": "python3"
  },
  "language_info": {
   "codemirror_mode": {
    "name": "ipython",
    "version": 3
   },
   "file_extension": ".py",
   "mimetype": "text/x-python",
   "name": "python",
   "nbconvert_exporter": "python",
   "pygments_lexer": "ipython3",
   "version": "3.12.4"
  },
  "vscode": {
   "interpreter": {
    "hash": "bd3f1da8f6b2e069fa79ea943cb28ac35c78b055477c15e9cfb0a47fe444e79b"
   }
  }
 },
 "nbformat": 4,
 "nbformat_minor": 5
}
