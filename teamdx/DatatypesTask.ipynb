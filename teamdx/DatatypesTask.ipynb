{
 "cells": [
  {
   "cell_type": "code",
   "execution_count": 1,
   "id": "3ffdcf01-fe7c-4b15-a0a9-51f567001898",
   "metadata": {},
   "outputs": [],
   "source": [
    "a=5\n",
    "b=5.5"
   ]
  },
  {
   "cell_type": "code",
   "execution_count": null,
   "id": "107cb98e-7e8a-428b-b8c8-73fe8c759cbc",
   "metadata": {},
   "outputs": [],
   "source": []
  },
  {
   "cell_type": "code",
   "execution_count": 3,
   "id": "beababb2-852f-4b06-80c8-1297c1791adf",
   "metadata": {},
   "outputs": [
    {
     "name": "stdout",
     "output_type": "stream",
     "text": [
      "add: 10.5\n",
      "sub: -0.5\n",
      "division: 0.0\n",
      "multiplication: 27.5\n",
      "modules: 5.0\n",
      "exponent: 6987.712429686842\n"
     ]
    }
   ],
   "source": [
    "a=5\n",
    "b=5.5\n",
    "c=a+b\n",
    "print(\"add:\",c)\n",
    "d=5\n",
    "e=5.5\n",
    "f=d-e\n",
    "print(\"sub:\",f)\n",
    "g=5\n",
    "h=5.5\n",
    "i=g//h\n",
    "print(\"division:\",i)\n",
    "j=5\n",
    "k=5.5\n",
    "l=j*k\n",
    "print(\"multiplication:\",l)\n",
    "m=5\n",
    "n=5.5\n",
    "o=m%n\n",
    "print(\"modules:\",o)\n",
    "p=5\n",
    "q=5.5\n",
    "r=p**q\n",
    "print(\"exponent:\",r)\n",
    "\n"
   ]
  },
  {
   "cell_type": "code",
   "execution_count": 4,
   "id": "91980b27-3862-465e-865d-d53e42093f5e",
   "metadata": {},
   "outputs": [
    {
     "name": "stdout",
     "output_type": "stream",
     "text": [
      "add: (6.5+5j)\n",
      "sub: (-4.5+5j)\n"
     ]
    },
    {
     "ename": "TypeError",
     "evalue": "unsupported operand type(s) for //: 'complex' and 'float'",
     "output_type": "error",
     "traceback": [
      "\u001b[1;31m---------------------------------------------------------------------------\u001b[0m",
      "\u001b[1;31mTypeError\u001b[0m                                 Traceback (most recent call last)",
      "Cell \u001b[1;32mIn[4], line 11\u001b[0m\n\u001b[0;32m      9\u001b[0m g\u001b[38;5;241m=\u001b[39m\u001b[38;5;241m1\u001b[39m\u001b[38;5;241m+\u001b[39m\u001b[38;5;241m5\u001b[39mj\n\u001b[0;32m     10\u001b[0m h\u001b[38;5;241m=\u001b[39m\u001b[38;5;241m5.5\u001b[39m\n\u001b[1;32m---> 11\u001b[0m i\u001b[38;5;241m=\u001b[39mg\u001b[38;5;241m/\u001b[39m\u001b[38;5;241m/\u001b[39mh\n\u001b[0;32m     12\u001b[0m \u001b[38;5;28mprint\u001b[39m(\u001b[38;5;124m\"\u001b[39m\u001b[38;5;124mdivision:\u001b[39m\u001b[38;5;124m\"\u001b[39m,i)\n\u001b[0;32m     13\u001b[0m j\u001b[38;5;241m=\u001b[39m\u001b[38;5;241m1\u001b[39m\u001b[38;5;241m+\u001b[39m\u001b[38;5;241m5\u001b[39mj\n",
      "\u001b[1;31mTypeError\u001b[0m: unsupported operand type(s) for //: 'complex' and 'float'"
     ]
    }
   ],
   "source": [
    "a=1+5j\n",
    "b=5.5\n",
    "c=a+b\n",
    "print(\"add:\",c)\n",
    "d=1+5j\n",
    "e=5.5\n",
    "f=d-e\n",
    "print(\"sub:\",f)\n",
    "g=1+5j\n",
    "h=5.5\n",
    "i=g//h\n",
    "print(\"division:\",i)\n",
    "j=1+5j\n",
    "k=5.5\n",
    "l=j*k\n",
    "print(\"multiplication:\",l)\n",
    "\n",
    "\n"
   ]
  },
  {
   "cell_type": "markdown",
   "id": "2bc1bd4c-baa0-45d8-9b9c-f17b70b49058",
   "metadata": {},
   "source": [
    "### ADDITION\n"
   ]
  },
  {
   "cell_type": "markdown",
   "id": "57ed20d6-6028-4021-a95f-d6ec49489c96",
   "metadata": {},
   "source": [
    "### int+float\n"
   ]
  },
  {
   "cell_type": "code",
   "execution_count": null,
   "id": "8e6d0748-64c1-44a5-bc6b-0c71007f5596",
   "metadata": {},
   "outputs": [],
   "source": [
    "a=3\n",
    "b=4.5\n",
    "c=a+b "
   ]
  },
  {
   "cell_type": "code",
   "execution_count": 2,
   "id": "161ce55e-10e1-4492-92df-0ba651bed319",
   "metadata": {},
   "outputs": [
    {
     "name": "stdout",
     "output_type": "stream",
     "text": [
      "7.5\n"
     ]
    }
   ],
   "source": [
    "print(c)#(result is a float)"
   ]
  },
  {
   "cell_type": "markdown",
   "id": "0e7867bc-160d-4ca3-9438-6192fad492bf",
   "metadata": {},
   "source": [
    "### int+boolean"
   ]
  },
  {
   "cell_type": "code",
   "execution_count": 35,
   "id": "49e55e03-aca6-4a2d-aeab-9e13cf40552e",
   "metadata": {},
   "outputs": [
    {
     "name": "stdout",
     "output_type": "stream",
     "text": [
      "9\n"
     ]
    }
   ],
   "source": [
    "a=8\n",
    "b=True\n",
    "c=a+b\n",
    "print(c)#booean T is treated as 1"
   ]
  },
  {
   "cell_type": "markdown",
   "id": "b9bea335-d648-4931-a558-fd34b5646d60",
   "metadata": {},
   "source": [
    "### float+boolean\n"
   ]
  },
  {
   "cell_type": "code",
   "execution_count": null,
   "id": "9f99c9d2-f186-47f5-bf01-4c896a54e8ca",
   "metadata": {},
   "outputs": [],
   "source": [
    "a=3.5\n",
    "b=False\n",
    "c=a+b\n",
    "print(c)#float+boolean  Boolean False is treated as 0"
   ]
  },
  {
   "cell_type": "markdown",
   "id": "af907627-3877-4361-bfba-231db4c8bef7",
   "metadata": {},
   "source": [
    "### sting+string  \n"
   ]
  },
  {
   "cell_type": "code",
   "execution_count": null,
   "id": "fdd31042-ebed-40db-8f77-26a1f7909021",
   "metadata": {},
   "outputs": [],
   "source": [
    "a=\"hello\"\n",
    "b=\"world\"\n",
    "c=a+b\n",
    "print(c)#(results in Helloworld)(concatination)"
   ]
  },
  {
   "cell_type": "markdown",
   "id": "19848467-2b86-4b6a-bc79-8a06529c345a",
   "metadata": {},
   "source": [
    "### int+string\n"
   ]
  },
  {
   "cell_type": "code",
   "execution_count": null,
   "id": "3e2bea4c-1cd4-40ac-a3f6-d7847e622d15",
   "metadata": {},
   "outputs": [],
   "source": [
    "a=3\n",
    "b=\"hello\"\n",
    "c=a+b\n",
    "print(c) # ( raises a typeerror cannot add integer and string)"
   ]
  },
  {
   "cell_type": "markdown",
   "id": "1aea3c14-46a7-406d-ac56-e8ab8b2a782a",
   "metadata": {},
   "source": [
    "### list+list \n"
   ]
  },
  {
   "cell_type": "code",
   "execution_count": null,
   "id": "4a6e2fcf-2945-487a-b186-d0ac39a3ee2c",
   "metadata": {},
   "outputs": [],
   "source": [
    "a=[1,2]\n",
    "b=[3,4]\n",
    "c=a+b\n",
    "print(c)#(concatination)"
   ]
  },
  {
   "cell_type": "markdown",
   "id": "325e5bb9-aebe-476f-bc37-75af90360b69",
   "metadata": {},
   "source": [
    "### list+int\n"
   ]
  },
  {
   "cell_type": "code",
   "execution_count": null,
   "id": "e59fd787-0fe9-4cd6-8e83-b13ff9fffc6f",
   "metadata": {},
   "outputs": [],
   "source": [
    "a=[1,2]\n",
    "b=3\n",
    "c=a+b\n",
    "print(c) #(type error cannot add list and integer)"
   ]
  },
  {
   "cell_type": "markdown",
   "id": "173e8610-fbbe-4f6a-927a-931b7b8cdcfd",
   "metadata": {},
   "source": [
    "### SUBTRACTION\n"
   ]
  },
  {
   "cell_type": "markdown",
   "id": "f38ef72d-3bb0-4289-ba9c-4f9145645335",
   "metadata": {},
   "source": [
    "### int-float\n"
   ]
  },
  {
   "cell_type": "code",
   "execution_count": null,
   "id": "75cdc006-7bb6-4972-b6f0-3b6043691f38",
   "metadata": {},
   "outputs": [],
   "source": [
    "a=5\n",
    "b=2.3\n",
    "c=a-b\n",
    "print(c) #result is float"
   ]
  },
  {
   "cell_type": "markdown",
   "id": "fc5306c6-3444-4789-8f0b-51455e8d3d58",
   "metadata": {},
   "source": [
    "### nt-boolean\n"
   ]
  },
  {
   "cell_type": "code",
   "execution_count": null,
   "id": "91895054-8d1c-46cb-8b00-9ab5a1c0e483",
   "metadata": {},
   "outputs": [],
   "source": [
    "a=5\n",
    "b=True\n",
    "c=a-b\n",
    "print(c)#boolean True is treated as 1"
   ]
  },
  {
   "cell_type": "markdown",
   "id": "0254096d-40d3-432e-8462-029556b6770a",
   "metadata": {},
   "source": [
    "### float-boolean\n"
   ]
  },
  {
   "cell_type": "code",
   "execution_count": null,
   "id": "f50467ac-4be5-4aea-a907-cd7a3a5ea776",
   "metadata": {},
   "outputs": [],
   "source": [
    "a=5.5\n",
    "b=False\n",
    "c=a-b\n",
    "print(c) #"
   ]
  },
  {
   "cell_type": "markdown",
   "id": "5ed382ab-6fe8-4f8c-a589-260910073c6f",
   "metadata": {},
   "source": [
    "### string-string\n"
   ]
  },
  {
   "cell_type": "code",
   "execution_count": null,
   "id": "a555942d-29d7-44ce-bc4c-529454e73327",
   "metadata": {},
   "outputs": [],
   "source": [
    "a=\"hai\"\n",
    "b=\"bye\"\n",
    "c=a-b\n",
    "print(c)#typeerror (cannot subtract strings)"
   ]
  },
  {
   "cell_type": "markdown",
   "id": "37462f06-ac71-4905-a672-c6f0f1ac8762",
   "metadata": {},
   "source": [
    "### int-string\n"
   ]
  },
  {
   "cell_type": "code",
   "execution_count": null,
   "id": "6d77ca19-af9c-4af7-9925-8607dc713a9e",
   "metadata": {},
   "outputs": [],
   "source": [
    "a=4\n",
    "b=\"2\"\n",
    "c=a-b\n",
    "print(c)#type error(int and string cannot substarct)"
   ]
  },
  {
   "cell_type": "markdown",
   "id": "28e90b46-09e4-41e3-9349-10d6f6a59889",
   "metadata": {},
   "source": [
    "### list-list\n"
   ]
  },
  {
   "cell_type": "code",
   "execution_count": null,
   "id": "3bb2823b-87fb-4008-842f-bd92d32526fc",
   "metadata": {},
   "outputs": [],
   "source": [
    "a=[1,3]\n",
    "b=[2]\n",
    "c=a-b\n",
    "print(c)"
   ]
  },
  {
   "cell_type": "markdown",
   "id": "efd7a09b-44f4-46dc-a92c-55c08817c2ca",
   "metadata": {},
   "source": [
    "### MULTPLICATION\n"
   ]
  },
  {
   "cell_type": "markdown",
   "id": "ebda4370-7288-43d2-9301-cc64f0058c8f",
   "metadata": {},
   "source": [
    "### int * float\n"
   ]
  },
  {
   "cell_type": "code",
   "execution_count": null,
   "id": "285622d8-6793-4f57-9475-715b4414670c",
   "metadata": {},
   "outputs": [],
   "source": [
    "a=3\n",
    "b=2*5\n",
    "print(c)# results in float"
   ]
  },
  {
   "cell_type": "markdown",
   "id": "100c10ef-983e-4cad-9f5a-1c353b0bf630",
   "metadata": {},
   "source": [
    "### int * boolean\n"
   ]
  },
  {
   "cell_type": "code",
   "execution_count": null,
   "id": "2887a53a-9f3e-4c48-9556-cd781cb83bf5",
   "metadata": {},
   "outputs": [],
   "source": [
    "a=4\n",
    "b=True\n",
    "c=a*b\n",
    "print(c)#(boolean True is treated as 1)"
   ]
  },
  {
   "cell_type": "markdown",
   "id": "eee66570-e45d-41de-8916-40cf50ee6dbf",
   "metadata": {},
   "source": [
    "### float*boolean\n"
   ]
  },
  {
   "cell_type": "code",
   "execution_count": null,
   "id": "77bb7310-fab3-4401-8933-a9840d572a74",
   "metadata": {},
   "outputs": [],
   "source": [
    "a=2.5\n",
    "b=False\n",
    "c=a*b\n",
    "print(c)#boolean False is treated as 0"
   ]
  },
  {
   "cell_type": "markdown",
   "id": "64a532a2-91c2-49d5-a144-b7c91ed775ac",
   "metadata": {},
   "source": [
    "### string * int\n"
   ]
  },
  {
   "cell_type": "code",
   "execution_count": 21,
   "id": "2f728481-9d12-491b-abfb-c0893ea181c1",
   "metadata": {},
   "outputs": [
    {
     "name": "stdout",
     "output_type": "stream",
     "text": [
      "srividyasrividyasrividyasrividyasrividya\n"
     ]
    }
   ],
   "source": [
    "a=\"srividya\"\n",
    "b=5\n",
    "c=a*b\n",
    "print(c)# string repition"
   ]
  },
  {
   "cell_type": "markdown",
   "id": "5f5edf41-98a6-47b1-b0d6-894189cdc0fa",
   "metadata": {},
   "source": [
    "### int*string"
   ]
  },
  {
   "cell_type": "code",
   "execution_count": 23,
   "id": "1845ba45-3740-4859-bd9a-1ecb8f0e07c8",
   "metadata": {},
   "outputs": [
    {
     "name": "stdout",
     "output_type": "stream",
     "text": [
      "anshugaduanshugaduanshugadu\n"
     ]
    }
   ],
   "source": [
    "a=3\n",
    "b=\"anshugadu\"\n",
    "c=a*b\n",
    "print(c)#string repition"
   ]
  },
  {
   "cell_type": "markdown",
   "id": "1f10807f-f882-402b-8b64-2af68bb626bb",
   "metadata": {},
   "source": [
    "### list * int"
   ]
  },
  {
   "cell_type": "code",
   "execution_count": 24,
   "id": "542d1308-9126-428b-a09a-df28cb31a2b5",
   "metadata": {},
   "outputs": [
    {
     "name": "stdout",
     "output_type": "stream",
     "text": [
      "[1, 2, 1, 2, 1, 2, 1, 2, 1, 2]\n"
     ]
    }
   ],
   "source": [
    "a=[1,2]\n",
    "b=5\n",
    "c=a*b\n",
    "print(c)# list repition"
   ]
  },
  {
   "cell_type": "markdown",
   "id": "a7ccd6d2-066c-4733-846d-27dd32c642dc",
   "metadata": {},
   "source": [
    "### DIVISION"
   ]
  },
  {
   "cell_type": "markdown",
   "id": "1b56fc7a-c7c7-43fd-887d-06b065b91106",
   "metadata": {},
   "source": [
    "### int / float"
   ]
  },
  {
   "cell_type": "code",
   "execution_count": 25,
   "id": "3c049c93-579a-47a8-90e5-a889937a84ef",
   "metadata": {},
   "outputs": [
    {
     "name": "stdout",
     "output_type": "stream",
     "text": [
      "4.666666666666667\n"
     ]
    }
   ],
   "source": [
    "a=7\n",
    "b=1.5\n",
    "c=a/b\n",
    "print(c)#result is float"
   ]
  },
  {
   "cell_type": "markdown",
   "id": "b2566091-bc8f-427a-add9-60beaaef5bd6",
   "metadata": {},
   "source": [
    "### int / boolean"
   ]
  },
  {
   "cell_type": "code",
   "execution_count": 26,
   "id": "7fba8c06-a6eb-4aed-98a8-ae7d2083c841",
   "metadata": {},
   "outputs": [
    {
     "name": "stdout",
     "output_type": "stream",
     "text": [
      "8.0\n"
     ]
    }
   ],
   "source": [
    "a=8\n",
    "b=True\n",
    "c=a/b\n",
    "print(c)#boolean T is treated as 1"
   ]
  },
  {
   "cell_type": "markdown",
   "id": "984323da-fa11-4446-8b69-0a65ba7612e7",
   "metadata": {},
   "source": [
    "### float / boolean"
   ]
  },
  {
   "cell_type": "code",
   "execution_count": 27,
   "id": "9ff09717-4e6c-4d67-ba86-7581c91adeae",
   "metadata": {},
   "outputs": [
    {
     "ename": "ZeroDivisionError",
     "evalue": "float division by zero",
     "output_type": "error",
     "traceback": [
      "\u001b[1;31m---------------------------------------------------------------------------\u001b[0m",
      "\u001b[1;31mZeroDivisionError\u001b[0m                         Traceback (most recent call last)",
      "Cell \u001b[1;32mIn[27], line 3\u001b[0m\n\u001b[0;32m      1\u001b[0m a\u001b[38;5;241m=\u001b[39m\u001b[38;5;241m1.9\u001b[39m\n\u001b[0;32m      2\u001b[0m b\u001b[38;5;241m=\u001b[39m\u001b[38;5;28;01mFalse\u001b[39;00m\n\u001b[1;32m----> 3\u001b[0m c\u001b[38;5;241m=\u001b[39ma\u001b[38;5;241m/\u001b[39mb\n\u001b[0;32m      4\u001b[0m \u001b[38;5;28mprint\u001b[39m(c)\n",
      "\u001b[1;31mZeroDivisionError\u001b[0m: float division by zero"
     ]
    }
   ],
   "source": [
    "a=1.9\n",
    "b=False\n",
    "c=a/b\n",
    "print(c)#zero division error(division by zero)"
   ]
  },
  {
   "cell_type": "markdown",
   "id": "8fdcf6f5-5417-4fd2-bc5e-4e3c2ce09641",
   "metadata": {},
   "source": [
    "### string / int\n"
   ]
  },
  {
   "cell_type": "code",
   "execution_count": 28,
   "id": "34e76788-e7f5-4bdc-8f46-a9668f91757c",
   "metadata": {},
   "outputs": [
    {
     "ename": "TypeError",
     "evalue": "unsupported operand type(s) for /: 'str' and 'int'",
     "output_type": "error",
     "traceback": [
      "\u001b[1;31m---------------------------------------------------------------------------\u001b[0m",
      "\u001b[1;31mTypeError\u001b[0m                                 Traceback (most recent call last)",
      "Cell \u001b[1;32mIn[28], line 3\u001b[0m\n\u001b[0;32m      1\u001b[0m a\u001b[38;5;241m=\u001b[39m\u001b[38;5;124m\"\u001b[39m\u001b[38;5;124mhai\u001b[39m\u001b[38;5;124m\"\u001b[39m\n\u001b[0;32m      2\u001b[0m b\u001b[38;5;241m=\u001b[39m \u001b[38;5;241m7\u001b[39m\n\u001b[1;32m----> 3\u001b[0m c\u001b[38;5;241m=\u001b[39ma\u001b[38;5;241m/\u001b[39mb\n\u001b[0;32m      4\u001b[0m \u001b[38;5;28mprint\u001b[39m(c)\n",
      "\u001b[1;31mTypeError\u001b[0m: unsupported operand type(s) for /: 'str' and 'int'"
     ]
    }
   ],
   "source": [
    "a=\"hai\"\n",
    "b= 7\n",
    "c=a/b\n",
    "print(c)# tyoe error cannot division string by int"
   ]
  },
  {
   "cell_type": "markdown",
   "id": "5753a447-8456-4c90-85aa-6a5c44b3586e",
   "metadata": {},
   "source": [
    "### list / int"
   ]
  },
  {
   "cell_type": "code",
   "execution_count": 29,
   "id": "28d959c1-edc8-4ca6-8cb1-3d787340e785",
   "metadata": {},
   "outputs": [
    {
     "ename": "TypeError",
     "evalue": "unsupported operand type(s) for /: 'list' and 'int'",
     "output_type": "error",
     "traceback": [
      "\u001b[1;31m---------------------------------------------------------------------------\u001b[0m",
      "\u001b[1;31mTypeError\u001b[0m                                 Traceback (most recent call last)",
      "Cell \u001b[1;32mIn[29], line 3\u001b[0m\n\u001b[0;32m      1\u001b[0m a\u001b[38;5;241m=\u001b[39m[\u001b[38;5;241m3\u001b[39m,\u001b[38;5;241m4\u001b[39m]\n\u001b[0;32m      2\u001b[0m b\u001b[38;5;241m=\u001b[39m\u001b[38;5;241m5\u001b[39m\n\u001b[1;32m----> 3\u001b[0m c\u001b[38;5;241m=\u001b[39ma\u001b[38;5;241m/\u001b[39mb\n\u001b[0;32m      4\u001b[0m \u001b[38;5;28mprint\u001b[39m(c)\n",
      "\u001b[1;31mTypeError\u001b[0m: unsupported operand type(s) for /: 'list' and 'int'"
     ]
    }
   ],
   "source": [
    "a=[3,4]\n",
    "b=5\n",
    "c=a/b\n",
    "print(c)# type error cannot devide list and int"
   ]
  },
  {
   "cell_type": "markdown",
   "id": "202c5321-5902-4b61-828d-ee1526677c5e",
   "metadata": {},
   "source": [
    "### EXPONENTIATION"
   ]
  },
  {
   "cell_type": "markdown",
   "id": "0a9cc77e-6eba-48c8-82df-7a3687184c2e",
   "metadata": {},
   "source": [
    "### int ** float"
   ]
  },
  {
   "cell_type": "code",
   "execution_count": 30,
   "id": "3b68507e-9371-43a4-9a23-5d7826342352",
   "metadata": {},
   "outputs": [
    {
     "name": "stdout",
     "output_type": "stream",
     "text": [
      "8.0\n"
     ]
    }
   ],
   "source": [
    "a=2\n",
    "b=3.0\n",
    "c=a**b\n",
    "print(c)# result is float"
   ]
  },
  {
   "cell_type": "markdown",
   "id": "e73a7702-10c4-4ea1-b0e6-a2523a1fbdc3",
   "metadata": {},
   "source": [
    "### int ** boolean"
   ]
  },
  {
   "cell_type": "code",
   "execution_count": 31,
   "id": "79557745-7bd3-4ae5-ad7d-08f11f7b6064",
   "metadata": {},
   "outputs": [
    {
     "name": "stdout",
     "output_type": "stream",
     "text": [
      "8\n"
     ]
    }
   ],
   "source": [
    "a=8\n",
    "b=True\n",
    "c=a**b\n",
    "print(c)# boolean True is treated as 1"
   ]
  },
  {
   "cell_type": "markdown",
   "id": "ae4ce208-9456-467b-9f30-33df647b1377",
   "metadata": {},
   "source": [
    "### float ** boolean"
   ]
  },
  {
   "cell_type": "code",
   "execution_count": 32,
   "id": "23195697-293a-410e-ad61-2cd594660ec2",
   "metadata": {},
   "outputs": [
    {
     "name": "stdout",
     "output_type": "stream",
     "text": [
      "1.0\n"
     ]
    }
   ],
   "source": [
    "a=1.9\n",
    "b=False\n",
    "c=a**b\n",
    "print(c)# boolean FALSE  is treated as o"
   ]
  },
  {
   "cell_type": "markdown",
   "id": "6d3c064f-bf4c-4c3d-ae23-d0218a7c9059",
   "metadata": {},
   "source": [
    "### string ** int"
   ]
  },
  {
   "cell_type": "code",
   "execution_count": 33,
   "id": "8afb6b21-0cde-4a7c-9f24-deb1b2bbe4c2",
   "metadata": {},
   "outputs": [
    {
     "ename": "TypeError",
     "evalue": "unsupported operand type(s) for ** or pow(): 'str' and 'int'",
     "output_type": "error",
     "traceback": [
      "\u001b[1;31m---------------------------------------------------------------------------\u001b[0m",
      "\u001b[1;31mTypeError\u001b[0m                                 Traceback (most recent call last)",
      "Cell \u001b[1;32mIn[33], line 3\u001b[0m\n\u001b[0;32m      1\u001b[0m a\u001b[38;5;241m=\u001b[39m\u001b[38;5;124m\"\u001b[39m\u001b[38;5;124msai\u001b[39m\u001b[38;5;124m\"\u001b[39m\n\u001b[0;32m      2\u001b[0m b\u001b[38;5;241m=\u001b[39m \u001b[38;5;241m7\u001b[39m\n\u001b[1;32m----> 3\u001b[0m c\u001b[38;5;241m=\u001b[39ma\u001b[38;5;241m*\u001b[39m\u001b[38;5;241m*\u001b[39mb\n\u001b[0;32m      4\u001b[0m \u001b[38;5;28mprint\u001b[39m(c)\n",
      "\u001b[1;31mTypeError\u001b[0m: unsupported operand type(s) for ** or pow(): 'str' and 'int'"
     ]
    }
   ],
   "source": [
    "a=\"sai\"\n",
    "b= 7\n",
    "c=a**b\n",
    "print(c)# type error str and int cannot exponentiate"
   ]
  },
  {
   "cell_type": "markdown",
   "id": "6cbb222a-6e5d-4a42-a7b5-988b4c2df0e8",
   "metadata": {},
   "source": [
    "### list ** int"
   ]
  },
  {
   "cell_type": "code",
   "execution_count": 34,
   "id": "6d79841f-52b8-4636-b3d9-3883a8103ae0",
   "metadata": {},
   "outputs": [
    {
     "ename": "TypeError",
     "evalue": "unsupported operand type(s) for ** or pow(): 'list' and 'int'",
     "output_type": "error",
     "traceback": [
      "\u001b[1;31m---------------------------------------------------------------------------\u001b[0m",
      "\u001b[1;31mTypeError\u001b[0m                                 Traceback (most recent call last)",
      "Cell \u001b[1;32mIn[34], line 3\u001b[0m\n\u001b[0;32m      1\u001b[0m a\u001b[38;5;241m=\u001b[39m[\u001b[38;5;241m2\u001b[39m,\u001b[38;5;241m4\u001b[39m]\n\u001b[0;32m      2\u001b[0m b\u001b[38;5;241m=\u001b[39m\u001b[38;5;241m8\u001b[39m\n\u001b[1;32m----> 3\u001b[0m c\u001b[38;5;241m=\u001b[39ma\u001b[38;5;241m*\u001b[39m\u001b[38;5;241m*\u001b[39mb\n\u001b[0;32m      4\u001b[0m \u001b[38;5;28mprint\u001b[39m(c)\n",
      "\u001b[1;31mTypeError\u001b[0m: unsupported operand type(s) for ** or pow(): 'list' and 'int'"
     ]
    }
   ],
   "source": [
    "a=[2,4]\n",
    "b=8\n",
    "c=a**b\n",
    "print(c)#type error list and int cannot exponentiate"
   ]
  },
  {
   "cell_type": "code",
   "execution_count": null,
   "id": "27d43142-d97c-45bb-802c-b30b9d7222b5",
   "metadata": {},
   "outputs": [],
   "source": []
  }
 ],
 "metadata": {
  "kernelspec": {
   "display_name": "Python 3 (ipykernel)",
   "language": "python",
   "name": "python3"
  },
  "language_info": {
   "codemirror_mode": {
    "name": "ipython",
    "version": 3
   },
   "file_extension": ".py",
   "mimetype": "text/x-python",
   "name": "python",
   "nbconvert_exporter": "python",
   "pygments_lexer": "ipython3",
   "version": "3.12.4"
  }
 },
 "nbformat": 4,
 "nbformat_minor": 5
}
