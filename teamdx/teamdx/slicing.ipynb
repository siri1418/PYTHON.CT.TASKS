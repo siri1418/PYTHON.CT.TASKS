{
 "cells": [
  {
   "cell_type": "code",
   "execution_count": 2,
   "id": "54ae3291-773a-4b36-afc4-3d7450102aaf",
   "metadata": {},
   "outputs": [
    {
     "name": "stdout",
     "output_type": "stream",
     "text": [
      "\n"
     ]
    }
   ],
   "source": [
    "s=\"abcdefghijkl\"\n",
    "print(s[-2:-11:1])\n"
   ]
  },
  {
   "cell_type": "code",
   "execution_count": null,
   "id": "dcfafa02-1598-4367-bdd5-f922681e76be",
   "metadata": {},
   "outputs": [],
   "source": []
  }
 ],
 "metadata": {
  "kernelspec": {
   "display_name": "Python 3 (ipykernel)",
   "language": "python",
   "name": "python3"
  },
  "language_info": {
   "codemirror_mode": {
    "name": "ipython",
    "version": 3
   },
   "file_extension": ".py",
   "mimetype": "text/x-python",
   "name": "python",
   "nbconvert_exporter": "python",
   "pygments_lexer": "ipython3",
   "version": "3.12.4"
  }
 },
 "nbformat": 4,
 "nbformat_minor": 5
}
