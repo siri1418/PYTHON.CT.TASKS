{
 "cells": [
  {
   "cell_type": "code",
   "execution_count": 1,
   "id": "37a62ff3-b93d-4725-a0ca-fe3b4d80a903",
   "metadata": {},
   "outputs": [
    {
     "name": "stdout",
     "output_type": "stream",
     "text": [
      "HELLO\n",
      "x=1,y=2\n",
      "z 3\n",
      "HI\n",
      "x=10,y=20\n",
      "z 30\n"
     ]
    }
   ],
   "source": [
    "def add(x,y):\n",
    "    print(f\"x={x},y={y}\")\n",
    "    z=x+y\n",
    "    print(\"z\",z)\n",
    "def sub(a,b):\n",
    "    res=a-b\n",
    "    print(res)\n",
    "print(\"HELLO\")\n",
    "add(1,2)\n",
    "print(\"HI\")\n",
    "add(10,20)\n"
   ]
  },
  {
   "cell_type": "code",
   "execution_count": 7,
   "id": "edb52673-5e92-4554-9083-02c186820df8",
   "metadata": {},
   "outputs": [
    {
     "name": "stdout",
     "output_type": "stream",
     "text": [
      "30\n",
      "-10\n",
      "200\n",
      "0.5\n"
     ]
    }
   ],
   "source": [
    "def add(x,y):\n",
    "    print(x+y)\n",
    "def sub(a,b):\n",
    "    print(a-b)\n",
    "def mul(p,q):\n",
    "    print(p*q)\n",
    "def div(x,y):\n",
    "    print(x/y) \n",
    "\n",
    "add(10,20)\n",
    "sub(10,20)\n",
    "mul(10,20)\n",
    "div(10,20)\n",
    "    \n",
    "    \n",
    "    "
   ]
  },
  {
   "cell_type": "code",
   "execution_count": 12,
   "id": "4f5ff6e0-9a3f-48ff-a9cf-1959a7b366c3",
   "metadata": {},
   "outputs": [
    {
     "name": "stdout",
     "output_type": "stream",
     "text": [
      "a-1,b-2,c-0,d-0\n",
      "3\n"
     ]
    }
   ],
   "source": [
    "def add(a,b,c,d):\n",
    "    print(f\"a-{a},b-{b},c-{c},d-{d}\")\n",
    "    print(a+b+c+d)\n",
    "add(1,2,0,0)    "
   ]
  },
  {
   "cell_type": "code",
   "execution_count": 13,
   "id": "d9c6a83d-cf39-4c41-960f-54ae32b95216",
   "metadata": {},
   "outputs": [
    {
     "ename": "SyntaxError",
     "evalue": "Invalid star expression (1036816994.py, line 4)",
     "output_type": "error",
     "traceback": [
      "\u001b[1;36m  Cell \u001b[1;32mIn[13], line 4\u001b[1;36m\u001b[0m\n\u001b[1;33m    add(1,2,*)\u001b[0m\n\u001b[1;37m             ^\u001b[0m\n\u001b[1;31mSyntaxError\u001b[0m\u001b[1;31m:\u001b[0m Invalid star expression\n"
     ]
    }
   ],
   "source": [
    "def add(a,b,c,d):\n",
    "    print(f\"a-{a},b-{b},c-{c},d-{d}\")\n",
    "    print(a+b+c+d)\n",
    "add(1,2,*)    "
   ]
  },
  {
   "cell_type": "code",
   "execution_count": 1,
   "id": "2c1659bf-fa1a-4254-9d61-ef4e6a41d87c",
   "metadata": {},
   "outputs": [
    {
     "name": "stdout",
     "output_type": "stream",
     "text": [
      "result 3\n",
      "res= None\n"
     ]
    }
   ],
   "source": [
    "def add(x,y):\n",
    "    z=x+y\n",
    "    print(\"result\",z)\n",
    "res = add(1,2)\n",
    "print(\"res=\",res)"
   ]
  },
  {
   "cell_type": "code",
   "execution_count": 2,
   "id": "f30a27a2-6f91-4bf5-80ff-961bdf4add80",
   "metadata": {},
   "outputs": [
    {
     "name": "stdout",
     "output_type": "stream",
     "text": [
      "result 3\n",
      "res= 3\n"
     ]
    }
   ],
   "source": [
    "def add(x,y):\n",
    "    z=x+y\n",
    "    print(\"result\",z)\n",
    "    return z\n",
    "res = add(1,2)\n",
    "print(\"res=\",res)"
   ]
  },
  {
   "cell_type": "code",
   "execution_count": 3,
   "id": "eeef75ab-948e-4cc0-9375-168a34b5709e",
   "metadata": {},
   "outputs": [
    {
     "name": "stdout",
     "output_type": "stream",
     "text": [
      "Result= -1\n"
     ]
    }
   ],
   "source": [
    "def operation(x,y):\n",
    "    z=x+y\n",
    "    a=x-y\n",
    "    c=x*y\n",
    "    return a\n",
    "res = operation(1,2)\n",
    "print(\"Result=\",res)"
   ]
  },
  {
   "cell_type": "code",
   "execution_count": 4,
   "id": "e5e34574-d3ae-4371-9f64-a69fe6ecdc8c",
   "metadata": {},
   "outputs": [
    {
     "name": "stdout",
     "output_type": "stream",
     "text": [
      "Result= (-1, 2, 3)\n"
     ]
    }
   ],
   "source": [
    "def operation(x,y):\n",
    "    z=x+y\n",
    "    a=x-y\n",
    "    c=x*y\n",
    "    return a,c,z\n",
    "res = operation(1,2)\n",
    "print(\"Result=\",res)"
   ]
  },
  {
   "cell_type": "code",
   "execution_count": 5,
   "id": "8360f507-0482-44f3-a50c-ac419c043874",
   "metadata": {},
   "outputs": [
    {
     "name": "stdout",
     "output_type": "stream",
     "text": [
      "Hello\n",
      "Result= 3\n"
     ]
    }
   ],
   "source": [
    "def operation(x,y):\n",
    "    print(\"Hello\")\n",
    "    z=x+y\n",
    "    return z\n",
    "    a=x-y\n",
    "    return a\n",
    "    print(\"Hyd\")\n",
    "    c=x*y\n",
    "    return c    \n",
    "res = operation(1,2)\n",
    "print(\"Result=\",res)"
   ]
  },
  {
   "cell_type": "code",
   "execution_count": 1,
   "id": "c514559f-c7fb-4037-9a93-1bda4e330e83",
   "metadata": {},
   "outputs": [
    {
     "name": "stdout",
     "output_type": "stream",
     "text": [
      "this is operation\n",
      "x-2,y-4\n",
      "result= -2\n",
      "r1- None\n",
      "this is operation\n",
      "x-4,y-5\n",
      "result= 9\n",
      "r2- None\n"
     ]
    }
   ],
   "source": [
    "def add(x,y):\n",
    "    print(f\"x-{x},y-{y}\")\n",
    "    return x+y\n",
    "def sub(x,y):\n",
    "    print(f\"x-{x},y-{y}\")\n",
    "    return x-y\n",
    "def operation(fun,a,b):\n",
    "    print(\"this is operation\")\n",
    "    res=fun(a,b)\n",
    "    print(\"result=\",res)\n",
    "r1=operation(sub,2,4)\n",
    "print(\"r1-\",r1)\n",
    "r2=operation(add,4,5)\n",
    "print(\"r2-\",r2)\n",
    "    "
   ]
  },
  {
   "cell_type": "code",
   "execution_count": null,
   "id": "2deecb8c-b7ee-4ccf-bc9f-8f8bffe5c18a",
   "metadata": {},
   "outputs": [],
   "source": [
    "\n"
   ]
  }
 ],
 "metadata": {
  "kernelspec": {
   "display_name": "Python 3 (ipykernel)",
   "language": "python",
   "name": "python3"
  },
  "language_info": {
   "codemirror_mode": {
    "name": "ipython",
    "version": 3
   },
   "file_extension": ".py",
   "mimetype": "text/x-python",
   "name": "python",
   "nbconvert_exporter": "python",
   "pygments_lexer": "ipython3",
   "version": "3.12.4"
  }
 },
 "nbformat": 4,
 "nbformat_minor": 5
}
