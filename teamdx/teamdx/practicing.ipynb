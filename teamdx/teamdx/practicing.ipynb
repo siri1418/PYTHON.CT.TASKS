{
 "cells": [
  {
   "cell_type": "code",
   "execution_count": 1,
   "id": "dc7a8120-8933-4435-9222-1903e14bde42",
   "metadata": {},
   "outputs": [
    {
     "ename": "SyntaxError",
     "evalue": "cannot assign to True (461668069.py, line 1)",
     "output_type": "error",
     "traceback": [
      "\u001b[1;36m  Cell \u001b[1;32mIn[1], line 1\u001b[1;36m\u001b[0m\n\u001b[1;33m    True=\"something\"\u001b[0m\n\u001b[1;37m    ^\u001b[0m\n\u001b[1;31mSyntaxError\u001b[0m\u001b[1;31m:\u001b[0m cannot assign to True\n"
     ]
    }
   ],
   "source": [
    "True=\"something\"\n",
    "print(True)"
   ]
  },
  {
   "cell_type": "code",
   "execution_count": 2,
   "id": "66493ff0-7e67-4f29-90af-7d6617f41efb",
   "metadata": {},
   "outputs": [],
   "source": [
    "Apple=\"sdsds\""
   ]
  },
  {
   "cell_type": "code",
   "execution_count": 3,
   "id": "ee494dd6-0945-41bb-b586-518c987501a8",
   "metadata": {},
   "outputs": [],
   "source": [
    "import keyword"
   ]
  },
  {
   "cell_type": "code",
   "execution_count": 4,
   "id": "a6f1f9d8-a491-4c44-9f45-6faf7a2c337e",
   "metadata": {},
   "outputs": [
    {
     "name": "stdout",
     "output_type": "stream",
     "text": [
      "['False', 'None', 'True', 'and', 'as', 'assert', 'async', 'await', 'break', 'class', 'continue', 'def', 'del', 'elif', 'else', 'except', 'finally', 'for', 'from', 'global', 'if', 'import', 'in', 'is', 'lambda', 'nonlocal', 'not', 'or', 'pass', 'raise', 'return', 'try', 'while', 'with', 'yield']\n"
     ]
    }
   ],
   "source": [
    "print(keyword.kwlist)"
   ]
  },
  {
   "cell_type": "code",
   "execution_count": 5,
   "id": "24b7f4e8-065b-4d5c-a363-dd944a65d4cd",
   "metadata": {},
   "outputs": [],
   "source": [
    "# these above keywords cannot be used for reference names"
   ]
  },
  {
   "cell_type": "markdown",
   "id": "9c8a0ca8-9f74-4763-8c92-0ebc2916bae3",
   "metadata": {},
   "source": [
    "# operators"
   ]
  },
  {
   "cell_type": "code",
   "execution_count": 7,
   "id": "2b96b449-5b45-408c-938a-9fe669e6049c",
   "metadata": {},
   "outputs": [],
   "source": [
    "# arthematic(+,-,*,/,//)\n",
    "# boolean(==/!=,>,>,>=,<=,in,not,and,or)\n",
    "# bitwise(&,|,^)"
   ]
  },
  {
   "cell_type": "code",
   "execution_count": 8,
   "id": "78074c9f-521a-4f87-96ea-f2eb2408bedb",
   "metadata": {},
   "outputs": [
    {
     "name": "stdout",
     "output_type": "stream",
     "text": [
      "1000 <class 'int'>\n"
     ]
    }
   ],
   "source": [
    "a=1000\n",
    "print(a,type(a))"
   ]
  },
  {
   "cell_type": "code",
   "execution_count": 9,
   "id": "22f07260-85b8-40c7-8abb-894285b3b531",
   "metadata": {},
   "outputs": [
    {
     "name": "stdout",
     "output_type": "stream",
     "text": [
      "1000 <class 'int'>\n",
      "121.898 <class 'float'>\n",
      "[10, 23] <class 'list'>\n",
      "{456546, 12324, 678} <class 'set'>\n",
      "sdfrff <class 'str'>\n",
      "{'name': 'aja', 'add': 'qcity'} <class 'dict'>\n"
     ]
    }
   ],
   "source": [
    "a=1000\n",
    "print(a,type(a))\n",
    "a=121.898\n",
    "print(a,type(a))\n",
    "a=[10,23]\n",
    "print(a,type(a))\n",
    "a={12324,456546,678}\n",
    "print(a,type(a))\n",
    "a=\"sdfrff\"\n",
    "print(a,type(a))\n",
    "a={\"name\":\"aja\",\"add\":\"qcity\"}\n",
    "print(a,type(a))"
   ]
  },
  {
   "cell_type": "code",
   "execution_count": 10,
   "id": "679a904a-4eb4-44ce-8c23-c65037951e80",
   "metadata": {},
   "outputs": [
    {
     "ename": "TypeError",
     "evalue": "unsupported operand type(s) for +: 'int' and 'str'",
     "output_type": "error",
     "traceback": [
      "\u001b[1;31m---------------------------------------------------------------------------\u001b[0m",
      "\u001b[1;31mTypeError\u001b[0m                                 Traceback (most recent call last)",
      "Cell \u001b[1;32mIn[10], line 1\u001b[0m\n\u001b[1;32m----> 1\u001b[0m \u001b[38;5;28mprint\u001b[39m(\u001b[38;5;241m1000\u001b[39m\u001b[38;5;241m+\u001b[39m\u001b[38;5;124m\"\u001b[39m\u001b[38;5;124mpython\u001b[39m\u001b[38;5;124m\"\u001b[39m)\n",
      "\u001b[1;31mTypeError\u001b[0m: unsupported operand type(s) for +: 'int' and 'str'"
     ]
    }
   ],
   "source": [
    "print(1000+\"python\")"
   ]
  },
  {
   "cell_type": "code",
   "execution_count": 11,
   "id": "6bc26683-7528-45a7-914b-43b85454e07c",
   "metadata": {},
   "outputs": [],
   "source": [
    "# the above is type error because the(+) operator is not supporting for integer and string"
   ]
  },
  {
   "cell_type": "code",
   "execution_count": 18,
   "id": "9547c9c9-7da6-4eb8-a4cc-a0cfed103d59",
   "metadata": {},
   "outputs": [
    {
     "name": "stdout",
     "output_type": "stream",
     "text": [
      "pythonpythonpythonpythonpython\n"
     ]
    }
   ],
   "source": [
    "print(5* \"python\")"
   ]
  },
  {
   "cell_type": "code",
   "execution_count": 13,
   "id": "0288ea95-bd01-4ceb-827d-a9bf6dbbd938",
   "metadata": {},
   "outputs": [
    {
     "name": "stdout",
     "output_type": "stream",
     "text": [
      "pythonhello\n"
     ]
    }
   ],
   "source": [
    "print(\"python\"+\"hello\")"
   ]
  },
  {
   "cell_type": "code",
   "execution_count": 14,
   "id": "36e699f4-abdf-434b-955a-85bf00ac1b61",
   "metadata": {},
   "outputs": [
    {
     "ename": "TypeError",
     "evalue": "unsupported operand type(s) for +: 'int' and 'list'",
     "output_type": "error",
     "traceback": [
      "\u001b[1;31m---------------------------------------------------------------------------\u001b[0m",
      "\u001b[1;31mTypeError\u001b[0m                                 Traceback (most recent call last)",
      "Cell \u001b[1;32mIn[14], line 1\u001b[0m\n\u001b[1;32m----> 1\u001b[0m \u001b[38;5;28mprint\u001b[39m(\u001b[38;5;241m1\u001b[39m\u001b[38;5;241m+\u001b[39m[\u001b[38;5;241m1\u001b[39m,\u001b[38;5;241m2\u001b[39m,\u001b[38;5;241m3\u001b[39m,])\n",
      "\u001b[1;31mTypeError\u001b[0m: unsupported operand type(s) for +: 'int' and 'list'"
     ]
    }
   ],
   "source": [
    "print(1+[1,2,3,])"
   ]
  },
  {
   "cell_type": "code",
   "execution_count": 15,
   "id": "6a0f68d9-2dfb-4d8b-b070-73b89ff75193",
   "metadata": {},
   "outputs": [],
   "source": [
    "# here + operator is not supporting for integer and list"
   ]
  },
  {
   "cell_type": "code",
   "execution_count": 16,
   "id": "69e19c79-d5ec-44bf-a84f-a039b28a119a",
   "metadata": {},
   "outputs": [
    {
     "name": "stdout",
     "output_type": "stream",
     "text": [
      "[1, 2, 3, 4, 1, 2, 3, 4]\n"
     ]
    }
   ],
   "source": [
    "print(2*[1,2,3,4])"
   ]
  },
  {
   "cell_type": "code",
   "execution_count": 19,
   "id": "03cdc99d-b87a-4696-844f-1c74f57d59ea",
   "metadata": {},
   "outputs": [
    {
     "name": "stdout",
     "output_type": "stream",
     "text": [
      "2.2\n"
     ]
    }
   ],
   "source": [
    "print(1+1.2)"
   ]
  },
  {
   "cell_type": "code",
   "execution_count": 20,
   "id": "5a81f57f-f142-4823-8129-f87cc2a403a6",
   "metadata": {},
   "outputs": [
    {
     "ename": "SyntaxError",
     "evalue": "expression cannot contain assignment, perhaps you meant \"==\"? (1107279421.py, line 1)",
     "output_type": "error",
     "traceback": [
      "\u001b[1;36m  Cell \u001b[1;32mIn[20], line 1\u001b[1;36m\u001b[0m\n\u001b[1;33m    print(1={1:2,3:4})\u001b[0m\n\u001b[1;37m          ^\u001b[0m\n\u001b[1;31mSyntaxError\u001b[0m\u001b[1;31m:\u001b[0m expression cannot contain assignment, perhaps you meant \"==\"?\n"
     ]
    }
   ],
   "source": [
    "print(1={1:2,3:4})"
   ]
  },
  {
   "cell_type": "code",
   "execution_count": 21,
   "id": "b4b8b83a-9656-43a1-a7ef-4218d884176e",
   "metadata": {},
   "outputs": [],
   "source": [
    "a=1+2j"
   ]
  },
  {
   "cell_type": "code",
   "execution_count": 22,
   "id": "eadcc491-62d9-4871-8383-d8892c81e91c",
   "metadata": {},
   "outputs": [
    {
     "name": "stdout",
     "output_type": "stream",
     "text": [
      "<class 'complex'>\n"
     ]
    }
   ],
   "source": [
    "print(type(a))"
   ]
  },
  {
   "cell_type": "code",
   "execution_count": 23,
   "id": "b69c54cf-6ef3-43bc-a50b-fc60a7f569ca",
   "metadata": {},
   "outputs": [
    {
     "name": "stdout",
     "output_type": "stream",
     "text": [
      "(2+2j)\n"
     ]
    }
   ],
   "source": [
    "print(1+1+2j)"
   ]
  },
  {
   "cell_type": "code",
   "execution_count": 24,
   "id": "48da0d2b-d00e-477c-89e0-21d26c9b5594",
   "metadata": {},
   "outputs": [
    {
     "ename": "TypeError",
     "evalue": "unsupported operand type(s) for +: 'int' and 'set'",
     "output_type": "error",
     "traceback": [
      "\u001b[1;31m---------------------------------------------------------------------------\u001b[0m",
      "\u001b[1;31mTypeError\u001b[0m                                 Traceback (most recent call last)",
      "Cell \u001b[1;32mIn[24], line 1\u001b[0m\n\u001b[1;32m----> 1\u001b[0m \u001b[38;5;28mprint\u001b[39m(\u001b[38;5;241m1\u001b[39m\u001b[38;5;241m+\u001b[39m{\u001b[38;5;241m10\u001b[39m,\u001b[38;5;241m20\u001b[39m,\u001b[38;5;241m30\u001b[39m})\n",
      "\u001b[1;31mTypeError\u001b[0m: unsupported operand type(s) for +: 'int' and 'set'"
     ]
    }
   ],
   "source": [
    "print(1+{10,20,30})"
   ]
  },
  {
   "cell_type": "code",
   "execution_count": 25,
   "id": "1b79c195-b588-477a-8c4b-85f45ab847bc",
   "metadata": {},
   "outputs": [
    {
     "name": "stdout",
     "output_type": "stream",
     "text": [
      "2\n"
     ]
    }
   ],
   "source": [
    "print(1+True)"
   ]
  },
  {
   "cell_type": "code",
   "execution_count": 26,
   "id": "729d086f-5ac9-4c1b-904b-7fd30b157154",
   "metadata": {},
   "outputs": [],
   "source": [
    "# in the above cell we were not converted boolean value(True)to integer.this happened internall typecasting."
   ]
  },
  {
   "cell_type": "code",
   "execution_count": 27,
   "id": "f026ced0-d410-4eb3-b1dc-d76d454d9078",
   "metadata": {},
   "outputs": [
    {
     "data": {
      "text/plain": [
       "1"
      ]
     },
     "execution_count": 27,
     "metadata": {},
     "output_type": "execute_result"
    }
   ],
   "source": [
    "int(True)"
   ]
  },
  {
   "cell_type": "code",
   "execution_count": 28,
   "id": "cf64d2f6-18cc-49c3-b398-a3dc2eb2f0da",
   "metadata": {},
   "outputs": [
    {
     "name": "stdout",
     "output_type": "stream",
     "text": [
      "21.12\n"
     ]
    }
   ],
   "source": [
    "print(1+20.12)"
   ]
  },
  {
   "cell_type": "code",
   "execution_count": 29,
   "id": "ff17078b-74cd-4646-8b16-4011b3f196ae",
   "metadata": {},
   "outputs": [],
   "source": [
    "# in the above cell integer is converted into float"
   ]
  },
  {
   "cell_type": "code",
   "execution_count": 30,
   "id": "b5c1d1c5-e22e-4738-82e5-84a4c376f9ef",
   "metadata": {},
   "outputs": [
    {
     "data": {
      "text/plain": [
       "20"
      ]
     },
     "execution_count": 30,
     "metadata": {},
     "output_type": "execute_result"
    }
   ],
   "source": [
    "int(20.12)"
   ]
  },
  {
   "cell_type": "code",
   "execution_count": 31,
   "id": "949cf3c1-ce1c-4880-8044-997d6378d219",
   "metadata": {},
   "outputs": [
    {
     "ename": "TypeError",
     "evalue": "unsupported operand type(s) for +: 'int' and 'str'",
     "output_type": "error",
     "traceback": [
      "\u001b[1;31m---------------------------------------------------------------------------\u001b[0m",
      "\u001b[1;31mTypeError\u001b[0m                                 Traceback (most recent call last)",
      "Cell \u001b[1;32mIn[31], line 1\u001b[0m\n\u001b[1;32m----> 1\u001b[0m \u001b[38;5;28mprint\u001b[39m(\u001b[38;5;241m10\u001b[39m\u001b[38;5;241m+\u001b[39m\u001b[38;5;124m\"\u001b[39m\u001b[38;5;124m20\u001b[39m\u001b[38;5;124m\"\u001b[39m)\n",
      "\u001b[1;31mTypeError\u001b[0m: unsupported operand type(s) for +: 'int' and 'str'"
     ]
    }
   ],
   "source": [
    "print(10+\"20\")"
   ]
  },
  {
   "cell_type": "code",
   "execution_count": null,
   "id": "05afb5e5-0d47-4607-988a-fcff4e535bd6",
   "metadata": {},
   "outputs": [],
   "source": [
    "# in the above cell why it is not happening internal typecasting\n"
   ]
  },
  {
   "cell_type": "code",
   "execution_count": 32,
   "id": "2df607ce-7002-485b-8a41-ecf30f13a353",
   "metadata": {},
   "outputs": [
    {
     "name": "stdout",
     "output_type": "stream",
     "text": [
      "30\n"
     ]
    }
   ],
   "source": [
    "print(10+20)#summation"
   ]
  },
  {
   "cell_type": "code",
   "execution_count": 33,
   "id": "6417b7be-0e48-4fd3-b8d9-717303513d20",
   "metadata": {},
   "outputs": [
    {
     "name": "stdout",
     "output_type": "stream",
     "text": [
      "1020\n"
     ]
    }
   ],
   "source": [
    "print(\"10\"+\"20\")#concatination"
   ]
  },
  {
   "cell_type": "code",
   "execution_count": 34,
   "id": "b569606d-65c9-49b5-ac15-78026796144e",
   "metadata": {},
   "outputs": [
    {
     "ename": "TypeError",
     "evalue": "unsupported operand type(s) for +: 'int' and 'str'",
     "output_type": "error",
     "traceback": [
      "\u001b[1;31m---------------------------------------------------------------------------\u001b[0m",
      "\u001b[1;31mTypeError\u001b[0m                                 Traceback (most recent call last)",
      "Cell \u001b[1;32mIn[34], line 1\u001b[0m\n\u001b[1;32m----> 1\u001b[0m \u001b[38;5;28mprint\u001b[39m(\u001b[38;5;241m10\u001b[39m\u001b[38;5;241m+\u001b[39m\u001b[38;5;124m\"\u001b[39m\u001b[38;5;124m20\u001b[39m\u001b[38;5;124m\"\u001b[39m)\n",
      "\u001b[1;31mTypeError\u001b[0m: unsupported operand type(s) for +: 'int' and 'str'"
     ]
    }
   ],
   "source": [
    "print(10+\"20\")#summation?conactination?"
   ]
  },
  {
   "cell_type": "code",
   "execution_count": 35,
   "id": "89906faa-de82-4453-85f3-fffe063e2499",
   "metadata": {},
   "outputs": [
    {
     "ename": "TypeError",
     "evalue": "'<' not supported between instances of 'str' and 'int'",
     "output_type": "error",
     "traceback": [
      "\u001b[1;31m---------------------------------------------------------------------------\u001b[0m",
      "\u001b[1;31mTypeError\u001b[0m                                 Traceback (most recent call last)",
      "Cell \u001b[1;32mIn[35], line 1\u001b[0m\n\u001b[1;32m----> 1\u001b[0m \u001b[38;5;28mprint\u001b[39m(\u001b[38;5;124m\"\u001b[39m\u001b[38;5;124m10\u001b[39m\u001b[38;5;124m\"\u001b[39m\u001b[38;5;241m<\u001b[39m\u001b[38;5;241m9\u001b[39m)\n",
      "\u001b[1;31mTypeError\u001b[0m: '<' not supported between instances of 'str' and 'int'"
     ]
    }
   ],
   "source": [
    "print(\"10\"<9)"
   ]
  },
  {
   "cell_type": "code",
   "execution_count": 36,
   "id": "714790f5-fb1b-4223-bbb7-ccf9e4f6abcb",
   "metadata": {},
   "outputs": [
    {
     "name": "stdout",
     "output_type": "stream",
     "text": [
      "False\n"
     ]
    }
   ],
   "source": [
    "print(10<10)"
   ]
  },
  {
   "cell_type": "code",
   "execution_count": 37,
   "id": "9f332291-a76d-4c23-953c-5de081d9a184",
   "metadata": {},
   "outputs": [
    {
     "name": "stdout",
     "output_type": "stream",
     "text": [
      "True\n"
     ]
    }
   ],
   "source": [
    "print(\"12\"<\"2\")# cpmparing through ascii values"
   ]
  },
  {
   "cell_type": "code",
   "execution_count": 38,
   "id": "0908ad1f-d15b-4c9f-ae62-81fb357cbdc4",
   "metadata": {},
   "outputs": [
    {
     "name": "stdout",
     "output_type": "stream",
     "text": [
      "False\n"
     ]
    }
   ],
   "source": [
    "print(\"apple\"<\"ant\")#a,a:p<nFalse it is comparing through ascii values"
   ]
  },
  {
   "cell_type": "code",
   "execution_count": 39,
   "id": "1f1d3d32-3e03-4e73-a893-407b89777520",
   "metadata": {},
   "outputs": [
    {
     "name": "stdout",
     "output_type": "stream",
     "text": [
      "False\n"
     ]
    }
   ],
   "source": [
    "print([10,20,30]>[100,200,300])#10>100 False by comparing through ascii values"
   ]
  },
  {
   "cell_type": "code",
   "execution_count": 1,
   "id": "fdbc75ab-2e92-47f3-b503-fbbcd8be501e",
   "metadata": {},
   "outputs": [
    {
     "name": "stdout",
     "output_type": "stream",
     "text": [
      "True\n"
     ]
    }
   ],
   "source": [
    "required_param=\"name,age,id\"\n",
    "given_param=\"name,age,id\"\n",
    "print(required_param==given_param)"
   ]
  },
  {
   "cell_type": "code",
   "execution_count": 2,
   "id": "6fb730f0-bf38-4c95-90cb-e186d2e6c806",
   "metadata": {},
   "outputs": [
    {
     "name": "stdout",
     "output_type": "stream",
     "text": [
      "False\n"
     ]
    }
   ],
   "source": [
    "required_param=\"name,age,id\"\n",
    "given_param=\"name,id,name\"\n",
    "print(required_param==given_param)"
   ]
  },
  {
   "cell_type": "code",
   "execution_count": 3,
   "id": "7285b868-f904-460b-be6c-d026ef2d34d5",
   "metadata": {},
   "outputs": [
    {
     "ename": "NameError",
     "evalue": "name 'name' is not defined",
     "output_type": "error",
     "traceback": [
      "\u001b[1;31m---------------------------------------------------------------------------\u001b[0m",
      "\u001b[1;31mNameError\u001b[0m                                 Traceback (most recent call last)",
      "Cell \u001b[1;32mIn[3], line 1\u001b[0m\n\u001b[1;32m----> 1\u001b[0m required_param\u001b[38;5;241m=\u001b[39m{name,age,\u001b[38;5;28mid\u001b[39m}\n\u001b[0;32m      2\u001b[0m given_param\u001b[38;5;241m=\u001b[39m{name,\u001b[38;5;28mid\u001b[39m,name}\n\u001b[0;32m      3\u001b[0m \u001b[38;5;28mprint\u001b[39m(required_param\u001b[38;5;241m==\u001b[39mgiven_param)\n",
      "\u001b[1;31mNameError\u001b[0m: name 'name' is not defined"
     ]
    }
   ],
   "source": [
    "required_param={name,age,id}\n",
    "given_param={name,id,name}\n",
    "print(required_param==given_param)"
   ]
  },
  {
   "cell_type": "code",
   "execution_count": 4,
   "id": "41992738-69e6-4e07-bfe5-a37502c0f65d",
   "metadata": {},
   "outputs": [
    {
     "name": "stdout",
     "output_type": "stream",
     "text": [
      "False\n"
     ]
    }
   ],
   "source": [
    "required_param={\"name\",\"age\",\"id\"}\n",
    "given_param={\"name\",\"id\",\"name\"}\n",
    "print(required_param==given_param)# in set we no need to follow order"
   ]
  },
  {
   "cell_type": "code",
   "execution_count": 1,
   "id": "57292e8d-46a5-47f7-b709-3154db111ce1",
   "metadata": {},
   "outputs": [
    {
     "data": {
      "text/plain": [
       "True"
      ]
     },
     "execution_count": 1,
     "metadata": {},
     "output_type": "execute_result"
    }
   ],
   "source": [
    "\"hyd\" in \"hyderabad\""
   ]
  },
  {
   "cell_type": "code",
   "execution_count": 2,
   "id": "4a189150-5ae0-4036-87e4-ca1847191540",
   "metadata": {},
   "outputs": [
    {
     "data": {
      "text/plain": [
       "False"
      ]
     },
     "execution_count": 2,
     "metadata": {},
     "output_type": "execute_result"
    }
   ],
   "source": [
    "\"dr\" in \"hyderabad\""
   ]
  },
  {
   "cell_type": "code",
   "execution_count": 3,
   "id": "b5a0821c-d4a0-4b20-8640-9cbe99c46b49",
   "metadata": {},
   "outputs": [
    {
     "data": {
      "text/plain": [
       "True"
      ]
     },
     "execution_count": 3,
     "metadata": {},
     "output_type": "execute_result"
    }
   ],
   "source": [
    "\"der\" in \"hyderabad\""
   ]
  },
  {
   "cell_type": "code",
   "execution_count": 4,
   "id": "ecf14da0-58bd-4bb0-930f-724ab8b16cde",
   "metadata": {},
   "outputs": [
    {
     "data": {
      "text/plain": [
       "True"
      ]
     },
     "execution_count": 4,
     "metadata": {},
     "output_type": "execute_result"
    }
   ],
   "source": [
    "12 in [1,12,13,14]"
   ]
  },
  {
   "cell_type": "code",
   "execution_count": 5,
   "id": "60a5bb9d-db86-4799-bc77-8b54348ca56a",
   "metadata": {},
   "outputs": [
    {
     "data": {
      "text/plain": [
       "True"
      ]
     },
     "execution_count": 5,
     "metadata": {},
     "output_type": "execute_result"
    }
   ],
   "source": [
    "\"name\" in {\"name\":\"Aja\",\"add\":\"hyd\"}"
   ]
  },
  {
   "cell_type": "code",
   "execution_count": 6,
   "id": "138718c3-4493-4f63-ba4c-9023b0fcf13a",
   "metadata": {},
   "outputs": [],
   "source": [
    "# in operator works in string as well as in list and in dictionary "
   ]
  },
  {
   "cell_type": "code",
   "execution_count": 1,
   "id": "461a474e-feb6-4631-9eac-15a28839f354",
   "metadata": {},
   "outputs": [
    {
     "ename": "TypeError",
     "evalue": "'in <string>' requires string as left operand, not int",
     "output_type": "error",
     "traceback": [
      "\u001b[1;31m---------------------------------------------------------------------------\u001b[0m",
      "\u001b[1;31mTypeError\u001b[0m                                 Traceback (most recent call last)",
      "Cell \u001b[1;32mIn[1], line 1\u001b[0m\n\u001b[1;32m----> 1\u001b[0m \u001b[38;5;241m1\u001b[39m \u001b[38;5;129;01min\u001b[39;00m \u001b[38;5;124m\"\u001b[39m\u001b[38;5;124m100\u001b[39m\u001b[38;5;124m\"\u001b[39m\n",
      "\u001b[1;31mTypeError\u001b[0m: 'in <string>' requires string as left operand, not int"
     ]
    }
   ],
   "source": [
    "1 in \"100\""
   ]
  },
  {
   "cell_type": "code",
   "execution_count": 2,
   "id": "c72ac21d-a9ee-4575-9ff3-fcde9de17664",
   "metadata": {},
   "outputs": [
    {
     "data": {
      "text/plain": [
       "True"
      ]
     },
     "execution_count": 2,
     "metadata": {},
     "output_type": "execute_result"
    }
   ],
   "source": [
    "\"1\" in \"100\""
   ]
  },
  {
   "cell_type": "code",
   "execution_count": 3,
   "id": "27bf5360-759d-46e7-b340-5d441913aca0",
   "metadata": {},
   "outputs": [
    {
     "ename": "TypeError",
     "evalue": "argument of type 'int' is not iterable",
     "output_type": "error",
     "traceback": [
      "\u001b[1;31m---------------------------------------------------------------------------\u001b[0m",
      "\u001b[1;31mTypeError\u001b[0m                                 Traceback (most recent call last)",
      "Cell \u001b[1;32mIn[3], line 1\u001b[0m\n\u001b[1;32m----> 1\u001b[0m \u001b[38;5;241m1\u001b[39m \u001b[38;5;129;01min\u001b[39;00m \u001b[38;5;241m1000\u001b[39m\n",
      "\u001b[1;31mTypeError\u001b[0m: argument of type 'int' is not iterable"
     ]
    }
   ],
   "source": [
    "1 in 1000"
   ]
  },
  {
   "cell_type": "code",
   "execution_count": 5,
   "id": "796f3c50-296a-46d8-8931-705542fe102b",
   "metadata": {},
   "outputs": [],
   "source": [
    "# in operator is  not working for integer datatype\n",
    "## in operator is used in object if it is iterable"
   ]
  },
  {
   "cell_type": "code",
   "execution_count": 6,
   "id": "e220b8db-db51-4e6c-aec7-9bf149ba102e",
   "metadata": {},
   "outputs": [
    {
     "data": {
      "text/plain": [
       "False"
      ]
     },
     "execution_count": 6,
     "metadata": {},
     "output_type": "execute_result"
    }
   ],
   "source": [
    "\"1\" not in \"1000\""
   ]
  },
  {
   "cell_type": "code",
   "execution_count": 7,
   "id": "d754861e-fadf-4a39-b702-dcfb2590d1c2",
   "metadata": {},
   "outputs": [],
   "source": [
    "# here 1 is there in 1000"
   ]
  },
  {
   "cell_type": "code",
   "execution_count": 11,
   "id": "cd2a8755-5461-4b1b-8d16-56e665ca9f48",
   "metadata": {},
   "outputs": [
    {
     "data": {
      "text/plain": [
       "'\\nT and T=T\\nT and F=F\\nF and T=F\\nF and F=F\\n\\nT or T = T\\nT or F = T\\nF or T = T\\nF or F = F\\n'"
      ]
     },
     "execution_count": 11,
     "metadata": {},
     "output_type": "execute_result"
    }
   ],
   "source": [
    "\"\"\"\n",
    "T and T=T\n",
    "T and F=F\n",
    "F and T=F\n",
    "F and F=F\n",
    "\n",
    "T or T = T\n",
    "T or F = T\n",
    "F or T = T\n",
    "F or F = F\n",
    "\"\"\"\n",
    "\n"
   ]
  },
  {
   "cell_type": "code",
   "execution_count": 12,
   "id": "58e6fff5-87a1-4859-ad33-cffecd95d174",
   "metadata": {},
   "outputs": [
    {
     "data": {
      "text/plain": [
       "'\\nXOR\\nTRUE xor True = False\\nTRUE xor False = True\\nFalse Xor true = True\\nFalse Xor True = False\\n'"
      ]
     },
     "execution_count": 12,
     "metadata": {},
     "output_type": "execute_result"
    }
   ],
   "source": [
    "\"\"\"\n",
    "XOR\n",
    "TRUE xor True = False\n",
    "TRUE xor False = True\n",
    "False Xor true = True\n",
    "False Xor True = False\n",
    "\"\"\""
   ]
  },
  {
   "cell_type": "markdown",
   "id": "95a92c96-dc85-45f6-89ff-bd6a6c658a7a",
   "metadata": {},
   "source": [
    "## expression evaluation"
   ]
  },
  {
   "cell_type": "code",
   "execution_count": 13,
   "id": "6a67f2b7-60ed-482f-91ae-029d46539207",
   "metadata": {},
   "outputs": [
    {
     "name": "stdout",
     "output_type": "stream",
     "text": [
      "30\n"
     ]
    }
   ],
   "source": [
    "s=10+20\n",
    "print(s)"
   ]
  },
  {
   "cell_type": "code",
   "execution_count": 14,
   "id": "92f3481a-b313-4b9a-840f-d691fd5c2361",
   "metadata": {},
   "outputs": [
    {
     "name": "stdout",
     "output_type": "stream",
     "text": [
      "60\n"
     ]
    }
   ],
   "source": [
    "s=10+20+30\n",
    "print(s)"
   ]
  },
  {
   "cell_type": "code",
   "execution_count": 15,
   "id": "59112063-c99c-463c-913c-0ae686cccae5",
   "metadata": {},
   "outputs": [
    {
     "name": "stdout",
     "output_type": "stream",
     "text": [
      "26.0\n"
     ]
    }
   ],
   "source": [
    "s=10+20/5*4\n",
    "print(s)"
   ]
  },
  {
   "cell_type": "code",
   "execution_count": 16,
   "id": "3498e1a5-6bee-4402-9c42-ae083e509b24",
   "metadata": {},
   "outputs": [
    {
     "name": "stdout",
     "output_type": "stream",
     "text": [
      "0.5\n"
     ]
    }
   ],
   "source": [
    "s=1000/200/5/2\n",
    "print(s)"
   ]
  },
  {
   "cell_type": "markdown",
   "id": "a78f8b90-24e9-4bcf-ae6d-eb92d9e6c846",
   "metadata": {},
   "source": [
    "## typecasting"
   ]
  },
  {
   "cell_type": "code",
   "execution_count": 18,
   "id": "85bc915d-8bfd-4089-9889-95ee8848a654",
   "metadata": {},
   "outputs": [
    {
     "name": "stdout",
     "output_type": "stream",
     "text": [
      "1020\n"
     ]
    }
   ],
   "source": [
    "a=\"10\"\n",
    "b=\"20\"\n",
    "print(a+b)"
   ]
  },
  {
   "cell_type": "code",
   "execution_count": 19,
   "id": "d1a363c7-5283-4df8-9cca-267eee0125ac",
   "metadata": {},
   "outputs": [
    {
     "name": "stdout",
     "output_type": "stream",
     "text": [
      "30\n"
     ]
    }
   ],
   "source": [
    "a=\"10\"\n",
    "b=\"20\"\n",
    "a=int(a)\n",
    "b=int(b)\n",
    "print(a+b)"
   ]
  },
  {
   "cell_type": "code",
   "execution_count": 20,
   "id": "00a82528-52fb-46be-91f8-dba432ca37f9",
   "metadata": {},
   "outputs": [],
   "source": [
    "# *,/,//"
   ]
  },
  {
   "cell_type": "code",
   "execution_count": 21,
   "id": "40bfce8d-413b-48c6-886f-ef18321f7164",
   "metadata": {},
   "outputs": [
    {
     "name": "stdout",
     "output_type": "stream",
     "text": [
      "200\n"
     ]
    }
   ],
   "source": [
    "a=\"10\"\n",
    "b=\"20\"\n",
    "a=int(a)\n",
    "b=int(b)\n",
    "print(a*b)"
   ]
  },
  {
   "cell_type": "code",
   "execution_count": 22,
   "id": "daa7077c-0af2-4f81-bb3c-0a940311e6bc",
   "metadata": {},
   "outputs": [
    {
     "name": "stdout",
     "output_type": "stream",
     "text": [
      "0.5\n"
     ]
    }
   ],
   "source": [
    "a=\"10\"\n",
    "b=\"20\"\n",
    "a=int(a)\n",
    "b=int(b)\n",
    "print(a/b)"
   ]
  },
  {
   "cell_type": "code",
   "execution_count": 23,
   "id": "9d3d6c31-f7fa-4491-87f8-f3276849c895",
   "metadata": {},
   "outputs": [
    {
     "name": "stdout",
     "output_type": "stream",
     "text": [
      "0\n"
     ]
    }
   ],
   "source": [
    "a=\"10\"\n",
    "b=\"20\"\n",
    "a=int(a)\n",
    "b=int(b)\n",
    "print(a//b)"
   ]
  },
  {
   "cell_type": "code",
   "execution_count": 24,
   "id": "b1045849-43a4-46cb-ab4f-018679b597b9",
   "metadata": {},
   "outputs": [
    {
     "name": "stdout",
     "output_type": "stream",
     "text": [
      "0\n"
     ]
    }
   ],
   "source": [
    "a=10\n",
    "b=20\n",
    "a=int(a)\n",
    "b=int(b)\n",
    "print(a//b)"
   ]
  },
  {
   "cell_type": "code",
   "execution_count": 25,
   "id": "025c8a0a-c87f-49bd-a03b-8f96775ef1dd",
   "metadata": {},
   "outputs": [
    {
     "name": "stdout",
     "output_type": "stream",
     "text": [
      "0.5\n"
     ]
    }
   ],
   "source": [
    "a=10\n",
    "b=20\n",
    "a=int(a)\n",
    "b=int(b)\n",
    "print(a/b)"
   ]
  },
  {
   "cell_type": "code",
   "execution_count": 26,
   "id": "76344c99-d328-4b89-ad4c-1391fd38c1da",
   "metadata": {},
   "outputs": [
    {
     "name": "stdout",
     "output_type": "stream",
     "text": [
      "10\n"
     ]
    }
   ],
   "source": [
    "a=10\n",
    "b=20\n",
    "print(a%b)"
   ]
  },
  {
   "cell_type": "code",
   "execution_count": 27,
   "id": "fdc3d710-bcdc-4d46-b256-ec52951c0299",
   "metadata": {},
   "outputs": [
    {
     "name": "stdout",
     "output_type": "stream",
     "text": [
      "123 <class 'str'>\n"
     ]
    }
   ],
   "source": [
    "a=\"123\"\n",
    "print(a,type(a))\n",
    "\n"
   ]
  },
  {
   "cell_type": "code",
   "execution_count": 28,
   "id": "393c4a0f-f9fe-48e9-ab0a-f7963b91fc7e",
   "metadata": {},
   "outputs": [
    {
     "name": "stdout",
     "output_type": "stream",
     "text": [
      "123 <class 'str'>\n",
      "123.0 <class 'float'>\n"
     ]
    }
   ],
   "source": [
    "a=\"123\"\n",
    "print(a,type(a))\n",
    "b=float(a)\n",
    "print(b,type(b))"
   ]
  },
  {
   "cell_type": "code",
   "execution_count": 29,
   "id": "ff8a1116-6d23-483f-8590-fd603d027220",
   "metadata": {},
   "outputs": [
    {
     "name": "stdout",
     "output_type": "stream",
     "text": [
      "123 <class 'int'>\n",
      "123 <class 'str'>\n"
     ]
    }
   ],
   "source": [
    "a=123\n",
    "print(a,type(a))\n",
    "c=str(a)\n",
    "print(c,type(c))"
   ]
  },
  {
   "cell_type": "code",
   "execution_count": 31,
   "id": "3bceaa75-6a66-4845-9ac9-f4058361fc24",
   "metadata": {},
   "outputs": [
    {
     "name": "stdout",
     "output_type": "stream",
     "text": [
      "srividya <class 'str'>\n",
      "('s', 'r', 'i', 'v', 'i', 'd', 'y', 'a') ('s', 'r', 'i', 'v', 'i', 'd', 'y', 'a')\n"
     ]
    }
   ],
   "source": [
    "s= \"srividya\"\n",
    "print(s,type(s))\n",
    "s1=tuple(s)\n",
    "print(s1,tuple(s1))"
   ]
  },
  {
   "cell_type": "code",
   "execution_count": 32,
   "id": "7f023c62-270a-4993-af05-b208caae893a",
   "metadata": {},
   "outputs": [
    {
     "name": "stdout",
     "output_type": "stream",
     "text": [
      "298\n"
     ]
    }
   ],
   "source": [
    "a=\"12a\"\n",
    "b=int(a,16)\n",
    "print(b)"
   ]
  },
  {
   "cell_type": "markdown",
   "id": "dc0419bf-016c-4c09-a7d0-56d43acee8d6",
   "metadata": {},
   "source": [
    "## input"
   ]
  },
  {
   "cell_type": "code",
   "execution_count": 33,
   "id": "cdb8ccb8-ad43-4cd3-95cd-bc9e9913ffa9",
   "metadata": {},
   "outputs": [],
   "source": [
    "# this input basically used to take inputs from the users\n"
   ]
  },
  {
   "cell_type": "code",
   "execution_count": 34,
   "id": "2e138675-a358-4017-9009-461824c62fbd",
   "metadata": {},
   "outputs": [
    {
     "name": "stdout",
     "output_type": "stream",
     "text": [
      "3000\n"
     ]
    }
   ],
   "source": [
    "a=1000\n",
    "b=2000\n",
    "print(a+b)"
   ]
  },
  {
   "cell_type": "code",
   "execution_count": 35,
   "id": "5554613a-cf45-4254-81d0-aa6a0c1ed8c1",
   "metadata": {},
   "outputs": [
    {
     "name": "stdin",
     "output_type": "stream",
     "text": [
      "enter a valeue 1\n",
      "enter b value 2\n"
     ]
    },
    {
     "name": "stdout",
     "output_type": "stream",
     "text": [
      "12\n"
     ]
    }
   ],
   "source": [
    "a=input(\"enter a valeue\")\n",
    "b=input(\"enter b value\")\n",
    "print(a+b)"
   ]
  },
  {
   "cell_type": "code",
   "execution_count": 36,
   "id": "b709a10e-0572-4805-8616-ae74da14ad80",
   "metadata": {},
   "outputs": [],
   "source": [
    "# it is concatinating"
   ]
  },
  {
   "cell_type": "code",
   "execution_count": 37,
   "id": "32bf9e8f-bfa4-4271-83fc-dcb08e494c30",
   "metadata": {},
   "outputs": [
    {
     "name": "stdin",
     "output_type": "stream",
     "text": [
      "enter a value 12\n",
      "enter b value 12\n"
     ]
    },
    {
     "name": "stdout",
     "output_type": "stream",
     "text": [
      "12 <class 'str'>\n",
      "12 <class 'str'>\n"
     ]
    }
   ],
   "source": [
    "a=input(\"enter a value\")\n",
    "b=input(\"enter b value\")\n",
    "print(a,type(a))\n",
    "print(b,type(b))\n",
    "res1=(a+b)#concatination\n"
   ]
  },
  {
   "cell_type": "code",
   "execution_count": 38,
   "id": "c3e93f42-be98-433f-87e1-7926d8f26458",
   "metadata": {},
   "outputs": [
    {
     "name": "stdin",
     "output_type": "stream",
     "text": [
      "enter a value 12\n",
      "enter b value 12\n"
     ]
    },
    {
     "name": "stdout",
     "output_type": "stream",
     "text": [
      "12 <class 'str'>\n",
      "12 <class 'str'>\n",
      "1212\n"
     ]
    }
   ],
   "source": [
    "a=input(\"enter a value\")\n",
    "b=input(\"enter b value\")\n",
    "print(a,type(a))\n",
    "print(b,type(b))\n",
    "res1=(a+b)#concatination\n",
    "print(res1)"
   ]
  },
  {
   "cell_type": "code",
   "execution_count": 39,
   "id": "b06be7f8-504d-45b1-9fd0-484dbf880d79",
   "metadata": {},
   "outputs": [
    {
     "name": "stdin",
     "output_type": "stream",
     "text": [
      "enter a value 122\n",
      "enter b value 123\n"
     ]
    },
    {
     "name": "stdout",
     "output_type": "stream",
     "text": [
      "122 <class 'str'>\n",
      "123 <class 'str'>\n",
      "122123\n",
      "122 <class 'int'>\n",
      "123 <class 'int'>\n"
     ]
    },
    {
     "ename": "NameError",
     "evalue": "name 'res2' is not defined",
     "output_type": "error",
     "traceback": [
      "\u001b[1;31m---------------------------------------------------------------------------\u001b[0m",
      "\u001b[1;31mNameError\u001b[0m                                 Traceback (most recent call last)",
      "Cell \u001b[1;32mIn[39], line 11\u001b[0m\n\u001b[0;32m      9\u001b[0m \u001b[38;5;28mprint\u001b[39m(a,\u001b[38;5;28mtype\u001b[39m(a))\n\u001b[0;32m     10\u001b[0m \u001b[38;5;28mprint\u001b[39m(b,\u001b[38;5;28mtype\u001b[39m(b))\n\u001b[1;32m---> 11\u001b[0m res2(a\u001b[38;5;241m+\u001b[39mb)\u001b[38;5;66;03m#summation\u001b[39;00m\n\u001b[0;32m     12\u001b[0m \u001b[38;5;28mprint\u001b[39m(res2)\n",
      "\u001b[1;31mNameError\u001b[0m: name 'res2' is not defined"
     ]
    }
   ],
   "source": [
    "a=input(\"enter a value\")\n",
    "b=input(\"enter b value\")\n",
    "print(a,type(a))\n",
    "print(b,type(b))\n",
    "res1=(a+b)#concatination\n",
    "print(res1)\n",
    "a=int(a)\n",
    "b=int(b)\n",
    "print(a,type(a))\n",
    "print(b,type(b))\n",
    "res2(a+b)#summation\n",
    "print(res2)\n",
    "\n"
   ]
  },
  {
   "cell_type": "code",
   "execution_count": 40,
   "id": "689e32cb-2ac1-4e12-a3d1-e02a38f8df31",
   "metadata": {},
   "outputs": [
    {
     "name": "stdin",
     "output_type": "stream",
     "text": [
      "enter a value 123\n",
      "enter b value 123\n"
     ]
    },
    {
     "name": "stdout",
     "output_type": "stream",
     "text": [
      "123 <class 'str'>\n",
      "123 <class 'str'>\n",
      "123123\n",
      "123 <class 'int'>\n",
      "123 <class 'int'>\n",
      "246\n"
     ]
    }
   ],
   "source": [
    "a=input(\"enter a value\")\n",
    "b=input(\"enter b value\")\n",
    "print(a,type(a))\n",
    "print(b,type(b))\n",
    "res1=(a+b)#concatination\n",
    "print(res1)\n",
    "a=int(a)\n",
    "b=int(b)\n",
    "print(a,type(a))\n",
    "print(b,type(b))\n",
    "res2=(a+b)#summation\n",
    "print(res2)\n"
   ]
  },
  {
   "cell_type": "code",
   "execution_count": 41,
   "id": "eca95adc-15d7-48d6-97e6-9a0e42123121",
   "metadata": {},
   "outputs": [
    {
     "name": "stdin",
     "output_type": "stream",
     "text": [
      "enter 1 value 12\n",
      "enter 2 value 12\n"
     ]
    },
    {
     "name": "stdout",
     "output_type": "stream",
     "text": [
      "12 <class 'str'>\n",
      "12 <class 'str'>\n",
      "246\n"
     ]
    }
   ],
   "source": [
    "# take two numbers from the user and do all the arithemetic operations(+,-,/,//,%,*)\n",
    "number1=input(\"enter 1 value\")\n",
    "number2=input(\"enter 2 value\")\n",
    "print(number1,type(number1))\n",
    "print(number2,type(number2))\n",
    "res1=(a+b)\n",
    "print(res1)"
   ]
  },
  {
   "cell_type": "code",
   "execution_count": 42,
   "id": "d64e9722-067a-46b9-b8bc-ca750e977fb6",
   "metadata": {},
   "outputs": [
    {
     "name": "stdin",
     "output_type": "stream",
     "text": [
      "enter 1 value 13\n",
      "enter 2 value 11\n"
     ]
    },
    {
     "name": "stdout",
     "output_type": "stream",
     "text": [
      "13 <class 'str'>\n",
      "11 <class 'str'>\n",
      "246\n"
     ]
    },
    {
     "name": "stdin",
     "output_type": "stream",
     "text": [
      "enter 1 value 12\n",
      "enter 2 value 13\n"
     ]
    },
    {
     "name": "stdout",
     "output_type": "stream",
     "text": [
      "12 <class 'str'>\n",
      "13 <class 'str'>\n",
      "0\n"
     ]
    },
    {
     "name": "stdin",
     "output_type": "stream",
     "text": [
      "enter 1 value 14\n",
      "enter 2 value 12\n"
     ]
    },
    {
     "name": "stdout",
     "output_type": "stream",
     "text": [
      "14 <class 'str'>\n",
      "12 <class 'str'>\n",
      "15129\n"
     ]
    }
   ],
   "source": [
    "number1=input(\"enter 1 value\")\n",
    "number2=input(\"enter 2 value\")\n",
    "print(number1,type(number1))\n",
    "print(number2,type(number2))\n",
    "res1=(a+b)\n",
    "print(res1)\n",
    "number1=input(\"enter 1 value\")\n",
    "number2=input(\"enter 2 value\")\n",
    "print(number1,type(number1))\n",
    "print(number2,type(number2))\n",
    "res2=(a-b)\n",
    "print(res2)\n",
    "number1=input(\"enter 1 value\")\n",
    "number2=input(\"enter 2 value\")\n",
    "print(number1,type(number1))\n",
    "print(number2,type(number2))\n",
    "res2=(a*b)\n",
    "print(res2)"
   ]
  },
  {
   "cell_type": "markdown",
   "id": "e3778d80-64c6-46af-91f9-78857a526535",
   "metadata": {},
   "source": [
    "## print statement"
   ]
  },
  {
   "cell_type": "code",
   "execution_count": 43,
   "id": "610cada2-f5de-43a8-88c4-71e787a5423b",
   "metadata": {},
   "outputs": [
    {
     "name": "stdout",
     "output_type": "stream",
     "text": [
      "1000 python [1, 2, 3, 4] (10, 20, 30) {56, 34, 12}\n"
     ]
    }
   ],
   "source": [
    "a=1000\n",
    "b=\"python\"\n",
    "c=[1,2,3,4]\n",
    "d=(10,20,30)\n",
    "e={12,34,56}\n",
    "print(a,b,c,d,e)\n"
   ]
  },
  {
   "cell_type": "code",
   "execution_count": 44,
   "id": "b782e6aa-19aa-4551-8af5-28f6340d1148",
   "metadata": {},
   "outputs": [
    {
     "name": "stdout",
     "output_type": "stream",
     "text": [
      "1000#python#[1, 2, 3, 4]#(10, 20, 30)#{56, 34, 12}\n"
     ]
    }
   ],
   "source": [
    "a=1000\n",
    "b=\"python\"\n",
    "c=[1,2,3,4]\n",
    "d=(10,20,30)\n",
    "e={12,34,56}\n",
    "print(a,b,c,d,e,sep=\"#\")\n"
   ]
  },
  {
   "cell_type": "code",
   "execution_count": 45,
   "id": "29cf0772-4212-4945-9b71-f507b9cd9ce8",
   "metadata": {},
   "outputs": [
    {
     "name": "stdout",
     "output_type": "stream",
     "text": [
      "1000\n",
      "python\n",
      "[1, 2, 3, 4]\n",
      "(10, 20, 30)\n",
      "{56, 34, 12}\n"
     ]
    }
   ],
   "source": [
    "a=1000\n",
    "b=\"python\"\n",
    "c=[1,2,3,4]\n",
    "d=(10,20,30)\n",
    "e={12,34,56}\n",
    "print(a,b,c,d,e,sep=\"\\n\")"
   ]
  },
  {
   "cell_type": "code",
   "execution_count": 46,
   "id": "8a268fd3-7712-4f3b-8c82-e6614a981d98",
   "metadata": {},
   "outputs": [
    {
     "name": "stdout",
     "output_type": "stream",
     "text": [
      "5\n"
     ]
    }
   ],
   "source": [
    "s=\"hello\"\n",
    "print(len(s))"
   ]
  },
  {
   "cell_type": "code",
   "execution_count": 47,
   "id": "73744f90-ea45-40cc-a18b-ca6753a6b2d8",
   "metadata": {},
   "outputs": [
    {
     "name": "stdout",
     "output_type": "stream",
     "text": [
      "1\n"
     ]
    }
   ],
   "source": [
    "s=\"\\n\"\n",
    "print(len(s))"
   ]
  },
  {
   "cell_type": "code",
   "execution_count": 48,
   "id": "6907624d-1f8b-424a-bf09-72aad18fe60c",
   "metadata": {},
   "outputs": [
    {
     "name": "stdout",
     "output_type": "stream",
     "text": [
      "1000\n",
      "python\n",
      "[1, 2, 3, 4]\n",
      "(10, 20, 30)\n"
     ]
    }
   ],
   "source": [
    "a=1000\n",
    "b=\"python\"\n",
    "c=[1,2,3,4]\n",
    "d=(10,20,30)\n",
    "e={12,34,56}\n",
    "print(a)\n",
    "print(b)\n",
    "print(c)\n",
    "print(d)"
   ]
  },
  {
   "cell_type": "code",
   "execution_count": 49,
   "id": "43a34ea1-99e7-4c69-ad62-4569b6e6e7e2",
   "metadata": {},
   "outputs": [
    {
     "name": "stdout",
     "output_type": "stream",
     "text": [
      "1000\n",
      "python\n",
      "[1, 2, 3, 4]\n",
      "(10, 20, 30)\n",
      "{56, 34, 12}\n"
     ]
    }
   ],
   "source": [
    "a=1000\n",
    "b=\"python\"\n",
    "c=[1,2,3,4]\n",
    "d=(10,20,30)\n",
    "e={12,34,56}\n",
    "print(a)\n",
    "print(b)\n",
    "print(c)\n",
    "print(d)\n",
    "print(e)"
   ]
  },
  {
   "cell_type": "code",
   "execution_count": 51,
   "id": "5c05a2b3-00ff-4416-bd57-b027b8d29b58",
   "metadata": {},
   "outputs": [
    {
     "name": "stdout",
     "output_type": "stream",
     "text": [
      "1000#python@[1, 2, 3, 4]%(10, 20, 30)&{56, 34, 12}\n"
     ]
    }
   ],
   "source": [
    "a=1000\n",
    "b=\"python\"\n",
    "c=[1,2,3,4]\n",
    "d=(10,20,30)\n",
    "e={12,34,56}\n",
    "print(a,end=\"#\")\n",
    "print(b,end=\"@\")\n",
    "print(c,end=\"%\")\n",
    "print(d,end=\"&\")\n",
    "print(e)"
   ]
  },
  {
   "cell_type": "markdown",
   "id": "2cdadb03-9950-4c96-96e8-fd372e6be91d",
   "metadata": {},
   "source": [
    "## string formation"
   ]
  },
  {
   "cell_type": "code",
   "execution_count": null,
   "id": "84e5c6a9-dd33-4888-a107-963816df6906",
   "metadata": {},
   "outputs": [],
   "source": [
    "# The Anil kumar(customer name) is a very good customer,bought 3045 sales orders from our portal.we got 20000 profit because of Anil Kumar\n"
   ]
  }
 ],
 "metadata": {
  "kernelspec": {
   "display_name": "Python 3 (ipykernel)",
   "language": "python",
   "name": "python3"
  },
  "language_info": {
   "codemirror_mode": {
    "name": "ipython",
    "version": 3
   },
   "file_extension": ".py",
   "mimetype": "text/x-python",
   "name": "python",
   "nbconvert_exporter": "python",
   "pygments_lexer": "ipython3",
   "version": "3.12.4"
  }
 },
 "nbformat": 4,
 "nbformat_minor": 5
}
