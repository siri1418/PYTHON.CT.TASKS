{
 "cells": [
  {
   "cell_type": "markdown",
   "id": "7251738b-68e1-49f0-a85c-995680e6ea5f",
   "metadata": {},
   "source": [
    "# string"
   ]
  },
  {
   "cell_type": "code",
   "execution_count": 1,
   "id": "0fe1a91a-9a5a-4942-8f3b-b8bce0270da6",
   "metadata": {},
   "outputs": [
    {
     "name": "stdout",
     "output_type": "stream",
     "text": [
      "['__add__', '__class__', '__contains__', '__delattr__', '__dir__', '__doc__', '__eq__', '__format__', '__ge__', '__getattribute__', '__getitem__', '__getnewargs__', '__getstate__', '__gt__', '__hash__', '__init__', '__init_subclass__', '__iter__', '__le__', '__len__', '__lt__', '__mod__', '__mul__', '__ne__', '__new__', '__reduce__', '__reduce_ex__', '__repr__', '__rmod__', '__rmul__', '__setattr__', '__sizeof__', '__str__', '__subclasshook__', 'capitalize', 'casefold', 'center', 'count', 'encode', 'endswith', 'expandtabs', 'find', 'format', 'format_map', 'index', 'isalnum', 'isalpha', 'isascii', 'isdecimal', 'isdigit', 'isidentifier', 'islower', 'isnumeric', 'isprintable', 'isspace', 'istitle', 'isupper', 'join', 'ljust', 'lower', 'lstrip', 'maketrans', 'partition', 'removeprefix', 'removesuffix', 'replace', 'rfind', 'rindex', 'rjust', 'rpartition', 'rsplit', 'rstrip', 'split', 'splitlines', 'startswith', 'strip', 'swapcase', 'title', 'translate', 'upper', 'zfill']\n"
     ]
    }
   ],
   "source": [
    "s=\"hyderabad\"\n",
    "print(dir(s))"
   ]
  },
  {
   "cell_type": "code",
   "execution_count": 2,
   "id": "5e1b9274-cbe8-443f-8010-4cdf0c122664",
   "metadata": {},
   "outputs": [
    {
     "name": "stdout",
     "output_type": "stream",
     "text": [
      "Hyderabad\n",
      "Hyd\n",
      "1234\n",
      "2#$%^a\n",
      "\n"
     ]
    }
   ],
   "source": [
    "#capitalize: Capitalizes the first character of the string.\n",
    "s='hyderaBaD'\n",
    "print(s.capitalize())\n",
    "s='HYD'\n",
    "print(s.capitalize())\n",
    "s='1234'\n",
    "print(s.capitalize())\n",
    "s='2#$%^A'\n",
    "print(s.capitalize())\n",
    "s=''\n",
    "print(s.capitalize())\n"
   ]
  },
  {
   "cell_type": "code",
   "execution_count": 3,
   "id": "402c5e9a-bd7c-4be8-a92f-e00803329263",
   "metadata": {},
   "outputs": [
    {
     "name": "stdout",
     "output_type": "stream",
     "text": [
      "hyderabad\n",
      "hyd\n",
      "1234\n",
      "2#$%^a\n",
      "\n"
     ]
    }
   ],
   "source": [
    "# casefold: Converts the string to a case-insensitive format.\n",
    "s='hyderaBaD'\n",
    "print(s.casefold())\n",
    "s='HYD'\n",
    "print(s.casefold())\n",
    "s='1234'\n",
    "print(s.casefold())\n",
    "s='2#$%^A'\n",
    "print(s.casefold())\n",
    "s=''\n",
    "print(s.casefold())"
   ]
  },
  {
   "cell_type": "code",
   "execution_count": 7,
   "id": "af747ed4-2057-41df-b3fa-7514faaa96c5",
   "metadata": {},
   "outputs": [
    {
     "name": "stdout",
     "output_type": "stream",
     "text": [
      "     hyderaBaD      \n",
      "   HYD    \n",
      "  1234  \n",
      "     2#$%^A    \n",
      "     \n"
     ]
    }
   ],
   "source": [
    "#center: Centers the string in a specified width, padding with spaces.\n",
    "s = 'hyderaBaD'\n",
    "print(s.center(20))  \n",
    "\n",
    "s = 'HYD'\n",
    "print(s.center(10)) \n",
    "s = '1234'\n",
    "print(s.center(8))   \n",
    "\n",
    "s = '2#$%^A'\n",
    "print(s.center(15)) \n",
    "\n",
    "s = ''\n",
    "print(s.center(5))"
   ]
  },
  {
   "cell_type": "code",
   "execution_count": 6,
   "id": "cd704733-cf13-47dd-84d1-b2f34d0fd452",
   "metadata": {},
   "outputs": [
    {
     "name": "stdout",
     "output_type": "stream",
     "text": [
      "2\n",
      "1\n",
      "1\n",
      "1\n",
      "1\n"
     ]
    }
   ],
   "source": [
    "#count: Counts occurrences of a substring in the string.\n",
    "s = 'hyderaBaD'\n",
    "print(s.count('a')) \n",
    "s = 'HYD'\n",
    "print(s.count('H')) \n",
    "s = '1234'\n",
    "print(s.count('2')) \n",
    "s = '2#$%^A'\n",
    "print(s.count('2')) \n",
    "s = ''\n",
    "print(s.count(''))"
   ]
  },
  {
   "cell_type": "code",
   "execution_count": 13,
   "id": "6458aab1-037c-4e19-9fff-ba37615af4cc",
   "metadata": {},
   "outputs": [
    {
     "name": "stdout",
     "output_type": "stream",
     "text": [
      "b'hyderaBaD'\n",
      "b'HYD'\n",
      "b'1234'\n",
      "b'2#$%^A'\n",
      "b''\n"
     ]
    }
   ],
   "source": [
    "#Encodes the string to a specified byte format.\n",
    "s = 'hyderaBaD'\n",
    "print(s.encode('utf-8')) \n",
    "s = 'HYD'\n",
    "print(s.encode('utf-8')) \n",
    "s = '1234'\n",
    "print(s.encode('utf-8')) \n",
    "s = '2#$%^A'\n",
    "print(s.encode('utf-8')) \n",
    "s = ''\n",
    "print(s.encode('utf-8'))"
   ]
  },
  {
   "cell_type": "code",
   "execution_count": 14,
   "id": "74c66fa7-0d83-4769-8cbd-b40e9045cd2c",
   "metadata": {},
   "outputs": [
    {
     "name": "stdout",
     "output_type": "stream",
     "text": [
      "True\n",
      "True\n",
      "True\n",
      "True\n",
      "True\n"
     ]
    }
   ],
   "source": [
    "#endswith:Checks if the string ends with a specified suffix.\n",
    "s = 'hyderaBaD'\n",
    "print(s.endswith('BaD'))  \n",
    "s = 'HYD'\n",
    "print(s.endswith('D'))    \n",
    "s = '1234'\n",
    "print(s.endswith('4'))   \n",
    "s = '2#$%^A'\n",
    "print(s.endswith('A'))     \n",
    "s = ''\n",
    "print(s.endswith(''))  "
   ]
  },
  {
   "cell_type": "code",
   "execution_count": 17,
   "id": "2fe79f46-d8b3-4dbb-8cd6-fd5ea6fcf2e4",
   "metadata": {},
   "outputs": [
    {
     "ename": "TypeError",
     "evalue": "'str' object cannot be interpreted as an integer",
     "output_type": "error",
     "traceback": [
      "\u001b[1;31m---------------------------------------------------------------------------\u001b[0m",
      "\u001b[1;31mTypeError\u001b[0m                                 Traceback (most recent call last)",
      "Cell \u001b[1;32mIn[17], line 3\u001b[0m\n\u001b[0;32m      1\u001b[0m \u001b[38;5;66;03m#expandtabs: Replaces tabs with spaces in the string.\u001b[39;00m\n\u001b[0;32m      2\u001b[0m s \u001b[38;5;241m=\u001b[39m \u001b[38;5;124m'\u001b[39m\u001b[38;5;124mhyderaBaD\u001b[39m\u001b[38;5;124m'\u001b[39m\n\u001b[1;32m----> 3\u001b[0m \u001b[38;5;28mprint\u001b[39m(s\u001b[38;5;241m.\u001b[39mexpandtabs(\u001b[38;5;124m'\u001b[39m\u001b[38;5;124m4\u001b[39m\u001b[38;5;124m'\u001b[39m))  \n\u001b[0;32m      4\u001b[0m s \u001b[38;5;241m=\u001b[39m \u001b[38;5;124m'\u001b[39m\u001b[38;5;124mHYD\u001b[39m\u001b[38;5;124m'\u001b[39m\n\u001b[0;32m      5\u001b[0m \u001b[38;5;28mprint\u001b[39m(s\u001b[38;5;241m.\u001b[39mexpandtabs(\u001b[38;5;124m'\u001b[39m\u001b[38;5;124m4\u001b[39m\u001b[38;5;124m'\u001b[39m))    \n",
      "\u001b[1;31mTypeError\u001b[0m: 'str' object cannot be interpreted as an integer"
     ]
    }
   ],
   "source": [
    "#expandtabs: Replaces tabs with spaces in the string.\n",
    "s = 'hyderaBaD'\n",
    "print(s.expandtabs('4'))  \n",
    "s = 'HYD'\n",
    "print(s.expandtabs('4'))    \n",
    "s = '1234'\n",
    "print(s.expandtabs('4'))   \n",
    "s = '2#$%^A'\n",
    "print(s.expandtabs('4'))     \n",
    "s = ''\n",
    "print(s.expandtabs('4'))  \n"
   ]
  },
  {
   "cell_type": "code",
   "execution_count": 18,
   "id": "9e03fca8-7285-498e-a5eb-f96383a4bcec",
   "metadata": {},
   "outputs": [
    {
     "name": "stdout",
     "output_type": "stream",
     "text": [
      "-1\n",
      "-1\n",
      "3\n",
      "-1\n",
      "-1\n"
     ]
    }
   ],
   "source": [
    "#find: Returns the lowest index of a substring; returns -1 if not found.\n",
    "s = 'hyderaBaD'\n",
    "print(s.find('4')) \n",
    "s = 'HYD'\n",
    "print(s.find('4'))  \n",
    "s = '1234'\n",
    "print(s.find('4'))\n",
    "s = '2#$%^A'\n",
    "print(s.find('4'))  \n",
    "s = ''\n",
    "print(s.find('4'))"
   ]
  },
  {
   "cell_type": "code",
   "execution_count": 19,
   "id": "7f284182-42fe-4217-b026-d16e2e2cf70d",
   "metadata": {},
   "outputs": [
    {
     "name": "stdout",
     "output_type": "stream",
     "text": [
      "hyderaBaD\n",
      "HYD\n",
      "1234\n",
      "2#$%^A\n",
      "\n"
     ]
    }
   ],
   "source": [
    "#format: Formats the string using placeholders.\n",
    "s = 'hyderaBaD'\n",
    "print(s.format('4')) \n",
    "s = 'HYD'\n",
    "print(s.format('4'))  \n",
    "s = '1234'\n",
    "print(s.format('4'))\n",
    "s = '2#$%^A'\n",
    "print(s.format('4'))  \n",
    "s = ''\n",
    "print(s.format('4'))"
   ]
  },
  {
   "cell_type": "code",
   "execution_count": 1,
   "id": "e9bce41d-4b61-45f0-ab71-6ef189e1e5c1",
   "metadata": {},
   "outputs": [
    {
     "name": "stdout",
     "output_type": "stream",
     "text": [
      "hyderaBaD\n",
      "HYD\n",
      "1234\n",
      "2#$%^A\n",
      "\n"
     ]
    }
   ],
   "source": [
    "#format_map: Formats the string using a mapping of placeholders to values.\n",
    "s = 'hyderaBaD'\n",
    "print(s.format_map('4')) \n",
    "s = 'HYD'\n",
    "print(s.format_map('4'))  \n",
    "s = '1234'\n",
    "print(s.format_map('4'))\n",
    "s = '2#$%^A'\n",
    "print(s.format_map('4'))  \n",
    "s = ''\n",
    "print(s.format_map('4'))"
   ]
  },
  {
   "cell_type": "code",
   "execution_count": 5,
   "id": "8d3cb9de-dd32-472e-9169-7f823c407d5b",
   "metadata": {},
   "outputs": [
    {
     "name": "stdout",
     "output_type": "stream",
     "text": [
      "4\n",
      "Object `s.dir` not found.\n"
     ]
    },
    {
     "ename": "NameError",
     "evalue": "name 'e' is not defined",
     "output_type": "error",
     "traceback": [
      "\u001b[1;31m---------------------------------------------------------------------------\u001b[0m",
      "\u001b[1;31mNameError\u001b[0m                                 Traceback (most recent call last)",
      "Cell \u001b[1;32mIn[5], line 7\u001b[0m\n\u001b[0;32m      5\u001b[0m get_ipython()\u001b[38;5;241m.\u001b[39mrun_line_magic(\u001b[38;5;124m'\u001b[39m\u001b[38;5;124mpinfo\u001b[39m\u001b[38;5;124m'\u001b[39m, \u001b[38;5;124m'\u001b[39m\u001b[38;5;124ms.dir\u001b[39m\u001b[38;5;124m'\u001b[39m)\n\u001b[0;32m      6\u001b[0m s \u001b[38;5;241m=\u001b[39m \u001b[38;5;124m'\u001b[39m\u001b[38;5;124mHYD\u001b[39m\u001b[38;5;124m'\u001b[39m\n\u001b[1;32m----> 7\u001b[0m \u001b[38;5;28mprint\u001b[39m(s\u001b[38;5;241m.\u001b[39mindex(e))  \n\u001b[0;32m      8\u001b[0m s \u001b[38;5;241m=\u001b[39m \u001b[38;5;124m'\u001b[39m\u001b[38;5;124m1234\u001b[39m\u001b[38;5;124m'\u001b[39m\n\u001b[0;32m      9\u001b[0m \u001b[38;5;28mprint\u001b[39m(s\u001b[38;5;241m.\u001b[39mindex(\u001b[38;5;124m\"\u001b[39m\u001b[38;5;124ma\u001b[39m\u001b[38;5;124m\"\u001b[39m))\n",
      "\u001b[1;31mNameError\u001b[0m: name 'e' is not defined"
     ]
    }
   ],
   "source": [
    "# index: Similar to find, but raises an error if the substring is not found.\n",
    "s = 'hyderaBaD'\n",
    "print(s.index(\"r\")) \n",
    "\n",
    "s.dir?\n",
    "s = 'HYD'\n",
    "print(s.index(e))  \n",
    "s = '1234'\n",
    "print(s.index(\"a\"))\n",
    "s = '2#$%^A'\n",
    "print(s.index('4'))  \n",
    "s = ''\n",
    "print(s.index('4'))\n",
    "\n",
    "s.dir?\n"
   ]
  },
  {
   "cell_type": "code",
   "execution_count": 7,
   "id": "ea642789-ccc5-4466-a703-d7c15daac233",
   "metadata": {},
   "outputs": [
    {
     "name": "stdout",
     "output_type": "stream",
     "text": [
      "True\n",
      "False\n",
      "True\n",
      "False\n",
      "True\n"
     ]
    }
   ],
   "source": [
    "# isalnum: Checks if all characters in the string are alphanumeric.\n",
    "s = \"hello123\"\n",
    "print(s.isalnum()) \n",
    "s = \"hello world\"\n",
    "print(s.isalnum())\n",
    "s = \"123456\"\n",
    "print(s.isalnum())  \n",
    "s = \"hello!\"\n",
    "print(s.isalnum())  \n",
    "s = \"Python3\"\n",
    "print(s.isalnum())\n",
    "#Definition: Returns True if all characters in the string are alphanumeric (letters and numbers), otherwise False."
   ]
  },
  {
   "cell_type": "code",
   "execution_count": 8,
   "id": "6669cdb8-e2f2-47fd-8e08-98491f2ac474",
   "metadata": {},
   "outputs": [
    {
     "name": "stdout",
     "output_type": "stream",
     "text": [
      "True\n",
      "False\n",
      "True\n",
      "False\n",
      "False\n"
     ]
    }
   ],
   "source": [
    "# isalpha: Checks if all characters in the string are alphabetic.\n",
    "s = \"hello\"\n",
    "print(s.isalpha())  \n",
    "s = \"hello123\"\n",
    "print(s.isalpha()) \n",
    "s = \"HelloWorld\"\n",
    "print(s.isalpha())  \n",
    "s = \"hello!\"\n",
    "print(s.isalpha()) \n",
    "s = \"\"\n",
    "print(s.isalpha())\n",
    "# Definition: Returns True if all characters in the string are alphabetic (letters), otherwise False.\n",
    "\n"
   ]
  },
  {
   "cell_type": "code",
   "execution_count": 9,
   "id": "84f6f1d7-738d-49da-940c-963b947194d8",
   "metadata": {},
   "outputs": [
    {
     "name": "stdout",
     "output_type": "stream",
     "text": [
      "True\n",
      "True\n",
      "False\n",
      "True\n",
      "False\n"
     ]
    }
   ],
   "source": [
    "# isascii: Checks if all characters are ASCII.\n",
    "s = \"hello\"\n",
    "print(s.isascii())  \n",
    "s = \"hello!\"\n",
    "print(s.isascii())  \n",
    "s = \"café\"\n",
    "print(s.isascii())  \n",
    "s = \"123\"\n",
    "print(s.isascii())  \n",
    "s = \"😊\"\n",
    "print(s.isascii()) \n",
    "\n",
    "# Definition: Returns True if all characters in the string are ASCII, otherwise False.\n",
    "\n",
    "\n"
   ]
  },
  {
   "cell_type": "code",
   "execution_count": 10,
   "id": "f818956d-4181-4b08-9095-2f02ea071ad5",
   "metadata": {},
   "outputs": [
    {
     "name": "stdout",
     "output_type": "stream",
     "text": [
      "True\n",
      "False\n",
      "False\n",
      "True\n",
      "False\n"
     ]
    }
   ],
   "source": [
    "# isdecimal: Checks if all characters are decimal digits.\n",
    "s = \"123\"\n",
    "print(s.isdecimal())  \n",
    "s = \"12.3\"\n",
    "print(s.isdecimal()) \n",
    "s = \"one\"\n",
    "print(s.isdecimal())  \n",
    "s = \"١٢٣\"  \n",
    "print(s.isdecimal()) \n",
    "s = \"123abc\"\n",
    "print(s.isdecimal())\n",
    "# Definition: Returns True if all characters in the string are decimal characters, otherwise False.\n"
   ]
  },
  {
   "cell_type": "code",
   "execution_count": 1,
   "id": "b60e7470-9e7d-4b90-9b93-eb89153cc99e",
   "metadata": {},
   "outputs": [
    {
     "name": "stdout",
     "output_type": "stream",
     "text": [
      "True\n",
      "False\n",
      "False\n",
      "True\n",
      "False\n"
     ]
    }
   ],
   "source": [
    "# isdigit: Checks if all characters are digits.\n",
    "s = \"123\"\n",
    "print(s.isdigit())  \n",
    "s = \"123.45\"\n",
    "print(s.isdigit()) \n",
    "s = \"four\"\n",
    "print(s.isdigit()) \n",
    "s = \"²³\"  \n",
    "print(s.isdigit())  \n",
    "s = \"123abc\"\n",
    "print(s.isdigit())\n",
    "#Definition: Returns True if all characters in the string are digits, otherwise False.\n"
   ]
  },
  {
   "cell_type": "code",
   "execution_count": 2,
   "id": "d66382f8-6757-4d1c-9c24-0cf6809123e0",
   "metadata": {},
   "outputs": [
    {
     "name": "stdout",
     "output_type": "stream",
     "text": [
      "True\n",
      "False\n",
      "True\n",
      "True\n",
      "False\n"
     ]
    }
   ],
   "source": [
    "# isidentifier: Checks if the string is a valid Python identifier.\n",
    "s = \"variable_name\"\n",
    "print(s.isidentifier())  \n",
    "s = \"2nd_variable\"\n",
    "print(s.isidentifier())  \n",
    "s = \"myVar\"\n",
    "print(s.isidentifier())  \n",
    "s = \"class\"\n",
    "print(s.isidentifier()) \n",
    "s = \"my-variable\"\n",
    "print(s.isidentifier())  \n",
    "# Definition: Returns True if the string is a valid identifier according to Python's naming rules, otherwise False.\n"
   ]
  },
  {
   "cell_type": "code",
   "execution_count": 3,
   "id": "9baafee3-8814-4074-bc2e-8a87cf1ad7a4",
   "metadata": {},
   "outputs": [
    {
     "name": "stdout",
     "output_type": "stream",
     "text": [
      "True\n",
      "False\n",
      "False\n",
      "True\n",
      "False\n"
     ]
    }
   ],
   "source": [
    "# islower: Checks if all characters are lowercase.\n",
    "s = \"hello\"\n",
    "print(s.islower())  \n",
    "s = \"Hello\"\n",
    "print(s.islower())  \n",
    "s = \"HELLO\"\n",
    "print(s.islower())  \n",
    "s = \"hello123\"\n",
    "print(s.islower())  \n",
    "s = \" \"\n",
    "print(s.islower())  \n",
    "# Definition: Returns True if all characters in the string are lowercase, otherwise False.\n"
   ]
  },
  {
   "cell_type": "code",
   "execution_count": 4,
   "id": "9a0071e4-d4d2-41dc-af74-6e07ff13d79b",
   "metadata": {},
   "outputs": [
    {
     "name": "stdout",
     "output_type": "stream",
     "text": [
      "True\n",
      "False\n",
      "True\n",
      "False\n",
      "False\n"
     ]
    }
   ],
   "source": [
    "# isnumeric: Checks if all characters are numeric.\n",
    "s = \"123\"\n",
    "print(s.isnumeric())  \n",
    "s = \"123.45\"\n",
    "print(s.isnumeric())  \n",
    "s = \"Ⅻ\" \n",
    "print(s.isnumeric())  \n",
    "s = \"one\"\n",
    "print(s.isnumeric()) \n",
    "s = \"123abc\"\n",
    "print(s.isnumeric()) \n",
    "# Definition: Returns True if all characters in the string are numeric characters, otherwise False.\n"
   ]
  },
  {
   "cell_type": "code",
   "execution_count": 11,
   "id": "c5fd13b4-04a4-4d54-a044-0c5dc28cd0e6",
   "metadata": {},
   "outputs": [
    {
     "name": "stdout",
     "output_type": "stream",
     "text": [
      "True\n",
      "False\n",
      "False\n",
      "True\n",
      "True\n"
     ]
    }
   ],
   "source": [
    "# isprintable: Checks if all characters are printable.\n",
    "s = \"hello\"\n",
    "print(s.isprintable())  \n",
    "s = \"hello\\nworld\"\n",
    "print(s.isprintable())  \n",
    "s = \"hello\\tworld\"\n",
    "print(s.isprintable()) \n",
    "s = \" \"\n",
    "print(s.isprintable())  \n",
    "s = \"😊\"\n",
    "print(s.isprintable())\n",
    "#Definition: Returns True if all characters in the string are printable, otherwise False.\n"
   ]
  },
  {
   "cell_type": "code",
   "execution_count": 12,
   "id": "78720c2e-5854-4860-a15c-1b9b9652887b",
   "metadata": {},
   "outputs": [
    {
     "name": "stdout",
     "output_type": "stream",
     "text": [
      "True\n",
      "False\n",
      "True\n",
      "True\n",
      "False\n"
     ]
    }
   ],
   "source": [
    "# isspace: Checks if all characters are whitespace.\n",
    "s = \"   \"\n",
    "print(s.isspace())  \n",
    "s = \"hello\"\n",
    "print(s.isspace())\n",
    "s = \"\\n\"\n",
    "print(s.isspace())  \n",
    "s = \"\\t\\t\"\n",
    "print(s.isspace())\n",
    "s = \" a \"\n",
    "print(s.isspace()) \n",
    "# Definition: Returns True if all characters in the string are whitespace characters, otherwise False.\n",
    "\n",
    "\n"
   ]
  },
  {
   "cell_type": "code",
   "execution_count": 13,
   "id": "ec1f28f1-1350-435f-96eb-34298ef5e287",
   "metadata": {},
   "outputs": [
    {
     "name": "stdout",
     "output_type": "stream",
     "text": [
      "True\n",
      "False\n",
      "True\n",
      "False\n",
      "True\n"
     ]
    }
   ],
   "source": [
    "# istitle: Checks if the string is in title case.\n",
    "s = \"Hello World\"\n",
    "print(s.istitle())  \n",
    "s = \"hello World\"\n",
    "print(s.istitle()) \n",
    "s = \"This Is A Title\"\n",
    "print(s.istitle())  \n",
    "s = \"my name is python\"\n",
    "print(s.istitle())  \n",
    "s = \"A Tale Of Two Cities\"\n",
    "print(s.istitle())  \n",
    "# Definition: Returns True if the string is in title case (i.e., each word starts with an uppercase letter), otherwise False.\n"
   ]
  },
  {
   "cell_type": "code",
   "execution_count": 14,
   "id": "30100a15-5ba3-4e8d-b7c8-5d0a9b0938b8",
   "metadata": {},
   "outputs": [
    {
     "name": "stdout",
     "output_type": "stream",
     "text": [
      "True\n",
      "False\n",
      "True\n",
      "False\n"
     ]
    }
   ],
   "source": [
    "# isupper: Checks if all characters are uppercase.\n",
    "s = \"HELLO\"\n",
    "print(s.isupper())  \n",
    "s = \"Hello\"\n",
    "print(s.isupper())  \n",
    "s = \"WORLD\"\n",
    "print(s.isupper())  \n",
    "s = \"123\"\n",
    "s = \" \"\n",
    "print(s.isupper()) \n",
    "# Definition: Returns True if all characters in the string are uppercase, otherwise False.\n",
    "\n"
   ]
  },
  {
   "cell_type": "code",
   "execution_count": 15,
   "id": "8f9cbdf3-dcf2-4fb4-a27e-5baa19bfee91",
   "metadata": {},
   "outputs": [
    {
     "name": "stdout",
     "output_type": "stream",
     "text": [
      "a-b-c\n",
      "apple, banana, cherry\n",
      "123\n",
      "Python is fun\n",
      "one_two_three\n"
     ]
    }
   ],
   "source": [
    "# join: Joins an iterable of strings into one string with a specified separator.\n",
    "s = \"-\"\n",
    "print(s.join([\"a\", \"b\", \"c\"])) \n",
    "s = \", \"\n",
    "print(s.join([\"apple\", \"banana\", \"cherry\"]))  \n",
    "s = \"\"\n",
    "print(s.join([\"1\", \"2\", \"3\"]))  # 123\n",
    "s = \" \"\n",
    "print(s.join([\"Python\", \"is\", \"fun\"])) \n",
    "s = \"_\"\n",
    "print(s.join([\"one\", \"two\", \"three\"])) \n",
    "# Definition: Concatenates the elements of an iterable (like a list) into a single string, with the string acting as a separator.\n",
    "\n",
    "\n"
   ]
  },
  {
   "cell_type": "code",
   "execution_count": 16,
   "id": "668261bc-35f2-414e-b7cf-ea5e44c47858",
   "metadata": {},
   "outputs": [
    {
     "name": "stdout",
     "output_type": "stream",
     "text": [
      "hello     \n",
      "world***\n",
      "Python---------\n",
      "AI   \n",
      "testxxxx\n"
     ]
    }
   ],
   "source": [
    "# ljust: Left-justifies the string in a specified width, padding with spaces.\n",
    "s = \"hello\"\n",
    "print(s.ljust(10)) \n",
    "\n",
    "s = \"world\"\n",
    "print(s.ljust(8, '*')) \n",
    "\n",
    "s = \"Python\"\n",
    "print(s.ljust(15, '-')) \n",
    "s = \"AI\"\n",
    "print(s.ljust(5)) \n",
    "\n",
    "s = \"test\"\n",
    "print(s.ljust(8, 'x'))  \n",
    "# Definition: Returns a left-justified string of a specified width, padding with spaces or a specified character.\n"
   ]
  },
  {
   "cell_type": "code",
   "execution_count": 17,
   "id": "a73f9112-b2cc-4038-992b-12965347f18c",
   "metadata": {},
   "outputs": [
    {
     "name": "stdout",
     "output_type": "stream",
     "text": [
      "hello\n",
      "hello world\n",
      "python3\n",
      "123abc\n",
      "café\n"
     ]
    }
   ],
   "source": [
    "# lower: Converts all characters in the string to lowercase.\n",
    "s = \"HELLO\"\n",
    "print(s.lower())  \n",
    "\n",
    "s = \"Hello World\"\n",
    "print(s.lower()) \n",
    "\n",
    "s = \"Python3\"\n",
    "print(s.lower()) \n",
    "\n",
    "s = \"123ABC\"\n",
    "print(s.lower()) \n",
    "\n",
    "s = \"café\"\n",
    "print(s.lower())\n",
    "# Definition: Returns a copy of the string with all characters converted to lowercase.\n",
    "\n",
    "\n"
   ]
  },
  {
   "cell_type": "code",
   "execution_count": 18,
   "id": "d0d43a05-2367-42c1-bc90-f4e90db2ca8b",
   "metadata": {},
   "outputs": [
    {
     "name": "stdout",
     "output_type": "stream",
     "text": [
      "hello\n",
      "spaces   \n",
      "\n",
      "leading spaces\n"
     ]
    }
   ],
   "source": [
    "# lstrip: Removes leading whitespace from the string.\n",
    "s = \"   hello\"\n",
    "print(s.lstrip())  \n",
    "\n",
    "s = \"###Python\"\n",
    "\n",
    "s = \"   spaces   \"\n",
    "print(s.lstrip()) \n",
    "\n",
    "s = \"abcabc\"\n",
    "print(s.lstrip('abc'))  \n",
    "\n",
    "s = \"   leading spaces\"\n",
    "print(s.lstrip())  \n",
    "# Definition: Returns a copy of the string with leading whitespace removed (or specified characters).\n",
    "\n"
   ]
  },
  {
   "cell_type": "code",
   "execution_count": 19,
   "id": "83b55575-5f32-40f1-baf2-1b5d04df0bf4",
   "metadata": {},
   "outputs": [
    {
     "name": "stdout",
     "output_type": "stream",
     "text": [
      "123123\n",
      "H2LL4\n",
      "Hll Wrld\n",
      "abcabc\n",
      "Hello_World\n"
     ]
    }
   ],
   "source": [
    "# maketrans: Creates a maping for string translation.\n",
    "table = str.maketrans(\"abc\", \"123\")\n",
    "s = \"abcabc\"\n",
    "print(s.translate(table)) \n",
    "\n",
    "table = str.maketrans(\"AEIOU\", \"12345\")\n",
    "s = \"HELLO\"\n",
    "print(s.translate(table))  \n",
    "\n",
    "table = str.maketrans(\"\", \"\", \"aeiou\")  \n",
    "s = \"Hello World\"\n",
    "print(s.translate(table)) \n",
    "\n",
    "table = str.maketrans(\"xyz\", \"abc\")\n",
    "s = \"xyzxyz\"\n",
    "print(s.translate(table))  \n",
    "\n",
    "table = str.maketrans(\" \", \"_\")\n",
    "s = \"Hello World\"\n",
    "print(s.translate(table)) \n",
    "# Definition: Returns a mapping table used for string translation.\n",
    "\n",
    "\n"
   ]
  },
  {
   "cell_type": "code",
   "execution_count": 20,
   "id": "f196174e-fb3f-45f0-863a-49895721d294",
   "metadata": {},
   "outputs": [
    {
     "name": "stdout",
     "output_type": "stream",
     "text": [
      "('hello', ' ', 'world')\n",
      "('Python ', 'is', ' fun')\n",
      "('test', ':', 'test:test')\n",
      "('no separator', '', '')\n",
      "('abc', ':', 'def:ghi')\n"
     ]
    }
   ],
   "source": [
    "# partition: Splits the string into three parts based on a separator.\n",
    "s = \"hello world\"\n",
    "print(s.partition(\" \")) \n",
    "\n",
    "s = \"Python is fun\"\n",
    "print(s.partition(\"is\")) \n",
    "\n",
    "s = \"test:test:test\"\n",
    "print(s.partition(\":\")) \n",
    "s = \"no separator\"\n",
    "print(s.partition(\"x\")) \n",
    "\n",
    "s = \"abc:def:ghi\"\n",
    "print(s.partition(\":\")) \n",
    "# Definition: Splits the string into three parts: the part before the separator, the separator itself, and the part after.\n",
    "\n"
   ]
  },
  {
   "cell_type": "code",
   "execution_count": 21,
   "id": "7f3bdb64-0995-4b70-b27a-71dd21630f20",
   "metadata": {},
   "outputs": [
    {
     "name": "stdout",
     "output_type": "stream",
     "text": [
      "Programming\n",
      " world\n",
      "hello\n",
      "Science\n",
      "ample.py\n"
     ]
    }
   ],
   "source": [
    "# removeprefix: Removes a specified prefix from the string.\n",
    "s = \"PythonProgramming\"\n",
    "print(s.removeprefix(\"Python\"))  \n",
    "\n",
    "s = \"hello world\"\n",
    "print(s.removeprefix(\"hello\"))  \n",
    "s = \"hello\"\n",
    "print(s.removeprefix(\"world\")) \n",
    "s = \"DataScience\"\n",
    "print(s.removeprefix(\"Data\"))\n",
    "\n",
    "s = \"example.py\"\n",
    "print(s.removeprefix(\"ex\"))\n",
    "# Definition: Returns a string with the specified prefix removed, if it exists.\n",
    "\n"
   ]
  },
  {
   "cell_type": "code",
   "execution_count": 22,
   "id": "34bc9a6b-c697-4a88-a395-cdec7f3fa057",
   "metadata": {},
   "outputs": [
    {
     "name": "stdout",
     "output_type": "stream",
     "text": [
      "example\n",
      "hello \n",
      "data.csv\n",
      "Python\n",
      "file\n"
     ]
    }
   ],
   "source": [
    "# removesuffix: Removes a specified suffix from the string.\n",
    "s = \"example.py\"\n",
    "print(s.removesuffix(\".py\"))  \n",
    "s = \"hello world\"\n",
    "print(s.removesuffix(\"world\"))   \n",
    "\n",
    "s = \"data.csv\"\n",
    "print(s.removesuffix(\".txt\")) \n",
    "\n",
    "s = \"PythonProgramming\"\n",
    "print(s.removesuffix(\"Programming\")) \n",
    "s = \"filename.txt\"\n",
    "print(s.removesuffix(\"name.txt\")) \n",
    "#Definition: Returns a string with the specified suffix removed, if it exists.\n",
    "\n",
    "\n"
   ]
  },
  {
   "cell_type": "code",
   "execution_count": 23,
   "id": "076c6b02-a4d7-4ece-afcf-f779d6f86e76",
   "metadata": {},
   "outputs": [
    {
     "name": "stdout",
     "output_type": "stream",
     "text": [
      "hello Python\n",
      "bonono\n",
      "miXXiXXippi\n",
      "hellO\n",
      "apples\n"
     ]
    }
   ],
   "source": [
    "# replace: Replaces occurrences of a substring with another substring.\n",
    "s = \"hello world\"\n",
    "print(s.replace(\"world\", \"Python\"))  \n",
    "s = \"banana\"\n",
    "print(s.replace(\"a\", \"o\")) \n",
    "s = \"mississippi\"\n",
    "print(s.replace(\"ss\", \"XX\")) \n",
    "\n",
    "s = \"hello\"\n",
    "print(s.replace(\"o\", \"O\", 1))\n",
    "s = \"apples\"\n",
    "print(s.replace(\"pe\", \"PE\")) \n",
    "# Definition: Returns a copy of the string with all occurrences of a substring replaced by another substring.\n"
   ]
  },
  {
   "cell_type": "code",
   "execution_count": 24,
   "id": "04360340-d60b-42da-af37-ecd30a9ddefe",
   "metadata": {},
   "outputs": [
    {
     "name": "stdout",
     "output_type": "stream",
     "text": [
      "7\n",
      "5\n",
      "-1\n",
      "10\n",
      "-1\n"
     ]
    }
   ],
   "source": [
    "# rfind: Returns the highest index of a substring; returns -1 if not found.\n",
    "s = \"hello world\"\n",
    "print(s.rfind(\"o\")) \n",
    "\n",
    "s = \"banana\"\n",
    "print(s.rfind(\"a\")) \n",
    "\n",
    "s = \"Python\"\n",
    "print(s.rfind(\"p\")) \n",
    "s = \"programming\"\n",
    "print(s.rfind(\"g\")) \n",
    "\n",
    "s = \"hello\"\n",
    "print(s.rfind(\"z\"))  \n",
    "# Definition: Returns the highest index of the substring if found, otherwise -1.\n",
    "\n",
    "\n"
   ]
  },
  {
   "cell_type": "code",
   "execution_count": 25,
   "id": "0fbf3fb9-6708-4e65-8bf0-165c7d663253",
   "metadata": {},
   "outputs": [
    {
     "name": "stdout",
     "output_type": "stream",
     "text": [
      "7\n",
      "5\n",
      "Substring not found.\n",
      "0\n",
      "10\n"
     ]
    }
   ],
   "source": [
    "# rindex: Similar to rfind, but raises an error if the substring is not found.\n",
    "s = \"hello world\"\n",
    "print(s.rindex(\"o\")) \n",
    "\n",
    "s = \"banana\"\n",
    "print(s.rindex(\"a\")) \n",
    "\n",
    "try:\n",
    "    print(s.rindex(\"z\")) \n",
    "except ValueError:\n",
    "    print(\"Substring not found.\")\n",
    "\n",
    "s = \"Python\"\n",
    "print(s.rindex(\"P\"))  \n",
    "\n",
    "s = \"programming\"\n",
    "print(s.rindex(\"g\")) \n",
    "# Definition: Similar to rfind(), but raises ValueError if the substring is not found.\n",
    "\n",
    "\n"
   ]
  },
  {
   "cell_type": "code",
   "execution_count": 26,
   "id": "7923ec19-85f7-45aa-86a5-cc98f8571f71",
   "metadata": {},
   "outputs": [
    {
     "name": "stdout",
     "output_type": "stream",
     "text": [
      "     hello\n",
      "***world\n",
      "---------Python\n",
      "   AI\n",
      "xxxxtest\n"
     ]
    }
   ],
   "source": [
    "# rjust: Right-justifies the string in a specified width, padding with spaces.\n",
    "s = \"hello\"\n",
    "print(s.rjust(10)) \n",
    "\n",
    "s = \"world\"\n",
    "print(s.rjust(8, '*')) \n",
    "\n",
    "s = \"Python\"\n",
    "print(s.rjust(15, '-')) \n",
    "\n",
    "s = \"AI\"\n",
    "print(s.rjust(5)) \n",
    "s = \"test\"\n",
    "print(s.rjust(8, 'x')) \n",
    "# Definition: Returns a right-justified string of a specified width, padding with spaces or a specified character.\n",
    "\n",
    "\n"
   ]
  },
  {
   "cell_type": "code",
   "execution_count": 27,
   "id": "a5d73ea6-2ac8-4e2e-a4f9-f0163ef6e940",
   "metadata": {},
   "outputs": [
    {
     "name": "stdout",
     "output_type": "stream",
     "text": [
      "('hello world', ' ', 'world')\n",
      "('Python ', 'is', ' fun')\n",
      "('test:test', ':', 'test')\n",
      "('', '', 'no separator')\n",
      "('abc:def', ':', 'ghi')\n"
     ]
    }
   ],
   "source": [
    "# rpartition: Splits the string into three parts from the right based on a separator.\n",
    "s = \"hello world world\"\n",
    "print(s.rpartition(\" \")) \n",
    "\n",
    "s = \"Python is fun\"\n",
    "print(s.rpartition(\"is\")) \n",
    "\n",
    "s = \"test:test:test\"\n",
    "print(s.rpartition(\":\")) \n",
    "s = \"no separator\"\n",
    "print(s.rpartition(\"x\")) \n",
    "s = \"abc:def:ghi\"\n",
    "print(s.rpartition(\":\")) \n",
    "\n",
    "#Definition: Splits the string into three parts: the part before the last occurrence of the separator, the separator itself, and the part after.\n",
    "\n"
   ]
  },
  {
   "cell_type": "code",
   "execution_count": 28,
   "id": "ed24e490-50d4-46cc-b7bd-96170579d9ad",
   "metadata": {},
   "outputs": [
    {
     "name": "stdout",
     "output_type": "stream",
     "text": [
      "['a', 'b', 'c', 'd']\n",
      "['a', 'b', 'c', 'd']\n",
      "['one two', 'three']\n",
      "['hell', ' w', 'rld']\n",
      "['split', 'this', 'string']\n"
     ]
    }
   ],
   "source": [
    "#Definition: Splits the string from the right side into a list.\n",
    "\n",
    "s = \"a b c d\"\n",
    "print(s.rsplit())  \n",
    "s = \"a,b,c,d\"\n",
    "print(s.rsplit(',')) \n",
    "s = \"one two three\"\n",
    "print(s.rsplit(' ', 1))\n",
    "s = \"hello world\"\n",
    "print(s.rsplit('o'))  \n",
    "s = \"split this string\"\n",
    "print(s.rsplit(' ', 2))  \n"
   ]
  },
  {
   "cell_type": "code",
   "execution_count": 29,
   "id": "0be5524b-ec88-4720-a555-18e122fde806",
   "metadata": {},
   "outputs": [
    {
     "name": "stdout",
     "output_type": "stream",
     "text": [
      "hello\n",
      "Python\n",
      "   trailing\n",
      "\n",
      "   trailing spaces\n"
     ]
    }
   ],
   "source": [
    "# Definition: Returns a copy of the string with trailing whitespace removed (or specified characters).\n",
    "s = \"hello   \"\n",
    "print(s.rstrip())\n",
    "s = \"Python###\"\n",
    "print(s.rstrip('#'))\n",
    "s = \"   trailing   \"\n",
    "print(s.rstrip())\n",
    "s = \"abcabc\"\n",
    "print(s.rstrip('abc')) \n",
    "s = \"   trailing spaces\"\n",
    "print(s.rstrip()) "
   ]
  },
  {
   "cell_type": "code",
   "execution_count": 30,
   "id": "26dded10-70d9-46c4-b8eb-5a1958a912e4",
   "metadata": {},
   "outputs": [
    {
     "name": "stdout",
     "output_type": "stream",
     "text": [
      "['hello', 'world']\n",
      "['Python', 'is', 'fun']\n",
      "['a', 'b', 'c', 'd']\n",
      "['one', 'two three']\n",
      "['split', 'this', 'string']\n"
     ]
    }
   ],
   "source": [
    "# Definition: Splits the string into a list using whitespace as the default separator.\n",
    "\n",
    "s = \"hello world\"\n",
    "print(s.split())\n",
    "s = \"Python is fun\"\n",
    "print(s.split())\n",
    "s = \"a,b,c,d\"\n",
    "print(s.split(',')) \n",
    "s = \"one two three\"\n",
    "print(s.split(' ', 1)) \n",
    "s = \"split this string\"\n",
    "print(s.split(' ', 2)) \n",
    "\n"
   ]
  },
  {
   "cell_type": "code",
   "execution_count": 31,
   "id": "60acfe74-dac6-4657-9152-7fe317062677",
   "metadata": {},
   "outputs": [
    {
     "name": "stdout",
     "output_type": "stream",
     "text": [
      "['hello', 'world']\n",
      "['one', 'two', 'three']\n",
      "['no new lines']\n",
      "['first line', 'second line', 'third line']\n"
     ]
    }
   ],
   "source": [
    "# Definition: Splits the string at line boundaries and returns a list of lines.\n",
    "\n",
    "s = \"hello\\nworld\"\n",
    "print(s.splitlines()) \n",
    "s = \"one\\ntwo\\nthree\"\n",
    "print(s.splitlines()) \n",
    "s = \"line 1\\rline 2\" \n",
    "s = \"no new lines\"\n",
    "print(s.splitlines()) \n",
    "s = \"first line\\nsecond line\\nthird line\"\n",
    "print(s.splitlines()) "
   ]
  },
  {
   "cell_type": "code",
   "execution_count": 32,
   "id": "3e24e219-a3ab-40b0-9886-c0cd141a82ee",
   "metadata": {},
   "outputs": [
    {
     "name": "stdout",
     "output_type": "stream",
     "text": [
      "True\n",
      "True\n",
      "True\n",
      "False\n",
      "False\n"
     ]
    }
   ],
   "source": [
    "# Definition: Returns True if the string starts with the specified prefix, otherwise False.\n",
    "\n",
    "s = \"hello world\"\n",
    "print(s.startswith(\"hello\")) \n",
    "\n",
    "s = \"Python programming\"\n",
    "print(s.startswith(\"Python\")) \n",
    "s = \"data.csv\"\n",
    "print(s.startswith(\"data\")) \n",
    "\n",
    "s = \"file.txt\"\n",
    "print(s.startswith((\"txt\", \"doc\"))) \n",
    "\n",
    "s = \"hello\"\n",
    "print(s.startswith(\"lo\")) "
   ]
  },
  {
   "cell_type": "code",
   "execution_count": 33,
   "id": "103fb908-a402-4556-aece-b97a44842d43",
   "metadata": {},
   "outputs": [
    {
     "name": "stdout",
     "output_type": "stream",
     "text": [
      "hello\n",
      "Python\n",
      "spaces\n",
      "\n",
      "leading spaces\n"
     ]
    }
   ],
   "source": [
    "#Definition: Returns a copy of the string with leading and trailing whitespace removed (or specified characters).\n",
    "s = \"   hello   \"\n",
    "print(s.strip()) \n",
    "\n",
    "s = \"###Python###\"\n",
    "print(s.strip('#'))  \n",
    "\n",
    "s = \"   spaces   \"\n",
    "print(s.strip()) \n",
    "\n",
    "s = \"abcabc\"\n",
    "print(s.strip('abc'))  \n",
    "\n",
    "s = \"   leading spaces   \"\n",
    "print(s.strip()) \n"
   ]
  },
  {
   "cell_type": "code",
   "execution_count": 34,
   "id": "27506120-d045-4d6b-869e-90e7b3ce3df6",
   "metadata": {},
   "outputs": [
    {
     "name": "stdout",
     "output_type": "stream",
     "text": [
      "hELLO wORLD\n",
      "pYTHON\n",
      "AbCdEf\n",
      "123ABC\n",
      "swapcase\n"
     ]
    }
   ],
   "source": [
    "#Definition: Returns a copy of the string with uppercase characters converted to lowercase and vice versa.\n",
    "s = \"Hello World\"\n",
    "print(s.swapcase()) \n",
    "\n",
    "s = \"Python\"\n",
    "print(s.swapcase()) \n",
    "\n",
    "s = \"aBcDeF\"\n",
    "print(s.swapcase())  \n",
    "\n",
    "s = \"123abc\"\n",
    "print(s.swapcase()) \n",
    "s = \"SWAPCASE\"\n",
    "print(s.swapcase())  \n"
   ]
  },
  {
   "cell_type": "code",
   "execution_count": 35,
   "id": "3367e5ad-42de-4fe3-a7ff-b5dc7f032c5d",
   "metadata": {},
   "outputs": [
    {
     "name": "stdout",
     "output_type": "stream",
     "text": [
      "Hello World\n",
      "Python Programming\n",
      "A Tale Of Two Cities\n",
      "My Name Is\n",
      "Hello, World! Welcome!\n"
     ]
    }
   ],
   "source": [
    "#Definition: Returns a titlecased version of the string, where each word starts with an uppercase letter.\n",
    "s = \"hello world\"\n",
    "print(s.title()) \n",
    "\n",
    "s = \"python programming\"\n",
    "print(s.title()) \n",
    "\n",
    "s = \"a tale of two cities\"\n",
    "print(s.title()) \n",
    "\n",
    "s = \"my name is\"\n",
    "print(s.title()) \n",
    "\n",
    "s = \"hello, world! welcome!\"\n",
    "print(s.title()) \n",
    "\n"
   ]
  },
  {
   "cell_type": "code",
   "execution_count": 36,
   "id": "91c71057-2b96-46ba-b495-754ae6d548db",
   "metadata": {},
   "outputs": [
    {
     "name": "stdout",
     "output_type": "stream",
     "text": [
      "123123\n",
      "H2LL4\n",
      "Hll Wrld\n",
      "abcabc\n",
      "Hello_World\n"
     ]
    }
   ],
   "source": [
    "#Definition: Returns a string where each character is mapped through the given translation table.\n",
    "table = str.maketrans(\"abc\", \"123\")\n",
    "s = \"abcabc\"\n",
    "print(s.translate(table)) \n",
    "table = str.maketrans(\"AEIOU\", \"12345\")\n",
    "s = \"HELLO\"\n",
    "print(s.translate(table))  \n",
    "\n",
    "table = str.maketrans(\"\", \"\", \"aeiou\") \n",
    "s = \"Hello World\"\n",
    "print(s.translate(table))\n",
    "\n",
    "table = str.maketrans(\"xyz\", \"abc\")\n",
    "s = \"xyzxyz\"\n",
    "print(s.translate(table)) \n",
    "\n",
    "table = str.maketrans(\" \", \"_\")\n",
    "s = \"Hello World\"\n",
    "print(s.translate(table))  \n",
    "\n"
   ]
  },
  {
   "cell_type": "code",
   "execution_count": 37,
   "id": "c605c3d2-518a-4085-8bd4-05ae88f3a66f",
   "metadata": {},
   "outputs": [
    {
     "name": "stdout",
     "output_type": "stream",
     "text": [
      "HELLO\n",
      "HELLO WORLD\n",
      "PYTHON3\n",
      "123ABC\n",
      "CAFÉ\n"
     ]
    }
   ],
   "source": [
    "#46. upper()\n",
    "#Definition: Returns a copy of the string with all characters converted to uppercase.\n",
    "s = \"hello\"\n",
    "print(s.upper()) \n",
    "s = \"Hello World\"\n",
    "print(s.upper())  \n",
    "\n",
    "s = \"Python3\"\n",
    "print(s.upper()) \n",
    "s = \"123abc\"\n",
    "print(s.upper())\n",
    "s = \"café\"\n",
    "print(s.upper()) \n",
    "\n"
   ]
  },
  {
   "cell_type": "code",
   "execution_count": 38,
   "id": "bea95c5f-8a33-4515-9590-f8a582086d94",
   "metadata": {},
   "outputs": [
    {
     "name": "stdout",
     "output_type": "stream",
     "text": [
      "00042\n",
      "-0042\n",
      "003.14\n",
      "001\n",
      "0001000000\n"
     ]
    }
   ],
   "source": [
    "#47. zfill()\n",
    "#Definition: Pads the string on the left with zeros to fill a specified width.\n",
    "\n",
    "s = \"42\"\n",
    "print(s.zfill(5))  \n",
    "\n",
    "s = \"-42\"\n",
    "print(s.zfill(5)) \n",
    "s = \"3.14\"\n",
    "print(s.zfill(6))  \n",
    "s = \"1\"\n",
    "print(s.zfill(3))  \n",
    "s = \"1000000\"\n",
    "print(s.zfill(10))  \n"
   ]
  },
  {
   "cell_type": "code",
   "execution_count": 5,
   "id": "6d72cea7-4ff5-4ebd-a9ce-c5ecaa7518ff",
   "metadata": {},
   "outputs": [
    {
     "data": {
      "text/plain": [
       "'123abc'"
      ]
     },
     "execution_count": 5,
     "metadata": {},
     "output_type": "execute_result"
    }
   ],
   "source": [
    "s\n"
   ]
  },
  {
   "cell_type": "code",
   "execution_count": 8,
   "id": "d9062d29-6142-4610-82cd-1ef8d0200a48",
   "metadata": {},
   "outputs": [
    {
     "name": "stdout",
     "output_type": "stream",
     "text": [
      "0\n",
      "21\n"
     ]
    }
   ],
   "source": [
    "s = \"abcd123abcd456abcd789abcd\"\n",
    "print(s.find(\"abcd\"))\n",
    "print(s.rfind(\"abcd\")) "
   ]
  },
  {
   "cell_type": "code",
   "execution_count": 9,
   "id": "1cfc6a28-7793-4981-b2ed-b30265c580a7",
   "metadata": {},
   "outputs": [
    {
     "name": "stdout",
     "output_type": "stream",
     "text": [
      "0\n",
      "21\n"
     ]
    }
   ],
   "source": [
    "s = \"abcd123abcd456abcd789abcd\"\n",
    "print(s.find(\"abcd\"))\n",
    "print(s.rfind(\"abcd\")) \n"
   ]
  },
  {
   "cell_type": "code",
   "execution_count": 13,
   "id": "afd8c951-9f20-4baa-85d5-7765ff467d27",
   "metadata": {},
   "outputs": [
    {
     "name": "stdout",
     "output_type": "stream",
     "text": [
      "0\n"
     ]
    },
    {
     "ename": "NameError",
     "evalue": "name 'ptint' is not defined",
     "output_type": "error",
     "traceback": [
      "\u001b[1;31m---------------------------------------------------------------------------\u001b[0m",
      "\u001b[1;31mNameError\u001b[0m                                 Traceback (most recent call last)",
      "Cell \u001b[1;32mIn[13], line 3\u001b[0m\n\u001b[0;32m      1\u001b[0m s \u001b[38;5;241m=\u001b[39m \u001b[38;5;124m\"\u001b[39m\u001b[38;5;124mabcd123abcd456abcd789abcd\u001b[39m\u001b[38;5;124m\"\u001b[39m\n\u001b[0;32m      2\u001b[0m \u001b[38;5;28mprint\u001b[39m(s\u001b[38;5;241m.\u001b[39mfind(\u001b[38;5;124m\"\u001b[39m\u001b[38;5;124mabcd\u001b[39m\u001b[38;5;124m\"\u001b[39m))\n\u001b[1;32m----> 3\u001b[0m ptint(s\u001b[38;5;241m.\u001b[39mfind(\u001b[38;5;28mdir\u001b[39m))\n",
      "\u001b[1;31mNameError\u001b[0m: name 'ptint' is not defined"
     ]
    }
   ],
   "source": [
    "s = \"abcd123abcd456abcd789abcd\"\n",
    "print(s.find(\"abcd\"))"
   ]
  },
  {
   "cell_type": "code",
   "execution_count": 14,
   "id": "bccb10cd-413e-41df-a37f-3f7fca4a252c",
   "metadata": {},
   "outputs": [
    {
     "name": "stdout",
     "output_type": "stream",
     "text": [
      "0\n",
      "21\n"
     ]
    }
   ],
   "source": [
    "s = \"abcd123abcd456abcd789abcd\"\n",
    "print(s.find(\"abcd\"))\n",
    "print(s.rfind(\"abcd\")) \n"
   ]
  },
  {
   "cell_type": "code",
   "execution_count": 15,
   "id": "c88d0791-16f1-433b-895e-7f07d2aac260",
   "metadata": {},
   "outputs": [
    {
     "name": "stdout",
     "output_type": "stream",
     "text": [
      "['__add__', '__class__', '__contains__', '__delattr__', '__dir__', '__doc__', '__eq__', '__format__', '__ge__', '__getattribute__', '__getitem__', '__getnewargs__', '__getstate__', '__gt__', '__hash__', '__init__', '__init_subclass__', '__iter__', '__le__', '__len__', '__lt__', '__mod__', '__mul__', '__ne__', '__new__', '__reduce__', '__reduce_ex__', '__repr__', '__rmod__', '__rmul__', '__setattr__', '__sizeof__', '__str__', '__subclasshook__', 'capitalize', 'casefold', 'center', 'count', 'encode', 'endswith', 'expandtabs', 'find', 'format', 'format_map', 'index', 'isalnum', 'isalpha', 'isascii', 'isdecimal', 'isdigit', 'isidentifier', 'islower', 'isnumeric', 'isprintable', 'isspace', 'istitle', 'isupper', 'join', 'ljust', 'lower', 'lstrip', 'maketrans', 'partition', 'removeprefix', 'removesuffix', 'replace', 'rfind', 'rindex', 'rjust', 'rpartition', 'rsplit', 'rstrip', 'split', 'splitlines', 'startswith', 'strip', 'swapcase', 'title', 'translate', 'upper', 'zfill']\n"
     ]
    }
   ],
   "source": [
    "s=\"hyderabad\"\n",
    "print(dir(s))"
   ]
  },
  {
   "cell_type": "code",
   "execution_count": 16,
   "id": "51b473f8-340c-431a-b673-42af53d5a6b1",
   "metadata": {},
   "outputs": [
    {
     "ename": "SyntaxError",
     "evalue": "invalid syntax (2740459947.py, line 2)",
     "output_type": "error",
     "traceback": [
      "\u001b[1;36m  Cell \u001b[1;32mIn[16], line 2\u001b[1;36m\u001b[0m\n\u001b[1;33m    print(s.)\u001b[0m\n\u001b[1;37m            ^\u001b[0m\n\u001b[1;31mSyntaxError\u001b[0m\u001b[1;31m:\u001b[0m invalid syntax\n"
     ]
    }
   ],
   "source": [
    "s=\"abc@#$defg%^hijk\"\n",
    "print(s.)"
   ]
  },
  {
   "cell_type": "code",
   "execution_count": 17,
   "id": "38c6fd88-a6b0-4bab-9049-3b255e5e63af",
   "metadata": {},
   "outputs": [
    {
     "ename": "SyntaxError",
     "evalue": "incomplete input (2706552944.py, line 2)",
     "output_type": "error",
     "traceback": [
      "\u001b[1;36m  Cell \u001b[1;32mIn[17], line 2\u001b[1;36m\u001b[0m\n\u001b[1;33m    print(s.s(\"-1\")\u001b[0m\n\u001b[1;37m                   ^\u001b[0m\n\u001b[1;31mSyntaxError\u001b[0m\u001b[1;31m:\u001b[0m incomplete input\n"
     ]
    }
   ],
   "source": [
    "s=\"abc@#$defg%^hijk\"\n",
    "print(s.s(\"-1\")"
   ]
  },
  {
   "cell_type": "code",
   "execution_count": null,
   "id": "37b54db1-c084-44ba-893f-cf10c1678a91",
   "metadata": {},
   "outputs": [],
   "source": [
    "s=\"abc@#$defg%^hijk\"\n",
    "print(s.)"
   ]
  }
 ],
 "metadata": {
  "kernelspec": {
   "display_name": "Python 3 (ipykernel)",
   "language": "python",
   "name": "python3"
  },
  "language_info": {
   "codemirror_mode": {
    "name": "ipython",
    "version": 3
   },
   "file_extension": ".py",
   "mimetype": "text/x-python",
   "name": "python",
   "nbconvert_exporter": "python",
   "pygments_lexer": "ipython3",
   "version": "3.12.4"
  }
 },
 "nbformat": 4,
 "nbformat_minor": 5
}
