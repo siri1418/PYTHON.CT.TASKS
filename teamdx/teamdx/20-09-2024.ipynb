{
 "cells": [
  {
   "cell_type": "code",
   "execution_count": 1,
   "id": "f9ff8810-1dda-402e-8c7c-c9feb86d9776",
   "metadata": {},
   "outputs": [
    {
     "name": "stdout",
     "output_type": "stream",
     "text": [
      "hello\n",
      "<function fun at 0x000001C155ECF560> 20\n"
     ]
    }
   ],
   "source": [
    "def fun():\n",
    "    print(\"hello\")\n",
    "    return 20\n",
    "res=fun # function not called so local stact will not create\n",
    "res1=fun() # local stack created\n",
    "print(res,res1)"
   ]
  },
  {
   "cell_type": "code",
   "execution_count": 2,
   "id": "962c9ba7-6725-4941-92a2-2e842e7a2d5a",
   "metadata": {},
   "outputs": [
    {
     "name": "stdout",
     "output_type": "stream",
     "text": [
      "hello\n",
      "<function fun at 0x000001C155ECC400> 20\n",
      "hello\n"
     ]
    }
   ],
   "source": [
    "def fun():\n",
    "    print(\"hello\")\n",
    "    return 20\n",
    "res=fun\n",
    "res1=fun()\n",
    "print(res,res1)\n",
    "r1=res()"
   ]
  },
  {
   "cell_type": "code",
   "execution_count": 3,
   "id": "bc1dddcc-8ec4-4ddd-93f1-77c739aaa3f0",
   "metadata": {},
   "outputs": [
    {
     "name": "stdout",
     "output_type": "stream",
     "text": [
      "hi\n",
      "hello\n",
      "<function fun at 0x000001C155ECF240> 20\n",
      "hi\n",
      "hello\n"
     ]
    }
   ],
   "source": [
    "def fun():\n",
    "    print(\"hi\")\n",
    "    print(\"hello\")\n",
    "    return 20\n",
    "res=fun\n",
    "res1=fun()\n",
    "print(res,res1)\n",
    "r1=res()"
   ]
  },
  {
   "cell_type": "code",
   "execution_count": 4,
   "id": "ba44f4d0-ed33-4970-af89-fa1fff059f36",
   "metadata": {},
   "outputs": [
    {
     "name": "stdout",
     "output_type": "stream",
     "text": [
      "hi\n",
      "hello\n",
      "1000\n",
      "result 50\n"
     ]
    }
   ],
   "source": [
    "def fun():\n",
    "    print(\"hi\")\n",
    "    print(\"hello\")\n",
    "    a=1000\n",
    "    print(a)\n",
    "    return 20+30\n",
    "res=fun()\n",
    "print(\"result\",res)\n",
    "    "
   ]
  },
  {
   "cell_type": "code",
   "execution_count": 5,
   "id": "abb2a98f-a9bf-44ba-8db1-128c69729fa7",
   "metadata": {},
   "outputs": [
    {
     "name": "stdout",
     "output_type": "stream",
     "text": [
      "hi\n",
      "hello\n",
      "1000\n",
      "result 50\n",
      "result 50\n"
     ]
    }
   ],
   "source": [
    "def fun():\n",
    "    print(\"hi\")\n",
    "    print(\"hello\")\n",
    "    a=1000\n",
    "    print(a)\n",
    "    return 20+30\n",
    "res=fun()\n",
    "print(\"result\",res)\n",
    "res1=fun\n",
    "print(\"result\",res)"
   ]
  },
  {
   "cell_type": "code",
   "execution_count": 6,
   "id": "a63b53b1-0d80-44e5-b431-7e2abf94e444",
   "metadata": {},
   "outputs": [
    {
     "name": "stdout",
     "output_type": "stream",
     "text": [
      "hi\n",
      "hello\n",
      "1000\n",
      "result 50\n",
      "result1 50\n",
      "hi\n",
      "hello\n",
      "1000\n",
      "result2 50\n"
     ]
    }
   ],
   "source": [
    "def fun():\n",
    "    print(\"hi\")\n",
    "    print(\"hello\")\n",
    "    a=1000\n",
    "    print(a)\n",
    "    return 20+30\n",
    "res=fun()\n",
    "print(\"result\",res)\n",
    "res1=fun\n",
    "print(\"result1\",res)\n",
    "res2=fun()\n",
    "print(\"result2\",res)"
   ]
  },
  {
   "cell_type": "code",
   "execution_count": 8,
   "id": "dbc6555d-5764-4dc6-ac06-5f411639b6e6",
   "metadata": {},
   "outputs": [
    {
     "ename": "SyntaxError",
     "evalue": "invalid syntax. Perhaps you forgot a comma? (2699653886.py, line 9)",
     "output_type": "error",
     "traceback": [
      "\u001b[1;36m  Cell \u001b[1;32mIn[8], line 9\u001b[1;36m\u001b[0m\n\u001b[1;33m    print(\"result\"res)\u001b[0m\n\u001b[1;37m          ^\u001b[0m\n\u001b[1;31mSyntaxError\u001b[0m\u001b[1;31m:\u001b[0m invalid syntax. Perhaps you forgot a comma?\n"
     ]
    }
   ],
   "source": [
    "def outer():\n",
    "    print(\"hyd\")\n",
    "    def inner():\n",
    "        print(\"hi\")\n",
    "        return 20\n",
    "    print(\"hello\")\n",
    "    return inner\n",
    "res=outer()\n",
    "print(\"result\",res)\n",
    "    "
   ]
  },
  {
   "cell_type": "code",
   "execution_count": 9,
   "id": "50ee0467-1f8f-466e-a693-87270dcd3282",
   "metadata": {},
   "outputs": [
    {
     "name": "stdout",
     "output_type": "stream",
     "text": [
      "hi\n",
      "hello\n",
      "1000\n",
      "result 50\n",
      "result1 <function fun at 0x000001C155ECF060>\n",
      "hi\n",
      "hello\n",
      "1000\n",
      "result2 50\n"
     ]
    }
   ],
   "source": [
    "def fun():\n",
    "    print(\"hi\")\n",
    "    print(\"hello\")\n",
    "    a=1000\n",
    "    print(a)\n",
    "    return 20+30\n",
    "b=2000\n",
    "res = fun()\n",
    "print(\"result\",res)\n",
    "res1=fun\n",
    "print(\"result1\",res1)\n",
    "res2 =fun()\n",
    "print(\"result2\",res2)"
   ]
  },
  {
   "cell_type": "code",
   "execution_count": 10,
   "id": "faebd11e-daff-4596-a0da-af6325acc943",
   "metadata": {},
   "outputs": [
    {
     "ename": "NameError",
     "evalue": "name 'a' is not defined",
     "output_type": "error",
     "traceback": [
      "\u001b[1;31m---------------------------------------------------------------------------\u001b[0m",
      "\u001b[1;31mNameError\u001b[0m                                 Traceback (most recent call last)",
      "Cell \u001b[1;32mIn[10], line 1\u001b[0m\n\u001b[1;32m----> 1\u001b[0m \u001b[38;5;28mprint\u001b[39m(a,\u001b[38;5;28mid\u001b[39m(a))\n",
      "\u001b[1;31mNameError\u001b[0m: name 'a' is not defined"
     ]
    }
   ],
   "source": [
    "print(a,id(a))"
   ]
  },
  {
   "cell_type": "code",
   "execution_count": 11,
   "id": "31fea451-e06b-4a32-9078-9c55393ca574",
   "metadata": {},
   "outputs": [
    {
     "ename": "NameError",
     "evalue": "name 'a' is not defined",
     "output_type": "error",
     "traceback": [
      "\u001b[1;31m---------------------------------------------------------------------------\u001b[0m",
      "\u001b[1;31mNameError\u001b[0m                                 Traceback (most recent call last)",
      "Cell \u001b[1;32mIn[11], line 1\u001b[0m\n\u001b[1;32m----> 1\u001b[0m \u001b[38;5;28mprint\u001b[39m(\u001b[38;5;28mid\u001b[39m(a))\n",
      "\u001b[1;31mNameError\u001b[0m: name 'a' is not defined"
     ]
    }
   ],
   "source": [
    "print(id(a))"
   ]
  },
  {
   "cell_type": "code",
   "execution_count": 12,
   "id": "bea61063-4d84-4d2f-95ce-2cb149bd3c4a",
   "metadata": {},
   "outputs": [
    {
     "name": "stdout",
     "output_type": "stream",
     "text": [
      "hi\n",
      "hello\n",
      "1000 1929896027600\n",
      "1000\n",
      "140719493169112\n",
      "result 50\n",
      "result1 <function fun at 0x000001C1560A1C60>\n",
      "hi\n",
      "hello\n",
      "1000 1929896027600\n",
      "1000\n",
      "result2 50\n"
     ]
    }
   ],
   "source": [
    "def fun():\n",
    "    print(\"hi\")\n",
    "    print(\"hello\")\n",
    "    a=1000\n",
    "    print(a,id(a))\n",
    "    print(a)\n",
    "    return 20+30\n",
    "b=2000\n",
    "res = fun()\n",
    "print(id(res))\n",
    "print(\"result\",res)\n",
    "res1=fun\n",
    "print(\"result1\",res1)\n",
    "res2 =fun()\n",
    "print(\"result2\",res2)"
   ]
  },
  {
   "cell_type": "code",
   "execution_count": 2,
   "id": "7fe47a88-2fce-453a-8362-bd1e07746dab",
   "metadata": {},
   "outputs": [
    {
     "name": "stdout",
     "output_type": "stream",
     "text": [
      "hi\n",
      "hello\n",
      "1000 2708773325712\n",
      "1000\n",
      "1000 2708773325712\n",
      "140720004218840\n",
      "result 50\n",
      "result1 <function fun at 0x00000276AF75F9C0>\n",
      "hi\n",
      "hello\n",
      "1000 2708773325712\n",
      "1000\n",
      "1000 2708773325712\n",
      "140720004218840\n",
      "result2 50\n"
     ]
    }
   ],
   "source": [
    "def fun():\n",
    "    print(\"hi\")\n",
    "    print(\"hello\")\n",
    "    a=1000\n",
    "    print(a,id(a))\n",
    "    print(a)\n",
    "    print(a,id(a))\n",
    "    return 20+30\n",
    "b=2000\n",
    "res = fun()\n",
    "print(id(res))\n",
    "print(\"result\",res)\n",
    "res1=fun\n",
    "print(\"result1\",res1)\n",
    "res2 =fun()\n",
    "print(id(res2))\n",
    "print(\"result2\",res2)"
   ]
  },
  {
   "cell_type": "code",
   "execution_count": null,
   "id": "486cb6e8-2350-474e-a70b-929a8374760c",
   "metadata": {},
   "outputs": [],
   "source": []
  }
 ],
 "metadata": {
  "kernelspec": {
   "display_name": "Python 3 (ipykernel)",
   "language": "python",
   "name": "python3"
  },
  "language_info": {
   "codemirror_mode": {
    "name": "ipython",
    "version": 3
   },
   "file_extension": ".py",
   "mimetype": "text/x-python",
   "name": "python",
   "nbconvert_exporter": "python",
   "pygments_lexer": "ipython3",
   "version": "3.12.4"
  }
 },
 "nbformat": 4,
 "nbformat_minor": 5
}
