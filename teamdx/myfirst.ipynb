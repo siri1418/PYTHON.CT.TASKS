{
 "cells": [
  {
   "cell_type": "code",
   "execution_count": 1,
   "id": "3ad44ca7-d121-42d5-bb3a-3faea95b165e",
   "metadata": {},
   "outputs": [],
   "source": [
    "s=\"pot\""
   ]
  },
  {
   "cell_type": "code",
   "execution_count": null,
   "id": "f0994e91-12e2-4118-94b4-a15e6ebc0797",
   "metadata": {},
   "outputs": [],
   "source": []
  },
  {
   "cell_type": "code",
   "execution_count": 3,
   "id": "47a1839d-9810-4c16-9765-332e5e8c475a",
   "metadata": {},
   "outputs": [
    {
     "name": "stdout",
     "output_type": "stream",
     "text": [
      "p o t\n",
      "pot\n"
     ]
    }
   ],
   "source": [
    "s=\"pot\"\n",
    "print(s[0],s[1],s[2])\n",
    "print(s)\n",
    "      "
   ]
  },
  {
   "cell_type": "code",
   "execution_count": 5,
   "id": "4e1ce9a5-811e-4826-93ee-237182a5b60f",
   "metadata": {},
   "outputs": [
    {
     "ename": "SyntaxError",
     "evalue": "invalid syntax. Perhaps you forgot a comma? (4152271848.py, line 2)",
     "output_type": "error",
     "traceback": [
      "\u001b[1;36m  Cell \u001b[1;32mIn[5], line 2\u001b[1;36m\u001b[0m\n\u001b[1;33m    print(s[0],id(s[0])\u001b[0m\n\u001b[1;37m               ^\u001b[0m\n\u001b[1;31mSyntaxError\u001b[0m\u001b[1;31m:\u001b[0m invalid syntax. Perhaps you forgot a comma?\n"
     ]
    }
   ],
   "source": [
    "s=\"pot\"\n",
    "print(s[0],id(s[0])\n",
    "print(s[1],id(s[1])\n",
    "print(s[2],id(s[2]) \n",
    "print(s id[s])\n"
   ]
  },
  {
   "cell_type": "code",
   "execution_count": null,
   "id": "70bd042e-48fd-41b2-9ecf-378429021818",
   "metadata": {},
   "outputs": [],
   "source": []
  },
  {
   "cell_type": "code",
   "execution_count": 7,
   "id": "e5b2b5e6-6d51-46e1-977f-61e051366ea0",
   "metadata": {},
   "outputs": [
    {
     "name": "stdout",
     "output_type": "stream",
     "text": [
      "p 140725888234456\n",
      "o 140725888234408\n",
      "t 140725888234648\n"
     ]
    },
    {
     "ename": "TypeError",
     "evalue": "'builtin_function_or_method' object is not subscriptable",
     "output_type": "error",
     "traceback": [
      "\u001b[1;31m---------------------------------------------------------------------------\u001b[0m",
      "\u001b[1;31mTypeError\u001b[0m                                 Traceback (most recent call last)",
      "Cell \u001b[1;32mIn[7], line 5\u001b[0m\n\u001b[0;32m      3\u001b[0m \u001b[38;5;28mprint\u001b[39m(s[\u001b[38;5;241m1\u001b[39m],\u001b[38;5;28mid\u001b[39m(s[\u001b[38;5;241m1\u001b[39m]))\n\u001b[0;32m      4\u001b[0m \u001b[38;5;28mprint\u001b[39m(s[\u001b[38;5;241m2\u001b[39m],\u001b[38;5;28mid\u001b[39m(s[\u001b[38;5;241m2\u001b[39m])) \n\u001b[1;32m----> 5\u001b[0m \u001b[38;5;28mprint\u001b[39m(s, \u001b[38;5;28mid\u001b[39m[s])\n",
      "\u001b[1;31mTypeError\u001b[0m: 'builtin_function_or_method' object is not subscriptable"
     ]
    }
   ],
   "source": [
    "s=\"pot\"\n",
    "print(s[0],id(s[0]))\n",
    "print(s[1],id(s[1]))\n",
    "print(s[2],id(s[2])) \n",
    "print(s, id[s])\n"
   ]
  },
  {
   "cell_type": "code",
   "execution_count": 12,
   "id": "d23f675d-016e-40e4-8a06-90bf92b473aa",
   "metadata": {},
   "outputs": [
    {
     "name": "stdout",
     "output_type": "stream",
     "text": [
      "p 140725888234456\n",
      "o 140725888234408\n",
      "t 140725888234648\n"
     ]
    },
    {
     "ename": "TypeError",
     "evalue": "'builtin_function_or_method' object is not subscriptable",
     "output_type": "error",
     "traceback": [
      "\u001b[1;31m---------------------------------------------------------------------------\u001b[0m",
      "\u001b[1;31mTypeError\u001b[0m                                 Traceback (most recent call last)",
      "Cell \u001b[1;32mIn[12], line 6\u001b[0m\n\u001b[0;32m      4\u001b[0m \u001b[38;5;28mprint\u001b[39m(s[\u001b[38;5;241m1\u001b[39m],\u001b[38;5;28mid\u001b[39m(s[\u001b[38;5;241m1\u001b[39m]))\n\u001b[0;32m      5\u001b[0m \u001b[38;5;28mprint\u001b[39m(s[\u001b[38;5;241m2\u001b[39m],\u001b[38;5;28mid\u001b[39m(s[\u001b[38;5;241m2\u001b[39m])) \n\u001b[1;32m----> 6\u001b[0m \u001b[38;5;28mprint\u001b[39m(s, \u001b[38;5;28mid\u001b[39m[s])\n\u001b[0;32m      7\u001b[0m \u001b[38;5;28mprint\u001b[39m(d)\n",
      "\u001b[1;31mTypeError\u001b[0m: 'builtin_function_or_method' object is not subscriptable"
     ]
    }
   ],
   "source": [
    "s=\"pot\"\n",
    "d=s\n",
    "print(s[0],id(s[0]))\n",
    "print(s[1],id(s[1]))\n",
    "print(s[2],id(s[2])) \n",
    "print(s, id[s])\n",
    "print(d)\n",
    "\n"
   ]
  },
  {
   "cell_type": "code",
   "execution_count": 15,
   "id": "3a3ef525-c033-4ee8-85ce-19c07631698d",
   "metadata": {},
   "outputs": [
    {
     "name": "stdout",
     "output_type": "stream",
     "text": [
      "p 140725888234456\n",
      "a 140725888233736\n"
     ]
    }
   ],
   "source": [
    "s=\"pot\"\n",
    "d=s\n",
    "e=\"pat\"\n",
    "print(s[0],id(s[0]))\n",
    "print(e[1],id(e[1]))\n",
    "       \n",
    "      "
   ]
  },
  {
   "cell_type": "code",
   "execution_count": 16,
   "id": "abbf865b-77fa-428f-94b2-3546766bf136",
   "metadata": {},
   "outputs": [
    {
     "name": "stdout",
     "output_type": "stream",
     "text": [
      "p 140725888234456\n",
      "p 140725888234456\n"
     ]
    }
   ],
   "source": [
    "s=\"pot\"\n",
    "d=s\n",
    "e=\"pat\"\n",
    "print(s[0],id(s[0]))\n",
    "print(e[0],id(e[0]))\n",
    "       "
   ]
  },
  {
   "cell_type": "code",
   "execution_count": 17,
   "id": "fc9eda9a-672c-48f6-83ae-c6dc65a48f35",
   "metadata": {},
   "outputs": [
    {
     "name": "stdout",
     "output_type": "stream",
     "text": [
      "t 140725888234648\n",
      "t 140725888234648\n"
     ]
    }
   ],
   "source": [
    "s=\"pot\"\n",
    "d=s\n",
    "e=\"pat\"\n",
    "print(s[2],id(s[2]))\n",
    "print(e[2],id(e[2]))\n",
    "       "
   ]
  },
  {
   "cell_type": "code",
   "execution_count": 18,
   "id": "7da00e9c-6200-4bd3-b9fd-83cb9f195ab4",
   "metadata": {},
   "outputs": [
    {
     "name": "stdout",
     "output_type": "stream",
     "text": [
      "2000\n"
     ]
    }
   ],
   "source": [
    "a=1000\n",
    "b=a\n",
    "a=2000\n",
    "print(a)"
   ]
  },
  {
   "cell_type": "code",
   "execution_count": null,
   "id": "33063caf-8167-4e9b-b760-7aa5e0c4cfc6",
   "metadata": {},
   "outputs": [],
   "source": []
  }
 ],
 "metadata": {
  "kernelspec": {
   "display_name": "Python 3 (ipykernel)",
   "language": "python",
   "name": "python3"
  },
  "language_info": {
   "codemirror_mode": {
    "name": "ipython",
    "version": 3
   },
   "file_extension": ".py",
   "mimetype": "text/x-python",
   "name": "python",
   "nbconvert_exporter": "python",
   "pygments_lexer": "ipython3",
   "version": "3.12.4"
  }
 },
 "nbformat": 4,
 "nbformat_minor": 5
}
