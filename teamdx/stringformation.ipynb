{
 "cells": [
  {
   "cell_type": "code",
   "execution_count": 1,
   "id": "dadd6c24-c641-4cfd-8346-d4332ee954bd",
   "metadata": {},
   "outputs": [
    {
     "name": "stdout",
     "output_type": "stream",
     "text": [
      "The product cost:1000\n"
     ]
    }
   ],
   "source": [
    "a=1000\n",
    "print(\"The product cost:\"+str(a))"
   ]
  },
  {
   "cell_type": "code",
   "execution_count": 2,
   "id": "f868d694-cfc0-4a2b-9e72-79e274f9979c",
   "metadata": {},
   "outputs": [
    {
     "name": "stdout",
     "output_type": "stream",
     "text": [
      "The product cost:1000\n"
     ]
    }
   ],
   "source": [
    "a=1000\n",
    "print(f\"The product cost:\"+str(a))"
   ]
  },
  {
   "cell_type": "code",
   "execution_count": 3,
   "id": "439497e0-fd0e-47a7-a62c-cbf0a46386e7",
   "metadata": {},
   "outputs": [
    {
     "ename": "TypeError",
     "evalue": "can only concatenate str (not \"set\") to str",
     "output_type": "error",
     "traceback": [
      "\u001b[1;31m---------------------------------------------------------------------------\u001b[0m",
      "\u001b[1;31mTypeError\u001b[0m                                 Traceback (most recent call last)",
      "Cell \u001b[1;32mIn[3], line 2\u001b[0m\n\u001b[0;32m      1\u001b[0m a\u001b[38;5;241m=\u001b[39m\u001b[38;5;241m1000\u001b[39m\n\u001b[1;32m----> 2\u001b[0m \u001b[38;5;28mprint\u001b[39m(\u001b[38;5;124m\"\u001b[39m\u001b[38;5;124mThe product cost:\u001b[39m\u001b[38;5;124m\"\u001b[39m\u001b[38;5;241m+\u001b[39m{a})\n",
      "\u001b[1;31mTypeError\u001b[0m: can only concatenate str (not \"set\") to str"
     ]
    }
   ],
   "source": [
    "a=1000\n",
    "print(\"The product cost:\"+{a})"
   ]
  },
  {
   "cell_type": "code",
   "execution_count": 4,
   "id": "08da1add-eefa-40e6-8417-acde18f6b031",
   "metadata": {},
   "outputs": [
    {
     "ename": "TypeError",
     "evalue": "can only concatenate str (not \"set\") to str",
     "output_type": "error",
     "traceback": [
      "\u001b[1;31m---------------------------------------------------------------------------\u001b[0m",
      "\u001b[1;31mTypeError\u001b[0m                                 Traceback (most recent call last)",
      "Cell \u001b[1;32mIn[4], line 2\u001b[0m\n\u001b[0;32m      1\u001b[0m a\u001b[38;5;241m=\u001b[39m\u001b[38;5;241m1000\u001b[39m\n\u001b[1;32m----> 2\u001b[0m \u001b[38;5;28mprint\u001b[39m(\u001b[38;5;124mf\u001b[39m\u001b[38;5;124m\"\u001b[39m\u001b[38;5;124mThe product cost:\u001b[39m\u001b[38;5;124m\"\u001b[39m\u001b[38;5;241m+\u001b[39m{a})\n",
      "\u001b[1;31mTypeError\u001b[0m: can only concatenate str (not \"set\") to str"
     ]
    }
   ],
   "source": [
    "a=1000\n",
    "print(f\"The product cost:\"+{a})"
   ]
  },
  {
   "cell_type": "code",
   "execution_count": 5,
   "id": "7c783cae-f001-47c4-b7be-89237bc655ef",
   "metadata": {},
   "outputs": [
    {
     "ename": "SyntaxError",
     "evalue": "incomplete input (820615595.py, line 2)",
     "output_type": "error",
     "traceback": [
      "\u001b[1;36m  Cell \u001b[1;32mIn[5], line 2\u001b[1;36m\u001b[0m\n\u001b[1;33m    print(f\"The product cost:{a})\"\u001b[0m\n\u001b[1;37m                                  ^\u001b[0m\n\u001b[1;31mSyntaxError\u001b[0m\u001b[1;31m:\u001b[0m incomplete input\n"
     ]
    }
   ],
   "source": [
    "a=1000\n",
    "print(f\"The product cost:{a})\""
   ]
  },
  {
   "cell_type": "code",
   "execution_count": 6,
   "id": "578c7337-9caf-4bef-abf0-b45fc7cbda27",
   "metadata": {},
   "outputs": [
    {
     "name": "stdout",
     "output_type": "stream",
     "text": [
      "The product cost1000\n"
     ]
    }
   ],
   "source": [
    "a=1000\n",
    "print(f\"The product cost{a}\")"
   ]
  },
  {
   "cell_type": "code",
   "execution_count": 7,
   "id": "3478abb1-35dd-49f6-a64c-14c27520d4dc",
   "metadata": {},
   "outputs": [
    {
     "name": "stdout",
     "output_type": "stream",
     "text": [
      "The product cost:123.45678\n"
     ]
    }
   ],
   "source": [
    "cost=123.45678\n",
    "print(f\"The product cost:{cost}\")"
   ]
  },
  {
   "cell_type": "code",
   "execution_count": 8,
   "id": "7dbb9aec-ca4b-4f80-adc5-149f5fdea0ea",
   "metadata": {},
   "outputs": [
    {
     "name": "stdout",
     "output_type": "stream",
     "text": [
      "The product cost: 123.456780\n"
     ]
    }
   ],
   "source": [
    "cost=123.45678\n",
    "print(f\"The product cost:{cost: f}\")"
   ]
  },
  {
   "cell_type": "code",
   "execution_count": 9,
   "id": "06966354-cdb4-47d3-9525-076cbce98ec4",
   "metadata": {},
   "outputs": [
    {
     "ename": "ValueError",
     "evalue": "Unknown format code 'd' for object of type 'float'",
     "output_type": "error",
     "traceback": [
      "\u001b[1;31m---------------------------------------------------------------------------\u001b[0m",
      "\u001b[1;31mValueError\u001b[0m                                Traceback (most recent call last)",
      "Cell \u001b[1;32mIn[9], line 2\u001b[0m\n\u001b[0;32m      1\u001b[0m cost\u001b[38;5;241m=\u001b[39m\u001b[38;5;241m123.45678\u001b[39m\n\u001b[1;32m----> 2\u001b[0m \u001b[38;5;28mprint\u001b[39m(\u001b[38;5;124mf\u001b[39m\u001b[38;5;124m\"\u001b[39m\u001b[38;5;124mThe product cost:\u001b[39m\u001b[38;5;132;01m{\u001b[39;00mcost\u001b[38;5;132;01m:\u001b[39;00m\u001b[38;5;124m d\u001b[39m\u001b[38;5;132;01m}\u001b[39;00m\u001b[38;5;124m\"\u001b[39m)\n",
      "\u001b[1;31mValueError\u001b[0m: Unknown format code 'd' for object of type 'float'"
     ]
    }
   ],
   "source": [
    "cost=123.45678\n",
    "print(f\"The product cost:{cost: d}\")"
   ]
  },
  {
   "cell_type": "code",
   "execution_count": 10,
   "id": "7ac7240c-5738-441f-b133-2b4e4e4c84cd",
   "metadata": {},
   "outputs": [
    {
     "name": "stdout",
     "output_type": "stream",
     "text": [
      "The product cost:123\n"
     ]
    }
   ],
   "source": [
    "cost=123.45678\n",
    "print(f\"The product cost:{int(cost)}\")"
   ]
  },
  {
   "cell_type": "code",
   "execution_count": 11,
   "id": "bb309d78-e161-404b-9b6a-b596649aebb6",
   "metadata": {},
   "outputs": [
    {
     "name": "stdout",
     "output_type": "stream",
     "text": [
      "The product cost: 123.46\n"
     ]
    }
   ],
   "source": [
    "cost=123.45678\n",
    "print(f\"The product cost:{cost: .2f}\")"
   ]
  },
  {
   "cell_type": "code",
   "execution_count": 12,
   "id": "d2cc235d-d56e-4557-8c4e-7214a31405fe",
   "metadata": {},
   "outputs": [],
   "source": [
    "# format specifiers: %s,%d,%r,%f\n"
   ]
  },
  {
   "cell_type": "code",
   "execution_count": 13,
   "id": "85472916-8e19-4815-97c8-dd449abda73b",
   "metadata": {},
   "outputs": [
    {
     "name": "stdout",
     "output_type": "stream",
     "text": [
      "The product cost:%s\n"
     ]
    }
   ],
   "source": [
    "cost=123.45678956768\n",
    "print(\"The product cost:%s\")"
   ]
  },
  {
   "cell_type": "code",
   "execution_count": 14,
   "id": "7b82a15d-ef2d-44a1-9f29-90537f80b163",
   "metadata": {},
   "outputs": [
    {
     "name": "stdout",
     "output_type": "stream",
     "text": [
      "The product cost:%s 123.45678956768\n"
     ]
    }
   ],
   "source": [
    "cost=123.45678956768\n",
    "print(\"The product cost:%s\", cost)"
   ]
  },
  {
   "cell_type": "code",
   "execution_count": 15,
   "id": "1c436f1a-0eef-430d-9aba-10aca58aa1fa",
   "metadata": {},
   "outputs": [
    {
     "name": "stdout",
     "output_type": "stream",
     "text": [
      "The product cost:123.45678956768\n"
     ]
    }
   ],
   "source": [
    "cost=123.45678956768\n",
    "print(\"The product cost:%s\"%cost)"
   ]
  },
  {
   "cell_type": "code",
   "execution_count": 16,
   "id": "766a54dd-0aba-423d-b7f2-273dea491bd6",
   "metadata": {},
   "outputs": [
    {
     "name": "stdout",
     "output_type": "stream",
     "text": [
      "The product cost:%f 123.45678956768\n"
     ]
    }
   ],
   "source": [
    "cost=123.45678956768\n",
    "print(\"The product cost:%f\", cost)"
   ]
  },
  {
   "cell_type": "code",
   "execution_count": 17,
   "id": "db861666-c6b4-493d-9089-2652f0c24beb",
   "metadata": {},
   "outputs": [
    {
     "ename": "SyntaxError",
     "evalue": "invalid syntax (912470057.py, line 2)",
     "output_type": "error",
     "traceback": [
      "\u001b[1;36m  Cell \u001b[1;32mIn[17], line 2\u001b[1;36m\u001b[0m\n\u001b[1;33m    print(\"The product cost:%s\",%cost)\u001b[0m\n\u001b[1;37m                                ^\u001b[0m\n\u001b[1;31mSyntaxError\u001b[0m\u001b[1;31m:\u001b[0m invalid syntax\n"
     ]
    }
   ],
   "source": [
    "cost=123.45678956768\n",
    "print(\"The product cost:%s\",%cost)"
   ]
  },
  {
   "cell_type": "code",
   "execution_count": 18,
   "id": "38e2571b-a97d-47e3-b73e-798cf1a10040",
   "metadata": {},
   "outputs": [
    {
     "ename": "SyntaxError",
     "evalue": "invalid syntax (1920266809.py, line 2)",
     "output_type": "error",
     "traceback": [
      "\u001b[1;36m  Cell \u001b[1;32mIn[18], line 2\u001b[1;36m\u001b[0m\n\u001b[1;33m    print(\"The product cost:%f\",%cost)\u001b[0m\n\u001b[1;37m                                ^\u001b[0m\n\u001b[1;31mSyntaxError\u001b[0m\u001b[1;31m:\u001b[0m invalid syntax\n"
     ]
    }
   ],
   "source": [
    "cost=123.45678956768\n",
    "print(\"The product cost:%f\",%cost)"
   ]
  },
  {
   "cell_type": "code",
   "execution_count": 19,
   "id": "cb20181d-fa5b-4de7-b8cd-8ae904dd1169",
   "metadata": {},
   "outputs": [
    {
     "name": "stdout",
     "output_type": "stream",
     "text": [
      "The product cost:%d 123.45678956768\n"
     ]
    }
   ],
   "source": [
    "cost=123.45678956768\n",
    "print(\"The product cost:%d\", cost)"
   ]
  },
  {
   "cell_type": "code",
   "execution_count": 20,
   "id": "8bdfcf4c-e34f-4db0-8982-c01d4cc5d5c4",
   "metadata": {},
   "outputs": [],
   "source": [
    "# special"
   ]
  },
  {
   "cell_type": "code",
   "execution_count": 21,
   "id": "657a3f33-5210-4943-87dc-4adb74b69127",
   "metadata": {},
   "outputs": [
    {
     "name": "stdout",
     "output_type": "stream",
     "text": [
      "eyufdeugd \n",
      " hiudxhisu\n"
     ]
    }
   ],
   "source": [
    "print(\"eyufdeugd \\n hiudxhisu\")"
   ]
  },
  {
   "cell_type": "code",
   "execution_count": 22,
   "id": "c9333bb2-b6c0-4aee-b862-c426c752d667",
   "metadata": {},
   "outputs": [
    {
     "name": "stdout",
     "output_type": "stream",
     "text": [
      "bxhxbsi\n",
      "jdwijbdh\n",
      "whdiuw\n",
      "\n"
     ]
    }
   ],
   "source": [
    "print(\"bxhxbsi\\njdwijbdh\\nwhdiuw\\n\")"
   ]
  },
  {
   "cell_type": "code",
   "execution_count": 25,
   "id": "04939aa5-ef3d-453e-889d-fb864d7bd0c2",
   "metadata": {},
   "outputs": [
    {
     "name": "stdout",
     "output_type": "stream",
     "text": [
      "1\n"
     ]
    }
   ],
   "source": [
    "print(len(\"\\n\"))"
   ]
  },
  {
   "cell_type": "code",
   "execution_count": 26,
   "id": "9c78a838-c1c9-4092-83bc-64d670a972e7",
   "metadata": {},
   "outputs": [
    {
     "name": "stdout",
     "output_type": "stream",
     "text": [
      "2\n"
     ]
    }
   ],
   "source": [
    "print(len(\"\\\\n\"))"
   ]
  },
  {
   "cell_type": "code",
   "execution_count": null,
   "id": "d69710c6-76b6-4b1a-b898-68dd35417aba",
   "metadata": {},
   "outputs": [],
   "source": []
  }
 ],
 "metadata": {
  "kernelspec": {
   "display_name": "Python 3 (ipykernel)",
   "language": "python",
   "name": "python3"
  },
  "language_info": {
   "codemirror_mode": {
    "name": "ipython",
    "version": 3
   },
   "file_extension": ".py",
   "mimetype": "text/x-python",
   "name": "python",
   "nbconvert_exporter": "python",
   "pygments_lexer": "ipython3",
   "version": "3.12.4"
  }
 },
 "nbformat": 4,
 "nbformat_minor": 5
}
