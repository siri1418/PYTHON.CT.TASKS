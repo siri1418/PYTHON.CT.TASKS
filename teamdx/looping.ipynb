{
 "cells": [
  {
   "cell_type": "code",
   "execution_count": 1,
   "id": "d6beaa62-fad1-4ef3-9bb3-37c4bc63de56",
   "metadata": {},
   "outputs": [
    {
     "name": "stdout",
     "output_type": "stream",
     "text": [
      "Hello\n",
      "10\n",
      "Hello\n",
      "20\n",
      "Hello\n",
      "30\n",
      "Hello\n",
      "40\n",
      "Hi\n"
     ]
    }
   ],
   "source": [
    "numbers=[10,20,30,40]\n",
    "for num in numbers:\n",
    "    print(\"Hello\")\n",
    "    print(num)\n",
    "print(\"Hi\")    "
   ]
  },
  {
   "cell_type": "code",
   "execution_count": 2,
   "id": "9f05dc56-da94-47b8-9bfe-33ff0999f40e",
   "metadata": {},
   "outputs": [
    {
     "name": "stdout",
     "output_type": "stream",
     "text": [
      "Hello\n",
      "10\n",
      "Hello\n",
      "20\n",
      "Hello\n",
      "30\n",
      "Hello\n",
      "40\n",
      "Hi\n"
     ]
    }
   ],
   "source": [
    "numbers=(10,20,30,40)\n",
    "for num in numbers:\n",
    "    print(\"Hello\")\n",
    "    print(num)\n",
    "print(\"Hi\")    "
   ]
  },
  {
   "cell_type": "code",
   "execution_count": 3,
   "id": "ac7c1f04-1426-4935-90bc-589167c7ac2c",
   "metadata": {},
   "outputs": [
    {
     "name": "stdout",
     "output_type": "stream",
     "text": [
      "Hello\n",
      "40\n",
      "Hello\n",
      "10\n",
      "Hello\n",
      "20\n",
      "Hello\n",
      "30\n",
      "Hi\n"
     ]
    }
   ],
   "source": [
    "numbers={10,20,30,40}\n",
    "for num in numbers:\n",
    "    print(\"Hello\")\n",
    "    print(num)\n",
    "print(\"Hi\")    "
   ]
  },
  {
   "cell_type": "code",
   "execution_count": 4,
   "id": "fcbbed9c-3f71-4f50-a174-e8e49f9cf038",
   "metadata": {},
   "outputs": [
    {
     "name": "stdout",
     "output_type": "stream",
     "text": [
      "1\n",
      "0\n",
      "0\n",
      "0\n"
     ]
    }
   ],
   "source": [
    "for num in \"1000\":\n",
    "    print(num)"
   ]
  },
  {
   "cell_type": "code",
   "execution_count": 5,
   "id": "b8ed9882-7688-4208-8e57-6c292371a791",
   "metadata": {},
   "outputs": [
    {
     "name": "stdout",
     "output_type": "stream",
     "text": [
      "p\n",
      "hi\n",
      "o\n",
      "hi\n",
      "t\n",
      "hi\n",
      "hello\n"
     ]
    }
   ],
   "source": [
    "for num in \"pot\":\n",
    "    print(num)\n",
    "    print(\"hi\")\n",
    "print(\"hello\")    "
   ]
  },
  {
   "cell_type": "code",
   "execution_count": 6,
   "id": "768ae01f-d13f-4bf6-95da-e539b2163803",
   "metadata": {},
   "outputs": [
    {
     "ename": "TypeError",
     "evalue": "'bool' object is not iterable",
     "output_type": "error",
     "traceback": [
      "\u001b[1;31m---------------------------------------------------------------------------\u001b[0m",
      "\u001b[1;31mTypeError\u001b[0m                                 Traceback (most recent call last)",
      "Cell \u001b[1;32mIn[6], line 1\u001b[0m\n\u001b[1;32m----> 1\u001b[0m \u001b[38;5;28;01mfor\u001b[39;00m num \u001b[38;5;129;01min\u001b[39;00m \u001b[38;5;28;01mFalse\u001b[39;00m:\n\u001b[0;32m      2\u001b[0m     \u001b[38;5;28mprint\u001b[39m(num)\n",
      "\u001b[1;31mTypeError\u001b[0m: 'bool' object is not iterable"
     ]
    }
   ],
   "source": [
    "for num in False:\n",
    "    print(num)"
   ]
  },
  {
   "cell_type": "code",
   "execution_count": 7,
   "id": "4f401039-1d94-4088-8297-60e9196cf010",
   "metadata": {},
   "outputs": [
    {
     "ename": "TypeError",
     "evalue": "'int' object is not iterable",
     "output_type": "error",
     "traceback": [
      "\u001b[1;31m---------------------------------------------------------------------------\u001b[0m",
      "\u001b[1;31mTypeError\u001b[0m                                 Traceback (most recent call last)",
      "Cell \u001b[1;32mIn[7], line 1\u001b[0m\n\u001b[1;32m----> 1\u001b[0m \u001b[38;5;28;01mfor\u001b[39;00m num \u001b[38;5;129;01min\u001b[39;00m \u001b[38;5;241m100\u001b[39m:\n\u001b[0;32m      2\u001b[0m     \u001b[38;5;28mprint\u001b[39m(num)\n",
      "\u001b[1;31mTypeError\u001b[0m: 'int' object is not iterable"
     ]
    }
   ],
   "source": [
    "for num in 100:\n",
    "    print(num)"
   ]
  },
  {
   "cell_type": "code",
   "execution_count": 8,
   "id": "e7bec9ed-d912-4be3-9b83-f1c95b741bee",
   "metadata": {},
   "outputs": [
    {
     "ename": "TypeError",
     "evalue": "'float' object is not iterable",
     "output_type": "error",
     "traceback": [
      "\u001b[1;31m---------------------------------------------------------------------------\u001b[0m",
      "\u001b[1;31mTypeError\u001b[0m                                 Traceback (most recent call last)",
      "Cell \u001b[1;32mIn[8], line 1\u001b[0m\n\u001b[1;32m----> 1\u001b[0m \u001b[38;5;28;01mfor\u001b[39;00m num \u001b[38;5;129;01min\u001b[39;00m \u001b[38;5;241m10.3\u001b[39m:\n\u001b[0;32m      2\u001b[0m     \u001b[38;5;28mprint\u001b[39m(num)\n",
      "\u001b[1;31mTypeError\u001b[0m: 'float' object is not iterable"
     ]
    }
   ],
   "source": [
    "for num in 10.3:\n",
    "    print(num)"
   ]
  },
  {
   "cell_type": "code",
   "execution_count": 9,
   "id": "97d545ad-e4f0-45dc-a70b-bcd359e40cff",
   "metadata": {},
   "outputs": [
    {
     "ename": "SyntaxError",
     "evalue": "unterminated string literal (detected at line 1) (3934246019.py, line 1)",
     "output_type": "error",
     "traceback": [
      "\u001b[1;36m  Cell \u001b[1;32mIn[9], line 1\u001b[1;36m\u001b[0m\n\u001b[1;33m    data = {\"nme\":\"aja,\"add\":\"hyd\"}\u001b[0m\n\u001b[1;37m                                 ^\u001b[0m\n\u001b[1;31mSyntaxError\u001b[0m\u001b[1;31m:\u001b[0m unterminated string literal (detected at line 1)\n"
     ]
    }
   ],
   "source": [
    "data = {\"nme\":\"aja,\"add\":\"hyd\"}\n",
    "for num in data:\n",
    "    print(num)"
   ]
  },
  {
   "cell_type": "code",
   "execution_count": 14,
   "id": "bcd86f4a-88fc-4e24-bd4d-ea0190953814",
   "metadata": {},
   "outputs": [
    {
     "ename": "SyntaxError",
     "evalue": "cannot assign to literal (1275833556.py, line 1)",
     "output_type": "error",
     "traceback": [
      "\u001b[1;36m  Cell \u001b[1;32mIn[14], line 1\u001b[1;36m\u001b[0m\n\u001b[1;33m    for 1 in []\u001b[0m\n\u001b[1;37m        ^\u001b[0m\n\u001b[1;31mSyntaxError\u001b[0m\u001b[1;31m:\u001b[0m cannot assign to literal\n"
     ]
    }
   ],
   "source": [
    "for 1 in []\n",
    " print(i)\n",
    " print(\"hi\")\n",
    "print(\"Hello\")"
   ]
  },
  {
   "cell_type": "code",
   "execution_count": 16,
   "id": "fb159864-1941-4be0-beb0-998a8ddb3671",
   "metadata": {},
   "outputs": [
    {
     "name": "stdout",
     "output_type": "stream",
     "text": [
      "10 +ve\n",
      "-3 -ve\n",
      "3 +ve\n",
      "5 +ve\n",
      "6 +ve\n",
      "-20 -ve\n",
      "45 +ve\n",
      "Done\n"
     ]
    }
   ],
   "source": [
    "numbers=[10,-3,3,5,6,-20,45]\n",
    "for num in numbers:\n",
    "    if num>=0:\n",
    "        print(num,\"+ve\")\n",
    "    else:\n",
    "        print(num,\"-ve\")\n",
    "print(\"Done\")        "
   ]
  },
  {
   "cell_type": "code",
   "execution_count": 17,
   "id": "4a31b445-5b91-4bb7-ab03-df52ae5e591c",
   "metadata": {},
   "outputs": [
    {
     "name": "stdout",
     "output_type": "stream",
     "text": [
      "1\n",
      "1\n"
     ]
    }
   ],
   "source": [
    "numbers=[10,-3,3,5,6,-20,45]\n",
    "p_n=0\n",
    "n_n=0\n",
    "for num in numbers:\n",
    "    if num>=0:\n",
    "      p_n=p_n=1  \n",
    "    else:\n",
    "     n_n=n_n=1   \n",
    "print(p_n)\n",
    "print(n_n)"
   ]
  },
  {
   "cell_type": "code",
   "execution_count": 1,
   "id": "3882fb9f-34c6-4f9f-a32b-52d4a10699c0",
   "metadata": {},
   "outputs": [
    {
     "name": "stdout",
     "output_type": "stream",
     "text": [
      "p\n",
      "y\n",
      "t\n",
      "h\n",
      "o\n",
      "n\n",
      "hello\n"
     ]
    }
   ],
   "source": [
    "for i in \"python\":\n",
    "    print(i)\n",
    "print(\"hello\")    \n"
   ]
  },
  {
   "cell_type": "code",
   "execution_count": 2,
   "id": "f9fb6473-de34-49dd-8c87-40f1a45031c2",
   "metadata": {},
   "outputs": [
    {
     "name": "stdout",
     "output_type": "stream",
     "text": [
      "hi\n",
      "hi\n",
      "hi\n",
      "hi\n",
      "hello\n"
     ]
    }
   ],
   "source": [
    "for i in \"1234\":\n",
    "    print(\"hi\")\n",
    "print(\"hello\")      "
   ]
  },
  {
   "cell_type": "code",
   "execution_count": 4,
   "id": "f9d9dde8-7d2e-46a9-850d-89767a9f4b4c",
   "metadata": {},
   "outputs": [
    {
     "name": "stdout",
     "output_type": "stream",
     "text": [
      "hi\n",
      "hello\n"
     ]
    }
   ],
   "source": [
    "for i in \"1234\":\n",
    "    if i==\"2\":\n",
    "       print(\"hi\")\n",
    "print(\"hello\")      "
   ]
  },
  {
   "cell_type": "code",
   "execution_count": 5,
   "id": "1ed3dba2-3879-4c22-8822-f2eb7c393275",
   "metadata": {},
   "outputs": [
    {
     "name": "stdout",
     "output_type": "stream",
     "text": [
      "hello\n"
     ]
    }
   ],
   "source": [
    "for i in \"1234\":\n",
    "    break\n",
    "    if i==\"2\":\n",
    "       print(\"hi\")\n",
    "print(\"hello\")      "
   ]
  },
  {
   "cell_type": "code",
   "execution_count": 6,
   "id": "6d2af8f5-5128-4bcc-b7e6-f06b69afc929",
   "metadata": {},
   "outputs": [
    {
     "name": "stdout",
     "output_type": "stream",
     "text": [
      "hello\n",
      "hi\n",
      "hi\n",
      "hello\n",
      "going with main block\n"
     ]
    }
   ],
   "source": [
    "for i in \"1234\":\n",
    "    if i in \"23\":\n",
    "       print(\"hi\")\n",
    "    else:\n",
    "      print(\"hello\")  \n",
    "print(\"going with main block\")      "
   ]
  },
  {
   "cell_type": "code",
   "execution_count": 7,
   "id": "c477c42d-cead-46a0-9f1d-094bb942d601",
   "metadata": {},
   "outputs": [
    {
     "name": "stdout",
     "output_type": "stream",
     "text": [
      "hello\n",
      "going with main block\n"
     ]
    }
   ],
   "source": [
    "for i in \"1234\":\n",
    "    if i in \"23\":\n",
    "       print(\"hi\")\n",
    "    else:\n",
    "      print(\"hello\") \n",
    "      break  \n",
    "print(\"going with main block\")      "
   ]
  },
  {
   "cell_type": "code",
   "execution_count": 8,
   "id": "283b1222-81c8-4e6c-9180-f7d933c79ba1",
   "metadata": {},
   "outputs": [
    {
     "name": "stdout",
     "output_type": "stream",
     "text": [
      "hello\n",
      "hi\n",
      "going with main block\n"
     ]
    }
   ],
   "source": [
    "for i in \"1234\":#i-1,i-2\n",
    "    if i in \"23\":# i ib\n",
    "       print(\"hi\")\n",
    "       break \n",
    "    else:\n",
    "      print(\"hello\")  \n",
    "print(\"going with main block\")      "
   ]
  },
  {
   "cell_type": "code",
   "execution_count": 19,
   "id": "435f6c6d-2aaa-4cc9-b007-3f13dc77b549",
   "metadata": {},
   "outputs": [
    {
     "name": "stdout",
     "output_type": "stream",
     "text": [
      "10 +ve\n",
      "-20 -ve\n",
      "-30 -ve\n",
      "45 +ve\n",
      "67 +ve\n",
      "-56 -ve\n"
     ]
    }
   ],
   "source": [
    "number=[10,-20,-30,45,67,-56]\n",
    "for i in number:\n",
    "    if i>=0:\n",
    "        print(i,\"+ve\")\n",
    "    else:\n",
    "        print(i,\"-ve\")\n",
    "       "
   ]
  },
  {
   "cell_type": "code",
   "execution_count": null,
   "id": "6b46937a-f811-47d7-9608-c6701c1873a6",
   "metadata": {},
   "outputs": [],
   "source": [
    "number=[10,-20,-30,45,67,-56]\n",
    "p_n=0\n",
    "for i in number:\n",
    "    if i>=0:\n",
    "        print(i,\"+ve\")\n"
   ]
  }
 ],
 "metadata": {
  "kernelspec": {
   "display_name": "Python 3 (ipykernel)",
   "language": "python",
   "name": "python3"
  },
  "language_info": {
   "codemirror_mode": {
    "name": "ipython",
    "version": 3
   },
   "file_extension": ".py",
   "mimetype": "text/x-python",
   "name": "python",
   "nbconvert_exporter": "python",
   "pygments_lexer": "ipython3",
   "version": "3.12.4"
  }
 },
 "nbformat": 4,
 "nbformat_minor": 5
}
