{
 "cells": [
  {
   "cell_type": "code",
   "execution_count": 1,
   "id": "08509ae0-604f-4e89-bae3-6201cb0478fb",
   "metadata": {},
   "outputs": [
    {
     "name": "stdout",
     "output_type": "stream",
     "text": [
      "This is myvehicle class\n",
      "This is RTO vehicle class\n",
      "True\n"
     ]
    }
   ],
   "source": [
    "# rto.py\n",
    "\n",
    "class vehicle:\n",
    "\n",
    "    def __init__ (self,name,number,model):\n",
    "\n",
    "        print('This is RTO vehicle class')\n",
    "\n",
    "        self.name=name\n",
    "\n",
    "        self.number=number\n",
    "\n",
    "        self.model=model\n",
    "\n",
    "    def verify_number(self):\n",
    "\n",
    "        return \"TG\" in self.number\n",
    "\n",
    "#main.py\n",
    "\n",
    "#from rto import vehicle\n",
    "\n",
    "class Myvehicle(vehicle):\n",
    "\n",
    "    def __init__(self,name,number,model,color):\n",
    "\n",
    "        print('This is myvehicle class')\n",
    "\n",
    "        vehicle.__init__(self,name,number,model)\n",
    "\n",
    "        self.color=color\n",
    " \n",
    "v1=Myvehicle(\"SANTRO\",\"TG1244\",2033,\"white\")\n",
    "\n",
    "print(v1.verify_number())\n",
    " "
   ]
  },
  {
   "cell_type": "code",
   "execution_count": null,
   "id": "d44e4a04-8bed-406c-8873-fbe3b92b2768",
   "metadata": {},
   "outputs": [],
   "source": []
  }
 ],
 "metadata": {
  "kernelspec": {
   "display_name": "Python 3 (ipykernel)",
   "language": "python",
   "name": "python3"
  },
  "language_info": {
   "codemirror_mode": {
    "name": "ipython",
    "version": 3
   },
   "file_extension": ".py",
   "mimetype": "text/x-python",
   "name": "python",
   "nbconvert_exporter": "python",
   "pygments_lexer": "ipython3",
   "version": "3.12.4"
  }
 },
 "nbformat": 4,
 "nbformat_minor": 5
}
